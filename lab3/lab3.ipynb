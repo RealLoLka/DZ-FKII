{
 "cells": [
  {
   "cell_type": "code",
   "execution_count": 51,
   "metadata": {},
   "outputs": [],
   "source": [
    "import numpy as np\n",
    "import matplotlib.pyplot as plt\n",
    "from datetime import datetime\n",
    "import numba as nb\n",
    "from numba import jit\n",
    "from sklearn import datasets\n",
    "from typing import Tuple, Mapping"
   ]
  },
  {
   "cell_type": "code",
   "execution_count": 52,
   "metadata": {},
   "outputs": [],
   "source": [
    "def func1 (x,y):      # Функция Матьяса  -10:10\n",
    "    return 0.26 * (x*x + y*y) - 0.48*x*y\n",
    "\n",
    "def dx1(x,y):\n",
    "    return (0.52*x - 0.48*y)\n",
    "\n",
    "def dy1(x,y):\n",
    "    return (-0.48*x + 0.52*y)"
   ]
  },
  {
   "cell_type": "code",
   "execution_count": 53,
   "metadata": {},
   "outputs": [],
   "source": [
    "def func2 (x,y): # Функция Химмельблау -5:5 \n",
    "    return (x * x + y - 11)**2 + (x + y * y - 7)**2\n",
    "\n",
    "def dx2(x,y):\n",
    "    return (4*x*(x**2 + y -11) + 2*(x + y**2 -7))\n",
    "\n",
    "def dy2(x,y):\n",
    "    return (2*(x**2 + y - 11) + 4*y*(x + y**2 - 7))"
   ]
  },
  {
   "cell_type": "code",
   "execution_count": 54,
   "metadata": {},
   "outputs": [],
   "source": [
    "\n",
    "def GD(func, dx, dy, x0, y0, LR, N):\n",
    "  #Алгоритм градиентного спуска\n",
    "  x1=x0-LR * dx(x0,y0)\n",
    "  y1=y0-LR * dy(x0,y0)\n",
    "  for _ in range(N):\n",
    "    x0=x1\n",
    "    y0=y1\n",
    "    x1=x0-LR * dx(x0,y0)\n",
    "    y1=y0-LR * dy(x0,y0)\n",
    "  return x1,y1, func(x1,y1)\n",
    "     "
   ]
  },
  {
   "cell_type": "code",
   "execution_count": 55,
   "metadata": {},
   "outputs": [
    {
     "name": "stdout",
     "output_type": "stream",
     "text": [
      "Время работы без NUMBA\n",
      " 0:00:00.489009\n",
      "x=-3.8474825632411005e-23, y=3.8474825632411005e-23, E=1.480312207444431e-45\n"
     ]
    }
   ],
   "source": [
    "start_timeM= datetime.now()\n",
    "x, y, GPStopPoint = GD(func1, dx1, dy1, -0.2, 0.2, 0.0001, 500000)\n",
    "timeM = datetime.now() - start_timeM\n",
    "print(\"Время работы без NUMBA\\n\", timeM)\n",
    "print('x={0}, y={1}, E={2}'.format(x,y,GPStopPoint))"
   ]
  },
  {
   "cell_type": "code",
   "execution_count": 56,
   "metadata": {},
   "outputs": [
    {
     "name": "stdout",
     "output_type": "stream",
     "text": [
      "Время работы без NUMBA\n",
      " 0:00:01.435070\n",
      "x=2.9999999999999436, y=2.000000000000098, E=1.702235615722108e-25\n"
     ]
    }
   ],
   "source": [
    "start_timeH = datetime.now()\n",
    "x, y, GPStopPoint = GD(func2, dx2, dy2, -0.2, 0.2, 0.0001, 500000)\n",
    "timeH = datetime.now() - start_timeH\n",
    "print(\"Время работы без NUMBA\\n\", timeH)\n",
    "print('x={0}, y={1}, E={2}'.format(x,y,GPStopPoint))"
   ]
  },
  {
   "cell_type": "code",
   "execution_count": 57,
   "metadata": {},
   "outputs": [],
   "source": [
    "# Функция Матьяса  -10:10\n",
    "@nb.njit(fastmath=True)\n",
    "def nfunc1(x: np.ndarray):\n",
    "  return 0.26 * (x[0]**2+x[1]**2) - 0.48 * x[0] * x[1]\n",
    "#Производная по x\n",
    "@nb.njit(fastmath=True)\n",
    "def ndx1(x: np.ndarray):\n",
    "  return (0.52*x[0]-0.48*x[1])\n",
    "#Производная по y\n",
    "@nb.njit(fastmath=True)\n",
    "def ndy1(x: np.ndarray):\n",
    "  return (-0.48*x[0] + 0.52*x[1])"
   ]
  },
  {
   "cell_type": "code",
   "execution_count": 58,
   "metadata": {},
   "outputs": [],
   "source": [
    "#Функция Химмельблау\n",
    "@nb.njit(fastmath=True)\n",
    "def nfunc2(x: np.ndarray):\n",
    "  return (x[0]**2+x[1]-11)**2+(x[0]+x[1]**2-7)**2\n",
    "#Производная по x\n",
    "@nb.njit(fastmath=True)\n",
    "def ndx2(x: np.ndarray):\n",
    "  return 2*(2*x[0]*(x[0]**2+x[1]-11)+x[0]+x[1]**2-7)\n",
    "#Производная по y\n",
    "@nb.njit(fastmath=True)\n",
    "def ndy2(x: np.ndarray):\n",
    "  return 2*(x[0]**2+2*x[1]*(x[0]+x[1]**2-7)+x[1]-11)"
   ]
  },
  {
   "cell_type": "code",
   "execution_count": 59,
   "metadata": {},
   "outputs": [],
   "source": [
    "@nb.njit(fastmath=True)\n",
    "def NGD(func: Mapping, dx: Mapping, dy: Mapping, x:np.ndarray,LearningRate, Iterations):\n",
    "  #Алгоритм градиентного спуска\n",
    "  x0 = x[0];\n",
    "  y0 = x[1];\n",
    "  x1=x0-LearningRate * dx(np.array([x0, y0]))\n",
    "  y1=y0-LearningRate * dy(np.array([x0, y0]))\n",
    "  for _ in range(Iterations):\n",
    "    x0=x1\n",
    "    y0=y1\n",
    "    x1=x0-LearningRate * dx(np.array([x0, y0]))\n",
    "    y1=y0-LearningRate * dy(np.array([x0, y0]))\n",
    "  return x1,y1, func(np.array([x1,y1]))"
   ]
  },
  {
   "cell_type": "code",
   "execution_count": 60,
   "metadata": {},
   "outputs": [
    {
     "name": "stdout",
     "output_type": "stream",
     "text": [
      "Время работы с NUMBA:\n",
      " 0:00:01.686009\n",
      "x=-0.06735588984338428, y=0.06735588984338428, E=0.004536815896594118\n"
     ]
    }
   ],
   "source": [
    "start_timeNM = datetime.now()\n",
    "x,y,NB_GPStopPoint = NGD(nfunc1, ndx1, ndy1, np.array([-10, 10]), 0.0001, 50000)\n",
    "timeNM = datetime.now() - start_timeNM\n",
    "print(\"Время работы с NUMBA:\\n\", timeNM)\n",
    "print('x={0}, y={1}, E={2}'.format(x,y,NB_GPStopPoint))"
   ]
  },
  {
   "cell_type": "code",
   "execution_count": 61,
   "metadata": {},
   "outputs": [
    {
     "name": "stdout",
     "output_type": "stream",
     "text": [
      "Время работы с NUMBA:\n",
      " 0:00:01.862995\n",
      "x=-2.805118086952748, y=3.1313125182505757, E=6.11339851131986e-28\n"
     ]
    }
   ],
   "source": [
    "start_timeNH = datetime.now()\n",
    "x,y,NB_HStopPoint = NGD(nfunc2, ndx2, ndy2, np.array([-5,5]), 0.001, 500000)\n",
    "timeNH = datetime.now() - start_timeNH\n",
    "print(\"Время работы с NUMBA:\\n\", timeNH)\n",
    "print('x={0}, y={1}, E={2}'.format(x,y,NB_HStopPoint))"
   ]
  },
  {
   "cell_type": "code",
   "execution_count": 63,
   "metadata": {},
   "outputs": [
    {
     "name": "stdout",
     "output_type": "stream",
     "text": [
      "Время работы программы для функции Матиаса без NUMBA больше в 0 раз, по сравнению со временем работы с NUMBA.\n",
      "Время работы программы для функции Химмельблау без NUMBA больше в 1 раз, по сравнению со временем работы с NUMBA.\n"
     ]
    }
   ],
   "source": [
    "print(\"Время работы программы для функции Матиаса без NUMBA больше в {0} раз, по сравнению со временем работы с NUMBA.\".format(round(timeM/timeNM)))\n",
    "print(\"Время работы программы для функции Химмельблау без NUMBA больше в {0} раз, по сравнению со временем работы с NUMBA.\".format(round(timeH/timeNH)))"
   ]
  }
 ],
 "metadata": {
  "kernelspec": {
   "display_name": "pygmo",
   "language": "python",
   "name": "python3"
  },
  "language_info": {
   "codemirror_mode": {
    "name": "ipython",
    "version": 3
   },
   "file_extension": ".py",
   "mimetype": "text/x-python",
   "name": "python",
   "nbconvert_exporter": "python",
   "pygments_lexer": "ipython3",
   "version": "3.7.12 | packaged by conda-forge | (default, Oct 26 2021, 05:35:01) [MSC v.1916 64 bit (AMD64)]"
  },
  "orig_nbformat": 4,
  "vscode": {
   "interpreter": {
    "hash": "8657283681e6d2553b0683c6c634df5032f1ccc8c3397b05e6c251219349b532"
   }
  }
 },
 "nbformat": 4,
 "nbformat_minor": 2
}
