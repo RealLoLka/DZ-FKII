{
 "cells": [
  {
   "attachments": {},
   "cell_type": "markdown",
   "metadata": {},
   "source": [
    "Лабораторная работа №4.\n",
    "Цель работы: познакомиться с библиотекой Optuna. Оптимизировать алгоритм градиентого спуска."
   ]
  },
  {
   "cell_type": "code",
   "execution_count": 1,
   "metadata": {},
   "outputs": [],
   "source": [
    "import numpy as np\n",
    "import optuna\n",
    "import sklearn.datasets\n",
    "import sklearn.linear_model\n",
    "import sklearn.metrics\n",
    "import sklearn.model_selection\n",
    "from sklearn.model_selection import train_test_split\n",
    "import logging\n",
    "import lightgbm as lgb\n",
    "import numpy as np\n",
    "import plotly\n",
    "\n",
    "import sys\n",
    "#Графики\n",
    "from optuna.visualization import plot_contour\n",
    "from optuna.visualization import plot_edf\n",
    "from optuna.visualization import plot_intermediate_values\n",
    "from optuna.visualization import plot_optimization_history\n",
    "from optuna.visualization import plot_parallel_coordinate\n",
    "from optuna.visualization import plot_param_importances\n",
    "from optuna.visualization import plot_slice"
   ]
  },
  {
   "attachments": {},
   "cell_type": "markdown",
   "metadata": {},
   "source": [
    "Запишем функции"
   ]
  },
  {
   "cell_type": "code",
   "execution_count": 2,
   "metadata": {},
   "outputs": [],
   "source": [
    "def func1(x, y):      # Функция Матьяса  -10:10\n",
    "    return 0.26 * (x*x + y*y) - 0.48*x*y\n",
    "\n",
    "def objective_f1(trial):\n",
    "    x = trial.suggest_float('x', -10, 10)\n",
    "    y = trial.suggest_float('y', -10, 10)\n",
    "    return func1(x, y)"
   ]
  },
  {
   "cell_type": "code",
   "execution_count": 3,
   "metadata": {},
   "outputs": [],
   "source": [
    "def func2(x, y): # Функция Химмельблау -5:5 \n",
    "    return (x * x + y - 11)**2 + (x + y * y - 7)**2\n",
    "\n",
    "def objective_f2(trial):\n",
    "    x = trial.suggest_float('x', -5, 5)\n",
    "    y = trial.suggest_float('y', -5, 5)\n",
    "    return func2(x, y)\n"
   ]
  },
  {
   "attachments": {},
   "cell_type": "markdown",
   "metadata": {},
   "source": [
    "Запустим оптисизацию для первой функции"
   ]
  },
  {
   "cell_type": "code",
   "execution_count": 4,
   "metadata": {},
   "outputs": [
    {
     "name": "stderr",
     "output_type": "stream",
     "text": [
      "\u001b[32m[I 2022-12-20 19:57:17,616]\u001b[0m A new study created in memory with name: no-name-3c5d7d66-3ae2-4e45-b5b0-5fa92d605ebf\u001b[0m\n",
      "\u001b[32m[I 2022-12-20 19:57:17,625]\u001b[0m Trial 0 finished with value: 3.756418303689614 and parameters: {'x': -8.147331773396713, 'y': -5.369246522423046}. Best is trial 0 with value: 3.756418303689614.\u001b[0m\n",
      "\u001b[32m[I 2022-12-20 19:57:17,633]\u001b[0m Trial 1 finished with value: 0.9033021938943353 and parameters: {'x': -4.841431927050128, 'y': -4.38617081019149}. Best is trial 1 with value: 0.9033021938943353.\u001b[0m\n",
      "\u001b[32m[I 2022-12-20 19:57:17,639]\u001b[0m Trial 2 finished with value: 20.010510292161417 and parameters: {'x': -5.853135167305434, 'y': 3.0762317455328763}. Best is trial 1 with value: 0.9033021938943353.\u001b[0m\n",
      "\u001b[32m[I 2022-12-20 19:57:17,647]\u001b[0m Trial 3 finished with value: 15.610405114087936 and parameters: {'x': 6.759604030919267, 'y': -1.05973613926513}. Best is trial 1 with value: 0.9033021938943353.\u001b[0m\n",
      "\u001b[32m[I 2022-12-20 19:57:17,653]\u001b[0m Trial 4 finished with value: 29.495672478254207 and parameters: {'x': -8.94753054680232, 'y': 1.8205202938650817}. Best is trial 1 with value: 0.9033021938943353.\u001b[0m\n",
      "\u001b[32m[I 2022-12-20 19:57:17,658]\u001b[0m Trial 5 finished with value: 1.7213844057608192 and parameters: {'x': -5.405909769836496, 'y': -6.505871656810298}. Best is trial 1 with value: 0.9033021938943353.\u001b[0m\n",
      "\u001b[32m[I 2022-12-20 19:57:17,664]\u001b[0m Trial 6 finished with value: 40.623556515569234 and parameters: {'x': 2.9684693711410155, 'y': -9.707401325071096}. Best is trial 1 with value: 0.9033021938943353.\u001b[0m\n",
      "\u001b[32m[I 2022-12-20 19:57:17,668]\u001b[0m Trial 7 finished with value: 0.451628066965414 and parameters: {'x': -2.7653645751815876, 'y': -3.3309644167282677}. Best is trial 7 with value: 0.451628066965414.\u001b[0m\n",
      "\u001b[32m[I 2022-12-20 19:57:17,674]\u001b[0m Trial 8 finished with value: 11.748965682800492 and parameters: {'x': 1.6835155069902985, 'y': -5.136954642256198}. Best is trial 7 with value: 0.451628066965414.\u001b[0m\n",
      "\u001b[32m[I 2022-12-20 19:57:17,680]\u001b[0m Trial 9 finished with value: 5.185697691879715 and parameters: {'x': -2.133222251693347, 'y': -6.3590963350482}. Best is trial 7 with value: 0.451628066965414.\u001b[0m\n",
      "\u001b[32m[I 2022-12-20 19:57:17,703]\u001b[0m Trial 10 finished with value: 3.447638218773619 and parameters: {'x': 9.462739033163569, 'y': 8.61618752783009}. Best is trial 7 with value: 0.451628066965414.\u001b[0m\n",
      "\u001b[32m[I 2022-12-20 19:57:17,733]\u001b[0m Trial 11 finished with value: 0.13797676761522415 and parameters: {'x': -1.8660556369919865, 'y': -1.59774546846764}. Best is trial 11 with value: 0.13797676761522415.\u001b[0m\n",
      "\u001b[32m[I 2022-12-20 19:57:17,754]\u001b[0m Trial 12 finished with value: 0.16040422866738724 and parameters: {'x': -1.2976259222890634, 'y': -1.8043162633683985}. Best is trial 11 with value: 0.13797676761522415.\u001b[0m\n",
      "\u001b[32m[I 2022-12-20 19:57:17,777]\u001b[0m Trial 13 finished with value: 0.014623396838158234 and parameters: {'x': -0.399646491067964, 'y': -0.5495062579073019}. Best is trial 13 with value: 0.014623396838158234.\u001b[0m\n",
      "\u001b[32m[I 2022-12-20 19:57:17,797]\u001b[0m Trial 14 finished with value: 1.3320373730230077 and parameters: {'x': 3.18612533460072, 'y': 4.84407189325702}. Best is trial 13 with value: 0.014623396838158234.\u001b[0m\n",
      "\u001b[32m[I 2022-12-20 19:57:17,819]\u001b[0m Trial 15 finished with value: 0.5358566581924047 and parameters: {'x': 0.03200120414763452, 'y': 1.4651006676155895}. Best is trial 13 with value: 0.014623396838158234.\u001b[0m\n",
      "\u001b[32m[I 2022-12-20 19:57:17,841]\u001b[0m Trial 16 finished with value: 1.1053037023286922 and parameters: {'x': 5.360768403534233, 'y': 4.9513404326548205}. Best is trial 13 with value: 0.014623396838158234.\u001b[0m\n",
      "\u001b[32m[I 2022-12-20 19:57:17,866]\u001b[0m Trial 17 finished with value: 0.8073761173219122 and parameters: {'x': 0.4248334176388085, 'y': -1.3624383438407168}. Best is trial 13 with value: 0.014623396838158234.\u001b[0m\n",
      "\u001b[32m[I 2022-12-20 19:57:17,888]\u001b[0m Trial 18 finished with value: 45.71057449786947 and parameters: {'x': -3.793861497691311, 'y': 9.6767714791761}. Best is trial 13 with value: 0.014623396838158234.\u001b[0m\n",
      "\u001b[32m[I 2022-12-20 19:57:17,913]\u001b[0m Trial 19 finished with value: 3.1480793746538787 and parameters: {'x': -6.841519130530103, 'y': -8.592083136952523}. Best is trial 13 with value: 0.014623396838158234.\u001b[0m\n",
      "\u001b[32m[I 2022-12-20 19:57:17,932]\u001b[0m Trial 20 finished with value: 0.2869968354050396 and parameters: {'x': -1.0378103047111789, 'y': 0.013878770119845507}. Best is trial 13 with value: 0.014623396838158234.\u001b[0m\n",
      "\u001b[32m[I 2022-12-20 19:57:17,953]\u001b[0m Trial 21 finished with value: 0.39258524102704695 and parameters: {'x': -1.6192976651871984, 'y': -2.5540072498013155}. Best is trial 13 with value: 0.014623396838158234.\u001b[0m\n",
      "\u001b[32m[I 2022-12-20 19:57:17,974]\u001b[0m Trial 22 finished with value: 0.6048909282888665 and parameters: {'x': 1.6298948067424581, 'y': 0.11400695503085367}. Best is trial 13 with value: 0.014623396838158234.\u001b[0m\n",
      "\u001b[32m[I 2022-12-20 19:57:17,999]\u001b[0m Trial 23 finished with value: 0.2626197683868572 and parameters: {'x': -2.5534909519908795, 'y': -2.5704514173255912}. Best is trial 13 with value: 0.014623396838158234.\u001b[0m\n",
      "\u001b[32m[I 2022-12-20 19:57:18,019]\u001b[0m Trial 24 finished with value: 3.918181580139233 and parameters: {'x': -0.33814559468311745, 'y': 3.567687068812846}. Best is trial 13 with value: 0.014623396838158234.\u001b[0m\n",
      "\u001b[32m[I 2022-12-20 19:57:18,044]\u001b[0m Trial 25 finished with value: 6.702595619603603 and parameters: {'x': 3.8100368499893174, 'y': -1.3442999789070864}. Best is trial 13 with value: 0.014623396838158234.\u001b[0m\n",
      "\u001b[32m[I 2022-12-20 19:57:18,063]\u001b[0m Trial 26 finished with value: 6.160410619256236 and parameters: {'x': -3.602688235309967, 'y': 1.3406888315256305}. Best is trial 13 with value: 0.014623396838158234.\u001b[0m\n",
      "\u001b[32m[I 2022-12-20 19:57:18,085]\u001b[0m Trial 27 finished with value: 5.914655312108514 and parameters: {'x': 1.0412444542449641, 'y': -3.7915653543742955}. Best is trial 13 with value: 0.014623396838158234.\u001b[0m\n",
      "\u001b[32m[I 2022-12-20 19:57:18,106]\u001b[0m Trial 28 finished with value: 0.35925462597664126 and parameters: {'x': -1.0097693659494307, 'y': -2.041560934013318}. Best is trial 13 with value: 0.014623396838158234.\u001b[0m\n",
      "\u001b[32m[I 2022-12-20 19:57:18,129]\u001b[0m Trial 29 finished with value: 44.17196236293071 and parameters: {'x': -6.7158111772296145, 'y': 6.576557828779835}. Best is trial 13 with value: 0.014623396838158234.\u001b[0m\n",
      "\u001b[32m[I 2022-12-20 19:57:18,149]\u001b[0m Trial 30 finished with value: 2.9996911313062498 and parameters: {'x': -3.932755573458393, 'y': -6.671505381206418}. Best is trial 13 with value: 0.014623396838158234.\u001b[0m\n",
      "\u001b[32m[I 2022-12-20 19:57:18,169]\u001b[0m Trial 31 finished with value: 0.33155266744790657 and parameters: {'x': -2.5466569459721677, 'y': -2.91273423976907}. Best is trial 13 with value: 0.014623396838158234.\u001b[0m\n",
      "\u001b[32m[I 2022-12-20 19:57:18,188]\u001b[0m Trial 32 finished with value: 5.218517385074244 and parameters: {'x': -4.342767555982032, 'y': 0.14837395053966063}. Best is trial 13 with value: 0.014623396838158234.\u001b[0m\n",
      "\u001b[32m[I 2022-12-20 19:57:18,209]\u001b[0m Trial 33 finished with value: 1.4772287017708807 and parameters: {'x': -2.6700438307940693, 'y': -4.615712147821917}. Best is trial 13 with value: 0.014623396838158234.\u001b[0m\n",
      "\u001b[32m[I 2022-12-20 19:57:18,230]\u001b[0m Trial 34 finished with value: 0.13455467212730055 and parameters: {'x': -1.2403098368238847, 'y': -0.6064325714047878}. Best is trial 13 with value: 0.014623396838158234.\u001b[0m\n",
      "\u001b[32m[I 2022-12-20 19:57:18,253]\u001b[0m Trial 35 finished with value: 2.945796011338439 and parameters: {'x': -0.8488805031189441, 'y': 2.56655042818313}. Best is trial 13 with value: 0.014623396838158234.\u001b[0m\n",
      "\u001b[32m[I 2022-12-20 19:57:18,278]\u001b[0m Trial 36 finished with value: 1.9003943430181507 and parameters: {'x': 1.840089471741972, 'y': -0.9107339144457911}. Best is trial 13 with value: 0.014623396838158234.\u001b[0m\n",
      "\u001b[32m[I 2022-12-20 19:57:18,300]\u001b[0m Trial 37 finished with value: 10.392959753602522 and parameters: {'x': -5.5951099952826056, 'y': 0.7801941084054693}. Best is trial 13 with value: 0.014623396838158234.\u001b[0m\n",
      "\u001b[32m[I 2022-12-20 19:57:18,322]\u001b[0m Trial 38 finished with value: 0.3244834528148733 and parameters: {'x': 0.7430446011477945, 'y': -0.3940846302093093}. Best is trial 13 with value: 0.014623396838158234.\u001b[0m\n",
      "\u001b[32m[I 2022-12-20 19:57:18,347]\u001b[0m Trial 39 finished with value: 9.194776859408684 and parameters: {'x': -9.476850618160915, 'y': -4.049040956619114}. Best is trial 13 with value: 0.014623396838158234.\u001b[0m\n",
      "\u001b[32m[I 2022-12-20 19:57:18,372]\u001b[0m Trial 40 finished with value: 1.6935502206301765 and parameters: {'x': 4.663119555009691, 'y': 2.488657750991152}. Best is trial 13 with value: 0.014623396838158234.\u001b[0m\n",
      "\u001b[32m[I 2022-12-20 19:57:18,396]\u001b[0m Trial 41 finished with value: 0.1467567904304552 and parameters: {'x': -1.9389137235364329, 'y': -1.881018590182433}. Best is trial 13 with value: 0.014623396838158234.\u001b[0m\n",
      "\u001b[32m[I 2022-12-20 19:57:18,418]\u001b[0m Trial 42 finished with value: 0.12793025177060136 and parameters: {'x': -1.7501489694857602, 'y': -1.8128283674805368}. Best is trial 13 with value: 0.014623396838158234.\u001b[0m\n",
      "\u001b[32m[I 2022-12-20 19:57:18,439]\u001b[0m Trial 43 finished with value: 1.401124068442579 and parameters: {'x': -4.93794584616067, 'y': -5.892997234046556}. Best is trial 13 with value: 0.014623396838158234.\u001b[0m\n",
      "\u001b[32m[I 2022-12-20 19:57:18,461]\u001b[0m Trial 44 finished with value: 1.7996891351967628 and parameters: {'x': -3.0929593676342364, 'y': -0.5083963441678171}. Best is trial 13 with value: 0.014623396838158234.\u001b[0m\n",
      "\u001b[32m[I 2022-12-20 19:57:18,483]\u001b[0m Trial 45 finished with value: 2.9185374925671783 and parameters: {'x': -0.11560560494148087, 'y': -3.456812444034611}. Best is trial 13 with value: 0.014623396838158234.\u001b[0m\n",
      "\u001b[32m[I 2022-12-20 19:57:18,506]\u001b[0m Trial 46 finished with value: 2.6554376161919357 and parameters: {'x': -2.1672183659769804, 'y': 1.0846849725078385}. Best is trial 13 with value: 0.014623396838158234.\u001b[0m\n",
      "\u001b[32m[I 2022-12-20 19:57:18,529]\u001b[0m Trial 47 finished with value: 4.844054339227369 and parameters: {'x': 2.598321283999968, 'y': -1.8006291415841393}. Best is trial 13 with value: 0.014623396838158234.\u001b[0m\n",
      "\u001b[32m[I 2022-12-20 19:57:18,549]\u001b[0m Trial 48 finished with value: 3.53234353983841 and parameters: {'x': -1.5149399719697156, 'y': -5.037971111835413}. Best is trial 13 with value: 0.014623396838158234.\u001b[0m\n",
      "\u001b[32m[I 2022-12-20 19:57:18,572]\u001b[0m Trial 49 finished with value: 4.082984759833851 and parameters: {'x': 7.231964551975373, 'y': 3.8530885650459936}. Best is trial 13 with value: 0.014623396838158234.\u001b[0m\n",
      "\u001b[32m[I 2022-12-20 19:57:18,597]\u001b[0m Trial 50 finished with value: 13.677829528998174 and parameters: {'x': -0.4045728957973175, 'y': -7.6248534060358155}. Best is trial 13 with value: 0.014623396838158234.\u001b[0m\n",
      "\u001b[32m[I 2022-12-20 19:57:18,619]\u001b[0m Trial 51 finished with value: 0.17876850628101582 and parameters: {'x': -1.5996463928051028, 'y': -2.0325106228645264}. Best is trial 13 with value: 0.014623396838158234.\u001b[0m\n",
      "\u001b[32m[I 2022-12-20 19:57:18,647]\u001b[0m Trial 52 finished with value: 0.5841272385996394 and parameters: {'x': 0.5317760039331123, 'y': -0.9939904482790461}. Best is trial 13 with value: 0.014623396838158234.\u001b[0m\n",
      "\u001b[32m[I 2022-12-20 19:57:18,671]\u001b[0m Trial 53 finished with value: 3.465829013639205 and parameters: {'x': -3.063934849461977, 'y': 0.6273853918864147}. Best is trial 13 with value: 0.014623396838158234.\u001b[0m\n",
      "\u001b[32m[I 2022-12-20 19:57:18,697]\u001b[0m Trial 54 finished with value: 0.13829774033519127 and parameters: {'x': -1.683864076462616, 'y': -1.8897116484217242}. Best is trial 13 with value: 0.014623396838158234.\u001b[0m\n",
      "\u001b[32m[I 2022-12-20 19:57:18,719]\u001b[0m Trial 55 finished with value: 1.4933086633668013 and parameters: {'x': -4.560833759908214, 'y': -2.5770908466474545}. Best is trial 13 with value: 0.014623396838158234.\u001b[0m\n",
      "\u001b[32m[I 2022-12-20 19:57:18,743]\u001b[0m Trial 56 finished with value: 3.6308019936493343 and parameters: {'x': -1.8909402045948, 'y': 1.9199880581104405}. Best is trial 13 with value: 0.014623396838158234.\u001b[0m\n",
      "\u001b[32m[I 2022-12-20 19:57:18,767]\u001b[0m Trial 57 finished with value: 5.576483188892439 and parameters: {'x': 1.2140851008682598, 'y': -3.4869046259682834}. Best is trial 13 with value: 0.014623396838158234.\u001b[0m\n",
      "\u001b[32m[I 2022-12-20 19:57:18,791]\u001b[0m Trial 58 finished with value: 1.2536665199647374 and parameters: {'x': -3.4612996013515938, 'y': -1.4487591682080048}. Best is trial 13 with value: 0.014623396838158234.\u001b[0m\n",
      "\u001b[32m[I 2022-12-20 19:57:18,814]\u001b[0m Trial 59 finished with value: 0.044749064314965614 and parameters: {'x': -0.7889492192917869, 'y': -0.4453567104502727}. Best is trial 13 with value: 0.014623396838158234.\u001b[0m\n",
      "\u001b[32m[I 2022-12-20 19:57:18,837]\u001b[0m Trial 60 finished with value: 0.040312769670951515 and parameters: {'x': -0.6735156832937155, 'y': -0.32515145337100754}. Best is trial 13 with value: 0.014623396838158234.\u001b[0m\n",
      "\u001b[32m[I 2022-12-20 19:57:18,858]\u001b[0m Trial 61 finished with value: 0.041335510327329655 and parameters: {'x': -0.6898556371714353, 'y': -0.33916051025530636}. Best is trial 13 with value: 0.014623396838158234.\u001b[0m\n",
      "\u001b[32m[I 2022-12-20 19:57:18,887]\u001b[0m Trial 62 finished with value: 0.027339120600108624 and parameters: {'x': -0.6578490806740562, 'y': -0.40443526693582155}. Best is trial 13 with value: 0.014623396838158234.\u001b[0m\n",
      "\u001b[32m[I 2022-12-20 19:57:18,908]\u001b[0m Trial 63 finished with value: 0.24006739408211167 and parameters: {'x': -0.6746239150761277, 'y': 0.30247889408081174}. Best is trial 13 with value: 0.014623396838158234.\u001b[0m\n",
      "\u001b[32m[I 2022-12-20 19:57:18,928]\u001b[0m Trial 64 finished with value: 1.1307638378531308 and parameters: {'x': 1.5280232845196489, 'y': -0.5904414817526945}. Best is trial 13 with value: 0.014623396838158234.\u001b[0m\n",
      "\u001b[32m[I 2022-12-20 19:57:18,950]\u001b[0m Trial 65 finished with value: 0.7710126435165595 and parameters: {'x': 0.11493199069623095, 'y': 1.8275669457696675}. Best is trial 13 with value: 0.014623396838158234.\u001b[0m\n",
      "\u001b[32m[I 2022-12-20 19:57:18,973]\u001b[0m Trial 66 finished with value: 0.08811104598159694 and parameters: {'x': 0.38183660750494886, 'y': -0.21084770623388494}. Best is trial 13 with value: 0.014623396838158234.\u001b[0m\n",
      "\u001b[32m[I 2022-12-20 19:57:18,996]\u001b[0m Trial 67 finished with value: 0.4644040906957516 and parameters: {'x': 2.164959795622847, 'y': 0.9530446621063811}. Best is trial 13 with value: 0.014623396838158234.\u001b[0m\n",
      "\u001b[32m[I 2022-12-20 19:57:19,017]\u001b[0m Trial 68 finished with value: 0.003125093367061363 and parameters: {'x': 0.28202825794446484, 'y': 0.2762500202874753}. Best is trial 68 with value: 0.003125093367061363.\u001b[0m\n",
      "\u001b[32m[I 2022-12-20 19:57:19,041]\u001b[0m Trial 69 finished with value: 3.1762473118189103 and parameters: {'x': 3.428471801545683, 'y': -0.07215600177236164}. Best is trial 68 with value: 0.003125093367061363.\u001b[0m\n",
      "\u001b[32m[I 2022-12-20 19:57:19,066]\u001b[0m Trial 70 finished with value: 0.7323178188042678 and parameters: {'x': 0.4188615553868344, 'y': 2.0571663809766783}. Best is trial 68 with value: 0.003125093367061363.\u001b[0m\n",
      "\u001b[32m[I 2022-12-20 19:57:19,091]\u001b[0m Trial 71 finished with value: 0.04131549005257028 and parameters: {'x': -0.06759792758422989, 'y': 0.3353829739096992}. Best is trial 68 with value: 0.003125093367061363.\u001b[0m\n",
      "\u001b[32m[I 2022-12-20 19:57:19,116]\u001b[0m Trial 72 finished with value: 0.278259408990645 and parameters: {'x': -0.43241942630004776, 'y': 0.6219056821538298}. Best is trial 68 with value: 0.003125093367061363.\u001b[0m\n",
      "\u001b[32m[I 2022-12-20 19:57:19,136]\u001b[0m Trial 73 finished with value: 1.7502116152261906 and parameters: {'x': 0.7888150466177738, 'y': 3.304866947912929}. Best is trial 68 with value: 0.003125093367061363.\u001b[0m\n",
      "\u001b[32m[I 2022-12-20 19:57:19,156]\u001b[0m Trial 74 finished with value: 0.3891921960782283 and parameters: {'x': 2.4376179377396308, 'y': 1.4640415920679768}. Best is trial 68 with value: 0.003125093367061363.\u001b[0m\n",
      "\u001b[32m[I 2022-12-20 19:57:19,180]\u001b[0m Trial 75 finished with value: 0.011542172614415386 and parameters: {'x': 0.09652828731437851, 'y': -0.1182966089722241}. Best is trial 68 with value: 0.003125093367061363.\u001b[0m\n",
      "\u001b[32m[I 2022-12-20 19:57:19,203]\u001b[0m Trial 76 finished with value: 0.985053488145106 and parameters: {'x': 1.1604927055201242, 'y': -0.8233589994085895}. Best is trial 68 with value: 0.003125093367061363.\u001b[0m\n",
      "\u001b[32m[I 2022-12-20 19:57:19,227]\u001b[0m Trial 77 finished with value: 3.4992812612581816 and parameters: {'x': -1.0424545906786236, 'y': 2.6843789738675996}. Best is trial 68 with value: 0.003125093367061363.\u001b[0m\n",
      "\u001b[32m[I 2022-12-20 19:57:19,252]\u001b[0m Trial 78 finished with value: 0.08109384338305842 and parameters: {'x': -0.1398234780778009, 'y': 0.42681642128873565}. Best is trial 68 with value: 0.003125093367061363.\u001b[0m\n",
      "\u001b[32m[I 2022-12-20 19:57:19,281]\u001b[0m Trial 79 finished with value: 1.200856133171741 and parameters: {'x': -0.7423661381413893, 'y': -2.8153203595493137}. Best is trial 68 with value: 0.003125093367061363.\u001b[0m\n",
      "\u001b[32m[I 2022-12-20 19:57:19,307]\u001b[0m Trial 80 finished with value: 0.46449161436640285 and parameters: {'x': -2.32922597973544, 'y': -1.158113232751801}. Best is trial 68 with value: 0.003125093367061363.\u001b[0m\n",
      "\u001b[32m[I 2022-12-20 19:57:19,342]\u001b[0m Trial 81 finished with value: 0.04131451851115428 and parameters: {'x': -0.14189534450985114, 'y': 0.26389124235688716}. Best is trial 68 with value: 0.003125093367061363.\u001b[0m\n",
      "\u001b[32m[I 2022-12-20 19:57:19,379]\u001b[0m Trial 82 finished with value: 0.02025890051350077 and parameters: {'x': 0.05895426512807794, 'y': -0.2237976895443379}. Best is trial 68 with value: 0.003125093367061363.\u001b[0m\n",
      "\u001b[32m[I 2022-12-20 19:57:19,420]\u001b[0m Trial 83 finished with value: 0.17615133665207505 and parameters: {'x': 1.7976386949176186, 'y': 1.2127360517404544}. Best is trial 68 with value: 0.003125093367061363.\u001b[0m\n",
      "\u001b[32m[I 2022-12-20 19:57:19,448]\u001b[0m Trial 84 finished with value: 0.3191790730891363 and parameters: {'x': 0.03625317285363849, 'y': -1.0744242444900463}. Best is trial 68 with value: 0.003125093367061363.\u001b[0m\n",
      "\u001b[32m[I 2022-12-20 19:57:19,475]\u001b[0m Trial 85 finished with value: 0.34000222718357737 and parameters: {'x': 1.1251061310802664, 'y': -0.019950255460425947}. Best is trial 68 with value: 0.003125093367061363.\u001b[0m\n",
      "\u001b[32m[I 2022-12-20 19:57:19,509]\u001b[0m Trial 86 finished with value: 0.713545080741457 and parameters: {'x': -1.2253957957512762, 'y': 0.45703252011600903}. Best is trial 68 with value: 0.003125093367061363.\u001b[0m\n",
      "\u001b[32m[I 2022-12-20 19:57:19,540]\u001b[0m Trial 87 finished with value: 0.489074810113927 and parameters: {'x': 0.16271058040286984, 'y': 1.520282182512563}. Best is trial 68 with value: 0.003125093367061363.\u001b[0m\n",
      "\u001b[32m[I 2022-12-20 19:57:19,569]\u001b[0m Trial 88 finished with value: 2.268373311508128 and parameters: {'x': 0.6258082018451468, 'y': -2.3662361932633273}. Best is trial 68 with value: 0.003125093367061363.\u001b[0m\n",
      "\u001b[32m[I 2022-12-20 19:57:19,604]\u001b[0m Trial 89 finished with value: 5.099130445190601 and parameters: {'x': -0.3914837005887542, 'y': 4.064618303225663}. Best is trial 68 with value: 0.003125093367061363.\u001b[0m\n",
      "\u001b[32m[I 2022-12-20 19:57:19,637]\u001b[0m Trial 90 finished with value: 0.10265136750333592 and parameters: {'x': 1.46207156892793, 'y': 1.0692617820580042}. Best is trial 68 with value: 0.003125093367061363.\u001b[0m\n",
      "\u001b[32m[I 2022-12-20 19:57:19,669]\u001b[0m Trial 91 finished with value: 0.05070082242050075 and parameters: {'x': -0.7845079199307046, 'y': -0.4017330752264809}. Best is trial 68 with value: 0.003125093367061363.\u001b[0m\n",
      "\u001b[32m[I 2022-12-20 19:57:19,701]\u001b[0m Trial 92 finished with value: 0.07615679220153115 and parameters: {'x': -1.1735958113369465, 'y': -1.3819228316942043}. Best is trial 68 with value: 0.003125093367061363.\u001b[0m\n",
      "\u001b[32m[I 2022-12-20 19:57:19,732]\u001b[0m Trial 93 finished with value: 0.17084072276905415 and parameters: {'x': 0.8936215512623047, 'y': 0.09074956174512311}. Best is trial 68 with value: 0.003125093367061363.\u001b[0m\n",
      "\u001b[32m[I 2022-12-20 19:57:19,762]\u001b[0m Trial 94 finished with value: 0.011316508265295566 and parameters: {'x': -0.5288636933312416, 'y': -0.5345474249158002}. Best is trial 68 with value: 0.003125093367061363.\u001b[0m\n",
      "\u001b[32m[I 2022-12-20 19:57:19,793]\u001b[0m Trial 95 finished with value: 1.291311732946398 and parameters: {'x': -0.08047992074794152, 'y': 2.1540791803303803}. Best is trial 68 with value: 0.003125093367061363.\u001b[0m\n",
      "\u001b[32m[I 2022-12-20 19:57:19,825]\u001b[0m Trial 96 finished with value: 0.536214534874072 and parameters: {'x': 2.101444666007115, 'y': 0.7527403810820656}. Best is trial 68 with value: 0.003125093367061363.\u001b[0m\n",
      "\u001b[32m[I 2022-12-20 19:57:19,861]\u001b[0m Trial 97 finished with value: 3.1976780597540424 and parameters: {'x': 2.785859552313934, 'y': -0.7677011558328517}. Best is trial 68 with value: 0.003125093367061363.\u001b[0m\n",
      "\u001b[32m[I 2022-12-20 19:57:19,905]\u001b[0m Trial 98 finished with value: 0.1997966962380735 and parameters: {'x': -2.0888815167149475, 'y': -2.2788714103410332}. Best is trial 68 with value: 0.003125093367061363.\u001b[0m\n",
      "\u001b[32m[I 2022-12-20 19:57:19,936]\u001b[0m Trial 99 finished with value: 0.7222777808238106 and parameters: {'x': -2.8272228388754206, 'y': -1.3465865839602706}. Best is trial 68 with value: 0.003125093367061363.\u001b[0m\n"
     ]
    }
   ],
   "source": [
    "study_f1 = optuna.create_study()\n",
    "study_f1.optimize(objective_f1, n_trials=100)"
   ]
  },
  {
   "attachments": {},
   "cell_type": "markdown",
   "metadata": {},
   "source": [
    "Выведем лучшие параметры"
   ]
  },
  {
   "cell_type": "code",
   "execution_count": 5,
   "metadata": {},
   "outputs": [
    {
     "name": "stdout",
     "output_type": "stream",
     "text": [
      "Функция Матиаса:\n",
      "x: 0.28202825794446484, y: 0.2762500202874753, E: 0.003125093367061363\n"
     ]
    }
   ],
   "source": [
    "best_params_f1 = study_f1.best_params\n",
    "found_x = best_params_f1[\"x\"]\n",
    "found_y = best_params_f1[\"y\"]\n",
    "print(\"Функция Матиаса:\")\n",
    "print(f\"x: {found_x}, y: {found_y}, E: {func1(found_x, found_y)}\")"
   ]
  },
  {
   "attachments": {},
   "cell_type": "markdown",
   "metadata": {},
   "source": [
    "Повторим для второй функции"
   ]
  },
  {
   "cell_type": "code",
   "execution_count": 6,
   "metadata": {},
   "outputs": [
    {
     "name": "stderr",
     "output_type": "stream",
     "text": [
      "\u001b[32m[I 2022-12-20 19:57:20,204]\u001b[0m A new study created in memory with name: no-name-97a75a2f-a86d-4992-b914-f60522754ff6\u001b[0m\n",
      "\u001b[32m[I 2022-12-20 19:57:20,214]\u001b[0m Trial 0 finished with value: 211.75787082677527 and parameters: {'x': 0.04560603659629692, 'y': 4.467514806813901}. Best is trial 0 with value: 211.75787082677527.\u001b[0m\n",
      "\u001b[32m[I 2022-12-20 19:57:20,219]\u001b[0m Trial 1 finished with value: 171.72393492620174 and parameters: {'x': 3.7027017704753895, 'y': 3.828070916358378}. Best is trial 1 with value: 171.72393492620174.\u001b[0m\n",
      "\u001b[32m[I 2022-12-20 19:57:20,224]\u001b[0m Trial 2 finished with value: 81.04469121543414 and parameters: {'x': -2.977621674898362, 'y': 1.0218009320371948}. Best is trial 2 with value: 81.04469121543414.\u001b[0m\n",
      "\u001b[32m[I 2022-12-20 19:57:20,231]\u001b[0m Trial 3 finished with value: 176.3547887842254 and parameters: {'x': -0.08862152169539339, 'y': -0.2903216891761069}. Best is trial 2 with value: 81.04469121543414.\u001b[0m\n",
      "\u001b[32m[I 2022-12-20 19:57:20,237]\u001b[0m Trial 4 finished with value: 233.18973358020162 and parameters: {'x': -0.029776945902060703, 'y': -3.4569336891883626}. Best is trial 2 with value: 81.04469121543414.\u001b[0m\n",
      "\u001b[32m[I 2022-12-20 19:57:20,246]\u001b[0m Trial 5 finished with value: 91.70532041102403 and parameters: {'x': -2.929317667820708, 'y': 0.7116689812971515}. Best is trial 2 with value: 81.04469121543414.\u001b[0m\n",
      "\u001b[32m[I 2022-12-20 19:57:20,253]\u001b[0m Trial 6 finished with value: 8.412179468186078 and parameters: {'x': 3.1576548864643144, 'y': -1.8268894623037024}. Best is trial 6 with value: 8.412179468186078.\u001b[0m\n",
      "\u001b[32m[I 2022-12-20 19:57:20,261]\u001b[0m Trial 7 finished with value: 46.90050035540567 and parameters: {'x': 1.7022252714813133, 'y': 1.6961645754335573}. Best is trial 6 with value: 8.412179468186078.\u001b[0m\n",
      "\u001b[32m[I 2022-12-20 19:57:20,268]\u001b[0m Trial 8 finished with value: 51.73899904884906 and parameters: {'x': 1.4749471329610113, 'y': 1.8956967139508194}. Best is trial 6 with value: 8.412179468186078.\u001b[0m\n",
      "\u001b[32m[I 2022-12-20 19:57:20,275]\u001b[0m Trial 9 finished with value: 190.39922593978673 and parameters: {'x': -0.27785281369563997, 'y': -2.8498880150204653}. Best is trial 6 with value: 8.412179468186078.\u001b[0m\n",
      "\u001b[32m[I 2022-12-20 19:57:20,309]\u001b[0m Trial 10 finished with value: 85.98505599309618 and parameters: {'x': 4.669047607508103, 'y': -1.527192928132224}. Best is trial 6 with value: 8.412179468186078.\u001b[0m\n",
      "\u001b[32m[I 2022-12-20 19:57:20,342]\u001b[0m Trial 11 finished with value: 477.2973996455996 and parameters: {'x': 2.601517961575643, 'y': -4.922895247430182}. Best is trial 6 with value: 8.412179468186078.\u001b[0m\n",
      "\u001b[32m[I 2022-12-20 19:57:20,374]\u001b[0m Trial 12 finished with value: 10.12637925791898 and parameters: {'x': 2.617497214028019, 'y': 2.684765844629366}. Best is trial 6 with value: 8.412179468186078.\u001b[0m\n",
      "\u001b[32m[I 2022-12-20 19:57:20,401]\u001b[0m Trial 13 finished with value: 52.882057516119666 and parameters: {'x': 3.2103913628664493, 'y': 3.255069409454819}. Best is trial 6 with value: 8.412179468186078.\u001b[0m\n",
      "\u001b[32m[I 2022-12-20 19:57:20,432]\u001b[0m Trial 14 finished with value: 133.58850656227386 and parameters: {'x': 4.877526270556327, 'y': -1.2462446178699285}. Best is trial 6 with value: 8.412179468186078.\u001b[0m\n",
      "\u001b[32m[I 2022-12-20 19:57:20,467]\u001b[0m Trial 15 finished with value: 107.96619472649495 and parameters: {'x': 1.5729901311362449, 'y': -0.4627364116815271}. Best is trial 6 with value: 8.412179468186078.\u001b[0m\n",
      "\u001b[32m[I 2022-12-20 19:57:20,496]\u001b[0m Trial 16 finished with value: 14.984442703220216 and parameters: {'x': 2.7574646851335016, 'y': 2.8413935566243143}. Best is trial 6 with value: 8.412179468186078.\u001b[0m\n",
      "\u001b[32m[I 2022-12-20 19:57:20,530]\u001b[0m Trial 17 finished with value: 116.20353157528967 and parameters: {'x': -4.800087020927923, 'y': -2.5766888320637835}. Best is trial 6 with value: 8.412179468186078.\u001b[0m\n",
      "\u001b[32m[I 2022-12-20 19:57:20,555]\u001b[0m Trial 18 finished with value: 178.0691775596739 and parameters: {'x': 3.783333097764446, 'y': -4.0668961954519345}. Best is trial 6 with value: 8.412179468186078.\u001b[0m\n",
      "\u001b[32m[I 2022-12-20 19:57:20,579]\u001b[0m Trial 19 finished with value: 149.67425030413295 and parameters: {'x': 0.9354532714996013, 'y': -1.4328840022359195}. Best is trial 6 with value: 8.412179468186078.\u001b[0m\n",
      "\u001b[32m[I 2022-12-20 19:57:20,606]\u001b[0m Trial 20 finished with value: 47.40580784335107 and parameters: {'x': -1.7751522962238806, 'y': 2.1997593073874153}. Best is trial 6 with value: 8.412179468186078.\u001b[0m\n",
      "\u001b[32m[I 2022-12-20 19:57:20,631]\u001b[0m Trial 21 finished with value: 15.595528098695535 and parameters: {'x': 2.5432554685554485, 'y': 2.8322068017269237}. Best is trial 6 with value: 8.412179468186078.\u001b[0m\n",
      "\u001b[32m[I 2022-12-20 19:57:20,653]\u001b[0m Trial 22 finished with value: 337.0456968602532 and parameters: {'x': 2.696926111743264, 'y': 4.7574064407339405}. Best is trial 6 with value: 8.412179468186078.\u001b[0m\n",
      "\u001b[32m[I 2022-12-20 19:57:20,675]\u001b[0m Trial 23 finished with value: 52.1373753111106 and parameters: {'x': 4.139997068470763, 'y': 0.6635342167381992}. Best is trial 6 with value: 8.412179468186078.\u001b[0m\n",
      "\u001b[32m[I 2022-12-20 19:57:20,702]\u001b[0m Trial 24 finished with value: 22.08542454367059 and parameters: {'x': 2.2617122855692013, 'y': 2.891612436989128}. Best is trial 6 with value: 8.412179468186078.\u001b[0m\n",
      "\u001b[32m[I 2022-12-20 19:57:20,725]\u001b[0m Trial 25 finished with value: 99.45207845463185 and parameters: {'x': 3.2577446151705813, 'y': 3.6294642922764746}. Best is trial 6 with value: 8.412179468186078.\u001b[0m\n",
      "\u001b[32m[I 2022-12-20 19:57:20,751]\u001b[0m Trial 26 finished with value: 99.85658841995095 and parameters: {'x': 0.9169501474563695, 'y': 1.248829028292089}. Best is trial 6 with value: 8.412179468186078.\u001b[0m\n",
      "\u001b[32m[I 2022-12-20 19:57:20,773]\u001b[0m Trial 27 finished with value: 17.262216224178076 and parameters: {'x': 4.103810777191794, 'y': -2.22173242045215}. Best is trial 6 with value: 8.412179468186078.\u001b[0m\n",
      "\u001b[32m[I 2022-12-20 19:57:20,799]\u001b[0m Trial 28 finished with value: 157.97304547450602 and parameters: {'x': -1.0887886098813295, 'y': 0.17023809648110655}. Best is trial 6 with value: 8.412179468186078.\u001b[0m\n",
      "\u001b[32m[I 2022-12-20 19:57:20,822]\u001b[0m Trial 29 finished with value: 116.8306421717738 and parameters: {'x': 0.6629352014827736, 'y': 3.8482666980984974}. Best is trial 6 with value: 8.412179468186078.\u001b[0m\n",
      "\u001b[32m[I 2022-12-20 19:57:20,848]\u001b[0m Trial 30 finished with value: 19.829912954025325 and parameters: {'x': 2.0573550657807993, 'y': 2.4771083224781174}. Best is trial 6 with value: 8.412179468186078.\u001b[0m\n",
      "\u001b[32m[I 2022-12-20 19:57:20,871]\u001b[0m Trial 31 finished with value: 220.99972519064724 and parameters: {'x': 3.0636815032552596, 'y': 4.307698733756447}. Best is trial 6 with value: 8.412179468186078.\u001b[0m\n",
      "\u001b[32m[I 2022-12-20 19:57:20,895]\u001b[0m Trial 32 finished with value: 43.90354488597946 and parameters: {'x': 3.457109414768697, 'y': 2.9793984752357456}. Best is trial 6 with value: 8.412179468186078.\u001b[0m\n",
      "\u001b[32m[I 2022-12-20 19:57:20,921]\u001b[0m Trial 33 finished with value: 197.18360016830246 and parameters: {'x': 2.6299577656413, 'y': 4.2907712141051295}. Best is trial 6 with value: 8.412179468186078.\u001b[0m\n",
      "\u001b[32m[I 2022-12-20 19:57:20,948]\u001b[0m Trial 34 finished with value: 613.9933553955314 and parameters: {'x': 4.169464083172622, 'y': 4.984702649073672}. Best is trial 6 with value: 8.412179468186078.\u001b[0m\n",
      "\u001b[32m[I 2022-12-20 19:57:20,973]\u001b[0m Trial 35 finished with value: 31.89153675059066 and parameters: {'x': 2.0801214876229737, 'y': 1.5769172551413877}. Best is trial 6 with value: 8.412179468186078.\u001b[0m\n",
      "\u001b[32m[I 2022-12-20 19:57:21,003]\u001b[0m Trial 36 finished with value: 9.965248444747012 and parameters: {'x': 2.737329037539159, 'y': 2.7047747207539525}. Best is trial 6 with value: 8.412179468186078.\u001b[0m\n",
      "\u001b[32m[I 2022-12-20 19:57:21,028]\u001b[0m Trial 37 finished with value: 118.01402517061797 and parameters: {'x': 1.28347000442931, 'y': 0.10781084002942753}. Best is trial 6 with value: 8.412179468186078.\u001b[0m\n",
      "\u001b[32m[I 2022-12-20 19:57:21,052]\u001b[0m Trial 38 finished with value: 120.80754085208089 and parameters: {'x': 4.418683956521763, 'y': 2.216418159232633}. Best is trial 6 with value: 8.412179468186078.\u001b[0m\n",
      "\u001b[32m[I 2022-12-20 19:57:21,075]\u001b[0m Trial 39 finished with value: 79.25861122222474 and parameters: {'x': -0.49342811399845354, 'y': 3.570568138194408}. Best is trial 6 with value: 8.412179468186078.\u001b[0m\n",
      "\u001b[32m[I 2022-12-20 19:57:21,103]\u001b[0m Trial 40 finished with value: 122.73793249587271 and parameters: {'x': 0.4864085490641695, 'y': 1.071110425081558}. Best is trial 6 with value: 8.412179468186078.\u001b[0m\n",
      "\u001b[32m[I 2022-12-20 19:57:21,134]\u001b[0m Trial 41 finished with value: 10.884506949751556 and parameters: {'x': 2.855500614721165, 'y': 2.7279202841047425}. Best is trial 6 with value: 8.412179468186078.\u001b[0m\n",
      "\u001b[32m[I 2022-12-20 19:57:21,164]\u001b[0m Trial 42 finished with value: 30.760705790226716 and parameters: {'x': 3.701356203910838, 'y': 2.3599835758770378}. Best is trial 6 with value: 8.412179468186078.\u001b[0m\n",
      "\u001b[32m[I 2022-12-20 19:57:21,199]\u001b[0m Trial 43 finished with value: 2.4814168488712447 and parameters: {'x': 2.927027123037786, 'y': 1.6456915623870527}. Best is trial 43 with value: 2.4814168488712447.\u001b[0m\n",
      "\u001b[32m[I 2022-12-20 19:57:21,222]\u001b[0m Trial 44 finished with value: 1.540494996958402 and parameters: {'x': 3.0818059187602014, 'y': 1.6384436805652556}. Best is trial 44 with value: 1.540494996958402.\u001b[0m\n",
      "\u001b[32m[I 2022-12-20 19:57:21,257]\u001b[0m Trial 45 finished with value: 34.53766424562839 and parameters: {'x': 1.961374072110575, 'y': 1.6927380603375561}. Best is trial 44 with value: 1.540494996958402.\u001b[0m\n",
      "\u001b[32m[I 2022-12-20 19:57:21,285]\u001b[0m Trial 46 finished with value: 163.2092993500086 and parameters: {'x': 4.965251699896145, 'y': -0.9317589678665805}. Best is trial 44 with value: 1.540494996958402.\u001b[0m\n",
      "\u001b[32m[I 2022-12-20 19:57:21,312]\u001b[0m Trial 47 finished with value: 11.267855146690433 and parameters: {'x': 3.5446172226507904, 'y': 1.3156626959530366}. Best is trial 44 with value: 1.540494996958402.\u001b[0m\n",
      "\u001b[32m[I 2022-12-20 19:57:21,340]\u001b[0m Trial 48 finished with value: 88.23470270323115 and parameters: {'x': 1.6856649908360026, 'y': 0.33654309482543154}. Best is trial 44 with value: 1.540494996958402.\u001b[0m\n",
      "\u001b[32m[I 2022-12-20 19:57:21,375]\u001b[0m Trial 49 finished with value: 57.537967443285694 and parameters: {'x': 2.313734906875116, 'y': -0.5234456445885804}. Best is trial 44 with value: 1.540494996958402.\u001b[0m\n",
      "\u001b[32m[I 2022-12-20 19:57:21,414]\u001b[0m Trial 50 finished with value: 11.050923599434801 and parameters: {'x': 3.2347891653736403, 'y': 0.6659221207769469}. Best is trial 44 with value: 1.540494996958402.\u001b[0m\n",
      "\u001b[32m[I 2022-12-20 19:57:21,453]\u001b[0m Trial 51 finished with value: 0.6971313792693905 and parameters: {'x': 2.9281170746062934, 'y': 1.8596947588622479}. Best is trial 51 with value: 0.6971313792693905.\u001b[0m\n",
      "\u001b[32m[I 2022-12-20 19:57:21,484]\u001b[0m Trial 52 finished with value: 23.244998059188696 and parameters: {'x': 3.7192322081111087, 'y': 1.9571725187474958}. Best is trial 51 with value: 0.6971313792693905.\u001b[0m\n",
      "\u001b[32m[I 2022-12-20 19:57:21,533]\u001b[0m Trial 53 finished with value: 12.609429994202465 and parameters: {'x': 3.0541257489111024, 'y': -1.8248719958072532}. Best is trial 51 with value: 0.6971313792693905.\u001b[0m\n",
      "\u001b[32m[I 2022-12-20 19:57:21,562]\u001b[0m Trial 54 finished with value: 252.80876560839846 and parameters: {'x': -4.8541627261072, 'y': 3.3126753645376614}. Best is trial 51 with value: 0.6971313792693905.\u001b[0m\n",
      "\u001b[32m[I 2022-12-20 19:57:21,598]\u001b[0m Trial 55 finished with value: 222.52526936018634 and parameters: {'x': 1.3281904826523154, 'y': -3.634940886106345}. Best is trial 51 with value: 0.6971313792693905.\u001b[0m\n",
      "\u001b[32m[I 2022-12-20 19:57:21,631]\u001b[0m Trial 56 finished with value: 50.168900314945034 and parameters: {'x': 4.002434896030573, 'y': 1.9950307135350027}. Best is trial 51 with value: 0.6971313792693905.\u001b[0m\n",
      "\u001b[32m[I 2022-12-20 19:57:21,691]\u001b[0m Trial 57 finished with value: 147.30002999022372 and parameters: {'x': 4.6496302551047055, 'y': 1.5175684774121523}. Best is trial 51 with value: 0.6971313792693905.\u001b[0m\n",
      "\u001b[32m[I 2022-12-20 19:57:21,734]\u001b[0m Trial 58 finished with value: 107.23017016979655 and parameters: {'x': -3.6329125764264654, 'y': 0.8599697860543881}. Best is trial 51 with value: 0.6971313792693905.\u001b[0m\n",
      "\u001b[32m[I 2022-12-20 19:57:21,769]\u001b[0m Trial 59 finished with value: 94.26478660294391 and parameters: {'x': 2.3696653602214304, 'y': -3.06729318139514}. Best is trial 51 with value: 0.6971313792693905.\u001b[0m\n",
      "\u001b[32m[I 2022-12-20 19:57:21,799]\u001b[0m Trial 60 finished with value: 142.8389749587737 and parameters: {'x': 2.9910632051374733, 'y': 3.9755385109505905}. Best is trial 51 with value: 0.6971313792693905.\u001b[0m\n",
      "\u001b[32m[I 2022-12-20 19:57:21,833]\u001b[0m Trial 61 finished with value: 12.492154765081084 and parameters: {'x': 2.864148877366067, 'y': 2.7695073820006595}. Best is trial 51 with value: 0.6971313792693905.\u001b[0m\n",
      "\u001b[32m[I 2022-12-20 19:57:21,865]\u001b[0m Trial 62 finished with value: 29.509216547475432 and parameters: {'x': 1.7801378096244993, 'y': 2.537971084394901}. Best is trial 51 with value: 0.6971313792693905.\u001b[0m\n",
      "\u001b[32m[I 2022-12-20 19:57:21,891]\u001b[0m Trial 63 finished with value: 62.819465978538204 and parameters: {'x': 3.406820786970427, 'y': 3.243629395017569}. Best is trial 51 with value: 0.6971313792693905.\u001b[0m\n",
      "\u001b[32m[I 2022-12-20 19:57:21,932]\u001b[0m Trial 64 finished with value: 40.907065405622525 and parameters: {'x': 2.5915538010207544, 'y': 3.2747837266176956}. Best is trial 51 with value: 0.6971313792693905.\u001b[0m\n",
      "\u001b[32m[I 2022-12-20 19:57:21,960]\u001b[0m Trial 65 finished with value: 0.6935695349086453 and parameters: {'x': 2.8848007047257354, 'y': 1.9340825758201259}. Best is trial 65 with value: 0.6935695349086453.\u001b[0m\n",
      "\u001b[32m[I 2022-12-20 19:57:21,984]\u001b[0m Trial 66 finished with value: 12.574757210372482 and parameters: {'x': 2.307613510621777, 'y': 2.1318947478346373}. Best is trial 65 with value: 0.6935695349086453.\u001b[0m\n",
      "\u001b[32m[I 2022-12-20 19:57:22,014]\u001b[0m Trial 67 finished with value: 35.12883890997368 and parameters: {'x': 3.9693807678135578, 'y': 0.45534148141519193}. Best is trial 65 with value: 0.6935695349086453.\u001b[0m\n",
      "\u001b[32m[I 2022-12-20 19:57:22,056]\u001b[0m Trial 68 finished with value: 75.27231526848618 and parameters: {'x': 4.407765608537671, 'y': -0.1424223353302123}. Best is trial 65 with value: 0.6935695349086453.\u001b[0m\n",
      "\u001b[32m[I 2022-12-20 19:57:22,096]\u001b[0m Trial 69 finished with value: 6.989878702542371 and parameters: {'x': 3.339220152312633, 'y': 1.1707753240450265}. Best is trial 65 with value: 0.6935695349086453.\u001b[0m\n",
      "\u001b[32m[I 2022-12-20 19:57:22,134]\u001b[0m Trial 70 finished with value: 7.982231835439142 and parameters: {'x': 3.382449418947197, 'y': 1.125210103679653}. Best is trial 65 with value: 0.6935695349086453.\u001b[0m\n",
      "\u001b[32m[I 2022-12-20 19:57:22,167]\u001b[0m Trial 71 finished with value: 6.393505143235266 and parameters: {'x': 3.3058469920790086, 'y': 1.1955082463295894}. Best is trial 65 with value: 0.6935695349086453.\u001b[0m\n",
      "\u001b[32m[I 2022-12-20 19:57:22,191]\u001b[0m Trial 72 finished with value: 6.648409946951052 and parameters: {'x': 3.388684242380015, 'y': 1.3354804858836675}. Best is trial 65 with value: 0.6935695349086453.\u001b[0m\n",
      "\u001b[32m[I 2022-12-20 19:57:22,221]\u001b[0m Trial 73 finished with value: 9.954777265246882 and parameters: {'x': 3.49784028668608, 'y': 1.2462380960647086}. Best is trial 65 with value: 0.6935695349086453.\u001b[0m\n",
      "\u001b[32m[I 2022-12-20 19:57:22,250]\u001b[0m Trial 74 finished with value: 24.728935589709398 and parameters: {'x': 3.802956886153096, 'y': 0.89788782859617}. Best is trial 65 with value: 0.6935695349086453.\u001b[0m\n",
      "\u001b[32m[I 2022-12-20 19:57:22,286]\u001b[0m Trial 75 finished with value: 1.6079382207814918 and parameters: {'x': 3.194706514546968, 'y': 1.7118910759804853}. Best is trial 65 with value: 0.6935695349086453.\u001b[0m\n",
      "\u001b[32m[I 2022-12-20 19:57:22,322]\u001b[0m Trial 76 finished with value: 87.63696780549328 and parameters: {'x': 4.340789879861539, 'y': 1.5115092294022792}. Best is trial 65 with value: 0.6935695349086453.\u001b[0m\n",
      "\u001b[32m[I 2022-12-20 19:57:22,352]\u001b[0m Trial 77 finished with value: 1.1318016886145488 and parameters: {'x': 3.1040786399170224, 'y': 1.698787694780811}. Best is trial 65 with value: 0.6935695349086453.\u001b[0m\n",
      "\u001b[32m[I 2022-12-20 19:57:22,384]\u001b[0m Trial 78 finished with value: 0.5403654700780911 and parameters: {'x': 3.128574050662242, 'y': 1.9022308451155996}. Best is trial 78 with value: 0.5403654700780911.\u001b[0m\n",
      "\u001b[32m[I 2022-12-20 19:57:22,412]\u001b[0m Trial 79 finished with value: 1.053927818281851 and parameters: {'x': 2.9860448427410455, 'y': 1.7449334209155278}. Best is trial 78 with value: 0.5403654700780911.\u001b[0m\n",
      "\u001b[32m[I 2022-12-20 19:57:22,444]\u001b[0m Trial 80 finished with value: 29.125474018470673 and parameters: {'x': 1.994250672605781, 'y': 1.8564018668517415}. Best is trial 78 with value: 0.5403654700780911.\u001b[0m\n",
      "\u001b[32m[I 2022-12-20 19:57:22,482]\u001b[0m Trial 81 finished with value: 1.2569455123761484 and parameters: {'x': 2.916291314707377, 'y': 1.791839169980835}. Best is trial 78 with value: 0.5403654700780911.\u001b[0m\n",
      "\u001b[32m[I 2022-12-20 19:57:22,513]\u001b[0m Trial 82 finished with value: 0.7453426334784453 and parameters: {'x': 3.0242725730624422, 'y': 1.7654806851413638}. Best is trial 78 with value: 0.5403654700780911.\u001b[0m\n",
      "\u001b[32m[I 2022-12-20 19:57:22,548]\u001b[0m Trial 83 finished with value: 6.167057569426172 and parameters: {'x': 2.5223898654197083, 'y': 2.3137320002630877}. Best is trial 78 with value: 0.5403654700780911.\u001b[0m\n",
      "\u001b[32m[I 2022-12-20 19:57:22,578]\u001b[0m Trial 84 finished with value: 0.3575950373837901 and parameters: {'x': 3.0486464830057693, 'y': 1.8350783160594417}. Best is trial 84 with value: 0.3575950373837901.\u001b[0m\n",
      "\u001b[32m[I 2022-12-20 19:57:22,608]\u001b[0m Trial 85 finished with value: 0.6636667877370265 and parameters: {'x': 2.850457040205211, 'y': 2.089346848034996}. Best is trial 84 with value: 0.3575950373837901.\u001b[0m\n",
      "\u001b[32m[I 2022-12-20 19:57:22,637]\u001b[0m Trial 86 finished with value: 18.315783581535925 and parameters: {'x': 2.1687544798328706, 'y': 2.0583145252250814}. Best is trial 84 with value: 0.3575950373837901.\u001b[0m\n",
      "\u001b[32m[I 2022-12-20 19:57:22,670]\u001b[0m Trial 87 finished with value: 3.7899388386356296 and parameters: {'x': 2.733117619082986, 'y': 2.4223520934592395}. Best is trial 84 with value: 0.3575950373837901.\u001b[0m\n",
      "\u001b[32m[I 2022-12-20 19:57:22,695]\u001b[0m Trial 88 finished with value: 45.38225548092323 and parameters: {'x': -2.3795465128442594, 'y': 1.894553054676007}. Best is trial 84 with value: 0.3575950373837901.\u001b[0m\n",
      "\u001b[32m[I 2022-12-20 19:57:22,719]\u001b[0m Trial 89 finished with value: 58.71970480609849 and parameters: {'x': 3.634047397944267, 'y': 2.9983532557605805}. Best is trial 84 with value: 0.3575950373837901.\u001b[0m\n",
      "\u001b[32m[I 2022-12-20 19:57:22,750]\u001b[0m Trial 90 finished with value: 10.38731992386387 and parameters: {'x': 2.441408373710428, 'y': 2.576222578014519}. Best is trial 84 with value: 0.3575950373837901.\u001b[0m\n",
      "\u001b[32m[I 2022-12-20 19:57:22,772]\u001b[0m Trial 91 finished with value: 3.0955718857732952 and parameters: {'x': 3.0777611486273573, 'y': 1.4709589398688603}. Best is trial 84 with value: 0.3575950373837901.\u001b[0m\n",
      "\u001b[32m[I 2022-12-20 19:57:22,810]\u001b[0m Trial 92 finished with value: 31.266371723456064 and parameters: {'x': 3.8508949545642173, 'y': 1.7620672462520437}. Best is trial 84 with value: 0.3575950373837901.\u001b[0m\n",
      "\u001b[32m[I 2022-12-20 19:57:22,838]\u001b[0m Trial 93 finished with value: 1.2662368591155544 and parameters: {'x': 2.8306096823996914, 'y': 2.2379861564724846}. Best is trial 84 with value: 0.3575950373837901.\u001b[0m\n",
      "\u001b[32m[I 2022-12-20 19:57:22,869]\u001b[0m Trial 94 finished with value: 1.0263743592315246 and parameters: {'x': 2.8635202299871554, 'y': 2.2302510795991144}. Best is trial 84 with value: 0.3575950373837901.\u001b[0m\n",
      "\u001b[32m[I 2022-12-20 19:57:22,907]\u001b[0m Trial 95 finished with value: 5.706340036074932 and parameters: {'x': 2.5572349232703684, 'y': 2.0755617649530276}. Best is trial 84 with value: 0.3575950373837901.\u001b[0m\n",
      "\u001b[32m[I 2022-12-20 19:57:22,936]\u001b[0m Trial 96 finished with value: 12.818920467988876 and parameters: {'x': 2.94999599209629, 'y': 0.8744280277533666}. Best is trial 84 with value: 0.3575950373837901.\u001b[0m\n",
      "\u001b[32m[I 2022-12-20 19:57:22,968]\u001b[0m Trial 97 finished with value: 29.952976178726352 and parameters: {'x': 2.2070364998136083, 'y': 3.0527939750011113}. Best is trial 84 with value: 0.3575950373837901.\u001b[0m\n",
      "\u001b[32m[I 2022-12-20 19:57:22,999]\u001b[0m Trial 98 finished with value: 32.82217743598346 and parameters: {'x': 1.7024957374686884, 'y': 2.3861660915814884}. Best is trial 84 with value: 0.3575950373837901.\u001b[0m\n",
      "\u001b[32m[I 2022-12-20 19:57:23,030]\u001b[0m Trial 99 finished with value: 53.250977001914436 and parameters: {'x': 1.4829245016422674, 'y': 1.8314746488716818}. Best is trial 84 with value: 0.3575950373837901.\u001b[0m\n"
     ]
    }
   ],
   "source": [
    "study_f2 = optuna.create_study()\n",
    "study_f2.optimize(objective_f2, n_trials=100)"
   ]
  },
  {
   "cell_type": "code",
   "execution_count": 7,
   "metadata": {},
   "outputs": [
    {
     "name": "stdout",
     "output_type": "stream",
     "text": [
      "Функция Химмельблау:\n",
      "x: 3.0486464830057693, y: 1.8350783160594417, E: 0.3575950373837901\n"
     ]
    }
   ],
   "source": [
    "best_params_f2 = study_f2.best_params\n",
    "found_x = best_params_f2[\"x\"]\n",
    "found_y = best_params_f2[\"y\"]\n",
    "print(\"Функция Химмельблау:\")\n",
    "print(f\"x: {found_x}, y: {found_y}, E: {func2(found_x, found_y)}\")"
   ]
  },
  {
   "attachments": {},
   "cell_type": "markdown",
   "metadata": {},
   "source": [
    "П"
   ]
  },
  {
   "cell_type": "code",
   "execution_count": 8,
   "metadata": {},
   "outputs": [],
   "source": [
    "def objective(trial):\n",
    "    data, target = sklearn.datasets.load_wine(return_X_y=True)\n",
    "    train_x, valid_x, train_y, valid_y = train_test_split(data, target, test_size=0.25)\n",
    "    dtrain = lgb.Dataset(train_x, label=train_y)\n",
    "    dvalid = lgb.Dataset(valid_x, label=valid_y)\n",
    "    \n",
    "    param = {\n",
    "        \"objective\": \"binary\",\n",
    "        \"metric\": \"auc\",\n",
    "        \"verbosity\": -1,\n",
    "        \"boosting_type\": \"gbdt\",\n",
    "        \"bagging_fraction\": trial.suggest_float(\"bagging_fraction\", 0.4, 1.0),\n",
    "        \"bagging_freq\": trial.suggest_int(\"bagging_freq\", 1, 7),\n",
    "        \"min_child_samples\": trial.suggest_int(\"min_child_samples\", 5, 100),\n",
    "    }\n",
    "\n",
    "    # Add a callback for pruning.\n",
    "    pruning_callback = optuna.integration.LightGBMPruningCallback(trial, \"auc\")\n",
    "    gbm = lgb.train(\n",
    "        param, dtrain, valid_sets=[dvalid], verbose_eval=False, callbacks=[pruning_callback]\n",
    "    )\n",
    "\n",
    "    preds = gbm.predict(valid_x)\n",
    "    pred_labels = np.rint(preds)\n",
    "    accuracy = sklearn.metrics.accuracy_score(valid_y, pred_labels)\n",
    "    return accuracy"
   ]
  },
  {
   "cell_type": "code",
   "execution_count": 9,
   "metadata": {},
   "outputs": [
    {
     "name": "stderr",
     "output_type": "stream",
     "text": [
      "\u001b[32m[I 2022-12-20 19:57:23,675]\u001b[0m A new study created in memory with name: no-name-5522f830-229f-432f-9bfb-b3bf07b19aee\u001b[0m\n",
      "c:\\Users\\4iste\\anaconda3\\envs\\pygmo\\lib\\site-packages\\lightgbm\\engine.py:239: UserWarning: 'verbose_eval' argument is deprecated and will be removed in a future release of LightGBM. Pass 'log_evaluation()' callback via 'callbacks' argument instead.\n",
      "  _log_warning(\"'verbose_eval' argument is deprecated and will be removed in a future release of LightGBM. \"\n",
      "\u001b[32m[I 2022-12-20 19:57:23,796]\u001b[0m Trial 0 finished with value: 0.7333333333333333 and parameters: {'bagging_fraction': 0.49985128604414425, 'bagging_freq': 3, 'min_child_samples': 21}. Best is trial 0 with value: 0.7333333333333333.\u001b[0m\n",
      "c:\\Users\\4iste\\anaconda3\\envs\\pygmo\\lib\\site-packages\\lightgbm\\engine.py:239: UserWarning: 'verbose_eval' argument is deprecated and will be removed in a future release of LightGBM. Pass 'log_evaluation()' callback via 'callbacks' argument instead.\n",
      "  _log_warning(\"'verbose_eval' argument is deprecated and will be removed in a future release of LightGBM. \"\n",
      "\u001b[32m[I 2022-12-20 19:57:23,851]\u001b[0m Trial 1 finished with value: 0.35555555555555557 and parameters: {'bagging_fraction': 0.41331633772133347, 'bagging_freq': 1, 'min_child_samples': 97}. Best is trial 0 with value: 0.7333333333333333.\u001b[0m\n",
      "c:\\Users\\4iste\\anaconda3\\envs\\pygmo\\lib\\site-packages\\lightgbm\\engine.py:239: UserWarning: 'verbose_eval' argument is deprecated and will be removed in a future release of LightGBM. Pass 'log_evaluation()' callback via 'callbacks' argument instead.\n",
      "  _log_warning(\"'verbose_eval' argument is deprecated and will be removed in a future release of LightGBM. \"\n",
      "\u001b[32m[I 2022-12-20 19:57:23,922]\u001b[0m Trial 2 finished with value: 0.4222222222222222 and parameters: {'bagging_fraction': 0.5410190773473524, 'bagging_freq': 3, 'min_child_samples': 96}. Best is trial 0 with value: 0.7333333333333333.\u001b[0m\n",
      "c:\\Users\\4iste\\anaconda3\\envs\\pygmo\\lib\\site-packages\\lightgbm\\engine.py:239: UserWarning: 'verbose_eval' argument is deprecated and will be removed in a future release of LightGBM. Pass 'log_evaluation()' callback via 'callbacks' argument instead.\n",
      "  _log_warning(\"'verbose_eval' argument is deprecated and will be removed in a future release of LightGBM. \"\n",
      "\u001b[32m[I 2022-12-20 19:57:24,111]\u001b[0m Trial 3 finished with value: 0.6666666666666666 and parameters: {'bagging_fraction': 0.9976320599923284, 'bagging_freq': 2, 'min_child_samples': 7}. Best is trial 0 with value: 0.7333333333333333.\u001b[0m\n",
      "c:\\Users\\4iste\\anaconda3\\envs\\pygmo\\lib\\site-packages\\lightgbm\\engine.py:239: UserWarning: 'verbose_eval' argument is deprecated and will be removed in a future release of LightGBM. Pass 'log_evaluation()' callback via 'callbacks' argument instead.\n",
      "  _log_warning(\"'verbose_eval' argument is deprecated and will be removed in a future release of LightGBM. \"\n",
      "\u001b[32m[I 2022-12-20 19:57:24,179]\u001b[0m Trial 4 finished with value: 0.35555555555555557 and parameters: {'bagging_fraction': 0.7715082624345226, 'bagging_freq': 7, 'min_child_samples': 94}. Best is trial 0 with value: 0.7333333333333333.\u001b[0m\n",
      "c:\\Users\\4iste\\anaconda3\\envs\\pygmo\\lib\\site-packages\\lightgbm\\engine.py:239: UserWarning: 'verbose_eval' argument is deprecated and will be removed in a future release of LightGBM. Pass 'log_evaluation()' callback via 'callbacks' argument instead.\n",
      "  _log_warning(\"'verbose_eval' argument is deprecated and will be removed in a future release of LightGBM. \"\n",
      "\u001b[32m[I 2022-12-20 19:57:24,345]\u001b[0m Trial 5 finished with value: 0.4666666666666667 and parameters: {'bagging_fraction': 0.41842111846273217, 'bagging_freq': 5, 'min_child_samples': 96}. Best is trial 0 with value: 0.7333333333333333.\u001b[0m\n",
      "c:\\Users\\4iste\\anaconda3\\envs\\pygmo\\lib\\site-packages\\lightgbm\\engine.py:239: UserWarning: 'verbose_eval' argument is deprecated and will be removed in a future release of LightGBM. Pass 'log_evaluation()' callback via 'callbacks' argument instead.\n",
      "  _log_warning(\"'verbose_eval' argument is deprecated and will be removed in a future release of LightGBM. \"\n",
      "\u001b[32m[I 2022-12-20 19:57:24,523]\u001b[0m Trial 6 finished with value: 0.7111111111111111 and parameters: {'bagging_fraction': 0.8117913365972165, 'bagging_freq': 6, 'min_child_samples': 43}. Best is trial 0 with value: 0.7333333333333333.\u001b[0m\n",
      "c:\\Users\\4iste\\anaconda3\\envs\\pygmo\\lib\\site-packages\\lightgbm\\engine.py:239: UserWarning: 'verbose_eval' argument is deprecated and will be removed in a future release of LightGBM. Pass 'log_evaluation()' callback via 'callbacks' argument instead.\n",
      "  _log_warning(\"'verbose_eval' argument is deprecated and will be removed in a future release of LightGBM. \"\n",
      "\u001b[32m[I 2022-12-20 19:57:24,654]\u001b[0m Trial 7 finished with value: 0.4888888888888889 and parameters: {'bagging_fraction': 0.76287085033706, 'bagging_freq': 6, 'min_child_samples': 76}. Best is trial 0 with value: 0.7333333333333333.\u001b[0m\n",
      "c:\\Users\\4iste\\anaconda3\\envs\\pygmo\\lib\\site-packages\\lightgbm\\engine.py:239: UserWarning: 'verbose_eval' argument is deprecated and will be removed in a future release of LightGBM. Pass 'log_evaluation()' callback via 'callbacks' argument instead.\n",
      "  _log_warning(\"'verbose_eval' argument is deprecated and will be removed in a future release of LightGBM. \"\n",
      "\u001b[32m[I 2022-12-20 19:57:24,773]\u001b[0m Trial 8 finished with value: 0.4222222222222222 and parameters: {'bagging_fraction': 0.4056752006082129, 'bagging_freq': 3, 'min_child_samples': 68}. Best is trial 0 with value: 0.7333333333333333.\u001b[0m\n",
      "c:\\Users\\4iste\\anaconda3\\envs\\pygmo\\lib\\site-packages\\lightgbm\\engine.py:239: UserWarning: 'verbose_eval' argument is deprecated and will be removed in a future release of LightGBM. Pass 'log_evaluation()' callback via 'callbacks' argument instead.\n",
      "  _log_warning(\"'verbose_eval' argument is deprecated and will be removed in a future release of LightGBM. \"\n",
      "\u001b[32m[I 2022-12-20 19:57:24,930]\u001b[0m Trial 9 finished with value: 0.4888888888888889 and parameters: {'bagging_fraction': 0.7785700951998049, 'bagging_freq': 4, 'min_child_samples': 62}. Best is trial 0 with value: 0.7333333333333333.\u001b[0m\n",
      "c:\\Users\\4iste\\anaconda3\\envs\\pygmo\\lib\\site-packages\\lightgbm\\engine.py:239: UserWarning: 'verbose_eval' argument is deprecated and will be removed in a future release of LightGBM. Pass 'log_evaluation()' callback via 'callbacks' argument instead.\n",
      "  _log_warning(\"'verbose_eval' argument is deprecated and will be removed in a future release of LightGBM. \"\n",
      "\u001b[32m[I 2022-12-20 19:57:25,172]\u001b[0m Trial 10 finished with value: 0.6444444444444445 and parameters: {'bagging_fraction': 0.5785215326097938, 'bagging_freq': 1, 'min_child_samples': 17}. Best is trial 0 with value: 0.7333333333333333.\u001b[0m\n",
      "c:\\Users\\4iste\\anaconda3\\envs\\pygmo\\lib\\site-packages\\lightgbm\\engine.py:239: UserWarning: 'verbose_eval' argument is deprecated and will be removed in a future release of LightGBM. Pass 'log_evaluation()' callback via 'callbacks' argument instead.\n",
      "  _log_warning(\"'verbose_eval' argument is deprecated and will be removed in a future release of LightGBM. \"\n",
      "\u001b[32m[I 2022-12-20 19:57:25,463]\u001b[0m Trial 11 finished with value: 0.7333333333333333 and parameters: {'bagging_fraction': 0.924272716232486, 'bagging_freq': 5, 'min_child_samples': 35}. Best is trial 0 with value: 0.7333333333333333.\u001b[0m\n",
      "c:\\Users\\4iste\\anaconda3\\envs\\pygmo\\lib\\site-packages\\lightgbm\\engine.py:239: UserWarning: 'verbose_eval' argument is deprecated and will be removed in a future release of LightGBM. Pass 'log_evaluation()' callback via 'callbacks' argument instead.\n",
      "  _log_warning(\"'verbose_eval' argument is deprecated and will be removed in a future release of LightGBM. \"\n",
      "\u001b[32m[I 2022-12-20 19:57:25,684]\u001b[0m Trial 12 finished with value: 0.6444444444444445 and parameters: {'bagging_fraction': 0.9925085170624447, 'bagging_freq': 4, 'min_child_samples': 35}. Best is trial 0 with value: 0.7333333333333333.\u001b[0m\n",
      "c:\\Users\\4iste\\anaconda3\\envs\\pygmo\\lib\\site-packages\\lightgbm\\engine.py:239: UserWarning: 'verbose_eval' argument is deprecated and will be removed in a future release of LightGBM. Pass 'log_evaluation()' callback via 'callbacks' argument instead.\n",
      "  _log_warning(\"'verbose_eval' argument is deprecated and will be removed in a future release of LightGBM. \"\n",
      "\u001b[32m[I 2022-12-20 19:57:25,929]\u001b[0m Trial 13 finished with value: 0.7333333333333333 and parameters: {'bagging_fraction': 0.8912212481850054, 'bagging_freq': 5, 'min_child_samples': 28}. Best is trial 0 with value: 0.7333333333333333.\u001b[0m\n",
      "c:\\Users\\4iste\\anaconda3\\envs\\pygmo\\lib\\site-packages\\lightgbm\\engine.py:239: UserWarning: 'verbose_eval' argument is deprecated and will be removed in a future release of LightGBM. Pass 'log_evaluation()' callback via 'callbacks' argument instead.\n",
      "  _log_warning(\"'verbose_eval' argument is deprecated and will be removed in a future release of LightGBM. \"\n",
      "\u001b[32m[I 2022-12-20 19:57:26,182]\u001b[0m Trial 14 finished with value: 0.6666666666666666 and parameters: {'bagging_fraction': 0.6430782626779485, 'bagging_freq': 3, 'min_child_samples': 23}. Best is trial 0 with value: 0.7333333333333333.\u001b[0m\n",
      "c:\\Users\\4iste\\anaconda3\\envs\\pygmo\\lib\\site-packages\\lightgbm\\engine.py:239: UserWarning: 'verbose_eval' argument is deprecated and will be removed in a future release of LightGBM. Pass 'log_evaluation()' callback via 'callbacks' argument instead.\n",
      "  _log_warning(\"'verbose_eval' argument is deprecated and will be removed in a future release of LightGBM. \"\n",
      "\u001b[32m[I 2022-12-20 19:57:26,239]\u001b[0m Trial 15 pruned. Trial was pruned at iteration 10.\u001b[0m\n",
      "\u001b[32m[I 2022-12-20 19:57:26,308]\u001b[0m Trial 16 pruned. Trial was pruned at iteration 15.\u001b[0m\n",
      "\u001b[32m[I 2022-12-20 19:57:26,405]\u001b[0m Trial 17 pruned. Trial was pruned at iteration 23.\u001b[0m\n",
      "\u001b[32m[I 2022-12-20 19:57:26,621]\u001b[0m Trial 18 finished with value: 0.6888888888888889 and parameters: {'bagging_fraction': 0.6062856850624215, 'bagging_freq': 4, 'min_child_samples': 34}. Best is trial 0 with value: 0.7333333333333333.\u001b[0m\n",
      "c:\\Users\\4iste\\anaconda3\\envs\\pygmo\\lib\\site-packages\\lightgbm\\engine.py:239: UserWarning: 'verbose_eval' argument is deprecated and will be removed in a future release of LightGBM. Pass 'log_evaluation()' callback via 'callbacks' argument instead.\n",
      "  _log_warning(\"'verbose_eval' argument is deprecated and will be removed in a future release of LightGBM. \"\n",
      "\u001b[32m[I 2022-12-20 19:57:26,693]\u001b[0m Trial 19 pruned. Trial was pruned at iteration 16.\u001b[0m\n",
      "\u001b[32m[I 2022-12-20 19:57:26,755]\u001b[0m Trial 20 pruned. Trial was pruned at iteration 15.\u001b[0m\n",
      "\u001b[32m[I 2022-12-20 19:57:26,919]\u001b[0m Trial 21 finished with value: 0.6666666666666666 and parameters: {'bagging_fraction': 0.9251533423657325, 'bagging_freq': 5, 'min_child_samples': 34}. Best is trial 0 with value: 0.7333333333333333.\u001b[0m\n",
      "c:\\Users\\4iste\\anaconda3\\envs\\pygmo\\lib\\site-packages\\lightgbm\\engine.py:239: UserWarning: 'verbose_eval' argument is deprecated and will be removed in a future release of LightGBM. Pass 'log_evaluation()' callback via 'callbacks' argument instead.\n",
      "  _log_warning(\"'verbose_eval' argument is deprecated and will be removed in a future release of LightGBM. \"\n",
      "\u001b[32m[I 2022-12-20 19:57:26,974]\u001b[0m Trial 22 pruned. Trial was pruned at iteration 10.\u001b[0m\n",
      "\u001b[32m[I 2022-12-20 19:57:27,038]\u001b[0m Trial 23 pruned. Trial was pruned at iteration 10.\u001b[0m\n",
      "\u001b[32m[I 2022-12-20 19:57:27,118]\u001b[0m Trial 24 pruned. Trial was pruned at iteration 17.\u001b[0m\n",
      "\u001b[32m[I 2022-12-20 19:57:27,352]\u001b[0m Trial 25 finished with value: 0.7111111111111111 and parameters: {'bagging_fraction': 0.7368899309939578, 'bagging_freq': 6, 'min_child_samples': 14}. Best is trial 0 with value: 0.7333333333333333.\u001b[0m\n",
      "c:\\Users\\4iste\\anaconda3\\envs\\pygmo\\lib\\site-packages\\lightgbm\\engine.py:239: UserWarning: 'verbose_eval' argument is deprecated and will be removed in a future release of LightGBM. Pass 'log_evaluation()' callback via 'callbacks' argument instead.\n",
      "  _log_warning(\"'verbose_eval' argument is deprecated and will be removed in a future release of LightGBM. \"\n",
      "\u001b[32m[I 2022-12-20 19:57:27,422]\u001b[0m Trial 26 pruned. Trial was pruned at iteration 10.\u001b[0m\n",
      "\u001b[32m[I 2022-12-20 19:57:27,734]\u001b[0m Trial 27 finished with value: 0.7333333333333333 and parameters: {'bagging_fraction': 0.8706576430488485, 'bagging_freq': 4, 'min_child_samples': 55}. Best is trial 0 with value: 0.7333333333333333.\u001b[0m\n",
      "c:\\Users\\4iste\\anaconda3\\envs\\pygmo\\lib\\site-packages\\lightgbm\\engine.py:239: UserWarning: 'verbose_eval' argument is deprecated and will be removed in a future release of LightGBM. Pass 'log_evaluation()' callback via 'callbacks' argument instead.\n",
      "  _log_warning(\"'verbose_eval' argument is deprecated and will be removed in a future release of LightGBM. \"\n",
      "\u001b[32m[I 2022-12-20 19:57:27,803]\u001b[0m Trial 28 pruned. Trial was pruned at iteration 10.\u001b[0m\n",
      "\u001b[32m[I 2022-12-20 19:57:27,877]\u001b[0m Trial 29 pruned. Trial was pruned at iteration 10.\u001b[0m\n",
      "\u001b[32m[I 2022-12-20 19:57:27,961]\u001b[0m Trial 30 pruned. Trial was pruned at iteration 10.\u001b[0m\n",
      "\u001b[32m[I 2022-12-20 19:57:28,154]\u001b[0m Trial 31 finished with value: 0.7777777777777778 and parameters: {'bagging_fraction': 0.96089313969939, 'bagging_freq': 3, 'min_child_samples': 61}. Best is trial 31 with value: 0.7777777777777778.\u001b[0m\n",
      "c:\\Users\\4iste\\anaconda3\\envs\\pygmo\\lib\\site-packages\\lightgbm\\engine.py:239: UserWarning: 'verbose_eval' argument is deprecated and will be removed in a future release of LightGBM. Pass 'log_evaluation()' callback via 'callbacks' argument instead.\n",
      "  _log_warning(\"'verbose_eval' argument is deprecated and will be removed in a future release of LightGBM. \"\n",
      "\u001b[32m[I 2022-12-20 19:57:28,348]\u001b[0m Trial 32 finished with value: 0.7111111111111111 and parameters: {'bagging_fraction': 0.9614061786614667, 'bagging_freq': 4, 'min_child_samples': 56}. Best is trial 31 with value: 0.7777777777777778.\u001b[0m\n",
      "c:\\Users\\4iste\\anaconda3\\envs\\pygmo\\lib\\site-packages\\lightgbm\\engine.py:239: UserWarning: 'verbose_eval' argument is deprecated and will be removed in a future release of LightGBM. Pass 'log_evaluation()' callback via 'callbacks' argument instead.\n",
      "  _log_warning(\"'verbose_eval' argument is deprecated and will be removed in a future release of LightGBM. \"\n",
      "\u001b[32m[I 2022-12-20 19:57:28,410]\u001b[0m Trial 33 pruned. Trial was pruned at iteration 10.\u001b[0m\n",
      "\u001b[32m[I 2022-12-20 19:57:28,612]\u001b[0m Trial 34 finished with value: 0.8444444444444444 and parameters: {'bagging_fraction': 0.9829548559687407, 'bagging_freq': 2, 'min_child_samples': 64}. Best is trial 34 with value: 0.8444444444444444.\u001b[0m\n",
      "c:\\Users\\4iste\\anaconda3\\envs\\pygmo\\lib\\site-packages\\lightgbm\\engine.py:239: UserWarning: 'verbose_eval' argument is deprecated and will be removed in a future release of LightGBM. Pass 'log_evaluation()' callback via 'callbacks' argument instead.\n",
      "  _log_warning(\"'verbose_eval' argument is deprecated and will be removed in a future release of LightGBM. \"\n",
      "\u001b[32m[I 2022-12-20 19:57:28,692]\u001b[0m Trial 35 pruned. Trial was pruned at iteration 15.\u001b[0m\n",
      "\u001b[32m[I 2022-12-20 19:57:28,761]\u001b[0m Trial 36 pruned. Trial was pruned at iteration 10.\u001b[0m\n",
      "\u001b[32m[I 2022-12-20 19:57:28,819]\u001b[0m Trial 37 pruned. Trial was pruned at iteration 10.\u001b[0m\n",
      "\u001b[32m[I 2022-12-20 19:57:28,877]\u001b[0m Trial 38 pruned. Trial was pruned at iteration 10.\u001b[0m\n",
      "\u001b[32m[I 2022-12-20 19:57:28,953]\u001b[0m Trial 39 pruned. Trial was pruned at iteration 10.\u001b[0m\n",
      "\u001b[32m[I 2022-12-20 19:57:29,093]\u001b[0m Trial 40 finished with value: 0.6666666666666666 and parameters: {'bagging_fraction': 0.9080144817216028, 'bagging_freq': 1, 'min_child_samples': 49}. Best is trial 34 with value: 0.8444444444444444.\u001b[0m\n",
      "c:\\Users\\4iste\\anaconda3\\envs\\pygmo\\lib\\site-packages\\lightgbm\\engine.py:239: UserWarning: 'verbose_eval' argument is deprecated and will be removed in a future release of LightGBM. Pass 'log_evaluation()' callback via 'callbacks' argument instead.\n",
      "  _log_warning(\"'verbose_eval' argument is deprecated and will be removed in a future release of LightGBM. \"\n",
      "\u001b[32m[I 2022-12-20 19:57:29,152]\u001b[0m Trial 41 pruned. Trial was pruned at iteration 10.\u001b[0m\n",
      "\u001b[32m[I 2022-12-20 19:57:29,220]\u001b[0m Trial 42 pruned. Trial was pruned at iteration 10.\u001b[0m\n",
      "\u001b[32m[I 2022-12-20 19:57:29,277]\u001b[0m Trial 43 pruned. Trial was pruned at iteration 10.\u001b[0m\n",
      "\u001b[32m[I 2022-12-20 19:57:29,468]\u001b[0m Trial 44 finished with value: 0.7111111111111111 and parameters: {'bagging_fraction': 0.9957901977609537, 'bagging_freq': 2, 'min_child_samples': 65}. Best is trial 34 with value: 0.8444444444444444.\u001b[0m\n",
      "c:\\Users\\4iste\\anaconda3\\envs\\pygmo\\lib\\site-packages\\lightgbm\\engine.py:239: UserWarning: 'verbose_eval' argument is deprecated and will be removed in a future release of LightGBM. Pass 'log_evaluation()' callback via 'callbacks' argument instead.\n",
      "  _log_warning(\"'verbose_eval' argument is deprecated and will be removed in a future release of LightGBM. \"\n",
      "\u001b[32m[I 2022-12-20 19:57:29,518]\u001b[0m Trial 45 pruned. Trial was pruned at iteration 10.\u001b[0m\n",
      "\u001b[32m[I 2022-12-20 19:57:29,575]\u001b[0m Trial 46 pruned. Trial was pruned at iteration 10.\u001b[0m\n",
      "\u001b[32m[I 2022-12-20 19:57:29,643]\u001b[0m Trial 47 pruned. Trial was pruned at iteration 10.\u001b[0m\n",
      "\u001b[32m[I 2022-12-20 19:57:29,688]\u001b[0m Trial 48 pruned. Trial was pruned at iteration 10.\u001b[0m\n",
      "\u001b[32m[I 2022-12-20 19:57:29,741]\u001b[0m Trial 49 pruned. Trial was pruned at iteration 10.\u001b[0m\n",
      "\u001b[32m[I 2022-12-20 19:57:29,795]\u001b[0m Trial 50 pruned. Trial was pruned at iteration 15.\u001b[0m\n",
      "\u001b[32m[I 2022-12-20 19:57:29,902]\u001b[0m Trial 51 finished with value: 0.7333333333333333 and parameters: {'bagging_fraction': 0.9196483998060389, 'bagging_freq': 5, 'min_child_samples': 53}. Best is trial 34 with value: 0.8444444444444444.\u001b[0m\n",
      "c:\\Users\\4iste\\anaconda3\\envs\\pygmo\\lib\\site-packages\\lightgbm\\engine.py:239: UserWarning: 'verbose_eval' argument is deprecated and will be removed in a future release of LightGBM. Pass 'log_evaluation()' callback via 'callbacks' argument instead.\n",
      "  _log_warning(\"'verbose_eval' argument is deprecated and will be removed in a future release of LightGBM. \"\n",
      "\u001b[32m[I 2022-12-20 19:57:30,074]\u001b[0m Trial 52 finished with value: 0.7777777777777778 and parameters: {'bagging_fraction': 0.9772758644300601, 'bagging_freq': 6, 'min_child_samples': 47}. Best is trial 34 with value: 0.8444444444444444.\u001b[0m\n",
      "c:\\Users\\4iste\\anaconda3\\envs\\pygmo\\lib\\site-packages\\lightgbm\\engine.py:239: UserWarning: 'verbose_eval' argument is deprecated and will be removed in a future release of LightGBM. Pass 'log_evaluation()' callback via 'callbacks' argument instead.\n",
      "  _log_warning(\"'verbose_eval' argument is deprecated and will be removed in a future release of LightGBM. \"\n",
      "\u001b[32m[I 2022-12-20 19:57:30,246]\u001b[0m Trial 53 finished with value: 0.6444444444444445 and parameters: {'bagging_fraction': 0.9739236352014543, 'bagging_freq': 7, 'min_child_samples': 53}. Best is trial 34 with value: 0.8444444444444444.\u001b[0m\n",
      "c:\\Users\\4iste\\anaconda3\\envs\\pygmo\\lib\\site-packages\\lightgbm\\engine.py:239: UserWarning: 'verbose_eval' argument is deprecated and will be removed in a future release of LightGBM. Pass 'log_evaluation()' callback via 'callbacks' argument instead.\n",
      "  _log_warning(\"'verbose_eval' argument is deprecated and will be removed in a future release of LightGBM. \"\n",
      "\u001b[32m[I 2022-12-20 19:57:30,289]\u001b[0m Trial 54 pruned. Trial was pruned at iteration 10.\u001b[0m\n",
      "\u001b[32m[I 2022-12-20 19:57:30,437]\u001b[0m Trial 55 finished with value: 0.7333333333333333 and parameters: {'bagging_fraction': 0.9984390536987516, 'bagging_freq': 6, 'min_child_samples': 59}. Best is trial 34 with value: 0.8444444444444444.\u001b[0m\n",
      "c:\\Users\\4iste\\anaconda3\\envs\\pygmo\\lib\\site-packages\\lightgbm\\engine.py:239: UserWarning: 'verbose_eval' argument is deprecated and will be removed in a future release of LightGBM. Pass 'log_evaluation()' callback via 'callbacks' argument instead.\n",
      "  _log_warning(\"'verbose_eval' argument is deprecated and will be removed in a future release of LightGBM. \"\n",
      "\u001b[32m[I 2022-12-20 19:57:30,556]\u001b[0m Trial 56 finished with value: 0.6666666666666666 and parameters: {'bagging_fraction': 0.9223940971865633, 'bagging_freq': 6, 'min_child_samples': 20}. Best is trial 34 with value: 0.8444444444444444.\u001b[0m\n",
      "c:\\Users\\4iste\\anaconda3\\envs\\pygmo\\lib\\site-packages\\lightgbm\\engine.py:239: UserWarning: 'verbose_eval' argument is deprecated and will be removed in a future release of LightGBM. Pass 'log_evaluation()' callback via 'callbacks' argument instead.\n",
      "  _log_warning(\"'verbose_eval' argument is deprecated and will be removed in a future release of LightGBM. \"\n",
      "\u001b[32m[I 2022-12-20 19:57:30,677]\u001b[0m Trial 57 finished with value: 0.6444444444444445 and parameters: {'bagging_fraction': 0.9928475468050768, 'bagging_freq': 7, 'min_child_samples': 59}. Best is trial 34 with value: 0.8444444444444444.\u001b[0m\n",
      "c:\\Users\\4iste\\anaconda3\\envs\\pygmo\\lib\\site-packages\\lightgbm\\engine.py:239: UserWarning: 'verbose_eval' argument is deprecated and will be removed in a future release of LightGBM. Pass 'log_evaluation()' callback via 'callbacks' argument instead.\n",
      "  _log_warning(\"'verbose_eval' argument is deprecated and will be removed in a future release of LightGBM. \"\n",
      "\u001b[32m[I 2022-12-20 19:57:30,730]\u001b[0m Trial 58 pruned. Trial was pruned at iteration 12.\u001b[0m\n",
      "\u001b[32m[I 2022-12-20 19:57:30,768]\u001b[0m Trial 59 pruned. Trial was pruned at iteration 10.\u001b[0m\n",
      "\u001b[32m[I 2022-12-20 19:57:30,814]\u001b[0m Trial 60 pruned. Trial was pruned at iteration 10.\u001b[0m\n",
      "\u001b[32m[I 2022-12-20 19:57:30,853]\u001b[0m Trial 61 pruned. Trial was pruned at iteration 10.\u001b[0m\n",
      "\u001b[32m[I 2022-12-20 19:57:30,906]\u001b[0m Trial 62 pruned. Trial was pruned at iteration 12.\u001b[0m\n",
      "\u001b[32m[I 2022-12-20 19:57:30,952]\u001b[0m Trial 63 pruned. Trial was pruned at iteration 10.\u001b[0m\n",
      "\u001b[32m[I 2022-12-20 19:57:31,057]\u001b[0m Trial 64 finished with value: 0.7111111111111111 and parameters: {'bagging_fraction': 0.9720655753769236, 'bagging_freq': 5, 'min_child_samples': 59}. Best is trial 34 with value: 0.8444444444444444.\u001b[0m\n",
      "c:\\Users\\4iste\\anaconda3\\envs\\pygmo\\lib\\site-packages\\lightgbm\\engine.py:239: UserWarning: 'verbose_eval' argument is deprecated and will be removed in a future release of LightGBM. Pass 'log_evaluation()' callback via 'callbacks' argument instead.\n",
      "  _log_warning(\"'verbose_eval' argument is deprecated and will be removed in a future release of LightGBM. \"\n",
      "\u001b[32m[I 2022-12-20 19:57:31,182]\u001b[0m Trial 65 finished with value: 0.7777777777777778 and parameters: {'bagging_fraction': 0.9341021972235127, 'bagging_freq': 4, 'min_child_samples': 50}. Best is trial 34 with value: 0.8444444444444444.\u001b[0m\n",
      "c:\\Users\\4iste\\anaconda3\\envs\\pygmo\\lib\\site-packages\\lightgbm\\engine.py:239: UserWarning: 'verbose_eval' argument is deprecated and will be removed in a future release of LightGBM. Pass 'log_evaluation()' callback via 'callbacks' argument instead.\n",
      "  _log_warning(\"'verbose_eval' argument is deprecated and will be removed in a future release of LightGBM. \"\n",
      "\u001b[32m[I 2022-12-20 19:57:31,223]\u001b[0m Trial 66 pruned. Trial was pruned at iteration 10.\u001b[0m\n",
      "\u001b[32m[I 2022-12-20 19:57:31,290]\u001b[0m Trial 67 pruned. Trial was pruned at iteration 10.\u001b[0m\n",
      "\u001b[32m[I 2022-12-20 19:57:31,502]\u001b[0m Trial 68 finished with value: 0.6222222222222222 and parameters: {'bagging_fraction': 0.9450398119321415, 'bagging_freq': 4, 'min_child_samples': 52}. Best is trial 34 with value: 0.8444444444444444.\u001b[0m\n",
      "c:\\Users\\4iste\\anaconda3\\envs\\pygmo\\lib\\site-packages\\lightgbm\\engine.py:239: UserWarning: 'verbose_eval' argument is deprecated and will be removed in a future release of LightGBM. Pass 'log_evaluation()' callback via 'callbacks' argument instead.\n",
      "  _log_warning(\"'verbose_eval' argument is deprecated and will be removed in a future release of LightGBM. \"\n",
      "\u001b[32m[I 2022-12-20 19:57:31,551]\u001b[0m Trial 69 pruned. Trial was pruned at iteration 10.\u001b[0m\n",
      "\u001b[32m[I 2022-12-20 19:57:31,660]\u001b[0m Trial 70 finished with value: 0.6666666666666666 and parameters: {'bagging_fraction': 0.9808154144700822, 'bagging_freq': 6, 'min_child_samples': 65}. Best is trial 34 with value: 0.8444444444444444.\u001b[0m\n",
      "c:\\Users\\4iste\\anaconda3\\envs\\pygmo\\lib\\site-packages\\lightgbm\\engine.py:239: UserWarning: 'verbose_eval' argument is deprecated and will be removed in a future release of LightGBM. Pass 'log_evaluation()' callback via 'callbacks' argument instead.\n",
      "  _log_warning(\"'verbose_eval' argument is deprecated and will be removed in a future release of LightGBM. \"\n",
      "\u001b[32m[I 2022-12-20 19:57:31,702]\u001b[0m Trial 71 pruned. Trial was pruned at iteration 10.\u001b[0m\n",
      "\u001b[32m[I 2022-12-20 19:57:31,740]\u001b[0m Trial 72 pruned. Trial was pruned at iteration 10.\u001b[0m\n",
      "\u001b[32m[I 2022-12-20 19:57:31,863]\u001b[0m Trial 73 finished with value: 0.6888888888888889 and parameters: {'bagging_fraction': 0.6142897881404484, 'bagging_freq': 5, 'min_child_samples': 23}. Best is trial 34 with value: 0.8444444444444444.\u001b[0m\n",
      "c:\\Users\\4iste\\anaconda3\\envs\\pygmo\\lib\\site-packages\\lightgbm\\engine.py:239: UserWarning: 'verbose_eval' argument is deprecated and will be removed in a future release of LightGBM. Pass 'log_evaluation()' callback via 'callbacks' argument instead.\n",
      "  _log_warning(\"'verbose_eval' argument is deprecated and will be removed in a future release of LightGBM. \"\n",
      "\u001b[32m[I 2022-12-20 19:57:31,900]\u001b[0m Trial 74 pruned. Trial was pruned at iteration 10.\u001b[0m\n",
      "\u001b[32m[I 2022-12-20 19:57:31,956]\u001b[0m Trial 75 pruned. Trial was pruned at iteration 10.\u001b[0m\n",
      "\u001b[32m[I 2022-12-20 19:57:31,999]\u001b[0m Trial 76 pruned. Trial was pruned at iteration 11.\u001b[0m\n",
      "\u001b[32m[I 2022-12-20 19:57:32,041]\u001b[0m Trial 77 pruned. Trial was pruned at iteration 10.\u001b[0m\n",
      "\u001b[32m[I 2022-12-20 19:57:32,091]\u001b[0m Trial 78 pruned. Trial was pruned at iteration 10.\u001b[0m\n",
      "\u001b[32m[I 2022-12-20 19:57:32,136]\u001b[0m Trial 79 pruned. Trial was pruned at iteration 10.\u001b[0m\n",
      "\u001b[32m[I 2022-12-20 19:57:32,230]\u001b[0m Trial 80 finished with value: 0.6444444444444445 and parameters: {'bagging_fraction': 0.9571980224669544, 'bagging_freq': 3, 'min_child_samples': 63}. Best is trial 34 with value: 0.8444444444444444.\u001b[0m\n",
      "c:\\Users\\4iste\\anaconda3\\envs\\pygmo\\lib\\site-packages\\lightgbm\\engine.py:239: UserWarning: 'verbose_eval' argument is deprecated and will be removed in a future release of LightGBM. Pass 'log_evaluation()' callback via 'callbacks' argument instead.\n",
      "  _log_warning(\"'verbose_eval' argument is deprecated and will be removed in a future release of LightGBM. \"\n",
      "\u001b[32m[I 2022-12-20 19:57:32,272]\u001b[0m Trial 81 pruned. Trial was pruned at iteration 10.\u001b[0m\n",
      "\u001b[32m[I 2022-12-20 19:57:32,365]\u001b[0m Trial 82 pruned. Trial was pruned at iteration 10.\u001b[0m\n",
      "\u001b[32m[I 2022-12-20 19:57:32,524]\u001b[0m Trial 83 finished with value: 0.7111111111111111 and parameters: {'bagging_fraction': 0.9880317802259588, 'bagging_freq': 6, 'min_child_samples': 47}. Best is trial 34 with value: 0.8444444444444444.\u001b[0m\n",
      "c:\\Users\\4iste\\anaconda3\\envs\\pygmo\\lib\\site-packages\\lightgbm\\engine.py:239: UserWarning: 'verbose_eval' argument is deprecated and will be removed in a future release of LightGBM. Pass 'log_evaluation()' callback via 'callbacks' argument instead.\n",
      "  _log_warning(\"'verbose_eval' argument is deprecated and will be removed in a future release of LightGBM. \"\n",
      "\u001b[32m[I 2022-12-20 19:57:32,564]\u001b[0m Trial 84 pruned. Trial was pruned at iteration 10.\u001b[0m\n",
      "\u001b[32m[I 2022-12-20 19:57:32,684]\u001b[0m Trial 85 finished with value: 0.6444444444444445 and parameters: {'bagging_fraction': 0.7956288210604491, 'bagging_freq': 4, 'min_child_samples': 37}. Best is trial 34 with value: 0.8444444444444444.\u001b[0m\n",
      "c:\\Users\\4iste\\anaconda3\\envs\\pygmo\\lib\\site-packages\\lightgbm\\engine.py:239: UserWarning: 'verbose_eval' argument is deprecated and will be removed in a future release of LightGBM. Pass 'log_evaluation()' callback via 'callbacks' argument instead.\n",
      "  _log_warning(\"'verbose_eval' argument is deprecated and will be removed in a future release of LightGBM. \"\n",
      "\u001b[32m[I 2022-12-20 19:57:32,723]\u001b[0m Trial 86 pruned. Trial was pruned at iteration 10.\u001b[0m\n",
      "\u001b[32m[I 2022-12-20 19:57:32,767]\u001b[0m Trial 87 pruned. Trial was pruned at iteration 10.\u001b[0m\n",
      "\u001b[32m[I 2022-12-20 19:57:32,814]\u001b[0m Trial 88 pruned. Trial was pruned at iteration 10.\u001b[0m\n",
      "\u001b[32m[I 2022-12-20 19:57:32,954]\u001b[0m Trial 89 finished with value: 0.6666666666666666 and parameters: {'bagging_fraction': 0.9538775968804557, 'bagging_freq': 1, 'min_child_samples': 41}. Best is trial 34 with value: 0.8444444444444444.\u001b[0m\n",
      "c:\\Users\\4iste\\anaconda3\\envs\\pygmo\\lib\\site-packages\\lightgbm\\engine.py:239: UserWarning: 'verbose_eval' argument is deprecated and will be removed in a future release of LightGBM. Pass 'log_evaluation()' callback via 'callbacks' argument instead.\n",
      "  _log_warning(\"'verbose_eval' argument is deprecated and will be removed in a future release of LightGBM. \"\n",
      "\u001b[32m[I 2022-12-20 19:57:32,993]\u001b[0m Trial 90 pruned. Trial was pruned at iteration 10.\u001b[0m\n",
      "\u001b[32m[I 2022-12-20 19:57:33,038]\u001b[0m Trial 91 pruned. Trial was pruned at iteration 10.\u001b[0m\n",
      "\u001b[32m[I 2022-12-20 19:57:33,198]\u001b[0m Trial 92 finished with value: 0.7111111111111111 and parameters: {'bagging_fraction': 0.8743177701819174, 'bagging_freq': 5, 'min_child_samples': 14}. Best is trial 34 with value: 0.8444444444444444.\u001b[0m\n",
      "c:\\Users\\4iste\\anaconda3\\envs\\pygmo\\lib\\site-packages\\lightgbm\\engine.py:239: UserWarning: 'verbose_eval' argument is deprecated and will be removed in a future release of LightGBM. Pass 'log_evaluation()' callback via 'callbacks' argument instead.\n",
      "  _log_warning(\"'verbose_eval' argument is deprecated and will be removed in a future release of LightGBM. \"\n",
      "\u001b[32m[I 2022-12-20 19:57:33,254]\u001b[0m Trial 93 pruned. Trial was pruned at iteration 10.\u001b[0m\n",
      "\u001b[32m[I 2022-12-20 19:57:33,348]\u001b[0m Trial 94 pruned. Trial was pruned at iteration 10.\u001b[0m\n",
      "\u001b[32m[I 2022-12-20 19:57:33,495]\u001b[0m Trial 95 finished with value: 0.6222222222222222 and parameters: {'bagging_fraction': 0.8971975563673598, 'bagging_freq': 2, 'min_child_samples': 54}. Best is trial 34 with value: 0.8444444444444444.\u001b[0m\n",
      "c:\\Users\\4iste\\anaconda3\\envs\\pygmo\\lib\\site-packages\\lightgbm\\engine.py:239: UserWarning: 'verbose_eval' argument is deprecated and will be removed in a future release of LightGBM. Pass 'log_evaluation()' callback via 'callbacks' argument instead.\n",
      "  _log_warning(\"'verbose_eval' argument is deprecated and will be removed in a future release of LightGBM. \"\n",
      "\u001b[32m[I 2022-12-20 19:57:33,630]\u001b[0m Trial 96 finished with value: 0.7111111111111111 and parameters: {'bagging_fraction': 0.9772980883021436, 'bagging_freq': 4, 'min_child_samples': 45}. Best is trial 34 with value: 0.8444444444444444.\u001b[0m\n",
      "c:\\Users\\4iste\\anaconda3\\envs\\pygmo\\lib\\site-packages\\lightgbm\\engine.py:239: UserWarning: 'verbose_eval' argument is deprecated and will be removed in a future release of LightGBM. Pass 'log_evaluation()' callback via 'callbacks' argument instead.\n",
      "  _log_warning(\"'verbose_eval' argument is deprecated and will be removed in a future release of LightGBM. \"\n",
      "\u001b[32m[I 2022-12-20 19:57:33,750]\u001b[0m Trial 97 finished with value: 0.6666666666666666 and parameters: {'bagging_fraction': 0.9331456960997762, 'bagging_freq': 3, 'min_child_samples': 58}. Best is trial 34 with value: 0.8444444444444444.\u001b[0m\n",
      "c:\\Users\\4iste\\anaconda3\\envs\\pygmo\\lib\\site-packages\\lightgbm\\engine.py:239: UserWarning: 'verbose_eval' argument is deprecated and will be removed in a future release of LightGBM. Pass 'log_evaluation()' callback via 'callbacks' argument instead.\n",
      "  _log_warning(\"'verbose_eval' argument is deprecated and will be removed in a future release of LightGBM. \"\n",
      "\u001b[32m[I 2022-12-20 19:57:33,796]\u001b[0m Trial 98 pruned. Trial was pruned at iteration 10.\u001b[0m\n",
      "\u001b[32m[I 2022-12-20 19:57:33,854]\u001b[0m Trial 99 pruned. Trial was pruned at iteration 10.\u001b[0m\n"
     ]
    }
   ],
   "source": [
    "study = optuna.create_study(\n",
    "    direction=\"maximize\",\n",
    "    sampler=optuna.samplers.TPESampler(seed=2134),\n",
    "    pruner=optuna.pruners.MedianPruner(n_warmup_steps=10),\n",
    ")\n",
    "study.optimize(objective, n_trials=100, timeout=600)"
   ]
  },
  {
   "cell_type": "code",
   "execution_count": 10,
   "metadata": {},
   "outputs": [
    {
     "data": {
      "application/vnd.plotly.v1+json": {
       "config": {
        "plotlyServerURL": "https://plot.ly"
       },
       "data": [
        {
         "mode": "markers",
         "name": "Objective Value",
         "type": "scatter",
         "x": [
          0,
          1,
          2,
          3,
          4,
          5,
          6,
          7,
          8,
          9,
          10,
          11,
          12,
          13,
          14,
          18,
          21,
          25,
          27,
          31,
          32,
          34,
          40,
          44,
          51,
          52,
          53,
          55,
          56,
          57,
          64,
          65,
          68,
          70,
          73,
          80,
          83,
          85,
          89,
          92,
          95,
          96,
          97
         ],
         "y": [
          0.7333333333333333,
          0.35555555555555557,
          0.4222222222222222,
          0.6666666666666666,
          0.35555555555555557,
          0.4666666666666667,
          0.7111111111111111,
          0.4888888888888889,
          0.4222222222222222,
          0.4888888888888889,
          0.6444444444444445,
          0.7333333333333333,
          0.6444444444444445,
          0.7333333333333333,
          0.6666666666666666,
          0.6888888888888889,
          0.6666666666666666,
          0.7111111111111111,
          0.7333333333333333,
          0.7777777777777778,
          0.7111111111111111,
          0.8444444444444444,
          0.6666666666666666,
          0.7111111111111111,
          0.7333333333333333,
          0.7777777777777778,
          0.6444444444444445,
          0.7333333333333333,
          0.6666666666666666,
          0.6444444444444445,
          0.7111111111111111,
          0.7777777777777778,
          0.6222222222222222,
          0.6666666666666666,
          0.6888888888888889,
          0.6444444444444445,
          0.7111111111111111,
          0.6444444444444445,
          0.6666666666666666,
          0.7111111111111111,
          0.6222222222222222,
          0.7111111111111111,
          0.6666666666666666
         ]
        },
        {
         "name": "Best Value",
         "type": "scatter",
         "x": [
          0,
          1,
          2,
          3,
          4,
          5,
          6,
          7,
          8,
          9,
          10,
          11,
          12,
          13,
          14,
          18,
          21,
          25,
          27,
          31,
          32,
          34,
          40,
          44,
          51,
          52,
          53,
          55,
          56,
          57,
          64,
          65,
          68,
          70,
          73,
          80,
          83,
          85,
          89,
          92,
          95,
          96,
          97
         ],
         "y": [
          0.7333333333333333,
          0.7333333333333333,
          0.7333333333333333,
          0.7333333333333333,
          0.7333333333333333,
          0.7333333333333333,
          0.7333333333333333,
          0.7333333333333333,
          0.7333333333333333,
          0.7333333333333333,
          0.7333333333333333,
          0.7333333333333333,
          0.7333333333333333,
          0.7333333333333333,
          0.7333333333333333,
          0.7333333333333333,
          0.7333333333333333,
          0.7333333333333333,
          0.7333333333333333,
          0.7777777777777778,
          0.7777777777777778,
          0.8444444444444444,
          0.8444444444444444,
          0.8444444444444444,
          0.8444444444444444,
          0.8444444444444444,
          0.8444444444444444,
          0.8444444444444444,
          0.8444444444444444,
          0.8444444444444444,
          0.8444444444444444,
          0.8444444444444444,
          0.8444444444444444,
          0.8444444444444444,
          0.8444444444444444,
          0.8444444444444444,
          0.8444444444444444,
          0.8444444444444444,
          0.8444444444444444,
          0.8444444444444444,
          0.8444444444444444,
          0.8444444444444444,
          0.8444444444444444
         ]
        }
       ],
       "layout": {
        "template": {
         "data": {
          "bar": [
           {
            "error_x": {
             "color": "#2a3f5f"
            },
            "error_y": {
             "color": "#2a3f5f"
            },
            "marker": {
             "line": {
              "color": "#E5ECF6",
              "width": 0.5
             },
             "pattern": {
              "fillmode": "overlay",
              "size": 10,
              "solidity": 0.2
             }
            },
            "type": "bar"
           }
          ],
          "barpolar": [
           {
            "marker": {
             "line": {
              "color": "#E5ECF6",
              "width": 0.5
             },
             "pattern": {
              "fillmode": "overlay",
              "size": 10,
              "solidity": 0.2
             }
            },
            "type": "barpolar"
           }
          ],
          "carpet": [
           {
            "aaxis": {
             "endlinecolor": "#2a3f5f",
             "gridcolor": "white",
             "linecolor": "white",
             "minorgridcolor": "white",
             "startlinecolor": "#2a3f5f"
            },
            "baxis": {
             "endlinecolor": "#2a3f5f",
             "gridcolor": "white",
             "linecolor": "white",
             "minorgridcolor": "white",
             "startlinecolor": "#2a3f5f"
            },
            "type": "carpet"
           }
          ],
          "choropleth": [
           {
            "colorbar": {
             "outlinewidth": 0,
             "ticks": ""
            },
            "type": "choropleth"
           }
          ],
          "contour": [
           {
            "colorbar": {
             "outlinewidth": 0,
             "ticks": ""
            },
            "colorscale": [
             [
              0,
              "#0d0887"
             ],
             [
              0.1111111111111111,
              "#46039f"
             ],
             [
              0.2222222222222222,
              "#7201a8"
             ],
             [
              0.3333333333333333,
              "#9c179e"
             ],
             [
              0.4444444444444444,
              "#bd3786"
             ],
             [
              0.5555555555555556,
              "#d8576b"
             ],
             [
              0.6666666666666666,
              "#ed7953"
             ],
             [
              0.7777777777777778,
              "#fb9f3a"
             ],
             [
              0.8888888888888888,
              "#fdca26"
             ],
             [
              1,
              "#f0f921"
             ]
            ],
            "type": "contour"
           }
          ],
          "contourcarpet": [
           {
            "colorbar": {
             "outlinewidth": 0,
             "ticks": ""
            },
            "type": "contourcarpet"
           }
          ],
          "heatmap": [
           {
            "colorbar": {
             "outlinewidth": 0,
             "ticks": ""
            },
            "colorscale": [
             [
              0,
              "#0d0887"
             ],
             [
              0.1111111111111111,
              "#46039f"
             ],
             [
              0.2222222222222222,
              "#7201a8"
             ],
             [
              0.3333333333333333,
              "#9c179e"
             ],
             [
              0.4444444444444444,
              "#bd3786"
             ],
             [
              0.5555555555555556,
              "#d8576b"
             ],
             [
              0.6666666666666666,
              "#ed7953"
             ],
             [
              0.7777777777777778,
              "#fb9f3a"
             ],
             [
              0.8888888888888888,
              "#fdca26"
             ],
             [
              1,
              "#f0f921"
             ]
            ],
            "type": "heatmap"
           }
          ],
          "heatmapgl": [
           {
            "colorbar": {
             "outlinewidth": 0,
             "ticks": ""
            },
            "colorscale": [
             [
              0,
              "#0d0887"
             ],
             [
              0.1111111111111111,
              "#46039f"
             ],
             [
              0.2222222222222222,
              "#7201a8"
             ],
             [
              0.3333333333333333,
              "#9c179e"
             ],
             [
              0.4444444444444444,
              "#bd3786"
             ],
             [
              0.5555555555555556,
              "#d8576b"
             ],
             [
              0.6666666666666666,
              "#ed7953"
             ],
             [
              0.7777777777777778,
              "#fb9f3a"
             ],
             [
              0.8888888888888888,
              "#fdca26"
             ],
             [
              1,
              "#f0f921"
             ]
            ],
            "type": "heatmapgl"
           }
          ],
          "histogram": [
           {
            "marker": {
             "pattern": {
              "fillmode": "overlay",
              "size": 10,
              "solidity": 0.2
             }
            },
            "type": "histogram"
           }
          ],
          "histogram2d": [
           {
            "colorbar": {
             "outlinewidth": 0,
             "ticks": ""
            },
            "colorscale": [
             [
              0,
              "#0d0887"
             ],
             [
              0.1111111111111111,
              "#46039f"
             ],
             [
              0.2222222222222222,
              "#7201a8"
             ],
             [
              0.3333333333333333,
              "#9c179e"
             ],
             [
              0.4444444444444444,
              "#bd3786"
             ],
             [
              0.5555555555555556,
              "#d8576b"
             ],
             [
              0.6666666666666666,
              "#ed7953"
             ],
             [
              0.7777777777777778,
              "#fb9f3a"
             ],
             [
              0.8888888888888888,
              "#fdca26"
             ],
             [
              1,
              "#f0f921"
             ]
            ],
            "type": "histogram2d"
           }
          ],
          "histogram2dcontour": [
           {
            "colorbar": {
             "outlinewidth": 0,
             "ticks": ""
            },
            "colorscale": [
             [
              0,
              "#0d0887"
             ],
             [
              0.1111111111111111,
              "#46039f"
             ],
             [
              0.2222222222222222,
              "#7201a8"
             ],
             [
              0.3333333333333333,
              "#9c179e"
             ],
             [
              0.4444444444444444,
              "#bd3786"
             ],
             [
              0.5555555555555556,
              "#d8576b"
             ],
             [
              0.6666666666666666,
              "#ed7953"
             ],
             [
              0.7777777777777778,
              "#fb9f3a"
             ],
             [
              0.8888888888888888,
              "#fdca26"
             ],
             [
              1,
              "#f0f921"
             ]
            ],
            "type": "histogram2dcontour"
           }
          ],
          "mesh3d": [
           {
            "colorbar": {
             "outlinewidth": 0,
             "ticks": ""
            },
            "type": "mesh3d"
           }
          ],
          "parcoords": [
           {
            "line": {
             "colorbar": {
              "outlinewidth": 0,
              "ticks": ""
             }
            },
            "type": "parcoords"
           }
          ],
          "pie": [
           {
            "automargin": true,
            "type": "pie"
           }
          ],
          "scatter": [
           {
            "fillpattern": {
             "fillmode": "overlay",
             "size": 10,
             "solidity": 0.2
            },
            "type": "scatter"
           }
          ],
          "scatter3d": [
           {
            "line": {
             "colorbar": {
              "outlinewidth": 0,
              "ticks": ""
             }
            },
            "marker": {
             "colorbar": {
              "outlinewidth": 0,
              "ticks": ""
             }
            },
            "type": "scatter3d"
           }
          ],
          "scattercarpet": [
           {
            "marker": {
             "colorbar": {
              "outlinewidth": 0,
              "ticks": ""
             }
            },
            "type": "scattercarpet"
           }
          ],
          "scattergeo": [
           {
            "marker": {
             "colorbar": {
              "outlinewidth": 0,
              "ticks": ""
             }
            },
            "type": "scattergeo"
           }
          ],
          "scattergl": [
           {
            "marker": {
             "colorbar": {
              "outlinewidth": 0,
              "ticks": ""
             }
            },
            "type": "scattergl"
           }
          ],
          "scattermapbox": [
           {
            "marker": {
             "colorbar": {
              "outlinewidth": 0,
              "ticks": ""
             }
            },
            "type": "scattermapbox"
           }
          ],
          "scatterpolar": [
           {
            "marker": {
             "colorbar": {
              "outlinewidth": 0,
              "ticks": ""
             }
            },
            "type": "scatterpolar"
           }
          ],
          "scatterpolargl": [
           {
            "marker": {
             "colorbar": {
              "outlinewidth": 0,
              "ticks": ""
             }
            },
            "type": "scatterpolargl"
           }
          ],
          "scatterternary": [
           {
            "marker": {
             "colorbar": {
              "outlinewidth": 0,
              "ticks": ""
             }
            },
            "type": "scatterternary"
           }
          ],
          "surface": [
           {
            "colorbar": {
             "outlinewidth": 0,
             "ticks": ""
            },
            "colorscale": [
             [
              0,
              "#0d0887"
             ],
             [
              0.1111111111111111,
              "#46039f"
             ],
             [
              0.2222222222222222,
              "#7201a8"
             ],
             [
              0.3333333333333333,
              "#9c179e"
             ],
             [
              0.4444444444444444,
              "#bd3786"
             ],
             [
              0.5555555555555556,
              "#d8576b"
             ],
             [
              0.6666666666666666,
              "#ed7953"
             ],
             [
              0.7777777777777778,
              "#fb9f3a"
             ],
             [
              0.8888888888888888,
              "#fdca26"
             ],
             [
              1,
              "#f0f921"
             ]
            ],
            "type": "surface"
           }
          ],
          "table": [
           {
            "cells": {
             "fill": {
              "color": "#EBF0F8"
             },
             "line": {
              "color": "white"
             }
            },
            "header": {
             "fill": {
              "color": "#C8D4E3"
             },
             "line": {
              "color": "white"
             }
            },
            "type": "table"
           }
          ]
         },
         "layout": {
          "annotationdefaults": {
           "arrowcolor": "#2a3f5f",
           "arrowhead": 0,
           "arrowwidth": 1
          },
          "autotypenumbers": "strict",
          "coloraxis": {
           "colorbar": {
            "outlinewidth": 0,
            "ticks": ""
           }
          },
          "colorscale": {
           "diverging": [
            [
             0,
             "#8e0152"
            ],
            [
             0.1,
             "#c51b7d"
            ],
            [
             0.2,
             "#de77ae"
            ],
            [
             0.3,
             "#f1b6da"
            ],
            [
             0.4,
             "#fde0ef"
            ],
            [
             0.5,
             "#f7f7f7"
            ],
            [
             0.6,
             "#e6f5d0"
            ],
            [
             0.7,
             "#b8e186"
            ],
            [
             0.8,
             "#7fbc41"
            ],
            [
             0.9,
             "#4d9221"
            ],
            [
             1,
             "#276419"
            ]
           ],
           "sequential": [
            [
             0,
             "#0d0887"
            ],
            [
             0.1111111111111111,
             "#46039f"
            ],
            [
             0.2222222222222222,
             "#7201a8"
            ],
            [
             0.3333333333333333,
             "#9c179e"
            ],
            [
             0.4444444444444444,
             "#bd3786"
            ],
            [
             0.5555555555555556,
             "#d8576b"
            ],
            [
             0.6666666666666666,
             "#ed7953"
            ],
            [
             0.7777777777777778,
             "#fb9f3a"
            ],
            [
             0.8888888888888888,
             "#fdca26"
            ],
            [
             1,
             "#f0f921"
            ]
           ],
           "sequentialminus": [
            [
             0,
             "#0d0887"
            ],
            [
             0.1111111111111111,
             "#46039f"
            ],
            [
             0.2222222222222222,
             "#7201a8"
            ],
            [
             0.3333333333333333,
             "#9c179e"
            ],
            [
             0.4444444444444444,
             "#bd3786"
            ],
            [
             0.5555555555555556,
             "#d8576b"
            ],
            [
             0.6666666666666666,
             "#ed7953"
            ],
            [
             0.7777777777777778,
             "#fb9f3a"
            ],
            [
             0.8888888888888888,
             "#fdca26"
            ],
            [
             1,
             "#f0f921"
            ]
           ]
          },
          "colorway": [
           "#636efa",
           "#EF553B",
           "#00cc96",
           "#ab63fa",
           "#FFA15A",
           "#19d3f3",
           "#FF6692",
           "#B6E880",
           "#FF97FF",
           "#FECB52"
          ],
          "font": {
           "color": "#2a3f5f"
          },
          "geo": {
           "bgcolor": "white",
           "lakecolor": "white",
           "landcolor": "#E5ECF6",
           "showlakes": true,
           "showland": true,
           "subunitcolor": "white"
          },
          "hoverlabel": {
           "align": "left"
          },
          "hovermode": "closest",
          "mapbox": {
           "style": "light"
          },
          "paper_bgcolor": "white",
          "plot_bgcolor": "#E5ECF6",
          "polar": {
           "angularaxis": {
            "gridcolor": "white",
            "linecolor": "white",
            "ticks": ""
           },
           "bgcolor": "#E5ECF6",
           "radialaxis": {
            "gridcolor": "white",
            "linecolor": "white",
            "ticks": ""
           }
          },
          "scene": {
           "xaxis": {
            "backgroundcolor": "#E5ECF6",
            "gridcolor": "white",
            "gridwidth": 2,
            "linecolor": "white",
            "showbackground": true,
            "ticks": "",
            "zerolinecolor": "white"
           },
           "yaxis": {
            "backgroundcolor": "#E5ECF6",
            "gridcolor": "white",
            "gridwidth": 2,
            "linecolor": "white",
            "showbackground": true,
            "ticks": "",
            "zerolinecolor": "white"
           },
           "zaxis": {
            "backgroundcolor": "#E5ECF6",
            "gridcolor": "white",
            "gridwidth": 2,
            "linecolor": "white",
            "showbackground": true,
            "ticks": "",
            "zerolinecolor": "white"
           }
          },
          "shapedefaults": {
           "line": {
            "color": "#2a3f5f"
           }
          },
          "ternary": {
           "aaxis": {
            "gridcolor": "white",
            "linecolor": "white",
            "ticks": ""
           },
           "baxis": {
            "gridcolor": "white",
            "linecolor": "white",
            "ticks": ""
           },
           "bgcolor": "#E5ECF6",
           "caxis": {
            "gridcolor": "white",
            "linecolor": "white",
            "ticks": ""
           }
          },
          "title": {
           "x": 0.05
          },
          "xaxis": {
           "automargin": true,
           "gridcolor": "white",
           "linecolor": "white",
           "ticks": "",
           "title": {
            "standoff": 15
           },
           "zerolinecolor": "white",
           "zerolinewidth": 2
          },
          "yaxis": {
           "automargin": true,
           "gridcolor": "white",
           "linecolor": "white",
           "ticks": "",
           "title": {
            "standoff": 15
           },
           "zerolinecolor": "white",
           "zerolinewidth": 2
          }
         }
        },
        "title": {
         "text": "Optimization History Plot"
        },
        "xaxis": {
         "title": {
          "text": "Trial"
         }
        },
        "yaxis": {
         "title": {
          "text": "Objective Value"
         }
        }
       }
      }
     },
     "metadata": {},
     "output_type": "display_data"
    }
   ],
   "source": [
    "plot_optimization_history(study)"
   ]
  },
  {
   "cell_type": "code",
   "execution_count": 11,
   "metadata": {},
   "outputs": [
    {
     "data": {
      "application/vnd.plotly.v1+json": {
       "config": {
        "plotlyServerURL": "https://plot.ly"
       },
       "data": [
        {
         "marker": {
          "maxdisplayed": 10
         },
         "mode": "lines+markers",
         "name": "Trial0",
         "type": "scatter",
         "x": [
          0,
          1,
          2,
          3,
          4,
          5,
          6,
          7,
          8,
          9,
          10,
          11,
          12,
          13,
          14,
          15,
          16,
          17,
          18,
          19,
          20,
          21,
          22,
          23,
          24,
          25,
          26,
          27,
          28,
          29,
          30,
          31,
          32,
          33,
          34,
          35,
          36,
          37,
          38,
          39,
          40,
          41,
          42,
          43,
          44,
          45,
          46,
          47,
          48,
          49,
          50,
          51,
          52,
          53,
          54,
          55,
          56,
          57,
          58,
          59,
          60,
          61,
          62,
          63,
          64,
          65,
          66,
          67,
          68,
          69,
          70,
          71,
          72,
          73,
          74,
          75,
          76,
          77,
          78,
          79,
          80,
          81,
          82,
          83,
          84,
          85,
          86,
          87,
          88,
          89,
          90,
          91,
          92,
          93,
          94,
          95,
          96,
          97,
          98,
          99
         ],
         "y": [
          0.8846153846153846,
          1,
          1,
          1,
          1,
          1,
          1,
          1,
          1,
          1,
          1,
          1,
          1,
          1,
          1,
          1,
          1,
          1,
          1,
          1,
          1,
          1,
          1,
          1,
          1,
          1,
          1,
          1,
          1,
          1,
          1,
          1,
          1,
          1,
          1,
          1,
          1,
          1,
          1,
          1,
          1,
          1,
          1,
          1,
          1,
          1,
          1,
          1,
          1,
          1,
          1,
          1,
          1,
          1,
          1,
          1,
          1,
          1,
          1,
          1,
          1,
          1,
          1,
          1,
          1,
          1,
          1,
          1,
          1,
          1,
          1,
          1,
          1,
          1,
          1,
          1,
          1,
          1,
          1,
          1,
          1,
          1,
          1,
          1,
          1,
          1,
          1,
          1,
          1,
          1,
          1,
          1,
          1,
          1,
          1,
          1,
          1,
          1,
          1,
          1
         ]
        },
        {
         "marker": {
          "maxdisplayed": 10
         },
         "mode": "lines+markers",
         "name": "Trial1",
         "type": "scatter",
         "x": [
          0,
          1,
          2,
          3,
          4,
          5,
          6,
          7,
          8,
          9,
          10,
          11,
          12,
          13,
          14,
          15,
          16,
          17,
          18,
          19,
          20,
          21,
          22,
          23,
          24,
          25,
          26,
          27,
          28,
          29,
          30,
          31,
          32,
          33,
          34,
          35,
          36,
          37,
          38,
          39,
          40,
          41,
          42,
          43,
          44,
          45,
          46,
          47,
          48,
          49,
          50,
          51,
          52,
          53,
          54,
          55,
          56,
          57,
          58,
          59,
          60,
          61,
          62,
          63,
          64,
          65,
          66,
          67,
          68,
          69,
          70,
          71,
          72,
          73,
          74,
          75,
          76,
          77,
          78,
          79,
          80,
          81,
          82,
          83,
          84,
          85,
          86,
          87,
          88,
          89,
          90,
          91,
          92,
          93,
          94,
          95,
          96,
          97,
          98,
          99
         ],
         "y": [
          0.5,
          0.5,
          0.5,
          0.5,
          0.5,
          0.5,
          0.5,
          0.5,
          0.5,
          0.5,
          0.5,
          0.5,
          0.5,
          0.5,
          0.5,
          0.5,
          0.5,
          0.5,
          0.5,
          0.5,
          0.5,
          0.5,
          0.5,
          0.5,
          0.5,
          0.5,
          0.5,
          0.5,
          0.5,
          0.5,
          0.5,
          0.5,
          0.5,
          0.5,
          0.5,
          0.5,
          0.5,
          0.5,
          0.5,
          0.5,
          0.5,
          0.5,
          0.5,
          0.5,
          0.5,
          0.5,
          0.5,
          0.5,
          0.5,
          0.5,
          0.5,
          0.5,
          0.5,
          0.5,
          0.5,
          0.5,
          0.5,
          0.5,
          0.5,
          0.5,
          0.5,
          0.5,
          0.5,
          0.5,
          0.5,
          0.5,
          0.5,
          0.5,
          0.5,
          0.5,
          0.5,
          0.5,
          0.5,
          0.5,
          0.5,
          0.5,
          0.5,
          0.5,
          0.5,
          0.5,
          0.5,
          0.5,
          0.5,
          0.5,
          0.5,
          0.5,
          0.5,
          0.5,
          0.5,
          0.5,
          0.5,
          0.5,
          0.5,
          0.5,
          0.5,
          0.5,
          0.5,
          0.5,
          0.5,
          0.5
         ]
        },
        {
         "marker": {
          "maxdisplayed": 10
         },
         "mode": "lines+markers",
         "name": "Trial2",
         "type": "scatter",
         "x": [
          0,
          1,
          2,
          3,
          4,
          5,
          6,
          7,
          8,
          9,
          10,
          11,
          12,
          13,
          14,
          15,
          16,
          17,
          18,
          19,
          20,
          21,
          22,
          23,
          24,
          25,
          26,
          27,
          28,
          29,
          30,
          31,
          32,
          33,
          34,
          35,
          36,
          37,
          38,
          39,
          40,
          41,
          42,
          43,
          44,
          45,
          46,
          47,
          48,
          49,
          50,
          51,
          52,
          53,
          54,
          55,
          56,
          57,
          58,
          59,
          60,
          61,
          62,
          63,
          64,
          65,
          66,
          67,
          68,
          69,
          70,
          71,
          72,
          73,
          74,
          75,
          76,
          77,
          78,
          79,
          80,
          81,
          82,
          83,
          84,
          85,
          86,
          87,
          88,
          89,
          90,
          91,
          92,
          93,
          94,
          95,
          96,
          97,
          98,
          99
         ],
         "y": [
          0.5,
          0.5,
          0.5,
          0.5,
          0.5,
          0.5,
          0.5,
          0.5,
          0.5,
          0.5,
          0.5,
          0.5,
          0.5,
          0.5,
          0.5,
          0.5,
          0.5,
          0.5,
          0.5,
          0.5,
          0.5,
          0.5,
          0.5,
          0.5,
          0.5,
          0.5,
          0.5,
          0.5,
          0.5,
          0.5,
          0.5,
          0.5,
          0.5,
          0.5,
          0.5,
          0.5,
          0.5,
          0.5,
          0.5,
          0.5,
          0.5,
          0.5,
          0.5,
          0.5,
          0.5,
          0.5,
          0.5,
          0.5,
          0.5,
          0.5,
          0.5,
          0.5,
          0.5,
          0.5,
          0.5,
          0.5,
          0.5,
          0.5,
          0.5,
          0.5,
          0.5,
          0.5,
          0.5,
          0.5,
          0.5,
          0.5,
          0.5,
          0.5,
          0.5,
          0.5,
          0.5,
          0.5,
          0.5,
          0.5,
          0.5,
          0.5,
          0.5,
          0.5,
          0.5,
          0.5,
          0.5,
          0.5,
          0.5,
          0.5,
          0.5,
          0.5,
          0.5,
          0.5,
          0.5,
          0.5,
          0.5,
          0.5,
          0.5,
          0.5,
          0.5,
          0.5,
          0.5,
          0.5,
          0.5,
          0.5
         ]
        },
        {
         "marker": {
          "maxdisplayed": 10
         },
         "mode": "lines+markers",
         "name": "Trial3",
         "type": "scatter",
         "x": [
          0,
          1,
          2,
          3,
          4,
          5,
          6,
          7,
          8,
          9,
          10,
          11,
          12,
          13,
          14,
          15,
          16,
          17,
          18,
          19,
          20,
          21,
          22,
          23,
          24,
          25,
          26,
          27,
          28,
          29,
          30,
          31,
          32,
          33,
          34,
          35,
          36,
          37,
          38,
          39,
          40,
          41,
          42,
          43,
          44,
          45,
          46,
          47,
          48,
          49,
          50,
          51,
          52,
          53,
          54,
          55,
          56,
          57,
          58,
          59,
          60,
          61,
          62,
          63,
          64,
          65,
          66,
          67,
          68,
          69,
          70,
          71,
          72,
          73,
          74,
          75,
          76,
          77,
          78,
          79,
          80,
          81,
          82,
          83,
          84,
          85,
          86,
          87,
          88,
          89,
          90,
          91,
          92,
          93,
          94,
          95,
          96,
          97,
          98,
          99
         ],
         "y": [
          0.8179012345679012,
          0.8179012345679012,
          0.8179012345679012,
          0.9094650205761317,
          0.9094650205761317,
          0.911522633744856,
          0.9135802469135802,
          0.9362139917695473,
          0.9300411522633745,
          0.9362139917695473,
          0.9362139917695473,
          0.948559670781893,
          0.9506172839506173,
          0.9506172839506173,
          0.948559670781893,
          0.9938271604938271,
          0.9938271604938271,
          0.9938271604938271,
          0.9938271604938271,
          0.9938271604938271,
          0.9938271604938271,
          0.9938271604938271,
          0.9938271604938271,
          0.9938271604938271,
          0.9979423868312757,
          1,
          0.9979423868312757,
          0.9979423868312757,
          0.9979423868312757,
          0.9979423868312757,
          0.9979423868312757,
          0.9979423868312757,
          0.9979423868312757,
          0.9979423868312757,
          0.9979423868312757,
          0.9979423868312757,
          0.9979423868312757,
          0.9979423868312757,
          0.9979423868312757,
          0.9979423868312757,
          0.9979423868312757,
          0.9979423868312757,
          0.9979423868312757,
          0.9979423868312757,
          1,
          1,
          1,
          1,
          1,
          1,
          1,
          1,
          1,
          1,
          1,
          1,
          1,
          1,
          1,
          1,
          1,
          1,
          1,
          1,
          1,
          1,
          1,
          1,
          1,
          1,
          1,
          1,
          1,
          1,
          1,
          1,
          1,
          1,
          1,
          1,
          1,
          1,
          1,
          1,
          1,
          1,
          1,
          1,
          1,
          1,
          1,
          1,
          1,
          1,
          1,
          1,
          1,
          1,
          1,
          1
         ]
        },
        {
         "marker": {
          "maxdisplayed": 10
         },
         "mode": "lines+markers",
         "name": "Trial4",
         "type": "scatter",
         "x": [
          0,
          1,
          2,
          3,
          4,
          5,
          6,
          7,
          8,
          9,
          10,
          11,
          12,
          13,
          14,
          15,
          16,
          17,
          18,
          19,
          20,
          21,
          22,
          23,
          24,
          25,
          26,
          27,
          28,
          29,
          30,
          31,
          32,
          33,
          34,
          35,
          36,
          37,
          38,
          39,
          40,
          41,
          42,
          43,
          44,
          45,
          46,
          47,
          48,
          49,
          50,
          51,
          52,
          53,
          54,
          55,
          56,
          57,
          58,
          59,
          60,
          61,
          62,
          63,
          64,
          65,
          66,
          67,
          68,
          69,
          70,
          71,
          72,
          73,
          74,
          75,
          76,
          77,
          78,
          79,
          80,
          81,
          82,
          83,
          84,
          85,
          86,
          87,
          88,
          89,
          90,
          91,
          92,
          93,
          94,
          95,
          96,
          97,
          98,
          99
         ],
         "y": [
          0.5,
          0.5,
          0.5,
          0.5,
          0.5,
          0.5,
          0.5,
          0.5,
          0.5,
          0.5,
          0.5,
          0.5,
          0.5,
          0.5,
          0.5,
          0.5,
          0.5,
          0.5,
          0.5,
          0.5,
          0.5,
          0.5,
          0.5,
          0.5,
          0.5,
          0.5,
          0.5,
          0.5,
          0.5,
          0.5,
          0.5,
          0.5,
          0.5,
          0.5,
          0.5,
          0.5,
          0.5,
          0.5,
          0.5,
          0.5,
          0.5,
          0.5,
          0.5,
          0.5,
          0.5,
          0.5,
          0.5,
          0.5,
          0.5,
          0.5,
          0.5,
          0.5,
          0.5,
          0.5,
          0.5,
          0.5,
          0.5,
          0.5,
          0.5,
          0.5,
          0.5,
          0.5,
          0.5,
          0.5,
          0.5,
          0.5,
          0.5,
          0.5,
          0.5,
          0.5,
          0.5,
          0.5,
          0.5,
          0.5,
          0.5,
          0.5,
          0.5,
          0.5,
          0.5,
          0.5,
          0.5,
          0.5,
          0.5,
          0.5,
          0.5,
          0.5,
          0.5,
          0.5,
          0.5,
          0.5,
          0.5,
          0.5,
          0.5,
          0.5,
          0.5,
          0.5,
          0.5,
          0.5,
          0.5,
          0.5
         ]
        },
        {
         "marker": {
          "maxdisplayed": 10
         },
         "mode": "lines+markers",
         "name": "Trial5",
         "type": "scatter",
         "x": [
          0,
          1,
          2,
          3,
          4,
          5,
          6,
          7,
          8,
          9,
          10,
          11,
          12,
          13,
          14,
          15,
          16,
          17,
          18,
          19,
          20,
          21,
          22,
          23,
          24,
          25,
          26,
          27,
          28,
          29,
          30,
          31,
          32,
          33,
          34,
          35,
          36,
          37,
          38,
          39,
          40,
          41,
          42,
          43,
          44,
          45,
          46,
          47,
          48,
          49,
          50,
          51,
          52,
          53,
          54,
          55,
          56,
          57,
          58,
          59,
          60,
          61,
          62,
          63,
          64,
          65,
          66,
          67,
          68,
          69,
          70,
          71,
          72,
          73,
          74,
          75,
          76,
          77,
          78,
          79,
          80,
          81,
          82,
          83,
          84,
          85,
          86,
          87,
          88,
          89,
          90,
          91,
          92,
          93,
          94,
          95,
          96,
          97,
          98,
          99
         ],
         "y": [
          0.5,
          0.5,
          0.5,
          0.5,
          0.5,
          0.5,
          0.5,
          0.5,
          0.5,
          0.5,
          0.5,
          0.5,
          0.5,
          0.5,
          0.5,
          0.5,
          0.5,
          0.5,
          0.5,
          0.5,
          0.5,
          0.5,
          0.5,
          0.5,
          0.5,
          0.5,
          0.5,
          0.5,
          0.5,
          0.5,
          0.5,
          0.5,
          0.5,
          0.5,
          0.5,
          0.5,
          0.5,
          0.5,
          0.5,
          0.5,
          0.5,
          0.5,
          0.5,
          0.5,
          0.5,
          0.5,
          0.5,
          0.5,
          0.5,
          0.5,
          0.5,
          0.5,
          0.5,
          0.5,
          0.5,
          0.5,
          0.5,
          0.5,
          0.5,
          0.5,
          0.5,
          0.5,
          0.5,
          0.5,
          0.5,
          0.5,
          0.5,
          0.5,
          0.5,
          0.5,
          0.5,
          0.5,
          0.5,
          0.5,
          0.5,
          0.5,
          0.5,
          0.5,
          0.5,
          0.5,
          0.5,
          0.5,
          0.5,
          0.5,
          0.5,
          0.5,
          0.5,
          0.5,
          0.5,
          0.5,
          0.5,
          0.5,
          0.5,
          0.5,
          0.5,
          0.5,
          0.5,
          0.5,
          0.5,
          0.5
         ]
        },
        {
         "marker": {
          "maxdisplayed": 10
         },
         "mode": "lines+markers",
         "name": "Trial6",
         "type": "scatter",
         "x": [
          0,
          1,
          2,
          3,
          4,
          5,
          6,
          7,
          8,
          9,
          10,
          11,
          12,
          13,
          14,
          15,
          16,
          17,
          18,
          19,
          20,
          21,
          22,
          23,
          24,
          25,
          26,
          27,
          28,
          29,
          30,
          31,
          32,
          33,
          34,
          35,
          36,
          37,
          38,
          39,
          40,
          41,
          42,
          43,
          44,
          45,
          46,
          47,
          48,
          49,
          50,
          51,
          52,
          53,
          54,
          55,
          56,
          57,
          58,
          59,
          60,
          61,
          62,
          63,
          64,
          65,
          66,
          67,
          68,
          69,
          70,
          71,
          72,
          73,
          74,
          75,
          76,
          77,
          78,
          79,
          80,
          81,
          82,
          83,
          84,
          85,
          86,
          87,
          88,
          89,
          90,
          91,
          92,
          93,
          94,
          95,
          96,
          97,
          98,
          99
         ],
         "y": [
          0.921875,
          0.984375,
          0.9759615384615384,
          0.9759615384615384,
          0.9759615384615384,
          0.9759615384615384,
          0.9735576923076923,
          0.9807692307692307,
          0.9735576923076923,
          0.9807692307692307,
          0.9807692307692307,
          0.9807692307692307,
          0.9711538461538461,
          0.9711538461538461,
          0.9711538461538461,
          0.9711538461538461,
          0.9711538461538461,
          0.9711538461538461,
          0.9711538461538461,
          0.9711538461538461,
          0.9795673076923077,
          0.9795673076923077,
          0.9795673076923077,
          0.9867788461538461,
          0.9795673076923077,
          0.9795673076923077,
          0.9795673076923077,
          0.9795673076923077,
          0.9831730769230769,
          0.9831730769230769,
          0.9831730769230769,
          0.9831730769230769,
          0.9831730769230769,
          0.9831730769230769,
          0.9855769230769231,
          0.9855769230769231,
          0.9927884615384616,
          0.9927884615384616,
          0.9927884615384616,
          0.9927884615384616,
          0.9927884615384616,
          0.9927884615384616,
          0.9927884615384616,
          0.9927884615384616,
          0.9927884615384616,
          0.9927884615384616,
          0.9927884615384616,
          0.9927884615384616,
          0.9927884615384616,
          0.9927884615384616,
          0.9903846153846154,
          0.9927884615384616,
          0.9927884615384616,
          0.9903846153846154,
          0.9879807692307693,
          0.9855769230769231,
          0.9879807692307693,
          0.9879807692307693,
          0.9879807692307693,
          0.9879807692307693,
          0.9879807692307693,
          0.9879807692307693,
          0.9879807692307693,
          0.9879807692307693,
          0.9903846153846154,
          0.9903846153846154,
          0.9903846153846154,
          0.9903846153846154,
          0.9903846153846154,
          0.9903846153846154,
          0.9903846153846154,
          0.9903846153846154,
          0.9879807692307693,
          0.9903846153846154,
          0.9879807692307693,
          0.9903846153846154,
          0.9927884615384616,
          0.9903846153846154,
          0.9903846153846154,
          0.9903846153846154,
          0.9903846153846154,
          0.9903846153846154,
          0.9903846153846154,
          0.9903846153846154,
          0.9903846153846154,
          0.9903846153846154,
          0.9903846153846154,
          0.9903846153846154,
          0.9903846153846154,
          0.9903846153846154,
          0.9903846153846154,
          0.9903846153846154,
          0.9927884615384616,
          0.9927884615384616,
          0.9927884615384616,
          0.9927884615384616,
          0.9903846153846154,
          0.9903846153846154,
          0.9903846153846154,
          0.9903846153846154
         ]
        },
        {
         "marker": {
          "maxdisplayed": 10
         },
         "mode": "lines+markers",
         "name": "Trial7",
         "type": "scatter",
         "x": [
          0,
          1,
          2,
          3,
          4,
          5,
          6,
          7,
          8,
          9,
          10,
          11,
          12,
          13,
          14,
          15,
          16,
          17,
          18,
          19,
          20,
          21,
          22,
          23,
          24,
          25,
          26,
          27,
          28,
          29,
          30,
          31,
          32,
          33,
          34,
          35,
          36,
          37,
          38,
          39,
          40,
          41,
          42,
          43,
          44,
          45,
          46,
          47,
          48,
          49,
          50,
          51,
          52,
          53,
          54,
          55,
          56,
          57,
          58,
          59,
          60,
          61,
          62,
          63,
          64,
          65,
          66,
          67,
          68,
          69,
          70,
          71,
          72,
          73,
          74,
          75,
          76,
          77,
          78,
          79,
          80,
          81,
          82,
          83,
          84,
          85,
          86,
          87,
          88,
          89,
          90,
          91,
          92,
          93,
          94,
          95,
          96,
          97,
          98,
          99
         ],
         "y": [
          0.5,
          0.5,
          0.5,
          0.5,
          0.5,
          0.5,
          0.5,
          0.5,
          0.5,
          0.5,
          0.5,
          0.5,
          0.5,
          0.5,
          0.5,
          0.5,
          0.5,
          0.5,
          0.5,
          0.5,
          0.5,
          0.5,
          0.5,
          0.5,
          0.5,
          0.5,
          0.5,
          0.5,
          0.5,
          0.5,
          0.5,
          0.5,
          0.5,
          0.5,
          0.5,
          0.5,
          0.5,
          0.5,
          0.5,
          0.5,
          0.5,
          0.5,
          0.5,
          0.5,
          0.5,
          0.5,
          0.5,
          0.5,
          0.5,
          0.5,
          0.5,
          0.5,
          0.5,
          0.5,
          0.5,
          0.5,
          0.5,
          0.5,
          0.5,
          0.5,
          0.5,
          0.5,
          0.5,
          0.5,
          0.5,
          0.5,
          0.5,
          0.5,
          0.5,
          0.5,
          0.5,
          0.5,
          0.5,
          0.5,
          0.5,
          0.5,
          0.5,
          0.5,
          0.5,
          0.5,
          0.5,
          0.5,
          0.5,
          0.5,
          0.5,
          0.5,
          0.5,
          0.5,
          0.5,
          0.5,
          0.5,
          0.5,
          0.5,
          0.5,
          0.5,
          0.5,
          0.5,
          0.5,
          0.5,
          0.5
         ]
        },
        {
         "marker": {
          "maxdisplayed": 10
         },
         "mode": "lines+markers",
         "name": "Trial8",
         "type": "scatter",
         "x": [
          0,
          1,
          2,
          3,
          4,
          5,
          6,
          7,
          8,
          9,
          10,
          11,
          12,
          13,
          14,
          15,
          16,
          17,
          18,
          19,
          20,
          21,
          22,
          23,
          24,
          25,
          26,
          27,
          28,
          29,
          30,
          31,
          32,
          33,
          34,
          35,
          36,
          37,
          38,
          39,
          40,
          41,
          42,
          43,
          44,
          45,
          46,
          47,
          48,
          49,
          50,
          51,
          52,
          53,
          54,
          55,
          56,
          57,
          58,
          59,
          60,
          61,
          62,
          63,
          64,
          65,
          66,
          67,
          68,
          69,
          70,
          71,
          72,
          73,
          74,
          75,
          76,
          77,
          78,
          79,
          80,
          81,
          82,
          83,
          84,
          85,
          86,
          87,
          88,
          89,
          90,
          91,
          92,
          93,
          94,
          95,
          96,
          97,
          98,
          99
         ],
         "y": [
          0.5,
          0.5,
          0.5,
          0.5,
          0.5,
          0.5,
          0.5,
          0.5,
          0.5,
          0.5,
          0.5,
          0.5,
          0.5,
          0.5,
          0.5,
          0.5,
          0.5,
          0.5,
          0.5,
          0.5,
          0.5,
          0.5,
          0.5,
          0.5,
          0.5,
          0.5,
          0.5,
          0.5,
          0.5,
          0.5,
          0.5,
          0.5,
          0.5,
          0.5,
          0.5,
          0.5,
          0.5,
          0.5,
          0.5,
          0.5,
          0.5,
          0.5,
          0.5,
          0.5,
          0.5,
          0.5,
          0.5,
          0.5,
          0.5,
          0.5,
          0.5,
          0.5,
          0.5,
          0.5,
          0.5,
          0.5,
          0.5,
          0.5,
          0.5,
          0.5,
          0.5,
          0.5,
          0.5,
          0.5,
          0.5,
          0.5,
          0.5,
          0.5,
          0.5,
          0.5,
          0.5,
          0.5,
          0.5,
          0.5,
          0.5,
          0.5,
          0.5,
          0.5,
          0.5,
          0.5,
          0.5,
          0.5,
          0.5,
          0.5,
          0.5,
          0.5,
          0.5,
          0.5,
          0.5,
          0.5,
          0.5,
          0.5,
          0.5,
          0.5,
          0.5,
          0.5,
          0.5,
          0.5,
          0.5,
          0.5
         ]
        },
        {
         "marker": {
          "maxdisplayed": 10
         },
         "mode": "lines+markers",
         "name": "Trial9",
         "type": "scatter",
         "x": [
          0,
          1,
          2,
          3,
          4,
          5,
          6,
          7,
          8,
          9,
          10,
          11,
          12,
          13,
          14,
          15,
          16,
          17,
          18,
          19,
          20,
          21,
          22,
          23,
          24,
          25,
          26,
          27,
          28,
          29,
          30,
          31,
          32,
          33,
          34,
          35,
          36,
          37,
          38,
          39,
          40,
          41,
          42,
          43,
          44,
          45,
          46,
          47,
          48,
          49,
          50,
          51,
          52,
          53,
          54,
          55,
          56,
          57,
          58,
          59,
          60,
          61,
          62,
          63,
          64,
          65,
          66,
          67,
          68,
          69,
          70,
          71,
          72,
          73,
          74,
          75,
          76,
          77,
          78,
          79,
          80,
          81,
          82,
          83,
          84,
          85,
          86,
          87,
          88,
          89,
          90,
          91,
          92,
          93,
          94,
          95,
          96,
          97,
          98,
          99
         ],
         "y": [
          0.5,
          0.5,
          0.5,
          0.5,
          0.5,
          0.5,
          0.5,
          0.5,
          0.5,
          0.5,
          0.5,
          0.5,
          0.5,
          0.5,
          0.5,
          0.5,
          0.5,
          0.5,
          0.5,
          0.5,
          0.5,
          0.5,
          0.5,
          0.5,
          0.5,
          0.5,
          0.5,
          0.5,
          0.5,
          0.5,
          0.5,
          0.5,
          0.5,
          0.5,
          0.5,
          0.5,
          0.5,
          0.5,
          0.5,
          0.5,
          0.5,
          0.5,
          0.5,
          0.5,
          0.5,
          0.5,
          0.5,
          0.5,
          0.5,
          0.5,
          0.5,
          0.5,
          0.5,
          0.5,
          0.5,
          0.5,
          0.5,
          0.5,
          0.5,
          0.5,
          0.5,
          0.5,
          0.5,
          0.5,
          0.5,
          0.5,
          0.5,
          0.5,
          0.5,
          0.5,
          0.5,
          0.5,
          0.5,
          0.5,
          0.5,
          0.5,
          0.5,
          0.5,
          0.5,
          0.5,
          0.5,
          0.5,
          0.5,
          0.5,
          0.5,
          0.5,
          0.5,
          0.5,
          0.5,
          0.5,
          0.5,
          0.5,
          0.5,
          0.5,
          0.5,
          0.5,
          0.5,
          0.5,
          0.5,
          0.5
         ]
        },
        {
         "marker": {
          "maxdisplayed": 10
         },
         "mode": "lines+markers",
         "name": "Trial10",
         "type": "scatter",
         "x": [
          0,
          1,
          2,
          3,
          4,
          5,
          6,
          7,
          8,
          9,
          10,
          11,
          12,
          13,
          14,
          15,
          16,
          17,
          18,
          19,
          20,
          21,
          22,
          23,
          24,
          25,
          26,
          27,
          28,
          29,
          30,
          31,
          32,
          33,
          34,
          35,
          36,
          37,
          38,
          39,
          40,
          41,
          42,
          43,
          44,
          45,
          46,
          47,
          48,
          49,
          50,
          51,
          52,
          53,
          54,
          55,
          56,
          57,
          58,
          59,
          60,
          61,
          62,
          63,
          64,
          65,
          66,
          67,
          68,
          69,
          70,
          71,
          72,
          73,
          74,
          75,
          76,
          77,
          78,
          79,
          80,
          81,
          82,
          83,
          84,
          85,
          86,
          87,
          88,
          89,
          90,
          91,
          92,
          93,
          94,
          95,
          96,
          97,
          98,
          99
         ],
         "y": [
          0.896551724137931,
          0.896551724137931,
          0.896551724137931,
          0.896551724137931,
          0.9935344827586207,
          0.9935344827586207,
          0.9935344827586207,
          0.9935344827586207,
          0.9935344827586207,
          0.9935344827586207,
          0.9956896551724138,
          0.9956896551724138,
          1,
          1,
          1,
          1,
          1,
          1,
          1,
          1,
          1,
          1,
          1,
          1,
          1,
          1,
          1,
          1,
          1,
          1,
          1,
          1,
          1,
          1,
          1,
          1,
          1,
          1,
          1,
          1,
          1,
          1,
          1,
          1,
          1,
          1,
          1,
          1,
          1,
          1,
          1,
          1,
          1,
          1,
          1,
          1,
          1,
          1,
          1,
          1,
          1,
          1,
          1,
          1,
          1,
          1,
          1,
          1,
          1,
          1,
          1,
          1,
          1,
          1,
          1,
          1,
          1,
          1,
          1,
          1,
          1,
          1,
          1,
          1,
          1,
          1,
          1,
          1,
          1,
          1,
          1,
          1,
          1,
          1,
          1,
          1,
          1,
          1,
          1,
          1
         ]
        },
        {
         "marker": {
          "maxdisplayed": 10
         },
         "mode": "lines+markers",
         "name": "Trial11",
         "type": "scatter",
         "x": [
          0,
          1,
          2,
          3,
          4,
          5,
          6,
          7,
          8,
          9,
          10,
          11,
          12,
          13,
          14,
          15,
          16,
          17,
          18,
          19,
          20,
          21,
          22,
          23,
          24,
          25,
          26,
          27,
          28,
          29,
          30,
          31,
          32,
          33,
          34,
          35,
          36,
          37,
          38,
          39,
          40,
          41,
          42,
          43,
          44,
          45,
          46,
          47,
          48,
          49,
          50,
          51,
          52,
          53,
          54,
          55,
          56,
          57,
          58,
          59,
          60,
          61,
          62,
          63,
          64,
          65,
          66,
          67,
          68,
          69,
          70,
          71,
          72,
          73,
          74,
          75,
          76,
          77,
          78,
          79,
          80,
          81,
          82,
          83,
          84,
          85,
          86,
          87,
          88,
          89,
          90,
          91,
          92,
          93,
          94,
          95,
          96,
          97,
          98,
          99
         ],
         "y": [
          0.9494047619047619,
          0.9494047619047619,
          0.9494047619047619,
          0.9494047619047619,
          0.9940476190476191,
          0.9940476190476191,
          0.9940476190476191,
          0.9940476190476191,
          0.9940476190476191,
          0.9940476190476191,
          0.9940476190476191,
          0.9940476190476191,
          0.9940476190476191,
          0.9940476190476191,
          0.998015873015873,
          0.998015873015873,
          0.998015873015873,
          0.998015873015873,
          0.998015873015873,
          0.998015873015873,
          0.998015873015873,
          0.998015873015873,
          0.998015873015873,
          0.998015873015873,
          0.998015873015873,
          0.998015873015873,
          0.998015873015873,
          0.998015873015873,
          0.998015873015873,
          0.998015873015873,
          0.998015873015873,
          0.998015873015873,
          0.998015873015873,
          0.998015873015873,
          1,
          1,
          0.998015873015873,
          1,
          1,
          1,
          1,
          1,
          1,
          1,
          1,
          1,
          1,
          1,
          1,
          1,
          1,
          1,
          1,
          1,
          1,
          1,
          1,
          1,
          1,
          1,
          1,
          1,
          1,
          1,
          1,
          1,
          1,
          1,
          1,
          1,
          1,
          1,
          1,
          1,
          1,
          1,
          1,
          1,
          1,
          1,
          1,
          1,
          1,
          1,
          1,
          1,
          1,
          1,
          1,
          1,
          1,
          1,
          1,
          1,
          1,
          1,
          1,
          1,
          1,
          1
         ]
        },
        {
         "marker": {
          "maxdisplayed": 10
         },
         "mode": "lines+markers",
         "name": "Trial12",
         "type": "scatter",
         "x": [
          0,
          1,
          2,
          3,
          4,
          5,
          6,
          7,
          8,
          9,
          10,
          11,
          12,
          13,
          14,
          15,
          16,
          17,
          18,
          19,
          20,
          21,
          22,
          23,
          24,
          25,
          26,
          27,
          28,
          29,
          30,
          31,
          32,
          33,
          34,
          35,
          36,
          37,
          38,
          39,
          40,
          41,
          42,
          43,
          44,
          45,
          46,
          47,
          48,
          49,
          50,
          51,
          52,
          53,
          54,
          55,
          56,
          57,
          58,
          59,
          60,
          61,
          62,
          63,
          64,
          65,
          66,
          67,
          68,
          69,
          70,
          71,
          72,
          73,
          74,
          75,
          76,
          77,
          78,
          79,
          80,
          81,
          82,
          83,
          84,
          85,
          86,
          87,
          88,
          89,
          90,
          91,
          92,
          93,
          94,
          95,
          96,
          97,
          98,
          99
         ],
         "y": [
          0.9461206896551724,
          0.9838362068965517,
          0.9838362068965517,
          0.9913793103448276,
          1,
          1,
          1,
          1,
          1,
          1,
          1,
          1,
          1,
          1,
          1,
          1,
          1,
          1,
          1,
          1,
          1,
          1,
          1,
          1,
          1,
          1,
          1,
          1,
          1,
          1,
          1,
          1,
          1,
          1,
          1,
          1,
          1,
          1,
          1,
          1,
          1,
          1,
          1,
          1,
          1,
          1,
          1,
          1,
          0.9978448275862069,
          0.9978448275862069,
          0.9978448275862069,
          0.9978448275862069,
          0.9978448275862069,
          0.9978448275862069,
          0.9956896551724138,
          0.9956896551724138,
          0.9956896551724138,
          0.9956896551724138,
          0.9956896551724138,
          0.9956896551724138,
          0.9956896551724138,
          0.9956896551724138,
          0.9956896551724138,
          0.9956896551724138,
          0.9956896551724138,
          0.9956896551724138,
          0.9956896551724138,
          0.9956896551724138,
          0.9956896551724138,
          0.9956896551724138,
          0.9956896551724138,
          0.9956896551724138,
          0.9956896551724138,
          0.9956896551724138,
          0.9956896551724138,
          0.9956896551724138,
          0.9956896551724138,
          0.9956896551724138,
          0.9956896551724138,
          0.9956896551724138,
          0.9956896551724138,
          0.9956896551724138,
          0.9956896551724138,
          0.9956896551724138,
          0.9956896551724138,
          0.9956896551724138,
          0.9956896551724138,
          0.9956896551724138,
          0.9956896551724138,
          0.9956896551724138,
          0.9956896551724138,
          0.9956896551724138,
          0.9956896551724138,
          0.9956896551724138,
          0.9956896551724138,
          0.9956896551724138,
          0.9956896551724138,
          0.9956896551724138,
          0.9956896551724138,
          0.9956896551724138
         ]
        },
        {
         "marker": {
          "maxdisplayed": 10
         },
         "mode": "lines+markers",
         "name": "Trial13",
         "type": "scatter",
         "x": [
          0,
          1,
          2,
          3,
          4,
          5,
          6,
          7,
          8,
          9,
          10,
          11,
          12,
          13,
          14,
          15,
          16,
          17,
          18,
          19,
          20,
          21,
          22,
          23,
          24,
          25,
          26,
          27,
          28,
          29,
          30,
          31,
          32,
          33,
          34,
          35,
          36,
          37,
          38,
          39,
          40,
          41,
          42,
          43,
          44,
          45,
          46,
          47,
          48,
          49,
          50,
          51,
          52,
          53,
          54,
          55,
          56,
          57,
          58,
          59,
          60,
          61,
          62,
          63,
          64,
          65,
          66,
          67,
          68,
          69,
          70,
          71,
          72,
          73,
          74,
          75,
          76,
          77,
          78,
          79,
          80,
          81,
          82,
          83,
          84,
          85,
          86,
          87,
          88,
          89,
          90,
          91,
          92,
          93,
          94,
          95,
          96,
          97,
          98,
          99
         ],
         "y": [
          0.8911111111111111,
          0.9233333333333333,
          0.9288888888888889,
          0.9288888888888889,
          0.9866666666666667,
          0.9866666666666667,
          0.9866666666666667,
          0.9866666666666667,
          0.9866666666666667,
          0.9866666666666667,
          0.9866666666666667,
          0.9866666666666667,
          0.9888888888888889,
          0.9888888888888889,
          0.9888888888888889,
          0.9888888888888889,
          0.9911111111111112,
          0.9911111111111112,
          0.9911111111111112,
          0.9911111111111112,
          0.9911111111111112,
          0.9911111111111112,
          0.9911111111111112,
          0.9955555555555555,
          0.9955555555555555,
          0.9955555555555555,
          0.9955555555555555,
          0.9955555555555555,
          0.9955555555555555,
          0.9955555555555555,
          0.9955555555555555,
          0.9955555555555555,
          0.9955555555555555,
          0.9955555555555555,
          0.9955555555555555,
          0.9955555555555555,
          0.9955555555555555,
          0.9955555555555555,
          0.9955555555555555,
          0.9955555555555555,
          0.9955555555555555,
          0.9955555555555555,
          0.9955555555555555,
          0.9955555555555555,
          0.9955555555555555,
          0.9955555555555555,
          0.9955555555555555,
          0.9955555555555555,
          0.9955555555555555,
          0.9955555555555555,
          0.9955555555555555,
          0.9955555555555555,
          0.9955555555555555,
          0.9955555555555555,
          0.9955555555555555,
          0.9955555555555555,
          0.9955555555555555,
          0.9955555555555555,
          0.9955555555555555,
          0.9955555555555555,
          0.9955555555555555,
          0.9955555555555555,
          0.9977777777777778,
          1,
          1,
          1,
          1,
          1,
          1,
          1,
          1,
          1,
          1,
          1,
          1,
          1,
          1,
          1,
          1,
          1,
          1,
          1,
          1,
          1,
          1,
          1,
          1,
          1,
          1,
          1,
          1,
          1,
          1,
          1,
          1,
          1,
          1,
          1,
          1,
          1
         ]
        },
        {
         "marker": {
          "maxdisplayed": 10
         },
         "mode": "lines+markers",
         "name": "Trial14",
         "type": "scatter",
         "x": [
          0,
          1,
          2,
          3,
          4,
          5,
          6,
          7,
          8,
          9,
          10,
          11,
          12,
          13,
          14,
          15,
          16,
          17,
          18,
          19,
          20,
          21,
          22,
          23,
          24,
          25,
          26,
          27,
          28,
          29,
          30,
          31,
          32,
          33,
          34,
          35,
          36,
          37,
          38,
          39,
          40,
          41,
          42,
          43,
          44,
          45,
          46,
          47,
          48,
          49,
          50,
          51,
          52,
          53,
          54,
          55,
          56,
          57,
          58,
          59,
          60,
          61,
          62,
          63,
          64,
          65,
          66,
          67,
          68,
          69,
          70,
          71,
          72,
          73,
          74,
          75,
          76,
          77,
          78,
          79,
          80,
          81,
          82,
          83,
          84,
          85,
          86,
          87,
          88,
          89,
          90,
          91,
          92,
          93,
          94,
          95,
          96,
          97,
          98,
          99
         ],
         "y": [
          0.9833333333333333,
          0.9833333333333333,
          0.9833333333333333,
          1,
          1,
          1,
          1,
          1,
          1,
          1,
          1,
          1,
          1,
          1,
          1,
          1,
          1,
          1,
          1,
          1,
          1,
          1,
          1,
          1,
          1,
          1,
          1,
          1,
          1,
          1,
          1,
          1,
          1,
          1,
          1,
          1,
          1,
          1,
          1,
          1,
          1,
          1,
          1,
          1,
          1,
          1,
          1,
          1,
          1,
          1,
          1,
          1,
          1,
          1,
          1,
          1,
          1,
          1,
          1,
          1,
          1,
          1,
          1,
          1,
          1,
          1,
          1,
          1,
          1,
          1,
          1,
          1,
          1,
          1,
          1,
          1,
          1,
          1,
          1,
          1,
          1,
          1,
          1,
          1,
          1,
          1,
          1,
          1,
          1,
          1,
          1,
          1,
          1,
          1,
          1,
          1,
          1,
          1,
          1,
          1
         ]
        },
        {
         "marker": {
          "maxdisplayed": 10
         },
         "mode": "lines+markers",
         "name": "Trial15",
         "type": "scatter",
         "x": [
          0,
          1,
          2,
          3,
          4,
          5,
          6,
          7,
          8,
          9,
          10
         ],
         "y": [
          0.5,
          0.5,
          0.5,
          0.5,
          0.5,
          0.5,
          0.5,
          0.5,
          0.5,
          0.5,
          0.5
         ]
        },
        {
         "marker": {
          "maxdisplayed": 10
         },
         "mode": "lines+markers",
         "name": "Trial16",
         "type": "scatter",
         "x": [
          0,
          1,
          2,
          3,
          4,
          5,
          6,
          7,
          8,
          9,
          10,
          11,
          12,
          13,
          14,
          15
         ],
         "y": [
          0.9438502673796791,
          0.9585561497326203,
          0.9532085561497327,
          0.9505347593582888,
          0.9491978609625669,
          0.9491978609625669,
          0.9491978609625669,
          0.9491978609625669,
          0.9598930481283422,
          0.9705882352941176,
          0.9705882352941176,
          0.9705882352941176,
          0.9705882352941176,
          0.9705882352941176,
          0.9705882352941176,
          0.9705882352941176
         ]
        },
        {
         "marker": {
          "maxdisplayed": 10
         },
         "mode": "lines+markers",
         "name": "Trial17",
         "type": "scatter",
         "x": [
          0,
          1,
          2,
          3,
          4,
          5,
          6,
          7,
          8,
          9,
          10,
          11,
          12,
          13,
          14,
          15,
          16,
          17,
          18,
          19,
          20,
          21,
          22,
          23
         ],
         "y": [
          0.8581932773109243,
          0.8876050420168067,
          0.8876050420168067,
          0.8876050420168067,
          0.8876050420168067,
          0.8876050420168067,
          0.9789915966386554,
          0.976890756302521,
          0.9810924369747899,
          0.9810924369747899,
          0.9810924369747899,
          0.9810924369747899,
          0.9800420168067226,
          0.9800420168067226,
          0.9810924369747899,
          0.9831932773109243,
          0.9831932773109243,
          0.9831932773109243,
          0.9831932773109243,
          0.9831932773109243,
          0.9831932773109243,
          0.9831932773109243,
          0.9831932773109243,
          0.9831932773109243
         ]
        },
        {
         "marker": {
          "maxdisplayed": 10
         },
         "mode": "lines+markers",
         "name": "Trial18",
         "type": "scatter",
         "x": [
          0,
          1,
          2,
          3,
          4,
          5,
          6,
          7,
          8,
          9,
          10,
          11,
          12,
          13,
          14,
          15,
          16,
          17,
          18,
          19,
          20,
          21,
          22,
          23,
          24,
          25,
          26,
          27,
          28,
          29,
          30,
          31,
          32,
          33,
          34,
          35,
          36,
          37,
          38,
          39,
          40,
          41,
          42,
          43,
          44,
          45,
          46,
          47,
          48,
          49,
          50,
          51,
          52,
          53,
          54,
          55,
          56,
          57,
          58,
          59,
          60,
          61,
          62,
          63,
          64,
          65,
          66,
          67,
          68,
          69,
          70,
          71,
          72,
          73,
          74,
          75,
          76,
          77,
          78,
          79,
          80,
          81,
          82,
          83,
          84,
          85,
          86,
          87,
          88,
          89,
          90,
          91,
          92,
          93,
          94,
          95,
          96,
          97,
          98,
          99
         ],
         "y": [
          0.9375,
          0.9375,
          0.984375,
          0.9975961538461539,
          0.9975961538461539,
          0.9975961538461539,
          0.9975961538461539,
          0.9975961538461539,
          0.9939903846153846,
          0.9939903846153846,
          0.9939903846153846,
          0.9891826923076923,
          0.984375,
          0.984375,
          0.984375,
          0.984375,
          0.9891826923076923,
          0.9939903846153846,
          0.9939903846153846,
          0.9939903846153846,
          0.9939903846153846,
          0.9939903846153846,
          0.9939903846153846,
          0.9939903846153846,
          0.9939903846153846,
          0.9939903846153846,
          0.9939903846153846,
          0.9939903846153846,
          0.9951923076923077,
          0.9951923076923077,
          0.9951923076923077,
          0.9951923076923077,
          0.9951923076923077,
          0.9951923076923077,
          0.9951923076923077,
          0.9951923076923077,
          0.9951923076923077,
          0.9951923076923077,
          0.9951923076923077,
          0.9951923076923077,
          0.9951923076923077,
          0.9951923076923077,
          0.9951923076923077,
          0.9951923076923077,
          0.9951923076923077,
          0.9927884615384616,
          0.9927884615384616,
          0.9927884615384616,
          0.9927884615384616,
          0.9927884615384616,
          0.9927884615384616,
          0.9927884615384616,
          0.9927884615384616,
          0.9927884615384616,
          0.9927884615384616,
          0.9927884615384616,
          0.9927884615384616,
          0.9927884615384616,
          0.9927884615384616,
          0.9927884615384616,
          0.9927884615384616,
          0.9927884615384616,
          0.9927884615384616,
          0.9927884615384616,
          0.9927884615384616,
          0.9927884615384616,
          0.9927884615384616,
          0.9927884615384616,
          0.9927884615384616,
          0.9927884615384616,
          0.9927884615384616,
          0.9927884615384616,
          0.9927884615384616,
          0.9927884615384616,
          0.9927884615384616,
          0.9927884615384616,
          0.9927884615384616,
          0.9927884615384616,
          0.9927884615384616,
          0.9951923076923077,
          0.9951923076923077,
          0.9951923076923077,
          0.9951923076923077,
          0.9951923076923077,
          0.9951923076923077,
          0.9951923076923077,
          0.9951923076923077,
          0.9951923076923077,
          0.9951923076923077,
          0.9951923076923077,
          0.9951923076923077,
          0.9951923076923077,
          0.9951923076923077,
          0.9951923076923077,
          0.9951923076923077,
          0.9951923076923077,
          0.9951923076923077,
          0.9951923076923077,
          0.9951923076923077,
          0.9951923076923077
         ]
        },
        {
         "marker": {
          "maxdisplayed": 10
         },
         "mode": "lines+markers",
         "name": "Trial19",
         "type": "scatter",
         "x": [
          0,
          1,
          2,
          3,
          4,
          5,
          6,
          7,
          8,
          9,
          10,
          11,
          12,
          13,
          14,
          15,
          16
         ],
         "y": [
          0.92,
          0.9422222222222222,
          0.9566666666666667,
          0.9588888888888889,
          0.9588888888888889,
          0.9744444444444444,
          0.98,
          0.9755555555555555,
          0.9755555555555555,
          0.9711111111111111,
          0.9733333333333334,
          0.9711111111111111,
          0.9733333333333334,
          0.9733333333333334,
          0.9733333333333334,
          0.9733333333333334,
          0.9755555555555555
         ]
        },
        {
         "marker": {
          "maxdisplayed": 10
         },
         "mode": "lines+markers",
         "name": "Trial20",
         "type": "scatter",
         "x": [
          0,
          1,
          2,
          3,
          4,
          5,
          6,
          7,
          8,
          9,
          10,
          11,
          12,
          13,
          14,
          15
         ],
         "y": [
          0.8166666666666667,
          0.8166666666666667,
          0.9044444444444445,
          0.9266666666666666,
          0.9577777777777777,
          0.96,
          0.96,
          0.96,
          0.96,
          0.96,
          0.96,
          0.9688888888888889,
          0.9688888888888889,
          0.9688888888888889,
          0.9688888888888889,
          0.9688888888888889
         ]
        },
        {
         "marker": {
          "maxdisplayed": 10
         },
         "mode": "lines+markers",
         "name": "Trial21",
         "type": "scatter",
         "x": [
          0,
          1,
          2,
          3,
          4,
          5,
          6,
          7,
          8,
          9,
          10,
          11,
          12,
          13,
          14,
          15,
          16,
          17,
          18,
          19,
          20,
          21,
          22,
          23,
          24,
          25,
          26,
          27,
          28,
          29,
          30,
          31,
          32,
          33,
          34,
          35,
          36,
          37,
          38,
          39,
          40,
          41,
          42,
          43,
          44,
          45,
          46,
          47,
          48,
          49,
          50,
          51,
          52,
          53,
          54,
          55,
          56,
          57,
          58,
          59,
          60,
          61,
          62,
          63,
          64,
          65,
          66,
          67,
          68,
          69,
          70,
          71,
          72,
          73,
          74,
          75,
          76,
          77,
          78,
          79,
          80,
          81,
          82,
          83,
          84,
          85,
          86,
          87,
          88,
          89,
          90,
          91,
          92,
          93,
          94,
          95,
          96,
          97,
          98,
          99
         ],
         "y": [
          0.9651442307692307,
          0.9819711538461539,
          0.9819711538461539,
          0.9963942307692307,
          0.9963942307692307,
          0.9963942307692307,
          0.9963942307692307,
          0.9963942307692307,
          0.9963942307692307,
          0.9963942307692307,
          0.9963942307692307,
          0.9963942307692307,
          0.9963942307692307,
          0.9963942307692307,
          0.9963942307692307,
          1,
          1,
          0.9975961538461539,
          1,
          1,
          1,
          0.9975961538461539,
          1,
          0.9975961538461539,
          0.9975961538461539,
          1,
          1,
          1,
          1,
          1,
          1,
          1,
          1,
          1,
          1,
          1,
          1,
          1,
          1,
          1,
          1,
          1,
          1,
          1,
          1,
          1,
          1,
          1,
          1,
          1,
          1,
          1,
          1,
          1,
          1,
          1,
          1,
          1,
          1,
          1,
          1,
          1,
          1,
          1,
          1,
          1,
          1,
          1,
          1,
          1,
          1,
          1,
          1,
          1,
          1,
          1,
          1,
          1,
          1,
          1,
          1,
          1,
          1,
          1,
          1,
          1,
          1,
          1,
          1,
          1,
          1,
          1,
          1,
          1,
          1,
          1,
          1,
          1,
          1,
          1
         ]
        },
        {
         "marker": {
          "maxdisplayed": 10
         },
         "mode": "lines+markers",
         "name": "Trial22",
         "type": "scatter",
         "x": [
          0,
          1,
          2,
          3,
          4,
          5,
          6,
          7,
          8,
          9,
          10
         ],
         "y": [
          0.9291497975708503,
          0.9220647773279352,
          0.9483805668016194,
          0.9746963562753036,
          0.9757085020242915,
          0.9757085020242915,
          0.9746963562753036,
          0.9746963562753036,
          0.9746963562753036,
          0.9746963562753036,
          0.9767206477732794
         ]
        },
        {
         "marker": {
          "maxdisplayed": 10
         },
         "mode": "lines+markers",
         "name": "Trial23",
         "type": "scatter",
         "x": [
          0,
          1,
          2,
          3,
          4,
          5,
          6,
          7,
          8,
          9,
          10
         ],
         "y": [
          0.8449519230769231,
          0.8449519230769231,
          0.8449519230769231,
          0.8521634615384616,
          0.8521634615384616,
          0.9375,
          0.9375,
          0.9447115384615384,
          0.9375,
          0.9447115384615384,
          0.953125
         ]
        },
        {
         "marker": {
          "maxdisplayed": 10
         },
         "mode": "lines+markers",
         "name": "Trial24",
         "type": "scatter",
         "x": [
          0,
          1,
          2,
          3,
          4,
          5,
          6,
          7,
          8,
          9,
          10,
          11,
          12,
          13,
          14,
          15,
          16,
          17
         ],
         "y": [
          0.7170781893004116,
          0.8919753086419753,
          0.9691358024691358,
          0.9691358024691358,
          0.9588477366255144,
          0.9588477366255144,
          0.9588477366255144,
          0.977366255144033,
          0.9814814814814815,
          0.9814814814814815,
          0.9876543209876543,
          0.9876543209876543,
          0.9876543209876543,
          0.9876543209876543,
          0.9897119341563786,
          0.9897119341563786,
          0.9897119341563786,
          0.9897119341563786
         ]
        },
        {
         "marker": {
          "maxdisplayed": 10
         },
         "mode": "lines+markers",
         "name": "Trial25",
         "type": "scatter",
         "x": [
          0,
          1,
          2,
          3,
          4,
          5,
          6,
          7,
          8,
          9,
          10,
          11,
          12,
          13,
          14,
          15,
          16,
          17,
          18,
          19,
          20,
          21,
          22,
          23,
          24,
          25,
          26,
          27,
          28,
          29,
          30,
          31,
          32,
          33,
          34,
          35,
          36,
          37,
          38,
          39,
          40,
          41,
          42,
          43,
          44,
          45,
          46,
          47,
          48,
          49,
          50,
          51,
          52,
          53,
          54,
          55,
          56,
          57,
          58,
          59,
          60,
          61,
          62,
          63,
          64,
          65,
          66,
          67,
          68,
          69,
          70,
          71,
          72,
          73,
          74,
          75,
          76,
          77,
          78,
          79,
          80,
          81,
          82,
          83,
          84,
          85,
          86,
          87,
          88,
          89,
          90,
          91,
          92,
          93,
          94,
          95,
          96,
          97,
          98,
          99
         ],
         "y": [
          0.97,
          0.97,
          0.985,
          0.997,
          0.997,
          1,
          1,
          1,
          1,
          1,
          1,
          1,
          1,
          1,
          1,
          1,
          1,
          1,
          1,
          1,
          1,
          1,
          1,
          1,
          1,
          1,
          1,
          1,
          1,
          1,
          1,
          1,
          1,
          1,
          1,
          1,
          1,
          1,
          1,
          1,
          1,
          1,
          1,
          1,
          1,
          1,
          1,
          1,
          1,
          1,
          1,
          1,
          1,
          1,
          1,
          1,
          1,
          1,
          1,
          1,
          1,
          1,
          1,
          1,
          1,
          1,
          1,
          1,
          1,
          1,
          1,
          1,
          1,
          1,
          1,
          1,
          1,
          1,
          1,
          1,
          1,
          1,
          1,
          1,
          1,
          1,
          1,
          1,
          1,
          1,
          1,
          1,
          1,
          1,
          1,
          1,
          1,
          1,
          1,
          1
         ]
        },
        {
         "marker": {
          "maxdisplayed": 10
         },
         "mode": "lines+markers",
         "name": "Trial26",
         "type": "scatter",
         "x": [
          0,
          1,
          2,
          3,
          4,
          5,
          6,
          7,
          8,
          9,
          10
         ],
         "y": [
          0.5,
          0.5,
          0.5,
          0.5,
          0.5,
          0.5,
          0.5,
          0.5,
          0.5,
          0.5,
          0.5
         ]
        },
        {
         "marker": {
          "maxdisplayed": 10
         },
         "mode": "lines+markers",
         "name": "Trial27",
         "type": "scatter",
         "x": [
          0,
          1,
          2,
          3,
          4,
          5,
          6,
          7,
          8,
          9,
          10,
          11,
          12,
          13,
          14,
          15,
          16,
          17,
          18,
          19,
          20,
          21,
          22,
          23,
          24,
          25,
          26,
          27,
          28,
          29,
          30,
          31,
          32,
          33,
          34,
          35,
          36,
          37,
          38,
          39,
          40,
          41,
          42,
          43,
          44,
          45,
          46,
          47,
          48,
          49,
          50,
          51,
          52,
          53,
          54,
          55,
          56,
          57,
          58,
          59,
          60,
          61,
          62,
          63,
          64,
          65,
          66,
          67,
          68,
          69,
          70,
          71,
          72,
          73,
          74,
          75,
          76,
          77,
          78,
          79,
          80,
          81,
          82,
          83,
          84,
          85,
          86,
          87,
          88,
          89,
          90,
          91,
          92,
          93,
          94,
          95,
          96,
          97,
          98,
          99
         ],
         "y": [
          0.95,
          0.9833333333333333,
          0.9833333333333333,
          0.9833333333333333,
          0.9988888888888889,
          0.9988888888888889,
          0.9988888888888889,
          0.9988888888888889,
          0.9988888888888889,
          0.9988888888888889,
          0.9966666666666667,
          0.9988888888888889,
          1,
          1,
          1,
          1,
          1,
          1,
          1,
          1,
          1,
          1,
          1,
          1,
          1,
          1,
          1,
          1,
          1,
          1,
          1,
          1,
          1,
          1,
          1,
          1,
          1,
          1,
          1,
          1,
          1,
          1,
          1,
          1,
          1,
          1,
          1,
          1,
          1,
          1,
          1,
          1,
          1,
          1,
          1,
          1,
          1,
          1,
          1,
          1,
          1,
          1,
          1,
          1,
          1,
          1,
          1,
          1,
          1,
          1,
          1,
          1,
          1,
          1,
          1,
          1,
          1,
          1,
          1,
          1,
          1,
          1,
          1,
          1,
          1,
          1,
          1,
          1,
          1,
          1,
          1,
          1,
          1,
          1,
          1,
          1,
          1,
          1,
          1,
          1
         ]
        },
        {
         "marker": {
          "maxdisplayed": 10
         },
         "mode": "lines+markers",
         "name": "Trial28",
         "type": "scatter",
         "x": [
          0,
          1,
          2,
          3,
          4,
          5,
          6,
          7,
          8,
          9,
          10
         ],
         "y": [
          0.8933189655172413,
          0.8987068965517241,
          0.8997844827586207,
          0.896551724137931,
          0.9568965517241379,
          0.9568965517241379,
          0.9504310344827587,
          0.9504310344827587,
          0.9504310344827587,
          0.9504310344827587,
          0.9504310344827587
         ]
        },
        {
         "marker": {
          "maxdisplayed": 10
         },
         "mode": "lines+markers",
         "name": "Trial29",
         "type": "scatter",
         "x": [
          0,
          1,
          2,
          3,
          4,
          5,
          6,
          7,
          8,
          9,
          10
         ],
         "y": [
          0.5,
          0.5,
          0.5,
          0.5,
          0.5,
          0.5,
          0.5,
          0.5,
          0.5,
          0.5,
          0.5
         ]
        },
        {
         "marker": {
          "maxdisplayed": 10
         },
         "mode": "lines+markers",
         "name": "Trial30",
         "type": "scatter",
         "x": [
          0,
          1,
          2,
          3,
          4,
          5,
          6,
          7,
          8,
          9,
          10
         ],
         "y": [
          0.5,
          0.5,
          0.5,
          0.5,
          0.5,
          0.5,
          0.5,
          0.5,
          0.5,
          0.5,
          0.5
         ]
        },
        {
         "marker": {
          "maxdisplayed": 10
         },
         "mode": "lines+markers",
         "name": "Trial31",
         "type": "scatter",
         "x": [
          0,
          1,
          2,
          3,
          4,
          5,
          6,
          7,
          8,
          9,
          10,
          11,
          12,
          13,
          14,
          15,
          16,
          17,
          18,
          19,
          20,
          21,
          22,
          23,
          24,
          25,
          26,
          27,
          28,
          29,
          30,
          31,
          32,
          33,
          34,
          35,
          36,
          37,
          38,
          39,
          40,
          41,
          42,
          43,
          44,
          45,
          46,
          47,
          48,
          49,
          50,
          51,
          52,
          53,
          54,
          55,
          56,
          57,
          58,
          59,
          60,
          61,
          62,
          63,
          64,
          65,
          66,
          67,
          68,
          69,
          70,
          71,
          72,
          73,
          74,
          75,
          76,
          77,
          78,
          79,
          80,
          81,
          82,
          83,
          84,
          85,
          86,
          87,
          88,
          89,
          90,
          91,
          92,
          93,
          94,
          95,
          96,
          97,
          98,
          99
         ],
         "y": [
          0.90625,
          0.984375,
          0.984375,
          1,
          1,
          1,
          1,
          1,
          1,
          1,
          1,
          1,
          1,
          1,
          1,
          1,
          1,
          1,
          1,
          1,
          1,
          1,
          1,
          1,
          1,
          1,
          1,
          1,
          1,
          1,
          1,
          1,
          1,
          1,
          1,
          1,
          1,
          1,
          1,
          1,
          1,
          1,
          1,
          1,
          1,
          1,
          1,
          1,
          1,
          1,
          1,
          1,
          1,
          1,
          1,
          1,
          1,
          1,
          1,
          1,
          1,
          1,
          1,
          1,
          1,
          1,
          1,
          1,
          1,
          1,
          1,
          1,
          1,
          1,
          1,
          1,
          1,
          1,
          1,
          1,
          1,
          1,
          1,
          1,
          1,
          1,
          1,
          1,
          1,
          1,
          1,
          1,
          1,
          1,
          1,
          1,
          1,
          1,
          1,
          1
         ]
        },
        {
         "marker": {
          "maxdisplayed": 10
         },
         "mode": "lines+markers",
         "name": "Trial32",
         "type": "scatter",
         "x": [
          0,
          1,
          2,
          3,
          4,
          5,
          6,
          7,
          8,
          9,
          10,
          11,
          12,
          13,
          14,
          15,
          16,
          17,
          18,
          19,
          20,
          21,
          22,
          23,
          24,
          25,
          26,
          27,
          28,
          29,
          30,
          31,
          32,
          33,
          34,
          35,
          36,
          37,
          38,
          39,
          40,
          41,
          42,
          43,
          44,
          45,
          46,
          47,
          48,
          49,
          50,
          51,
          52,
          53,
          54,
          55,
          56,
          57,
          58,
          59,
          60,
          61,
          62,
          63,
          64,
          65,
          66,
          67,
          68,
          69,
          70,
          71,
          72,
          73,
          74,
          75,
          76,
          77,
          78,
          79,
          80,
          81,
          82,
          83,
          84,
          85,
          86,
          87,
          88,
          89,
          90,
          91,
          92,
          93,
          94,
          95,
          96,
          97,
          98,
          99
         ],
         "y": [
          0.9354838709677419,
          0.9953917050691244,
          0.9953917050691244,
          0.9953917050691244,
          0.9976958525345622,
          0.9976958525345622,
          0.9976958525345622,
          0.9976958525345622,
          0.9976958525345622,
          1,
          1,
          1,
          1,
          1,
          1,
          1,
          1,
          1,
          1,
          1,
          1,
          1,
          1,
          1,
          1,
          1,
          1,
          1,
          1,
          1,
          1,
          1,
          1,
          1,
          1,
          1,
          1,
          1,
          1,
          1,
          1,
          1,
          1,
          1,
          1,
          1,
          1,
          1,
          1,
          1,
          1,
          1,
          1,
          1,
          1,
          1,
          1,
          1,
          1,
          1,
          1,
          1,
          1,
          1,
          1,
          1,
          1,
          1,
          1,
          1,
          1,
          1,
          1,
          1,
          1,
          1,
          1,
          1,
          1,
          1,
          1,
          1,
          1,
          1,
          1,
          1,
          1,
          1,
          1,
          1,
          1,
          1,
          1,
          1,
          1,
          1,
          1,
          1,
          1,
          1
         ]
        },
        {
         "marker": {
          "maxdisplayed": 10
         },
         "mode": "lines+markers",
         "name": "Trial33",
         "type": "scatter",
         "x": [
          0,
          1,
          2,
          3,
          4,
          5,
          6,
          7,
          8,
          9,
          10
         ],
         "y": [
          0.5,
          0.5,
          0.5,
          0.5,
          0.5,
          0.5,
          0.5,
          0.5,
          0.5,
          0.5,
          0.5
         ]
        },
        {
         "marker": {
          "maxdisplayed": 10
         },
         "mode": "lines+markers",
         "name": "Trial34",
         "type": "scatter",
         "x": [
          0,
          1,
          2,
          3,
          4,
          5,
          6,
          7,
          8,
          9,
          10,
          11,
          12,
          13,
          14,
          15,
          16,
          17,
          18,
          19,
          20,
          21,
          22,
          23,
          24,
          25,
          26,
          27,
          28,
          29,
          30,
          31,
          32,
          33,
          34,
          35,
          36,
          37,
          38,
          39,
          40,
          41,
          42,
          43,
          44,
          45,
          46,
          47,
          48,
          49,
          50,
          51,
          52,
          53,
          54,
          55,
          56,
          57,
          58,
          59,
          60,
          61,
          62,
          63,
          64,
          65,
          66,
          67,
          68,
          69,
          70,
          71,
          72,
          73,
          74,
          75,
          76,
          77,
          78,
          79,
          80,
          81,
          82,
          83,
          84,
          85,
          86,
          87,
          88,
          89,
          90,
          91,
          92,
          93,
          94,
          95,
          96,
          97,
          98,
          99
         ],
         "y": [
          0.8888888888888888,
          1,
          1,
          1,
          1,
          1,
          0.9938271604938271,
          0.9938271604938271,
          0.9938271604938271,
          0.9917695473251029,
          0.9917695473251029,
          0.9938271604938271,
          0.9938271604938271,
          0.9958847736625515,
          0.9958847736625515,
          0.9979423868312757,
          0.9979423868312757,
          0.9979423868312757,
          0.9979423868312757,
          1,
          1,
          1,
          1,
          1,
          1,
          1,
          1,
          1,
          1,
          1,
          1,
          1,
          1,
          1,
          1,
          1,
          1,
          1,
          1,
          1,
          1,
          1,
          1,
          1,
          1,
          1,
          1,
          1,
          1,
          1,
          1,
          1,
          1,
          1,
          1,
          1,
          1,
          1,
          1,
          1,
          1,
          1,
          1,
          1,
          1,
          1,
          1,
          1,
          1,
          1,
          1,
          1,
          1,
          1,
          1,
          1,
          1,
          1,
          1,
          1,
          1,
          1,
          1,
          1,
          1,
          1,
          1,
          1,
          1,
          1,
          1,
          1,
          1,
          1,
          1,
          1,
          1,
          1,
          1,
          1
         ]
        },
        {
         "marker": {
          "maxdisplayed": 10
         },
         "mode": "lines+markers",
         "name": "Trial35",
         "type": "scatter",
         "x": [
          0,
          1,
          2,
          3,
          4,
          5,
          6,
          7,
          8,
          9,
          10,
          11,
          12,
          13,
          14,
          15
         ],
         "y": [
          0.82,
          0.96,
          0.96,
          0.98,
          0.98,
          0.98,
          0.979,
          0.979,
          0.979,
          0.993,
          0.991,
          0.991,
          0.991,
          0.991,
          0.989,
          0.989
         ]
        },
        {
         "marker": {
          "maxdisplayed": 10
         },
         "mode": "lines+markers",
         "name": "Trial36",
         "type": "scatter",
         "x": [
          0,
          1,
          2,
          3,
          4,
          5,
          6,
          7,
          8,
          9,
          10
         ],
         "y": [
          0.5,
          0.5,
          0.5,
          0.5,
          0.5,
          0.5,
          0.5,
          0.5,
          0.5,
          0.5,
          0.5
         ]
        },
        {
         "marker": {
          "maxdisplayed": 10
         },
         "mode": "lines+markers",
         "name": "Trial37",
         "type": "scatter",
         "x": [
          0,
          1,
          2,
          3,
          4,
          5,
          6,
          7,
          8,
          9,
          10
         ],
         "y": [
          0.828125,
          0.953125,
          0.953125,
          0.953125,
          0.953125,
          0.984375,
          0.984375,
          0.984375,
          0.9795673076923077,
          0.9795673076923077,
          0.9795673076923077
         ]
        },
        {
         "marker": {
          "maxdisplayed": 10
         },
         "mode": "lines+markers",
         "name": "Trial38",
         "type": "scatter",
         "x": [
          0,
          1,
          2,
          3,
          4,
          5,
          6,
          7,
          8,
          9,
          10
         ],
         "y": [
          0.5,
          0.5,
          0.5,
          0.5,
          0.5,
          0.5,
          0.5,
          0.5,
          0.5,
          0.5,
          0.5
         ]
        },
        {
         "marker": {
          "maxdisplayed": 10
         },
         "mode": "lines+markers",
         "name": "Trial39",
         "type": "scatter",
         "x": [
          0,
          1,
          2,
          3,
          4,
          5,
          6,
          7,
          8,
          9,
          10
         ],
         "y": [
          0.859375,
          0.9735576923076923,
          0.9663461538461539,
          0.9663461538461539,
          0.9711538461538461,
          0.9699519230769231,
          0.9699519230769231,
          0.9639423076923077,
          0.9639423076923077,
          0.9639423076923077,
          0.9567307692307693
         ]
        },
        {
         "marker": {
          "maxdisplayed": 10
         },
         "mode": "lines+markers",
         "name": "Trial40",
         "type": "scatter",
         "x": [
          0,
          1,
          2,
          3,
          4,
          5,
          6,
          7,
          8,
          9,
          10,
          11,
          12,
          13,
          14,
          15,
          16,
          17,
          18,
          19,
          20,
          21,
          22,
          23,
          24,
          25,
          26,
          27,
          28,
          29,
          30,
          31,
          32,
          33,
          34,
          35,
          36,
          37,
          38,
          39,
          40,
          41,
          42,
          43,
          44,
          45,
          46,
          47,
          48,
          49,
          50,
          51,
          52,
          53,
          54,
          55,
          56,
          57,
          58,
          59,
          60,
          61,
          62,
          63,
          64,
          65,
          66,
          67,
          68,
          69,
          70,
          71,
          72,
          73,
          74,
          75,
          76,
          77,
          78,
          79,
          80,
          81,
          82,
          83,
          84,
          85,
          86,
          87,
          88,
          89,
          90,
          91,
          92,
          93,
          94,
          95,
          96,
          97,
          98,
          99
         ],
         "y": [
          0.8666666666666667,
          0.9844444444444445,
          0.9844444444444445,
          0.9844444444444445,
          0.9844444444444445,
          0.9855555555555555,
          0.9855555555555555,
          0.9855555555555555,
          1,
          0.9866666666666667,
          1,
          1,
          1,
          1,
          1,
          1,
          1,
          1,
          1,
          1,
          1,
          1,
          1,
          1,
          1,
          1,
          1,
          1,
          1,
          1,
          1,
          1,
          1,
          1,
          1,
          1,
          1,
          1,
          1,
          1,
          1,
          1,
          1,
          1,
          1,
          1,
          1,
          1,
          1,
          1,
          1,
          1,
          1,
          1,
          1,
          1,
          1,
          1,
          1,
          1,
          1,
          1,
          1,
          1,
          1,
          1,
          1,
          1,
          1,
          1,
          1,
          1,
          1,
          1,
          1,
          1,
          1,
          1,
          1,
          1,
          1,
          1,
          1,
          1,
          1,
          1,
          1,
          1,
          1,
          1,
          1,
          1,
          1,
          1,
          1,
          1,
          1,
          1,
          1,
          1
         ]
        },
        {
         "marker": {
          "maxdisplayed": 10
         },
         "mode": "lines+markers",
         "name": "Trial41",
         "type": "scatter",
         "x": [
          0,
          1,
          2,
          3,
          4,
          5,
          6,
          7,
          8,
          9,
          10
         ],
         "y": [
          0.5,
          0.5,
          0.5,
          0.5,
          0.5,
          0.5,
          0.5,
          0.5,
          0.5,
          0.5,
          0.5
         ]
        },
        {
         "marker": {
          "maxdisplayed": 10
         },
         "mode": "lines+markers",
         "name": "Trial42",
         "type": "scatter",
         "x": [
          0,
          1,
          2,
          3,
          4,
          5,
          6,
          7,
          8,
          9,
          10
         ],
         "y": [
          0.9481566820276498,
          0.9481566820276498,
          0.9688940092165899,
          0.9758064516129032,
          0.9804147465437788,
          0.9804147465437788,
          0.9804147465437788,
          0.9804147465437788,
          0.9804147465437788,
          0.9792626728110599,
          0.9792626728110599
         ]
        },
        {
         "marker": {
          "maxdisplayed": 10
         },
         "mode": "lines+markers",
         "name": "Trial43",
         "type": "scatter",
         "x": [
          0,
          1,
          2,
          3,
          4,
          5,
          6,
          7,
          8,
          9,
          10
         ],
         "y": [
          0.5,
          0.5,
          0.5,
          0.5,
          0.5,
          0.5,
          0.5,
          0.5,
          0.5,
          0.5,
          0.5
         ]
        },
        {
         "marker": {
          "maxdisplayed": 10
         },
         "mode": "lines+markers",
         "name": "Trial44",
         "type": "scatter",
         "x": [
          0,
          1,
          2,
          3,
          4,
          5,
          6,
          7,
          8,
          9,
          10,
          11,
          12,
          13,
          14,
          15,
          16,
          17,
          18,
          19,
          20,
          21,
          22,
          23,
          24,
          25,
          26,
          27,
          28,
          29,
          30,
          31,
          32,
          33,
          34,
          35,
          36,
          37,
          38,
          39,
          40,
          41,
          42,
          43,
          44,
          45,
          46,
          47,
          48,
          49,
          50,
          51,
          52,
          53,
          54,
          55,
          56,
          57,
          58,
          59,
          60,
          61,
          62,
          63,
          64,
          65,
          66,
          67,
          68,
          69,
          70,
          71,
          72,
          73,
          74,
          75,
          76,
          77,
          78,
          79,
          80,
          81,
          82,
          83,
          84,
          85,
          86,
          87,
          88,
          89,
          90,
          91,
          92,
          93,
          94,
          95,
          96,
          97,
          98,
          99
         ],
         "y": [
          0.8833333333333333,
          0.8833333333333333,
          1,
          1,
          1,
          1,
          1,
          1,
          1,
          1,
          1,
          1,
          1,
          1,
          1,
          1,
          1,
          1,
          1,
          0.9955555555555555,
          1,
          1,
          1,
          1,
          1,
          1,
          1,
          1,
          1,
          1,
          1,
          1,
          1,
          1,
          1,
          1,
          1,
          1,
          1,
          1,
          1,
          1,
          1,
          0.9955555555555555,
          0.9955555555555555,
          0.9933333333333333,
          0.9933333333333333,
          0.9955555555555555,
          0.9977777777777778,
          0.9977777777777778,
          0.9977777777777778,
          0.9955555555555555,
          0.9933333333333333,
          0.9933333333333333,
          0.9911111111111112,
          0.9888888888888889,
          0.9911111111111112,
          0.9888888888888889,
          0.9933333333333333,
          0.9955555555555555,
          0.9955555555555555,
          0.9955555555555555,
          0.9955555555555555,
          0.9977777777777778,
          0.9955555555555555,
          0.9955555555555555,
          0.9955555555555555,
          0.9955555555555555,
          0.9955555555555555,
          0.9955555555555555,
          0.9955555555555555,
          0.9977777777777778,
          0.9977777777777778,
          0.9955555555555555,
          0.9955555555555555,
          0.9955555555555555,
          0.9955555555555555,
          0.9933333333333333,
          0.9955555555555555,
          0.9955555555555555,
          0.9933333333333333,
          0.9933333333333333,
          0.9955555555555555,
          0.9955555555555555,
          0.9933333333333333,
          0.9955555555555555,
          0.9955555555555555,
          0.9955555555555555,
          0.9955555555555555,
          0.9955555555555555,
          0.9955555555555555,
          0.9955555555555555,
          0.9955555555555555,
          0.9955555555555555,
          0.9955555555555555,
          0.9955555555555555,
          0.9955555555555555,
          0.9955555555555555,
          0.9955555555555555,
          0.9955555555555555
         ]
        },
        {
         "marker": {
          "maxdisplayed": 10
         },
         "mode": "lines+markers",
         "name": "Trial45",
         "type": "scatter",
         "x": [
          0,
          1,
          2,
          3,
          4,
          5,
          6,
          7,
          8,
          9,
          10
         ],
         "y": [
          0.5,
          0.5,
          0.5,
          0.5,
          0.5,
          0.5,
          0.5,
          0.5,
          0.5,
          0.5,
          0.5
         ]
        },
        {
         "marker": {
          "maxdisplayed": 10
         },
         "mode": "lines+markers",
         "name": "Trial46",
         "type": "scatter",
         "x": [
          0,
          1,
          2,
          3,
          4,
          5,
          6,
          7,
          8,
          9,
          10
         ],
         "y": [
          0.9481566820276498,
          0.9746543778801844,
          0.9746543778801844,
          0.9746543778801844,
          0.9723502304147466,
          0.9723502304147466,
          0.9723502304147466,
          0.9723502304147466,
          0.9723502304147466,
          0.9723502304147466,
          0.9723502304147466
         ]
        },
        {
         "marker": {
          "maxdisplayed": 10
         },
         "mode": "lines+markers",
         "name": "Trial47",
         "type": "scatter",
         "x": [
          0,
          1,
          2,
          3,
          4,
          5,
          6,
          7,
          8,
          9,
          10
         ],
         "y": [
          0.95,
          0.95,
          0.9933333333333333,
          0.9933333333333333,
          0.9933333333333333,
          0.9933333333333333,
          0.9933333333333333,
          0.9933333333333333,
          0.9933333333333333,
          0.9933333333333333,
          0.9933333333333333
         ]
        },
        {
         "marker": {
          "maxdisplayed": 10
         },
         "mode": "lines+markers",
         "name": "Trial48",
         "type": "scatter",
         "x": [
          0,
          1,
          2,
          3,
          4,
          5,
          6,
          7,
          8,
          9,
          10
         ],
         "y": [
          0.5,
          0.5,
          0.5,
          0.5,
          0.5,
          0.5,
          0.5,
          0.5,
          0.5,
          0.5,
          0.5
         ]
        },
        {
         "marker": {
          "maxdisplayed": 10
         },
         "mode": "lines+markers",
         "name": "Trial49",
         "type": "scatter",
         "x": [
          0,
          1,
          2,
          3,
          4,
          5,
          6,
          7,
          8,
          9,
          10
         ],
         "y": [
          0.5,
          0.5,
          0.5,
          0.5,
          0.5,
          0.5,
          0.5,
          0.5,
          0.5,
          0.5,
          0.5
         ]
        },
        {
         "marker": {
          "maxdisplayed": 10
         },
         "mode": "lines+markers",
         "name": "Trial50",
         "type": "scatter",
         "x": [
          0,
          1,
          2,
          3,
          4,
          5,
          6,
          7,
          8,
          9,
          10,
          11,
          12,
          13,
          14,
          15
         ],
         "y": [
          0.9723557692307693,
          0.9795673076923077,
          0.9795673076923077,
          0.9867788461538461,
          0.9879807692307693,
          0.9879807692307693,
          0.9927884615384616,
          0.9927884615384616,
          0.9927884615384616,
          0.9903846153846154,
          0.9951923076923077,
          0.9975961538461539,
          0.9975961538461539,
          0.9975961538461539,
          0.9975961538461539,
          0.9975961538461539
         ]
        },
        {
         "marker": {
          "maxdisplayed": 10
         },
         "mode": "lines+markers",
         "name": "Trial51",
         "type": "scatter",
         "x": [
          0,
          1,
          2,
          3,
          4,
          5,
          6,
          7,
          8,
          9,
          10,
          11,
          12,
          13,
          14,
          15,
          16,
          17,
          18,
          19,
          20,
          21,
          22,
          23,
          24,
          25,
          26,
          27,
          28,
          29,
          30,
          31,
          32,
          33,
          34,
          35,
          36,
          37,
          38,
          39,
          40,
          41,
          42,
          43,
          44,
          45,
          46,
          47,
          48,
          49,
          50,
          51,
          52,
          53,
          54,
          55,
          56,
          57,
          58,
          59,
          60,
          61,
          62,
          63,
          64,
          65,
          66,
          67,
          68,
          69,
          70,
          71,
          72,
          73,
          74,
          75,
          76,
          77,
          78,
          79,
          80,
          81,
          82,
          83,
          84,
          85,
          86,
          87,
          88,
          89,
          90,
          91,
          92,
          93,
          94,
          95,
          96,
          97,
          98,
          99
         ],
         "y": [
          0.9107142857142857,
          0.9821428571428571,
          0.9821428571428571,
          0.9989495798319328,
          0.9989495798319328,
          0.9989495798319328,
          0.9989495798319328,
          0.9989495798319328,
          0.9989495798319328,
          0.9989495798319328,
          0.9989495798319328,
          0.9989495798319328,
          0.9989495798319328,
          1,
          1,
          1,
          1,
          1,
          1,
          1,
          1,
          1,
          1,
          1,
          1,
          1,
          1,
          1,
          1,
          1,
          1,
          1,
          1,
          1,
          1,
          1,
          1,
          1,
          1,
          1,
          1,
          1,
          1,
          1,
          1,
          1,
          1,
          0.9978991596638656,
          0.9978991596638656,
          0.9978991596638656,
          0.9978991596638656,
          0.9978991596638656,
          0.9978991596638656,
          0.9978991596638656,
          0.9978991596638656,
          0.9978991596638656,
          0.9978991596638656,
          0.9978991596638656,
          0.9978991596638656,
          0.9978991596638656,
          0.9978991596638656,
          0.9978991596638656,
          0.9978991596638656,
          0.9978991596638656,
          0.9978991596638656,
          0.9978991596638656,
          0.9978991596638656,
          0.9978991596638656,
          0.9978991596638656,
          0.9978991596638656,
          0.9978991596638656,
          0.9978991596638656,
          0.9978991596638656,
          0.9978991596638656,
          0.9978991596638656,
          0.9978991596638656,
          0.9978991596638656,
          0.9978991596638656,
          0.9978991596638656,
          0.9978991596638656,
          0.9978991596638656,
          0.9978991596638656,
          0.9978991596638656,
          0.9978991596638656,
          0.9978991596638656,
          0.9978991596638656,
          0.9978991596638656,
          0.9978991596638656,
          0.9978991596638656,
          0.9978991596638656,
          0.9978991596638656,
          0.9978991596638656,
          0.9978991596638656,
          0.9978991596638656,
          0.9978991596638656,
          0.9978991596638656,
          0.9978991596638656,
          0.9978991596638656,
          0.9978991596638656,
          0.9978991596638656
         ]
        },
        {
         "marker": {
          "maxdisplayed": 10
         },
         "mode": "lines+markers",
         "name": "Trial52",
         "type": "scatter",
         "x": [
          0,
          1,
          2,
          3,
          4,
          5,
          6,
          7,
          8,
          9,
          10,
          11,
          12,
          13,
          14,
          15,
          16,
          17,
          18,
          19,
          20,
          21,
          22,
          23,
          24,
          25,
          26,
          27,
          28,
          29,
          30,
          31,
          32,
          33,
          34,
          35,
          36,
          37,
          38,
          39,
          40,
          41,
          42,
          43,
          44,
          45,
          46,
          47,
          48,
          49,
          50,
          51,
          52,
          53,
          54,
          55,
          56,
          57,
          58,
          59,
          60,
          61,
          62,
          63,
          64,
          65,
          66,
          67,
          68,
          69,
          70,
          71,
          72,
          73,
          74,
          75,
          76,
          77,
          78,
          79,
          80,
          81,
          82,
          83,
          84,
          85,
          86,
          87,
          88,
          89,
          90,
          91,
          92,
          93,
          94,
          95,
          96,
          97,
          98,
          99
         ],
         "y": [
          0.9515086206896551,
          0.9892241379310345,
          0.9967672413793104,
          0.9978448275862069,
          1,
          1,
          1,
          1,
          1,
          1,
          1,
          1,
          1,
          1,
          1,
          1,
          1,
          1,
          1,
          1,
          1,
          1,
          1,
          1,
          1,
          1,
          1,
          1,
          1,
          1,
          1,
          1,
          1,
          1,
          1,
          1,
          1,
          1,
          1,
          1,
          1,
          1,
          1,
          1,
          1,
          1,
          1,
          1,
          1,
          1,
          1,
          1,
          1,
          1,
          1,
          1,
          1,
          1,
          1,
          1,
          1,
          1,
          1,
          1,
          1,
          1,
          1,
          1,
          1,
          1,
          1,
          1,
          1,
          1,
          1,
          1,
          1,
          1,
          1,
          1,
          1,
          1,
          1,
          1,
          1,
          1,
          1,
          1,
          1,
          1,
          1,
          1,
          1,
          1,
          1,
          1,
          1,
          1,
          1,
          1
         ]
        },
        {
         "marker": {
          "maxdisplayed": 10
         },
         "mode": "lines+markers",
         "name": "Trial53",
         "type": "scatter",
         "x": [
          0,
          1,
          2,
          3,
          4,
          5,
          6,
          7,
          8,
          9,
          10,
          11,
          12,
          13,
          14,
          15,
          16,
          17,
          18,
          19,
          20,
          21,
          22,
          23,
          24,
          25,
          26,
          27,
          28,
          29,
          30,
          31,
          32,
          33,
          34,
          35,
          36,
          37,
          38,
          39,
          40,
          41,
          42,
          43,
          44,
          45,
          46,
          47,
          48,
          49,
          50,
          51,
          52,
          53,
          54,
          55,
          56,
          57,
          58,
          59,
          60,
          61,
          62,
          63,
          64,
          65,
          66,
          67,
          68,
          69,
          70,
          71,
          72,
          73,
          74,
          75,
          76,
          77,
          78,
          79,
          80,
          81,
          82,
          83,
          84,
          85,
          86,
          87,
          88,
          89,
          90,
          91,
          92,
          93,
          94,
          95,
          96,
          97,
          98,
          99
         ],
         "y": [
          0.9482758620689655,
          1,
          1,
          1,
          1,
          1,
          1,
          1,
          1,
          1,
          1,
          1,
          1,
          1,
          1,
          1,
          1,
          1,
          1,
          1,
          1,
          1,
          1,
          1,
          1,
          1,
          1,
          1,
          1,
          1,
          1,
          1,
          1,
          1,
          1,
          1,
          1,
          1,
          1,
          1,
          1,
          1,
          1,
          1,
          1,
          1,
          1,
          1,
          1,
          1,
          1,
          1,
          1,
          1,
          1,
          1,
          1,
          1,
          1,
          1,
          1,
          1,
          1,
          1,
          1,
          1,
          1,
          1,
          1,
          1,
          1,
          1,
          1,
          1,
          1,
          1,
          1,
          1,
          1,
          0.9978448275862069,
          1,
          1,
          0.9956896551724138,
          1,
          0.9956896551724138,
          0.9956896551724138,
          0.9956896551724138,
          0.9956896551724138,
          0.9956896551724138,
          0.9956896551724138,
          0.9956896551724138,
          0.9956896551724138,
          0.9956896551724138,
          0.9956896551724138,
          0.9956896551724138,
          0.9956896551724138,
          0.9956896551724138,
          0.9956896551724138,
          0.9956896551724138,
          0.9956896551724138
         ]
        },
        {
         "marker": {
          "maxdisplayed": 10
         },
         "mode": "lines+markers",
         "name": "Trial54",
         "type": "scatter",
         "x": [
          0,
          1,
          2,
          3,
          4,
          5,
          6,
          7,
          8,
          9,
          10
         ],
         "y": [
          0.9393939393939394,
          0.9393939393939394,
          0.9393939393939394,
          0.9797979797979798,
          0.9797979797979798,
          0.9797979797979798,
          0.9810606060606061,
          0.9810606060606061,
          0.9810606060606061,
          0.9810606060606061,
          0.9810606060606061
         ]
        },
        {
         "marker": {
          "maxdisplayed": 10
         },
         "mode": "lines+markers",
         "name": "Trial55",
         "type": "scatter",
         "x": [
          0,
          1,
          2,
          3,
          4,
          5,
          6,
          7,
          8,
          9,
          10,
          11,
          12,
          13,
          14,
          15,
          16,
          17,
          18,
          19,
          20,
          21,
          22,
          23,
          24,
          25,
          26,
          27,
          28,
          29,
          30,
          31,
          32,
          33,
          34,
          35,
          36,
          37,
          38,
          39,
          40,
          41,
          42,
          43,
          44,
          45,
          46,
          47,
          48,
          49,
          50,
          51,
          52,
          53,
          54,
          55,
          56,
          57,
          58,
          59,
          60,
          61,
          62,
          63,
          64,
          65,
          66,
          67,
          68,
          69,
          70,
          71,
          72,
          73,
          74,
          75,
          76,
          77,
          78,
          79,
          80,
          81,
          82,
          83,
          84,
          85,
          86,
          87,
          88,
          89,
          90,
          91,
          92,
          93,
          94,
          95,
          96,
          97,
          98,
          99
         ],
         "y": [
          0.9516129032258065,
          1,
          1,
          1,
          1,
          1,
          1,
          1,
          1,
          1,
          1,
          1,
          1,
          1,
          1,
          1,
          1,
          1,
          1,
          1,
          1,
          1,
          1,
          1,
          1,
          1,
          1,
          1,
          1,
          1,
          1,
          1,
          1,
          1,
          1,
          1,
          1,
          1,
          1,
          1,
          1,
          1,
          1,
          1,
          1,
          1,
          1,
          1,
          1,
          1,
          1,
          1,
          1,
          1,
          1,
          1,
          1,
          1,
          1,
          1,
          1,
          1,
          1,
          1,
          1,
          1,
          1,
          1,
          1,
          1,
          1,
          1,
          1,
          1,
          1,
          1,
          1,
          1,
          1,
          1,
          1,
          1,
          1,
          1,
          1,
          1,
          1,
          1,
          1,
          1,
          1,
          1,
          1,
          1,
          1,
          1,
          1,
          1,
          1,
          1
         ]
        },
        {
         "marker": {
          "maxdisplayed": 10
         },
         "mode": "lines+markers",
         "name": "Trial56",
         "type": "scatter",
         "x": [
          0,
          1,
          2,
          3,
          4,
          5,
          6,
          7,
          8,
          9,
          10,
          11,
          12,
          13,
          14,
          15,
          16,
          17,
          18,
          19,
          20,
          21,
          22,
          23,
          24,
          25,
          26,
          27,
          28,
          29,
          30,
          31,
          32,
          33,
          34,
          35,
          36,
          37,
          38,
          39,
          40,
          41,
          42,
          43,
          44,
          45,
          46,
          47,
          48,
          49,
          50,
          51,
          52,
          53,
          54,
          55,
          56,
          57,
          58,
          59,
          60,
          61,
          62,
          63,
          64,
          65,
          66,
          67,
          68,
          69,
          70,
          71,
          72,
          73,
          74,
          75,
          76,
          77,
          78,
          79,
          80,
          81,
          82,
          83,
          84,
          85,
          86,
          87,
          88,
          89,
          90,
          91,
          92,
          93,
          94,
          95,
          96,
          97,
          98,
          99
         ],
         "y": [
          0.9789915966386554,
          0.9789915966386554,
          1,
          1,
          1,
          1,
          1,
          1,
          1,
          1,
          1,
          1,
          1,
          1,
          1,
          1,
          1,
          1,
          1,
          1,
          1,
          1,
          1,
          1,
          1,
          1,
          1,
          1,
          1,
          1,
          1,
          1,
          1,
          1,
          1,
          1,
          1,
          1,
          1,
          1,
          1,
          1,
          1,
          1,
          1,
          1,
          1,
          1,
          1,
          1,
          1,
          1,
          1,
          1,
          1,
          1,
          1,
          1,
          1,
          1,
          1,
          1,
          1,
          1,
          1,
          1,
          1,
          1,
          1,
          1,
          1,
          1,
          1,
          1,
          1,
          1,
          1,
          1,
          1,
          1,
          1,
          1,
          1,
          1,
          1,
          1,
          1,
          1,
          1,
          1,
          1,
          1,
          1,
          1,
          1,
          1,
          1,
          1,
          1,
          1
         ]
        },
        {
         "marker": {
          "maxdisplayed": 10
         },
         "mode": "lines+markers",
         "name": "Trial57",
         "type": "scatter",
         "x": [
          0,
          1,
          2,
          3,
          4,
          5,
          6,
          7,
          8,
          9,
          10,
          11,
          12,
          13,
          14,
          15,
          16,
          17,
          18,
          19,
          20,
          21,
          22,
          23,
          24,
          25,
          26,
          27,
          28,
          29,
          30,
          31,
          32,
          33,
          34,
          35,
          36,
          37,
          38,
          39,
          40,
          41,
          42,
          43,
          44,
          45,
          46,
          47,
          48,
          49,
          50,
          51,
          52,
          53,
          54,
          55,
          56,
          57,
          58,
          59,
          60,
          61,
          62,
          63,
          64,
          65,
          66,
          67,
          68,
          69,
          70,
          71,
          72,
          73,
          74,
          75,
          76,
          77,
          78,
          79,
          80,
          81,
          82,
          83,
          84,
          85,
          86,
          87,
          88,
          89,
          90,
          91,
          92,
          93,
          94,
          95,
          96,
          97,
          98,
          99
         ],
         "y": [
          0.9558823529411765,
          0.9558823529411765,
          1,
          1,
          1,
          1,
          1,
          1,
          1,
          1,
          1,
          1,
          1,
          1,
          1,
          1,
          1,
          1,
          1,
          1,
          1,
          1,
          1,
          1,
          1,
          1,
          1,
          1,
          1,
          1,
          1,
          1,
          1,
          1,
          1,
          1,
          1,
          1,
          1,
          1,
          1,
          1,
          1,
          1,
          1,
          1,
          1,
          1,
          1,
          1,
          1,
          1,
          1,
          1,
          1,
          1,
          1,
          1,
          1,
          1,
          1,
          1,
          1,
          1,
          1,
          1,
          1,
          1,
          1,
          1,
          1,
          1,
          1,
          1,
          1,
          1,
          1,
          1,
          1,
          1,
          1,
          1,
          1,
          1,
          1,
          1,
          1,
          1,
          1,
          1,
          1,
          1,
          1,
          1,
          1,
          1,
          1,
          1,
          1,
          1
         ]
        },
        {
         "marker": {
          "maxdisplayed": 10
         },
         "mode": "lines+markers",
         "name": "Trial58",
         "type": "scatter",
         "x": [
          0,
          1,
          2,
          3,
          4,
          5,
          6,
          7,
          8,
          9,
          10,
          11,
          12
         ],
         "y": [
          0.8428853754940712,
          0.9723320158102767,
          0.9970355731225297,
          0.9970355731225297,
          0.9970355731225297,
          0.9970355731225297,
          0.9970355731225297,
          0.9990118577075099,
          0.9990118577075099,
          0.9990118577075099,
          0.9990118577075099,
          0.9990118577075099,
          0.9990118577075099
         ]
        },
        {
         "marker": {
          "maxdisplayed": 10
         },
         "mode": "lines+markers",
         "name": "Trial59",
         "type": "scatter",
         "x": [
          0,
          1,
          2,
          3,
          4,
          5,
          6,
          7,
          8,
          9,
          10
         ],
         "y": [
          0.5,
          0.5,
          0.5,
          0.5,
          0.5,
          0.5,
          0.5,
          0.5,
          0.5,
          0.5,
          0.5
         ]
        },
        {
         "marker": {
          "maxdisplayed": 10
         },
         "mode": "lines+markers",
         "name": "Trial60",
         "type": "scatter",
         "x": [
          0,
          1,
          2,
          3,
          4,
          5,
          6,
          7,
          8,
          9,
          10
         ],
         "y": [
          0.8455882352941176,
          0.8455882352941176,
          0.9810924369747899,
          0.9810924369747899,
          0.9810924369747899,
          0.9810924369747899,
          0.9810924369747899,
          0.9810924369747899,
          0.9810924369747899,
          0.9831932773109243,
          0.9831932773109243
         ]
        },
        {
         "marker": {
          "maxdisplayed": 10
         },
         "mode": "lines+markers",
         "name": "Trial61",
         "type": "scatter",
         "x": [
          0,
          1,
          2,
          3,
          4,
          5,
          6,
          7,
          8,
          9,
          10
         ],
         "y": [
          0.7790948275862069,
          0.7790948275862069,
          0.7790948275862069,
          0.9525862068965517,
          0.9762931034482759,
          0.9935344827586207,
          0.9935344827586207,
          0.9935344827586207,
          0.9935344827586207,
          0.9806034482758621,
          0.9806034482758621
         ]
        },
        {
         "marker": {
          "maxdisplayed": 10
         },
         "mode": "lines+markers",
         "name": "Trial62",
         "type": "scatter",
         "x": [
          0,
          1,
          2,
          3,
          4,
          5,
          6,
          7,
          8,
          9,
          10,
          11,
          12
         ],
         "y": [
          0.9259259259259259,
          0.9814814814814815,
          0.9814814814814815,
          0.9989711934156379,
          0.992798353909465,
          0.992798353909465,
          0.992798353909465,
          0.992798353909465,
          0.992798353909465,
          0.992798353909465,
          0.992798353909465,
          0.992798353909465,
          0.9938271604938271
         ]
        },
        {
         "marker": {
          "maxdisplayed": 10
         },
         "mode": "lines+markers",
         "name": "Trial63",
         "type": "scatter",
         "x": [
          0,
          1,
          2,
          3,
          4,
          5,
          6,
          7,
          8,
          9,
          10
         ],
         "y": [
          0.5,
          0.5,
          0.5,
          0.5,
          0.5,
          0.5,
          0.5,
          0.5,
          0.5,
          0.5,
          0.5
         ]
        },
        {
         "marker": {
          "maxdisplayed": 10
         },
         "mode": "lines+markers",
         "name": "Trial64",
         "type": "scatter",
         "x": [
          0,
          1,
          2,
          3,
          4,
          5,
          6,
          7,
          8,
          9,
          10,
          11,
          12,
          13,
          14,
          15,
          16,
          17,
          18,
          19,
          20,
          21,
          22,
          23,
          24,
          25,
          26,
          27,
          28,
          29,
          30,
          31,
          32,
          33,
          34,
          35,
          36,
          37,
          38,
          39,
          40,
          41,
          42,
          43,
          44,
          45,
          46,
          47,
          48,
          49,
          50,
          51,
          52,
          53,
          54,
          55,
          56,
          57,
          58,
          59,
          60,
          61,
          62,
          63,
          64,
          65,
          66,
          67,
          68,
          69,
          70,
          71,
          72,
          73,
          74,
          75,
          76,
          77,
          78,
          79,
          80,
          81,
          82,
          83,
          84,
          85,
          86,
          87,
          88,
          89,
          90,
          91,
          92,
          93,
          94,
          95,
          96,
          97,
          98,
          99
         ],
         "y": [
          0.88,
          1,
          1,
          1,
          1,
          1,
          1,
          1,
          1,
          1,
          1,
          1,
          1,
          1,
          1,
          1,
          1,
          1,
          1,
          1,
          1,
          1,
          1,
          1,
          1,
          1,
          1,
          1,
          1,
          1,
          1,
          1,
          1,
          1,
          1,
          1,
          1,
          1,
          1,
          1,
          1,
          1,
          1,
          1,
          1,
          1,
          1,
          1,
          1,
          1,
          1,
          1,
          1,
          1,
          1,
          1,
          0.998,
          1,
          0.998,
          0.998,
          0.998,
          1,
          1,
          1,
          1,
          1,
          1,
          1,
          1,
          1,
          1,
          1,
          1,
          1,
          0.998,
          1,
          0.998,
          1,
          0.998,
          0.998,
          0.998,
          1,
          1,
          1,
          1,
          1,
          1,
          0.998,
          0.998,
          0.998,
          0.998,
          0.998,
          0.998,
          0.998,
          0.996,
          0.996,
          0.994,
          0.996,
          0.996,
          0.996
         ]
        },
        {
         "marker": {
          "maxdisplayed": 10
         },
         "mode": "lines+markers",
         "name": "Trial65",
         "type": "scatter",
         "x": [
          0,
          1,
          2,
          3,
          4,
          5,
          6,
          7,
          8,
          9,
          10,
          11,
          12,
          13,
          14,
          15,
          16,
          17,
          18,
          19,
          20,
          21,
          22,
          23,
          24,
          25,
          26,
          27,
          28,
          29,
          30,
          31,
          32,
          33,
          34,
          35,
          36,
          37,
          38,
          39,
          40,
          41,
          42,
          43,
          44,
          45,
          46,
          47,
          48,
          49,
          50,
          51,
          52,
          53,
          54,
          55,
          56,
          57,
          58,
          59,
          60,
          61,
          62,
          63,
          64,
          65,
          66,
          67,
          68,
          69,
          70,
          71,
          72,
          73,
          74,
          75,
          76,
          77,
          78,
          79,
          80,
          81,
          82,
          83,
          84,
          85,
          86,
          87,
          88,
          89,
          90,
          91,
          92,
          93,
          94,
          95,
          96,
          97,
          98,
          99
         ],
         "y": [
          0.9310344827586207,
          0.9310344827586207,
          1,
          0.9913793103448276,
          0.9913793103448276,
          0.9913793103448276,
          0.9913793103448276,
          0.9913793103448276,
          0.9913793103448276,
          0.9913793103448276,
          0.9913793103448276,
          0.9913793103448276,
          0.9913793103448276,
          0.9913793103448276,
          0.9913793103448276,
          0.9913793103448276,
          0.9913793103448276,
          0.9913793103448276,
          0.9913793103448276,
          0.9913793103448276,
          0.9913793103448276,
          0.9892241379310345,
          0.9913793103448276,
          0.9892241379310345,
          0.9892241379310345,
          0.9892241379310345,
          0.9935344827586207,
          0.9935344827586207,
          0.9935344827586207,
          0.9935344827586207,
          0.9935344827586207,
          0.9935344827586207,
          0.9935344827586207,
          0.9913793103448276,
          0.9913793103448276,
          0.9913793103448276,
          0.9913793103448276,
          0.9935344827586207,
          0.9935344827586207,
          0.9935344827586207,
          0.9956896551724138,
          0.9935344827586207,
          0.9956896551724138,
          0.9956896551724138,
          0.9956896551724138,
          0.9956896551724138,
          0.9956896551724138,
          0.9956896551724138,
          0.9935344827586207,
          0.9935344827586207,
          0.9935344827586207,
          0.9913793103448276,
          0.9913793103448276,
          0.9913793103448276,
          0.9913793103448276,
          0.9913793103448276,
          0.9913793103448276,
          0.9913793103448276,
          0.9913793103448276,
          0.9913793103448276,
          0.9935344827586207,
          0.9956896551724138,
          0.9956896551724138,
          0.9956896551724138,
          0.9956896551724138,
          0.9956896551724138,
          0.9956896551724138,
          0.9956896551724138,
          1,
          0.9956896551724138,
          0.9956896551724138,
          0.9956896551724138,
          0.9956896551724138,
          0.9956896551724138,
          0.9935344827586207,
          0.9935344827586207,
          0.9978448275862069,
          0.9978448275862069,
          0.9978448275862069,
          0.9978448275862069,
          0.9978448275862069,
          0.9956896551724138,
          0.9956896551724138,
          0.9956896551724138,
          0.9956896551724138,
          0.9956896551724138,
          0.9956896551724138,
          0.9956896551724138,
          0.9956896551724138,
          0.9935344827586207,
          0.9935344827586207,
          0.9956896551724138,
          0.9978448275862069,
          0.9978448275862069,
          0.9978448275862069,
          0.9978448275862069,
          0.9956896551724138,
          0.9978448275862069,
          0.9956896551724138,
          0.9956896551724138
         ]
        },
        {
         "marker": {
          "maxdisplayed": 10
         },
         "mode": "lines+markers",
         "name": "Trial66",
         "type": "scatter",
         "x": [
          0,
          1,
          2,
          3,
          4,
          5,
          6,
          7,
          8,
          9,
          10
         ],
         "y": [
          0.8977272727272727,
          0.8977272727272727,
          0.8977272727272727,
          0.8977272727272727,
          0.8952020202020202,
          0.9671717171717171,
          0.9671717171717171,
          0.9671717171717171,
          0.9671717171717171,
          0.9671717171717171,
          0.9671717171717171
         ]
        },
        {
         "marker": {
          "maxdisplayed": 10
         },
         "mode": "lines+markers",
         "name": "Trial67",
         "type": "scatter",
         "x": [
          0,
          1,
          2,
          3,
          4,
          5,
          6,
          7,
          8,
          9,
          10
         ],
         "y": [
          0.5,
          0.5,
          0.5,
          0.8825431034482759,
          0.8825431034482759,
          0.9568965517241379,
          0.9568965517241379,
          0.9568965517241379,
          0.9568965517241379,
          0.9568965517241379,
          0.9568965517241379
         ]
        },
        {
         "marker": {
          "maxdisplayed": 10
         },
         "mode": "lines+markers",
         "name": "Trial68",
         "type": "scatter",
         "x": [
          0,
          1,
          2,
          3,
          4,
          5,
          6,
          7,
          8,
          9,
          10,
          11,
          12,
          13,
          14,
          15,
          16,
          17,
          18,
          19,
          20,
          21,
          22,
          23,
          24,
          25,
          26,
          27,
          28,
          29,
          30,
          31,
          32,
          33,
          34,
          35,
          36,
          37,
          38,
          39,
          40,
          41,
          42,
          43,
          44,
          45,
          46,
          47,
          48,
          49,
          50,
          51,
          52,
          53,
          54,
          55,
          56,
          57,
          58,
          59,
          60,
          61,
          62,
          63,
          64,
          65,
          66,
          67,
          68,
          69,
          70,
          71,
          72,
          73,
          74,
          75,
          76,
          77,
          78,
          79,
          80,
          81,
          82,
          83,
          84,
          85,
          86,
          87,
          88,
          89,
          90,
          91,
          92,
          93,
          94,
          95,
          96,
          97,
          98,
          99
         ],
         "y": [
          0.8518518518518519,
          0.9814814814814815,
          0.9814814814814815,
          1,
          1,
          1,
          1,
          1,
          1,
          1,
          1,
          1,
          1,
          1,
          1,
          1,
          1,
          1,
          1,
          0.9814814814814815,
          0.9814814814814815,
          0.9814814814814815,
          0.9814814814814815,
          0.9814814814814815,
          0.9814814814814815,
          0.9814814814814815,
          0.9814814814814815,
          0.9814814814814815,
          0.9814814814814815,
          0.9814814814814815,
          0.9814814814814815,
          0.9814814814814815,
          0.9814814814814815,
          0.9814814814814815,
          0.9938271604938271,
          0.9938271604938271,
          0.9814814814814815,
          0.9814814814814815,
          0.9814814814814815,
          0.9814814814814815,
          0.9814814814814815,
          0.9814814814814815,
          0.9814814814814815,
          0.9938271604938271,
          0.9938271604938271,
          0.9814814814814815,
          0.9814814814814815,
          0.9814814814814815,
          0.9814814814814815,
          0.9814814814814815,
          0.9814814814814815,
          0.9814814814814815,
          0.9814814814814815,
          0.9814814814814815,
          0.9814814814814815,
          0.9814814814814815,
          0.9938271604938271,
          0.9897119341563786,
          0.9938271604938271,
          0.9938271604938271,
          0.9938271604938271,
          0.9938271604938271,
          0.9938271604938271,
          0.9938271604938271,
          0.9938271604938271,
          0.9938271604938271,
          0.9938271604938271,
          0.9938271604938271,
          0.9938271604938271,
          0.9938271604938271,
          0.9938271604938271,
          0.9938271604938271,
          0.9938271604938271,
          0.9938271604938271,
          0.9938271604938271,
          0.9938271604938271,
          0.9938271604938271,
          0.9897119341563786,
          0.9876543209876543,
          0.9876543209876543,
          0.9835390946502057,
          0.9835390946502057,
          0.9876543209876543,
          0.9876543209876543,
          0.9835390946502057,
          0.9835390946502057,
          0.9814814814814815,
          0.9814814814814815,
          0.9814814814814815,
          0.9814814814814815,
          0.9814814814814815,
          0.9814814814814815,
          0.9814814814814815,
          0.9814814814814815,
          0.9814814814814815,
          0.9814814814814815,
          0.9814814814814815,
          0.9814814814814815,
          0.9835390946502057,
          0.9835390946502057
         ]
        },
        {
         "marker": {
          "maxdisplayed": 10
         },
         "mode": "lines+markers",
         "name": "Trial69",
         "type": "scatter",
         "x": [
          0,
          1,
          2,
          3,
          4,
          5,
          6,
          7,
          8,
          9,
          10
         ],
         "y": [
          0.85,
          0.85,
          0.8388888888888889,
          0.8388888888888889,
          0.8388888888888889,
          0.8388888888888889,
          0.8388888888888889,
          0.9344444444444444,
          0.94,
          0.96,
          0.96
         ]
        },
        {
         "marker": {
          "maxdisplayed": 10
         },
         "mode": "lines+markers",
         "name": "Trial70",
         "type": "scatter",
         "x": [
          0,
          1,
          2,
          3,
          4,
          5,
          6,
          7,
          8,
          9,
          10,
          11,
          12,
          13,
          14,
          15,
          16,
          17,
          18,
          19,
          20,
          21,
          22,
          23,
          24,
          25,
          26,
          27,
          28,
          29,
          30,
          31,
          32,
          33,
          34,
          35,
          36,
          37,
          38,
          39,
          40,
          41,
          42,
          43,
          44,
          45,
          46,
          47,
          48,
          49,
          50,
          51,
          52,
          53,
          54,
          55,
          56,
          57,
          58,
          59,
          60,
          61,
          62,
          63,
          64,
          65,
          66,
          67,
          68,
          69,
          70,
          71,
          72,
          73,
          74,
          75,
          76,
          77,
          78,
          79,
          80,
          81,
          82,
          83,
          84,
          85,
          86,
          87,
          88,
          89,
          90,
          91,
          92,
          93,
          94,
          95,
          96,
          97,
          98,
          99
         ],
         "y": [
          0.8103448275862069,
          0.9881465517241379,
          0.9913793103448276,
          1,
          1,
          1,
          1,
          1,
          1,
          1,
          0.9978448275862069,
          0.9849137931034483,
          0.9849137931034483,
          0.9892241379310345,
          0.9892241379310345,
          0.9892241379310345,
          0.9892241379310345,
          0.9892241379310345,
          0.9892241379310345,
          0.9892241379310345,
          0.9935344827586207,
          0.9935344827586207,
          0.9935344827586207,
          0.9935344827586207,
          1,
          1,
          1,
          1,
          1,
          1,
          1,
          0.9978448275862069,
          1,
          1,
          1,
          1,
          1,
          1,
          1,
          1,
          0.9978448275862069,
          0.9978448275862069,
          0.9978448275862069,
          1,
          0.9978448275862069,
          0.9978448275862069,
          0.9978448275862069,
          1,
          1,
          1,
          1,
          1,
          1,
          1,
          1,
          1,
          1,
          1,
          0.9978448275862069,
          0.9978448275862069,
          1,
          1,
          1,
          1,
          1,
          1,
          1,
          1,
          1,
          1,
          1,
          1,
          1,
          1,
          1,
          1,
          1,
          1,
          1,
          1,
          1,
          1,
          1,
          1,
          1,
          1,
          1,
          1,
          1,
          1,
          1,
          1,
          1,
          1,
          1,
          1,
          1,
          1,
          1,
          1
         ]
        },
        {
         "marker": {
          "maxdisplayed": 10
         },
         "mode": "lines+markers",
         "name": "Trial71",
         "type": "scatter",
         "x": [
          0,
          1,
          2,
          3,
          4,
          5,
          6,
          7,
          8,
          9,
          10
         ],
         "y": [
          0.9142857142857143,
          0.9142857142857143,
          0.9142857142857143,
          0.9771428571428571,
          0.9828571428571429,
          0.9814285714285714,
          0.9785714285714285,
          0.9728571428571429,
          0.97,
          0.9728571428571429,
          0.97
         ]
        },
        {
         "marker": {
          "maxdisplayed": 10
         },
         "mode": "lines+markers",
         "name": "Trial72",
         "type": "scatter",
         "x": [
          0,
          1,
          2,
          3,
          4,
          5,
          6,
          7,
          8,
          9,
          10
         ],
         "y": [
          0.5,
          0.5,
          0.5,
          0.5,
          0.5,
          0.5,
          0.5,
          0.5,
          0.5,
          0.5,
          0.5
         ]
        },
        {
         "marker": {
          "maxdisplayed": 10
         },
         "mode": "lines+markers",
         "name": "Trial73",
         "type": "scatter",
         "x": [
          0,
          1,
          2,
          3,
          4,
          5,
          6,
          7,
          8,
          9,
          10,
          11,
          12,
          13,
          14,
          15,
          16,
          17,
          18,
          19,
          20,
          21,
          22,
          23,
          24,
          25,
          26,
          27,
          28,
          29,
          30,
          31,
          32,
          33,
          34,
          35,
          36,
          37,
          38,
          39,
          40,
          41,
          42,
          43,
          44,
          45,
          46,
          47,
          48,
          49,
          50,
          51,
          52,
          53,
          54,
          55,
          56,
          57,
          58,
          59,
          60,
          61,
          62,
          63,
          64,
          65,
          66,
          67,
          68,
          69,
          70,
          71,
          72,
          73,
          74,
          75,
          76,
          77,
          78,
          79,
          80,
          81,
          82,
          83,
          84,
          85,
          86,
          87,
          88,
          89,
          90,
          91,
          92,
          93,
          94,
          95,
          96,
          97,
          98,
          99
         ],
         "y": [
          0.9333333333333333,
          0.9333333333333333,
          0.9333333333333333,
          0.9333333333333333,
          0.9333333333333333,
          1,
          1,
          1,
          1,
          1,
          1,
          1,
          1,
          1,
          1,
          1,
          1,
          1,
          1,
          1,
          1,
          1,
          1,
          1,
          1,
          1,
          1,
          1,
          1,
          1,
          1,
          1,
          1,
          1,
          1,
          1,
          1,
          1,
          1,
          1,
          1,
          1,
          1,
          1,
          1,
          1,
          1,
          1,
          1,
          1,
          1,
          1,
          1,
          1,
          1,
          1,
          1,
          1,
          0.9977777777777778,
          1,
          1,
          1,
          1,
          1,
          1,
          1,
          1,
          1,
          1,
          1,
          1,
          1,
          1,
          1,
          1,
          1,
          1,
          1,
          1,
          1,
          1,
          1,
          1,
          1,
          1,
          1,
          1,
          1,
          1,
          1,
          1,
          1,
          1,
          1,
          1,
          1,
          1,
          1,
          1,
          1
         ]
        },
        {
         "marker": {
          "maxdisplayed": 10
         },
         "mode": "lines+markers",
         "name": "Trial74",
         "type": "scatter",
         "x": [
          0,
          1,
          2,
          3,
          4,
          5,
          6,
          7,
          8,
          9,
          10
         ],
         "y": [
          0.8876050420168067,
          0.8876050420168067,
          0.8876050420168067,
          0.8876050420168067,
          0.8876050420168067,
          0.9779411764705882,
          0.9779411764705882,
          0.9779411764705882,
          0.9779411764705882,
          0.9779411764705882,
          0.9810924369747899
         ]
        },
        {
         "marker": {
          "maxdisplayed": 10
         },
         "mode": "lines+markers",
         "name": "Trial75",
         "type": "scatter",
         "x": [
          0,
          1,
          2,
          3,
          4,
          5,
          6,
          7,
          8,
          9,
          10
         ],
         "y": [
          0.8728991596638656,
          0.8907563025210085,
          0.9023109243697479,
          0.9432773109243697,
          0.9432773109243697,
          0.9432773109243697,
          0.9590336134453782,
          0.9611344537815126,
          0.9611344537815126,
          0.9611344537815126,
          0.9611344537815126
         ]
        },
        {
         "marker": {
          "maxdisplayed": 10
         },
         "mode": "lines+markers",
         "name": "Trial76",
         "type": "scatter",
         "x": [
          0,
          1,
          2,
          3,
          4,
          5,
          6,
          7,
          8,
          9,
          10,
          11
         ],
         "y": [
          0.9310344827586207,
          0.9396551724137931,
          0.978448275862069,
          0.9719827586206896,
          0.9913793103448276,
          0.9978448275862069,
          0.9935344827586207,
          0.9892241379310345,
          0.9935344827586207,
          0.9978448275862069,
          0.9935344827586207,
          0.9935344827586207
         ]
        },
        {
         "marker": {
          "maxdisplayed": 10
         },
         "mode": "lines+markers",
         "name": "Trial77",
         "type": "scatter",
         "x": [
          0,
          1,
          2,
          3,
          4,
          5,
          6,
          7,
          8,
          9,
          10
         ],
         "y": [
          0.5,
          0.5,
          0.5,
          0.5,
          0.5,
          0.5,
          0.5,
          0.5,
          0.5,
          0.5,
          0.5
         ]
        },
        {
         "marker": {
          "maxdisplayed": 10
         },
         "mode": "lines+markers",
         "name": "Trial78",
         "type": "scatter",
         "x": [
          0,
          1,
          2,
          3,
          4,
          5,
          6,
          7,
          8,
          9,
          10
         ],
         "y": [
          0.9166666666666666,
          0.9166666666666666,
          0.9166666666666666,
          0.9866666666666667,
          0.9866666666666667,
          0.9866666666666667,
          0.9866666666666667,
          0.9866666666666667,
          0.9866666666666667,
          0.9866666666666667,
          0.9866666666666667
         ]
        },
        {
         "marker": {
          "maxdisplayed": 10
         },
         "mode": "lines+markers",
         "name": "Trial79",
         "type": "scatter",
         "x": [
          0,
          1,
          2,
          3,
          4,
          5,
          6,
          7,
          8,
          9,
          10
         ],
         "y": [
          0.9516129032258065,
          0.9838709677419355,
          0.9838709677419355,
          0.9838709677419355,
          0.9838709677419355,
          0.9838709677419355,
          0.9838709677419355,
          0.9838709677419355,
          0.9838709677419355,
          0.9838709677419355,
          0.9838709677419355
         ]
        },
        {
         "marker": {
          "maxdisplayed": 10
         },
         "mode": "lines+markers",
         "name": "Trial80",
         "type": "scatter",
         "x": [
          0,
          1,
          2,
          3,
          4,
          5,
          6,
          7,
          8,
          9,
          10,
          11,
          12,
          13,
          14,
          15,
          16,
          17,
          18,
          19,
          20,
          21,
          22,
          23,
          24,
          25,
          26,
          27,
          28,
          29,
          30,
          31,
          32,
          33,
          34,
          35,
          36,
          37,
          38,
          39,
          40,
          41,
          42,
          43,
          44,
          45,
          46,
          47,
          48,
          49,
          50,
          51,
          52,
          53,
          54,
          55,
          56,
          57,
          58,
          59,
          60,
          61,
          62,
          63,
          64,
          65,
          66,
          67,
          68,
          69,
          70,
          71,
          72,
          73,
          74,
          75,
          76,
          77,
          78,
          79,
          80,
          81,
          82,
          83,
          84,
          85,
          86,
          87,
          88,
          89,
          90,
          91,
          92,
          93,
          94,
          95,
          96,
          97,
          98,
          99
         ],
         "y": [
          0.8939393939393939,
          0.8939393939393939,
          0.9848484848484849,
          1,
          1,
          1,
          1,
          1,
          1,
          1,
          1,
          1,
          1,
          1,
          1,
          1,
          1,
          1,
          1,
          1,
          1,
          1,
          1,
          1,
          1,
          1,
          1,
          1,
          1,
          1,
          1,
          1,
          1,
          1,
          1,
          1,
          1,
          1,
          1,
          1,
          1,
          1,
          1,
          1,
          1,
          1,
          1,
          1,
          1,
          1,
          1,
          1,
          1,
          1,
          1,
          1,
          1,
          1,
          1,
          1,
          1,
          1,
          1,
          1,
          1,
          1,
          1,
          1,
          1,
          1,
          1,
          1,
          1,
          1,
          1,
          1,
          1,
          1,
          1,
          1,
          1,
          1,
          1,
          1,
          1,
          1,
          1,
          1,
          1,
          1,
          1,
          1,
          1,
          1,
          1,
          1,
          1,
          1,
          1,
          1
         ]
        },
        {
         "marker": {
          "maxdisplayed": 10
         },
         "mode": "lines+markers",
         "name": "Trial81",
         "type": "scatter",
         "x": [
          0,
          1,
          2,
          3,
          4,
          5,
          6,
          7,
          8,
          9,
          10
         ],
         "y": [
          0.9166666666666666,
          0.9166666666666666,
          0.9244444444444444,
          0.9244444444444444,
          0.9244444444444444,
          0.9677777777777777,
          0.9677777777777777,
          0.9744444444444444,
          0.9744444444444444,
          0.9811111111111112,
          0.9911111111111112
         ]
        },
        {
         "marker": {
          "maxdisplayed": 10
         },
         "mode": "lines+markers",
         "name": "Trial82",
         "type": "scatter",
         "x": [
          0,
          1,
          2,
          3,
          4,
          5,
          6,
          7,
          8,
          9,
          10
         ],
         "y": [
          0.5,
          0.5,
          0.5,
          0.5,
          0.5,
          0.5,
          0.5,
          0.5,
          0.5,
          0.5,
          0.5
         ]
        },
        {
         "marker": {
          "maxdisplayed": 10
         },
         "mode": "lines+markers",
         "name": "Trial83",
         "type": "scatter",
         "x": [
          0,
          1,
          2,
          3,
          4,
          5,
          6,
          7,
          8,
          9,
          10,
          11,
          12,
          13,
          14,
          15,
          16,
          17,
          18,
          19,
          20,
          21,
          22,
          23,
          24,
          25,
          26,
          27,
          28,
          29,
          30,
          31,
          32,
          33,
          34,
          35,
          36,
          37,
          38,
          39,
          40,
          41,
          42,
          43,
          44,
          45,
          46,
          47,
          48,
          49,
          50,
          51,
          52,
          53,
          54,
          55,
          56,
          57,
          58,
          59,
          60,
          61,
          62,
          63,
          64,
          65,
          66,
          67,
          68,
          69,
          70,
          71,
          72,
          73,
          74,
          75,
          76,
          77,
          78,
          79,
          80,
          81,
          82,
          83,
          84,
          85,
          86,
          87,
          88,
          89,
          90,
          91,
          92,
          93,
          94,
          95,
          96,
          97,
          98,
          99
         ],
         "y": [
          1,
          1,
          1,
          1,
          1,
          1,
          1,
          1,
          1,
          1,
          1,
          1,
          1,
          1,
          1,
          1,
          1,
          1,
          1,
          1,
          1,
          1,
          1,
          1,
          1,
          1,
          1,
          1,
          1,
          1,
          1,
          1,
          1,
          1,
          1,
          1,
          1,
          1,
          1,
          1,
          1,
          1,
          1,
          1,
          1,
          1,
          1,
          1,
          1,
          1,
          1,
          1,
          1,
          1,
          1,
          1,
          1,
          1,
          1,
          1,
          1,
          1,
          1,
          1,
          1,
          1,
          1,
          1,
          1,
          1,
          1,
          1,
          1,
          1,
          1,
          1,
          1,
          1,
          1,
          1,
          1,
          1,
          1,
          1,
          1,
          1,
          1,
          1,
          1,
          1,
          1,
          1,
          1,
          1,
          1,
          1,
          1,
          1,
          1,
          1
         ]
        },
        {
         "marker": {
          "maxdisplayed": 10
         },
         "mode": "lines+markers",
         "name": "Trial84",
         "type": "scatter",
         "x": [
          0,
          1,
          2,
          3,
          4,
          5,
          6,
          7,
          8,
          9,
          10
         ],
         "y": [
          0.5,
          0.5,
          0.5,
          0.5,
          0.5,
          0.5,
          0.5,
          0.5,
          0.5,
          0.5,
          0.5
         ]
        },
        {
         "marker": {
          "maxdisplayed": 10
         },
         "mode": "lines+markers",
         "name": "Trial85",
         "type": "scatter",
         "x": [
          0,
          1,
          2,
          3,
          4,
          5,
          6,
          7,
          8,
          9,
          10,
          11,
          12,
          13,
          14,
          15,
          16,
          17,
          18,
          19,
          20,
          21,
          22,
          23,
          24,
          25,
          26,
          27,
          28,
          29,
          30,
          31,
          32,
          33,
          34,
          35,
          36,
          37,
          38,
          39,
          40,
          41,
          42,
          43,
          44,
          45,
          46,
          47,
          48,
          49,
          50,
          51,
          52,
          53,
          54,
          55,
          56,
          57,
          58,
          59,
          60,
          61,
          62,
          63,
          64,
          65,
          66,
          67,
          68,
          69,
          70,
          71,
          72,
          73,
          74,
          75,
          76,
          77,
          78,
          79,
          80,
          81,
          82,
          83,
          84,
          85,
          86,
          87,
          88,
          89,
          90,
          91,
          92,
          93,
          94,
          95,
          96,
          97,
          98,
          99
         ],
         "y": [
          0.9571428571428572,
          0.9571428571428572,
          0.9571428571428572,
          0.9571428571428572,
          1,
          1,
          1,
          1,
          1,
          1,
          1,
          1,
          1,
          1,
          1,
          1,
          1,
          1,
          1,
          1,
          1,
          1,
          1,
          1,
          1,
          1,
          1,
          1,
          1,
          1,
          1,
          1,
          1,
          1,
          1,
          1,
          1,
          1,
          1,
          1,
          1,
          1,
          1,
          1,
          1,
          1,
          1,
          1,
          1,
          1,
          1,
          1,
          1,
          1,
          1,
          1,
          1,
          1,
          1,
          1,
          1,
          1,
          1,
          1,
          1,
          1,
          1,
          1,
          1,
          1,
          1,
          1,
          1,
          1,
          1,
          1,
          1,
          1,
          1,
          1,
          1,
          1,
          1,
          1,
          1,
          1,
          1,
          1,
          1,
          1,
          1,
          1,
          1,
          1,
          1,
          1,
          1,
          1,
          1,
          1
         ]
        },
        {
         "marker": {
          "maxdisplayed": 10
         },
         "mode": "lines+markers",
         "name": "Trial86",
         "type": "scatter",
         "x": [
          0,
          1,
          2,
          3,
          4,
          5,
          6,
          7,
          8,
          9,
          10
         ],
         "y": [
          0.9350961538461539,
          0.9651442307692307,
          0.9879807692307693,
          0.9927884615384616,
          0.9951923076923077,
          0.9951923076923077,
          0.9951923076923077,
          0.9951923076923077,
          0.9951923076923077,
          0.9927884615384616,
          0.9927884615384616
         ]
        },
        {
         "marker": {
          "maxdisplayed": 10
         },
         "mode": "lines+markers",
         "name": "Trial87",
         "type": "scatter",
         "x": [
          0,
          1,
          2,
          3,
          4,
          5,
          6,
          7,
          8,
          9,
          10
         ],
         "y": [
          0.5,
          0.5,
          0.5,
          0.5,
          0.5,
          0.5,
          0.5,
          0.5,
          0.5,
          0.5,
          0.5
         ]
        },
        {
         "marker": {
          "maxdisplayed": 10
         },
         "mode": "lines+markers",
         "name": "Trial88",
         "type": "scatter",
         "x": [
          0,
          1,
          2,
          3,
          4,
          5,
          6,
          7,
          8,
          9,
          10
         ],
         "y": [
          0.8333333333333334,
          0.9444444444444444,
          0.9444444444444444,
          0.9783950617283951,
          0.970164609053498,
          0.970164609053498,
          0.9742798353909465,
          0.9742798353909465,
          0.9742798353909465,
          0.9742798353909465,
          0.9742798353909465
         ]
        },
        {
         "marker": {
          "maxdisplayed": 10
         },
         "mode": "lines+markers",
         "name": "Trial89",
         "type": "scatter",
         "x": [
          0,
          1,
          2,
          3,
          4,
          5,
          6,
          7,
          8,
          9,
          10,
          11,
          12,
          13,
          14,
          15,
          16,
          17,
          18,
          19,
          20,
          21,
          22,
          23,
          24,
          25,
          26,
          27,
          28,
          29,
          30,
          31,
          32,
          33,
          34,
          35,
          36,
          37,
          38,
          39,
          40,
          41,
          42,
          43,
          44,
          45,
          46,
          47,
          48,
          49,
          50,
          51,
          52,
          53,
          54,
          55,
          56,
          57,
          58,
          59,
          60,
          61,
          62,
          63,
          64,
          65,
          66,
          67,
          68,
          69,
          70,
          71,
          72,
          73,
          74,
          75,
          76,
          77,
          78,
          79,
          80,
          81,
          82,
          83,
          84,
          85,
          86,
          87,
          88,
          89,
          90,
          91,
          92,
          93,
          94,
          95,
          96,
          97,
          98,
          99
         ],
         "y": [
          0.9515086206896551,
          0.9515086206896551,
          0.9935344827586207,
          0.9956896551724138,
          0.9956896551724138,
          0.9956896551724138,
          0.9956896551724138,
          0.9956896551724138,
          0.9978448275862069,
          0.9978448275862069,
          1,
          1,
          1,
          1,
          1,
          1,
          1,
          1,
          1,
          1,
          1,
          1,
          1,
          1,
          1,
          1,
          1,
          1,
          1,
          1,
          1,
          1,
          1,
          1,
          1,
          1,
          1,
          1,
          1,
          1,
          1,
          1,
          1,
          1,
          1,
          1,
          1,
          1,
          1,
          1,
          1,
          1,
          1,
          1,
          1,
          1,
          1,
          1,
          1,
          1,
          1,
          1,
          1,
          1,
          1,
          1,
          1,
          1,
          1,
          1,
          1,
          1,
          1,
          1,
          1,
          1,
          1,
          1,
          1,
          1,
          1,
          1,
          1,
          1,
          1,
          1,
          1,
          1,
          1,
          1,
          1,
          1,
          1,
          1,
          1,
          1,
          1,
          1,
          1,
          1
         ]
        },
        {
         "marker": {
          "maxdisplayed": 10
         },
         "mode": "lines+markers",
         "name": "Trial90",
         "type": "scatter",
         "x": [
          0,
          1,
          2,
          3,
          4,
          5,
          6,
          7,
          8,
          9,
          10
         ],
         "y": [
          0.9128787878787878,
          0.9570707070707071,
          0.9570707070707071,
          0.9570707070707071,
          0.9570707070707071,
          0.9570707070707071,
          0.9570707070707071,
          0.9570707070707071,
          0.9570707070707071,
          0.9570707070707071,
          0.9747474747474747
         ]
        },
        {
         "marker": {
          "maxdisplayed": 10
         },
         "mode": "lines+markers",
         "name": "Trial91",
         "type": "scatter",
         "x": [
          0,
          1,
          2,
          3,
          4,
          5,
          6,
          7,
          8,
          9,
          10
         ],
         "y": [
          0.8911637931034483,
          0.9094827586206896,
          0.9838362068965517,
          0.9881465517241379,
          0.9881465517241379,
          0.990301724137931,
          0.990301724137931,
          0.9913793103448276,
          0.9913793103448276,
          0.9913793103448276,
          0.9913793103448276
         ]
        },
        {
         "marker": {
          "maxdisplayed": 10
         },
         "mode": "lines+markers",
         "name": "Trial92",
         "type": "scatter",
         "x": [
          0,
          1,
          2,
          3,
          4,
          5,
          6,
          7,
          8,
          9,
          10,
          11,
          12,
          13,
          14,
          15,
          16,
          17,
          18,
          19,
          20,
          21,
          22,
          23,
          24,
          25,
          26,
          27,
          28,
          29,
          30,
          31,
          32,
          33,
          34,
          35,
          36,
          37,
          38,
          39,
          40,
          41,
          42,
          43,
          44,
          45,
          46,
          47,
          48,
          49,
          50,
          51,
          52,
          53,
          54,
          55,
          56,
          57,
          58,
          59,
          60,
          61,
          62,
          63,
          64,
          65,
          66,
          67,
          68,
          69,
          70,
          71,
          72,
          73,
          74,
          75,
          76,
          77,
          78,
          79,
          80,
          81,
          82,
          83,
          84,
          85,
          86,
          87,
          88,
          89,
          90,
          91,
          92,
          93,
          94,
          95,
          96,
          97,
          98,
          99
         ],
         "y": [
          0.9915966386554622,
          0.9978991596638656,
          0.9978991596638656,
          0.9978991596638656,
          1,
          0.9978991596638656,
          1,
          1,
          1,
          1,
          1,
          1,
          1,
          1,
          1,
          1,
          1,
          1,
          1,
          1,
          1,
          1,
          1,
          1,
          1,
          1,
          1,
          1,
          1,
          1,
          1,
          1,
          1,
          1,
          1,
          1,
          1,
          1,
          1,
          1,
          1,
          1,
          1,
          1,
          1,
          1,
          1,
          1,
          1,
          1,
          1,
          1,
          1,
          1,
          1,
          1,
          1,
          1,
          1,
          1,
          1,
          1,
          1,
          1,
          1,
          1,
          1,
          1,
          1,
          1,
          1,
          1,
          1,
          1,
          1,
          1,
          1,
          1,
          1,
          1,
          1,
          1,
          1,
          1,
          1,
          1,
          1,
          1,
          1,
          1,
          1,
          1,
          1,
          1,
          1,
          1,
          1,
          1,
          1,
          1
         ]
        },
        {
         "marker": {
          "maxdisplayed": 10
         },
         "mode": "lines+markers",
         "name": "Trial93",
         "type": "scatter",
         "x": [
          0,
          1,
          2,
          3,
          4,
          5,
          6,
          7,
          8,
          9,
          10
         ],
         "y": [
          0.8870967741935484,
          0.9838709677419355,
          0.9838709677419355,
          0.9838709677419355,
          0.9827188940092166,
          0.9735023041474654,
          0.9735023041474654,
          0.9735023041474654,
          0.9735023041474654,
          0.9735023041474654,
          0.9735023041474654
         ]
        },
        {
         "marker": {
          "maxdisplayed": 10
         },
         "mode": "lines+markers",
         "name": "Trial94",
         "type": "scatter",
         "x": [
          0,
          1,
          2,
          3,
          4,
          5,
          6,
          7,
          8,
          9,
          10
         ],
         "y": [
          0.9516129032258065,
          0.9516129032258065,
          0.9838709677419355,
          0.9838709677419355,
          0.9838709677419355,
          0.9838709677419355,
          0.9804147465437788,
          0.9804147465437788,
          0.9804147465437788,
          0.9930875576036866,
          0.9930875576036866
         ]
        },
        {
         "marker": {
          "maxdisplayed": 10
         },
         "mode": "lines+markers",
         "name": "Trial95",
         "type": "scatter",
         "x": [
          0,
          1,
          2,
          3,
          4,
          5,
          6,
          7,
          8,
          9,
          10,
          11,
          12,
          13,
          14,
          15,
          16,
          17,
          18,
          19,
          20,
          21,
          22,
          23,
          24,
          25,
          26,
          27,
          28,
          29,
          30,
          31,
          32,
          33,
          34,
          35,
          36,
          37,
          38,
          39,
          40,
          41,
          42,
          43,
          44,
          45,
          46,
          47,
          48,
          49,
          50,
          51,
          52,
          53,
          54,
          55,
          56,
          57,
          58,
          59,
          60,
          61,
          62,
          63,
          64,
          65,
          66,
          67,
          68,
          69,
          70,
          71,
          72,
          73,
          74,
          75,
          76,
          77,
          78,
          79,
          80,
          81,
          82,
          83,
          84,
          85,
          86,
          87,
          88,
          89,
          90,
          91,
          92,
          93,
          94,
          95,
          96,
          97,
          98,
          99
         ],
         "y": [
          0.9038461538461539,
          1,
          1,
          1,
          1,
          0.9919028340080972,
          0.9919028340080972,
          0.9919028340080972,
          0.9919028340080972,
          0.9919028340080972,
          0.9919028340080972,
          0.9919028340080972,
          0.9919028340080972,
          0.9919028340080972,
          0.9919028340080972,
          0.9919028340080972,
          0.9919028340080972,
          0.9919028340080972,
          0.9919028340080972,
          0.9919028340080972,
          0.9919028340080972,
          0.9939271255060729,
          0.9959514170040485,
          0.9939271255060729,
          0.9979757085020243,
          0.9959514170040485,
          0.9979757085020243,
          1,
          1,
          1,
          1,
          1,
          1,
          1,
          1,
          1,
          1,
          1,
          1,
          1,
          1,
          1,
          1,
          1,
          1,
          1,
          1,
          1,
          1,
          1,
          1,
          1,
          1,
          1,
          1,
          1,
          1,
          1,
          1,
          1,
          1,
          1,
          1,
          1,
          1,
          1,
          1,
          1,
          1,
          1,
          1,
          1,
          1,
          1,
          1,
          1,
          1,
          1,
          1,
          1,
          1,
          1,
          1,
          1,
          1,
          1,
          1,
          1,
          1,
          1,
          1,
          1,
          1,
          1,
          1,
          1,
          1,
          1,
          1,
          1
         ]
        },
        {
         "marker": {
          "maxdisplayed": 10
         },
         "mode": "lines+markers",
         "name": "Trial96",
         "type": "scatter",
         "x": [
          0,
          1,
          2,
          3,
          4,
          5,
          6,
          7,
          8,
          9,
          10,
          11,
          12,
          13,
          14,
          15,
          16,
          17,
          18,
          19,
          20,
          21,
          22,
          23,
          24,
          25,
          26,
          27,
          28,
          29,
          30,
          31,
          32,
          33,
          34,
          35,
          36,
          37,
          38,
          39,
          40,
          41,
          42,
          43,
          44,
          45,
          46,
          47,
          48,
          49,
          50,
          51,
          52,
          53,
          54,
          55,
          56,
          57,
          58,
          59,
          60,
          61,
          62,
          63,
          64,
          65,
          66,
          67,
          68,
          69,
          70,
          71,
          72,
          73,
          74,
          75,
          76,
          77,
          78,
          79,
          80,
          81,
          82,
          83,
          84,
          85,
          86,
          87,
          88,
          89,
          90,
          91,
          92,
          93,
          94,
          95,
          96,
          97,
          98,
          99
         ],
         "y": [
          0.9038461538461539,
          0.9038461538461539,
          0.9423076923076923,
          0.9423076923076923,
          1,
          1,
          1,
          1,
          1,
          1,
          1,
          1,
          1,
          1,
          1,
          1,
          1,
          1,
          1,
          1,
          1,
          1,
          1,
          1,
          1,
          1,
          1,
          1,
          1,
          1,
          1,
          1,
          1,
          1,
          1,
          1,
          1,
          1,
          1,
          1,
          1,
          1,
          1,
          1,
          1,
          1,
          1,
          1,
          1,
          1,
          1,
          1,
          1,
          1,
          1,
          1,
          1,
          1,
          1,
          1,
          1,
          1,
          1,
          1,
          1,
          1,
          1,
          1,
          1,
          1,
          1,
          1,
          1,
          1,
          1,
          1,
          1,
          1,
          1,
          1,
          1,
          1,
          1,
          1,
          1,
          1,
          1,
          1,
          1,
          1,
          1,
          1,
          1,
          1,
          1,
          1,
          1,
          1,
          1,
          1
         ]
        },
        {
         "marker": {
          "maxdisplayed": 10
         },
         "mode": "lines+markers",
         "name": "Trial97",
         "type": "scatter",
         "x": [
          0,
          1,
          2,
          3,
          4,
          5,
          6,
          7,
          8,
          9,
          10,
          11,
          12,
          13,
          14,
          15,
          16,
          17,
          18,
          19,
          20,
          21,
          22,
          23,
          24,
          25,
          26,
          27,
          28,
          29,
          30,
          31,
          32,
          33,
          34,
          35,
          36,
          37,
          38,
          39,
          40,
          41,
          42,
          43,
          44,
          45,
          46,
          47,
          48,
          49,
          50,
          51,
          52,
          53,
          54,
          55,
          56,
          57,
          58,
          59,
          60,
          61,
          62,
          63,
          64,
          65,
          66,
          67,
          68,
          69,
          70,
          71,
          72,
          73,
          74,
          75,
          76,
          77,
          78,
          79,
          80,
          81,
          82,
          83,
          84,
          85,
          86,
          87,
          88,
          89,
          90,
          91,
          92,
          93,
          94,
          95,
          96,
          97,
          98,
          99
         ],
         "y": [
          0.9,
          0.9833333333333333,
          0.9833333333333333,
          0.9833333333333333,
          1,
          1,
          1,
          1,
          1,
          1,
          1,
          1,
          1,
          1,
          1,
          1,
          1,
          1,
          1,
          1,
          1,
          1,
          1,
          1,
          0.9955555555555555,
          0.9977777777777778,
          0.9977777777777778,
          0.9955555555555555,
          0.9955555555555555,
          0.9977777777777778,
          0.9955555555555555,
          0.9955555555555555,
          0.9955555555555555,
          0.9955555555555555,
          0.9955555555555555,
          0.9955555555555555,
          0.9955555555555555,
          0.9955555555555555,
          0.9955555555555555,
          0.9955555555555555,
          0.9955555555555555,
          0.9955555555555555,
          0.9977777777777778,
          0.9977777777777778,
          0.9977777777777778,
          0.9977777777777778,
          0.9977777777777778,
          0.9977777777777778,
          0.9977777777777778,
          0.9977777777777778,
          0.9977777777777778,
          0.9977777777777778,
          0.9977777777777778,
          0.9977777777777778,
          0.9955555555555555,
          0.9955555555555555,
          0.9955555555555555,
          0.9955555555555555,
          0.9955555555555555,
          0.9955555555555555,
          0.9977777777777778,
          0.9977777777777778,
          0.9977777777777778,
          0.9977777777777778,
          0.9977777777777778,
          0.9977777777777778,
          0.9977777777777778,
          0.9977777777777778,
          0.9977777777777778,
          0.9977777777777778,
          0.9977777777777778,
          0.9977777777777778,
          0.9977777777777778,
          0.9977777777777778,
          0.9977777777777778,
          0.9977777777777778,
          0.9977777777777778,
          0.9977777777777778,
          0.9977777777777778,
          0.9977777777777778,
          0.9977777777777778,
          0.9977777777777778,
          0.9977777777777778,
          0.9977777777777778,
          0.9977777777777778,
          0.9977777777777778,
          0.9977777777777778,
          0.9977777777777778,
          0.9977777777777778,
          0.9977777777777778,
          0.9977777777777778,
          0.9977777777777778,
          0.9977777777777778,
          0.9977777777777778,
          0.9977777777777778,
          0.9977777777777778,
          0.9977777777777778,
          0.9977777777777778,
          0.9977777777777778,
          0.9977777777777778
         ]
        },
        {
         "marker": {
          "maxdisplayed": 10
         },
         "mode": "lines+markers",
         "name": "Trial98",
         "type": "scatter",
         "x": [
          0,
          1,
          2,
          3,
          4,
          5,
          6,
          7,
          8,
          9,
          10
         ],
         "y": [
          0.9393939393939394,
          0.9393939393939394,
          0.9393939393939394,
          0.9393939393939394,
          0.9848484848484849,
          0.9848484848484849,
          0.9848484848484849,
          0.9848484848484849,
          0.9848484848484849,
          0.9848484848484849,
          0.9848484848484849
         ]
        },
        {
         "marker": {
          "maxdisplayed": 10
         },
         "mode": "lines+markers",
         "name": "Trial99",
         "type": "scatter",
         "x": [
          0,
          1,
          2,
          3,
          4,
          5,
          6,
          7,
          8,
          9,
          10
         ],
         "y": [
          0.5,
          0.5,
          0.5,
          0.5,
          0.5,
          0.5,
          0.5,
          0.5,
          0.5,
          0.5,
          0.5
         ]
        }
       ],
       "layout": {
        "showlegend": false,
        "template": {
         "data": {
          "bar": [
           {
            "error_x": {
             "color": "#2a3f5f"
            },
            "error_y": {
             "color": "#2a3f5f"
            },
            "marker": {
             "line": {
              "color": "#E5ECF6",
              "width": 0.5
             },
             "pattern": {
              "fillmode": "overlay",
              "size": 10,
              "solidity": 0.2
             }
            },
            "type": "bar"
           }
          ],
          "barpolar": [
           {
            "marker": {
             "line": {
              "color": "#E5ECF6",
              "width": 0.5
             },
             "pattern": {
              "fillmode": "overlay",
              "size": 10,
              "solidity": 0.2
             }
            },
            "type": "barpolar"
           }
          ],
          "carpet": [
           {
            "aaxis": {
             "endlinecolor": "#2a3f5f",
             "gridcolor": "white",
             "linecolor": "white",
             "minorgridcolor": "white",
             "startlinecolor": "#2a3f5f"
            },
            "baxis": {
             "endlinecolor": "#2a3f5f",
             "gridcolor": "white",
             "linecolor": "white",
             "minorgridcolor": "white",
             "startlinecolor": "#2a3f5f"
            },
            "type": "carpet"
           }
          ],
          "choropleth": [
           {
            "colorbar": {
             "outlinewidth": 0,
             "ticks": ""
            },
            "type": "choropleth"
           }
          ],
          "contour": [
           {
            "colorbar": {
             "outlinewidth": 0,
             "ticks": ""
            },
            "colorscale": [
             [
              0,
              "#0d0887"
             ],
             [
              0.1111111111111111,
              "#46039f"
             ],
             [
              0.2222222222222222,
              "#7201a8"
             ],
             [
              0.3333333333333333,
              "#9c179e"
             ],
             [
              0.4444444444444444,
              "#bd3786"
             ],
             [
              0.5555555555555556,
              "#d8576b"
             ],
             [
              0.6666666666666666,
              "#ed7953"
             ],
             [
              0.7777777777777778,
              "#fb9f3a"
             ],
             [
              0.8888888888888888,
              "#fdca26"
             ],
             [
              1,
              "#f0f921"
             ]
            ],
            "type": "contour"
           }
          ],
          "contourcarpet": [
           {
            "colorbar": {
             "outlinewidth": 0,
             "ticks": ""
            },
            "type": "contourcarpet"
           }
          ],
          "heatmap": [
           {
            "colorbar": {
             "outlinewidth": 0,
             "ticks": ""
            },
            "colorscale": [
             [
              0,
              "#0d0887"
             ],
             [
              0.1111111111111111,
              "#46039f"
             ],
             [
              0.2222222222222222,
              "#7201a8"
             ],
             [
              0.3333333333333333,
              "#9c179e"
             ],
             [
              0.4444444444444444,
              "#bd3786"
             ],
             [
              0.5555555555555556,
              "#d8576b"
             ],
             [
              0.6666666666666666,
              "#ed7953"
             ],
             [
              0.7777777777777778,
              "#fb9f3a"
             ],
             [
              0.8888888888888888,
              "#fdca26"
             ],
             [
              1,
              "#f0f921"
             ]
            ],
            "type": "heatmap"
           }
          ],
          "heatmapgl": [
           {
            "colorbar": {
             "outlinewidth": 0,
             "ticks": ""
            },
            "colorscale": [
             [
              0,
              "#0d0887"
             ],
             [
              0.1111111111111111,
              "#46039f"
             ],
             [
              0.2222222222222222,
              "#7201a8"
             ],
             [
              0.3333333333333333,
              "#9c179e"
             ],
             [
              0.4444444444444444,
              "#bd3786"
             ],
             [
              0.5555555555555556,
              "#d8576b"
             ],
             [
              0.6666666666666666,
              "#ed7953"
             ],
             [
              0.7777777777777778,
              "#fb9f3a"
             ],
             [
              0.8888888888888888,
              "#fdca26"
             ],
             [
              1,
              "#f0f921"
             ]
            ],
            "type": "heatmapgl"
           }
          ],
          "histogram": [
           {
            "marker": {
             "pattern": {
              "fillmode": "overlay",
              "size": 10,
              "solidity": 0.2
             }
            },
            "type": "histogram"
           }
          ],
          "histogram2d": [
           {
            "colorbar": {
             "outlinewidth": 0,
             "ticks": ""
            },
            "colorscale": [
             [
              0,
              "#0d0887"
             ],
             [
              0.1111111111111111,
              "#46039f"
             ],
             [
              0.2222222222222222,
              "#7201a8"
             ],
             [
              0.3333333333333333,
              "#9c179e"
             ],
             [
              0.4444444444444444,
              "#bd3786"
             ],
             [
              0.5555555555555556,
              "#d8576b"
             ],
             [
              0.6666666666666666,
              "#ed7953"
             ],
             [
              0.7777777777777778,
              "#fb9f3a"
             ],
             [
              0.8888888888888888,
              "#fdca26"
             ],
             [
              1,
              "#f0f921"
             ]
            ],
            "type": "histogram2d"
           }
          ],
          "histogram2dcontour": [
           {
            "colorbar": {
             "outlinewidth": 0,
             "ticks": ""
            },
            "colorscale": [
             [
              0,
              "#0d0887"
             ],
             [
              0.1111111111111111,
              "#46039f"
             ],
             [
              0.2222222222222222,
              "#7201a8"
             ],
             [
              0.3333333333333333,
              "#9c179e"
             ],
             [
              0.4444444444444444,
              "#bd3786"
             ],
             [
              0.5555555555555556,
              "#d8576b"
             ],
             [
              0.6666666666666666,
              "#ed7953"
             ],
             [
              0.7777777777777778,
              "#fb9f3a"
             ],
             [
              0.8888888888888888,
              "#fdca26"
             ],
             [
              1,
              "#f0f921"
             ]
            ],
            "type": "histogram2dcontour"
           }
          ],
          "mesh3d": [
           {
            "colorbar": {
             "outlinewidth": 0,
             "ticks": ""
            },
            "type": "mesh3d"
           }
          ],
          "parcoords": [
           {
            "line": {
             "colorbar": {
              "outlinewidth": 0,
              "ticks": ""
             }
            },
            "type": "parcoords"
           }
          ],
          "pie": [
           {
            "automargin": true,
            "type": "pie"
           }
          ],
          "scatter": [
           {
            "fillpattern": {
             "fillmode": "overlay",
             "size": 10,
             "solidity": 0.2
            },
            "type": "scatter"
           }
          ],
          "scatter3d": [
           {
            "line": {
             "colorbar": {
              "outlinewidth": 0,
              "ticks": ""
             }
            },
            "marker": {
             "colorbar": {
              "outlinewidth": 0,
              "ticks": ""
             }
            },
            "type": "scatter3d"
           }
          ],
          "scattercarpet": [
           {
            "marker": {
             "colorbar": {
              "outlinewidth": 0,
              "ticks": ""
             }
            },
            "type": "scattercarpet"
           }
          ],
          "scattergeo": [
           {
            "marker": {
             "colorbar": {
              "outlinewidth": 0,
              "ticks": ""
             }
            },
            "type": "scattergeo"
           }
          ],
          "scattergl": [
           {
            "marker": {
             "colorbar": {
              "outlinewidth": 0,
              "ticks": ""
             }
            },
            "type": "scattergl"
           }
          ],
          "scattermapbox": [
           {
            "marker": {
             "colorbar": {
              "outlinewidth": 0,
              "ticks": ""
             }
            },
            "type": "scattermapbox"
           }
          ],
          "scatterpolar": [
           {
            "marker": {
             "colorbar": {
              "outlinewidth": 0,
              "ticks": ""
             }
            },
            "type": "scatterpolar"
           }
          ],
          "scatterpolargl": [
           {
            "marker": {
             "colorbar": {
              "outlinewidth": 0,
              "ticks": ""
             }
            },
            "type": "scatterpolargl"
           }
          ],
          "scatterternary": [
           {
            "marker": {
             "colorbar": {
              "outlinewidth": 0,
              "ticks": ""
             }
            },
            "type": "scatterternary"
           }
          ],
          "surface": [
           {
            "colorbar": {
             "outlinewidth": 0,
             "ticks": ""
            },
            "colorscale": [
             [
              0,
              "#0d0887"
             ],
             [
              0.1111111111111111,
              "#46039f"
             ],
             [
              0.2222222222222222,
              "#7201a8"
             ],
             [
              0.3333333333333333,
              "#9c179e"
             ],
             [
              0.4444444444444444,
              "#bd3786"
             ],
             [
              0.5555555555555556,
              "#d8576b"
             ],
             [
              0.6666666666666666,
              "#ed7953"
             ],
             [
              0.7777777777777778,
              "#fb9f3a"
             ],
             [
              0.8888888888888888,
              "#fdca26"
             ],
             [
              1,
              "#f0f921"
             ]
            ],
            "type": "surface"
           }
          ],
          "table": [
           {
            "cells": {
             "fill": {
              "color": "#EBF0F8"
             },
             "line": {
              "color": "white"
             }
            },
            "header": {
             "fill": {
              "color": "#C8D4E3"
             },
             "line": {
              "color": "white"
             }
            },
            "type": "table"
           }
          ]
         },
         "layout": {
          "annotationdefaults": {
           "arrowcolor": "#2a3f5f",
           "arrowhead": 0,
           "arrowwidth": 1
          },
          "autotypenumbers": "strict",
          "coloraxis": {
           "colorbar": {
            "outlinewidth": 0,
            "ticks": ""
           }
          },
          "colorscale": {
           "diverging": [
            [
             0,
             "#8e0152"
            ],
            [
             0.1,
             "#c51b7d"
            ],
            [
             0.2,
             "#de77ae"
            ],
            [
             0.3,
             "#f1b6da"
            ],
            [
             0.4,
             "#fde0ef"
            ],
            [
             0.5,
             "#f7f7f7"
            ],
            [
             0.6,
             "#e6f5d0"
            ],
            [
             0.7,
             "#b8e186"
            ],
            [
             0.8,
             "#7fbc41"
            ],
            [
             0.9,
             "#4d9221"
            ],
            [
             1,
             "#276419"
            ]
           ],
           "sequential": [
            [
             0,
             "#0d0887"
            ],
            [
             0.1111111111111111,
             "#46039f"
            ],
            [
             0.2222222222222222,
             "#7201a8"
            ],
            [
             0.3333333333333333,
             "#9c179e"
            ],
            [
             0.4444444444444444,
             "#bd3786"
            ],
            [
             0.5555555555555556,
             "#d8576b"
            ],
            [
             0.6666666666666666,
             "#ed7953"
            ],
            [
             0.7777777777777778,
             "#fb9f3a"
            ],
            [
             0.8888888888888888,
             "#fdca26"
            ],
            [
             1,
             "#f0f921"
            ]
           ],
           "sequentialminus": [
            [
             0,
             "#0d0887"
            ],
            [
             0.1111111111111111,
             "#46039f"
            ],
            [
             0.2222222222222222,
             "#7201a8"
            ],
            [
             0.3333333333333333,
             "#9c179e"
            ],
            [
             0.4444444444444444,
             "#bd3786"
            ],
            [
             0.5555555555555556,
             "#d8576b"
            ],
            [
             0.6666666666666666,
             "#ed7953"
            ],
            [
             0.7777777777777778,
             "#fb9f3a"
            ],
            [
             0.8888888888888888,
             "#fdca26"
            ],
            [
             1,
             "#f0f921"
            ]
           ]
          },
          "colorway": [
           "#636efa",
           "#EF553B",
           "#00cc96",
           "#ab63fa",
           "#FFA15A",
           "#19d3f3",
           "#FF6692",
           "#B6E880",
           "#FF97FF",
           "#FECB52"
          ],
          "font": {
           "color": "#2a3f5f"
          },
          "geo": {
           "bgcolor": "white",
           "lakecolor": "white",
           "landcolor": "#E5ECF6",
           "showlakes": true,
           "showland": true,
           "subunitcolor": "white"
          },
          "hoverlabel": {
           "align": "left"
          },
          "hovermode": "closest",
          "mapbox": {
           "style": "light"
          },
          "paper_bgcolor": "white",
          "plot_bgcolor": "#E5ECF6",
          "polar": {
           "angularaxis": {
            "gridcolor": "white",
            "linecolor": "white",
            "ticks": ""
           },
           "bgcolor": "#E5ECF6",
           "radialaxis": {
            "gridcolor": "white",
            "linecolor": "white",
            "ticks": ""
           }
          },
          "scene": {
           "xaxis": {
            "backgroundcolor": "#E5ECF6",
            "gridcolor": "white",
            "gridwidth": 2,
            "linecolor": "white",
            "showbackground": true,
            "ticks": "",
            "zerolinecolor": "white"
           },
           "yaxis": {
            "backgroundcolor": "#E5ECF6",
            "gridcolor": "white",
            "gridwidth": 2,
            "linecolor": "white",
            "showbackground": true,
            "ticks": "",
            "zerolinecolor": "white"
           },
           "zaxis": {
            "backgroundcolor": "#E5ECF6",
            "gridcolor": "white",
            "gridwidth": 2,
            "linecolor": "white",
            "showbackground": true,
            "ticks": "",
            "zerolinecolor": "white"
           }
          },
          "shapedefaults": {
           "line": {
            "color": "#2a3f5f"
           }
          },
          "ternary": {
           "aaxis": {
            "gridcolor": "white",
            "linecolor": "white",
            "ticks": ""
           },
           "baxis": {
            "gridcolor": "white",
            "linecolor": "white",
            "ticks": ""
           },
           "bgcolor": "#E5ECF6",
           "caxis": {
            "gridcolor": "white",
            "linecolor": "white",
            "ticks": ""
           }
          },
          "title": {
           "x": 0.05
          },
          "xaxis": {
           "automargin": true,
           "gridcolor": "white",
           "linecolor": "white",
           "ticks": "",
           "title": {
            "standoff": 15
           },
           "zerolinecolor": "white",
           "zerolinewidth": 2
          },
          "yaxis": {
           "automargin": true,
           "gridcolor": "white",
           "linecolor": "white",
           "ticks": "",
           "title": {
            "standoff": 15
           },
           "zerolinecolor": "white",
           "zerolinewidth": 2
          }
         }
        },
        "title": {
         "text": "Intermediate Values Plot"
        },
        "xaxis": {
         "title": {
          "text": "Step"
         }
        },
        "yaxis": {
         "title": {
          "text": "Intermediate Value"
         }
        }
       }
      }
     },
     "metadata": {},
     "output_type": "display_data"
    }
   ],
   "source": [
    "plot_intermediate_values(study)"
   ]
  },
  {
   "cell_type": "code",
   "execution_count": 12,
   "metadata": {},
   "outputs": [
    {
     "data": {
      "application/vnd.plotly.v1+json": {
       "config": {
        "plotlyServerURL": "https://plot.ly"
       },
       "data": [
        {
         "dimensions": [
          {
           "label": "Objective Value",
           "range": [
            0.35555555555555557,
            0.8444444444444444
           ],
           "values": [
            0.7333333333333333,
            0.35555555555555557,
            0.4222222222222222,
            0.6666666666666666,
            0.35555555555555557,
            0.4666666666666667,
            0.7111111111111111,
            0.4888888888888889,
            0.4222222222222222,
            0.4888888888888889,
            0.6444444444444445,
            0.7333333333333333,
            0.6444444444444445,
            0.7333333333333333,
            0.6666666666666666,
            0.6888888888888889,
            0.6666666666666666,
            0.7111111111111111,
            0.7333333333333333,
            0.7777777777777778,
            0.7111111111111111,
            0.8444444444444444,
            0.6666666666666666,
            0.7111111111111111,
            0.7333333333333333,
            0.7777777777777778,
            0.6444444444444445,
            0.7333333333333333,
            0.6666666666666666,
            0.6444444444444445,
            0.7111111111111111,
            0.7777777777777778,
            0.6222222222222222,
            0.6666666666666666,
            0.6888888888888889,
            0.6444444444444445,
            0.7111111111111111,
            0.6444444444444445,
            0.6666666666666666,
            0.7111111111111111,
            0.6222222222222222,
            0.7111111111111111,
            0.6666666666666666
           ]
          },
          {
           "label": "bagging_fraction",
           "range": [
            0.4056752006082129,
            0.9984390536987516
           ],
           "values": [
            0.49985128604414425,
            0.41331633772133347,
            0.5410190773473524,
            0.9976320599923284,
            0.7715082624345226,
            0.41842111846273217,
            0.8117913365972165,
            0.76287085033706,
            0.4056752006082129,
            0.7785700951998049,
            0.5785215326097938,
            0.924272716232486,
            0.9925085170624447,
            0.8912212481850054,
            0.6430782626779485,
            0.6062856850624215,
            0.9251533423657325,
            0.7368899309939578,
            0.8706576430488485,
            0.96089313969939,
            0.9614061786614667,
            0.9829548559687407,
            0.9080144817216028,
            0.9957901977609537,
            0.9196483998060389,
            0.9772758644300601,
            0.9739236352014543,
            0.9984390536987516,
            0.9223940971865633,
            0.9928475468050768,
            0.9720655753769236,
            0.9341021972235127,
            0.9450398119321415,
            0.9808154144700822,
            0.6142897881404484,
            0.9571980224669544,
            0.9880317802259588,
            0.7956288210604491,
            0.9538775968804557,
            0.8743177701819174,
            0.8971975563673598,
            0.9772980883021436,
            0.9331456960997762
           ]
          },
          {
           "label": "bagging_freq",
           "range": [
            1,
            7
           ],
           "values": [
            3,
            1,
            3,
            2,
            7,
            5,
            6,
            6,
            3,
            4,
            1,
            5,
            4,
            5,
            3,
            4,
            5,
            6,
            4,
            3,
            4,
            2,
            1,
            2,
            5,
            6,
            7,
            6,
            6,
            7,
            5,
            4,
            4,
            6,
            5,
            3,
            6,
            4,
            1,
            5,
            2,
            4,
            3
           ]
          },
          {
           "label": "min_child_samples",
           "range": [
            7,
            97
           ],
           "values": [
            21,
            97,
            96,
            7,
            94,
            96,
            43,
            76,
            68,
            62,
            17,
            35,
            35,
            28,
            23,
            34,
            34,
            14,
            55,
            61,
            56,
            64,
            49,
            65,
            53,
            47,
            53,
            59,
            20,
            59,
            59,
            50,
            52,
            65,
            23,
            63,
            47,
            37,
            41,
            14,
            54,
            45,
            58
           ]
          }
         ],
         "labelangle": 30,
         "labelside": "bottom",
         "line": {
          "color": [
           0.7333333333333333,
           0.35555555555555557,
           0.4222222222222222,
           0.6666666666666666,
           0.35555555555555557,
           0.4666666666666667,
           0.7111111111111111,
           0.4888888888888889,
           0.4222222222222222,
           0.4888888888888889,
           0.6444444444444445,
           0.7333333333333333,
           0.6444444444444445,
           0.7333333333333333,
           0.6666666666666666,
           0.6888888888888889,
           0.6666666666666666,
           0.7111111111111111,
           0.7333333333333333,
           0.7777777777777778,
           0.7111111111111111,
           0.8444444444444444,
           0.6666666666666666,
           0.7111111111111111,
           0.7333333333333333,
           0.7777777777777778,
           0.6444444444444445,
           0.7333333333333333,
           0.6666666666666666,
           0.6444444444444445,
           0.7111111111111111,
           0.7777777777777778,
           0.6222222222222222,
           0.6666666666666666,
           0.6888888888888889,
           0.6444444444444445,
           0.7111111111111111,
           0.6444444444444445,
           0.6666666666666666,
           0.7111111111111111,
           0.6222222222222222,
           0.7111111111111111,
           0.6666666666666666
          ],
          "colorbar": {
           "title": {
            "text": "Objective Value"
           }
          },
          "colorscale": [
           [
            0,
            "rgb(247,251,255)"
           ],
           [
            0.125,
            "rgb(222,235,247)"
           ],
           [
            0.25,
            "rgb(198,219,239)"
           ],
           [
            0.375,
            "rgb(158,202,225)"
           ],
           [
            0.5,
            "rgb(107,174,214)"
           ],
           [
            0.625,
            "rgb(66,146,198)"
           ],
           [
            0.75,
            "rgb(33,113,181)"
           ],
           [
            0.875,
            "rgb(8,81,156)"
           ],
           [
            1,
            "rgb(8,48,107)"
           ]
          ],
          "reversescale": false,
          "showscale": true
         },
         "type": "parcoords"
        }
       ],
       "layout": {
        "template": {
         "data": {
          "bar": [
           {
            "error_x": {
             "color": "#2a3f5f"
            },
            "error_y": {
             "color": "#2a3f5f"
            },
            "marker": {
             "line": {
              "color": "#E5ECF6",
              "width": 0.5
             },
             "pattern": {
              "fillmode": "overlay",
              "size": 10,
              "solidity": 0.2
             }
            },
            "type": "bar"
           }
          ],
          "barpolar": [
           {
            "marker": {
             "line": {
              "color": "#E5ECF6",
              "width": 0.5
             },
             "pattern": {
              "fillmode": "overlay",
              "size": 10,
              "solidity": 0.2
             }
            },
            "type": "barpolar"
           }
          ],
          "carpet": [
           {
            "aaxis": {
             "endlinecolor": "#2a3f5f",
             "gridcolor": "white",
             "linecolor": "white",
             "minorgridcolor": "white",
             "startlinecolor": "#2a3f5f"
            },
            "baxis": {
             "endlinecolor": "#2a3f5f",
             "gridcolor": "white",
             "linecolor": "white",
             "minorgridcolor": "white",
             "startlinecolor": "#2a3f5f"
            },
            "type": "carpet"
           }
          ],
          "choropleth": [
           {
            "colorbar": {
             "outlinewidth": 0,
             "ticks": ""
            },
            "type": "choropleth"
           }
          ],
          "contour": [
           {
            "colorbar": {
             "outlinewidth": 0,
             "ticks": ""
            },
            "colorscale": [
             [
              0,
              "#0d0887"
             ],
             [
              0.1111111111111111,
              "#46039f"
             ],
             [
              0.2222222222222222,
              "#7201a8"
             ],
             [
              0.3333333333333333,
              "#9c179e"
             ],
             [
              0.4444444444444444,
              "#bd3786"
             ],
             [
              0.5555555555555556,
              "#d8576b"
             ],
             [
              0.6666666666666666,
              "#ed7953"
             ],
             [
              0.7777777777777778,
              "#fb9f3a"
             ],
             [
              0.8888888888888888,
              "#fdca26"
             ],
             [
              1,
              "#f0f921"
             ]
            ],
            "type": "contour"
           }
          ],
          "contourcarpet": [
           {
            "colorbar": {
             "outlinewidth": 0,
             "ticks": ""
            },
            "type": "contourcarpet"
           }
          ],
          "heatmap": [
           {
            "colorbar": {
             "outlinewidth": 0,
             "ticks": ""
            },
            "colorscale": [
             [
              0,
              "#0d0887"
             ],
             [
              0.1111111111111111,
              "#46039f"
             ],
             [
              0.2222222222222222,
              "#7201a8"
             ],
             [
              0.3333333333333333,
              "#9c179e"
             ],
             [
              0.4444444444444444,
              "#bd3786"
             ],
             [
              0.5555555555555556,
              "#d8576b"
             ],
             [
              0.6666666666666666,
              "#ed7953"
             ],
             [
              0.7777777777777778,
              "#fb9f3a"
             ],
             [
              0.8888888888888888,
              "#fdca26"
             ],
             [
              1,
              "#f0f921"
             ]
            ],
            "type": "heatmap"
           }
          ],
          "heatmapgl": [
           {
            "colorbar": {
             "outlinewidth": 0,
             "ticks": ""
            },
            "colorscale": [
             [
              0,
              "#0d0887"
             ],
             [
              0.1111111111111111,
              "#46039f"
             ],
             [
              0.2222222222222222,
              "#7201a8"
             ],
             [
              0.3333333333333333,
              "#9c179e"
             ],
             [
              0.4444444444444444,
              "#bd3786"
             ],
             [
              0.5555555555555556,
              "#d8576b"
             ],
             [
              0.6666666666666666,
              "#ed7953"
             ],
             [
              0.7777777777777778,
              "#fb9f3a"
             ],
             [
              0.8888888888888888,
              "#fdca26"
             ],
             [
              1,
              "#f0f921"
             ]
            ],
            "type": "heatmapgl"
           }
          ],
          "histogram": [
           {
            "marker": {
             "pattern": {
              "fillmode": "overlay",
              "size": 10,
              "solidity": 0.2
             }
            },
            "type": "histogram"
           }
          ],
          "histogram2d": [
           {
            "colorbar": {
             "outlinewidth": 0,
             "ticks": ""
            },
            "colorscale": [
             [
              0,
              "#0d0887"
             ],
             [
              0.1111111111111111,
              "#46039f"
             ],
             [
              0.2222222222222222,
              "#7201a8"
             ],
             [
              0.3333333333333333,
              "#9c179e"
             ],
             [
              0.4444444444444444,
              "#bd3786"
             ],
             [
              0.5555555555555556,
              "#d8576b"
             ],
             [
              0.6666666666666666,
              "#ed7953"
             ],
             [
              0.7777777777777778,
              "#fb9f3a"
             ],
             [
              0.8888888888888888,
              "#fdca26"
             ],
             [
              1,
              "#f0f921"
             ]
            ],
            "type": "histogram2d"
           }
          ],
          "histogram2dcontour": [
           {
            "colorbar": {
             "outlinewidth": 0,
             "ticks": ""
            },
            "colorscale": [
             [
              0,
              "#0d0887"
             ],
             [
              0.1111111111111111,
              "#46039f"
             ],
             [
              0.2222222222222222,
              "#7201a8"
             ],
             [
              0.3333333333333333,
              "#9c179e"
             ],
             [
              0.4444444444444444,
              "#bd3786"
             ],
             [
              0.5555555555555556,
              "#d8576b"
             ],
             [
              0.6666666666666666,
              "#ed7953"
             ],
             [
              0.7777777777777778,
              "#fb9f3a"
             ],
             [
              0.8888888888888888,
              "#fdca26"
             ],
             [
              1,
              "#f0f921"
             ]
            ],
            "type": "histogram2dcontour"
           }
          ],
          "mesh3d": [
           {
            "colorbar": {
             "outlinewidth": 0,
             "ticks": ""
            },
            "type": "mesh3d"
           }
          ],
          "parcoords": [
           {
            "line": {
             "colorbar": {
              "outlinewidth": 0,
              "ticks": ""
             }
            },
            "type": "parcoords"
           }
          ],
          "pie": [
           {
            "automargin": true,
            "type": "pie"
           }
          ],
          "scatter": [
           {
            "fillpattern": {
             "fillmode": "overlay",
             "size": 10,
             "solidity": 0.2
            },
            "type": "scatter"
           }
          ],
          "scatter3d": [
           {
            "line": {
             "colorbar": {
              "outlinewidth": 0,
              "ticks": ""
             }
            },
            "marker": {
             "colorbar": {
              "outlinewidth": 0,
              "ticks": ""
             }
            },
            "type": "scatter3d"
           }
          ],
          "scattercarpet": [
           {
            "marker": {
             "colorbar": {
              "outlinewidth": 0,
              "ticks": ""
             }
            },
            "type": "scattercarpet"
           }
          ],
          "scattergeo": [
           {
            "marker": {
             "colorbar": {
              "outlinewidth": 0,
              "ticks": ""
             }
            },
            "type": "scattergeo"
           }
          ],
          "scattergl": [
           {
            "marker": {
             "colorbar": {
              "outlinewidth": 0,
              "ticks": ""
             }
            },
            "type": "scattergl"
           }
          ],
          "scattermapbox": [
           {
            "marker": {
             "colorbar": {
              "outlinewidth": 0,
              "ticks": ""
             }
            },
            "type": "scattermapbox"
           }
          ],
          "scatterpolar": [
           {
            "marker": {
             "colorbar": {
              "outlinewidth": 0,
              "ticks": ""
             }
            },
            "type": "scatterpolar"
           }
          ],
          "scatterpolargl": [
           {
            "marker": {
             "colorbar": {
              "outlinewidth": 0,
              "ticks": ""
             }
            },
            "type": "scatterpolargl"
           }
          ],
          "scatterternary": [
           {
            "marker": {
             "colorbar": {
              "outlinewidth": 0,
              "ticks": ""
             }
            },
            "type": "scatterternary"
           }
          ],
          "surface": [
           {
            "colorbar": {
             "outlinewidth": 0,
             "ticks": ""
            },
            "colorscale": [
             [
              0,
              "#0d0887"
             ],
             [
              0.1111111111111111,
              "#46039f"
             ],
             [
              0.2222222222222222,
              "#7201a8"
             ],
             [
              0.3333333333333333,
              "#9c179e"
             ],
             [
              0.4444444444444444,
              "#bd3786"
             ],
             [
              0.5555555555555556,
              "#d8576b"
             ],
             [
              0.6666666666666666,
              "#ed7953"
             ],
             [
              0.7777777777777778,
              "#fb9f3a"
             ],
             [
              0.8888888888888888,
              "#fdca26"
             ],
             [
              1,
              "#f0f921"
             ]
            ],
            "type": "surface"
           }
          ],
          "table": [
           {
            "cells": {
             "fill": {
              "color": "#EBF0F8"
             },
             "line": {
              "color": "white"
             }
            },
            "header": {
             "fill": {
              "color": "#C8D4E3"
             },
             "line": {
              "color": "white"
             }
            },
            "type": "table"
           }
          ]
         },
         "layout": {
          "annotationdefaults": {
           "arrowcolor": "#2a3f5f",
           "arrowhead": 0,
           "arrowwidth": 1
          },
          "autotypenumbers": "strict",
          "coloraxis": {
           "colorbar": {
            "outlinewidth": 0,
            "ticks": ""
           }
          },
          "colorscale": {
           "diverging": [
            [
             0,
             "#8e0152"
            ],
            [
             0.1,
             "#c51b7d"
            ],
            [
             0.2,
             "#de77ae"
            ],
            [
             0.3,
             "#f1b6da"
            ],
            [
             0.4,
             "#fde0ef"
            ],
            [
             0.5,
             "#f7f7f7"
            ],
            [
             0.6,
             "#e6f5d0"
            ],
            [
             0.7,
             "#b8e186"
            ],
            [
             0.8,
             "#7fbc41"
            ],
            [
             0.9,
             "#4d9221"
            ],
            [
             1,
             "#276419"
            ]
           ],
           "sequential": [
            [
             0,
             "#0d0887"
            ],
            [
             0.1111111111111111,
             "#46039f"
            ],
            [
             0.2222222222222222,
             "#7201a8"
            ],
            [
             0.3333333333333333,
             "#9c179e"
            ],
            [
             0.4444444444444444,
             "#bd3786"
            ],
            [
             0.5555555555555556,
             "#d8576b"
            ],
            [
             0.6666666666666666,
             "#ed7953"
            ],
            [
             0.7777777777777778,
             "#fb9f3a"
            ],
            [
             0.8888888888888888,
             "#fdca26"
            ],
            [
             1,
             "#f0f921"
            ]
           ],
           "sequentialminus": [
            [
             0,
             "#0d0887"
            ],
            [
             0.1111111111111111,
             "#46039f"
            ],
            [
             0.2222222222222222,
             "#7201a8"
            ],
            [
             0.3333333333333333,
             "#9c179e"
            ],
            [
             0.4444444444444444,
             "#bd3786"
            ],
            [
             0.5555555555555556,
             "#d8576b"
            ],
            [
             0.6666666666666666,
             "#ed7953"
            ],
            [
             0.7777777777777778,
             "#fb9f3a"
            ],
            [
             0.8888888888888888,
             "#fdca26"
            ],
            [
             1,
             "#f0f921"
            ]
           ]
          },
          "colorway": [
           "#636efa",
           "#EF553B",
           "#00cc96",
           "#ab63fa",
           "#FFA15A",
           "#19d3f3",
           "#FF6692",
           "#B6E880",
           "#FF97FF",
           "#FECB52"
          ],
          "font": {
           "color": "#2a3f5f"
          },
          "geo": {
           "bgcolor": "white",
           "lakecolor": "white",
           "landcolor": "#E5ECF6",
           "showlakes": true,
           "showland": true,
           "subunitcolor": "white"
          },
          "hoverlabel": {
           "align": "left"
          },
          "hovermode": "closest",
          "mapbox": {
           "style": "light"
          },
          "paper_bgcolor": "white",
          "plot_bgcolor": "#E5ECF6",
          "polar": {
           "angularaxis": {
            "gridcolor": "white",
            "linecolor": "white",
            "ticks": ""
           },
           "bgcolor": "#E5ECF6",
           "radialaxis": {
            "gridcolor": "white",
            "linecolor": "white",
            "ticks": ""
           }
          },
          "scene": {
           "xaxis": {
            "backgroundcolor": "#E5ECF6",
            "gridcolor": "white",
            "gridwidth": 2,
            "linecolor": "white",
            "showbackground": true,
            "ticks": "",
            "zerolinecolor": "white"
           },
           "yaxis": {
            "backgroundcolor": "#E5ECF6",
            "gridcolor": "white",
            "gridwidth": 2,
            "linecolor": "white",
            "showbackground": true,
            "ticks": "",
            "zerolinecolor": "white"
           },
           "zaxis": {
            "backgroundcolor": "#E5ECF6",
            "gridcolor": "white",
            "gridwidth": 2,
            "linecolor": "white",
            "showbackground": true,
            "ticks": "",
            "zerolinecolor": "white"
           }
          },
          "shapedefaults": {
           "line": {
            "color": "#2a3f5f"
           }
          },
          "ternary": {
           "aaxis": {
            "gridcolor": "white",
            "linecolor": "white",
            "ticks": ""
           },
           "baxis": {
            "gridcolor": "white",
            "linecolor": "white",
            "ticks": ""
           },
           "bgcolor": "#E5ECF6",
           "caxis": {
            "gridcolor": "white",
            "linecolor": "white",
            "ticks": ""
           }
          },
          "title": {
           "x": 0.05
          },
          "xaxis": {
           "automargin": true,
           "gridcolor": "white",
           "linecolor": "white",
           "ticks": "",
           "title": {
            "standoff": 15
           },
           "zerolinecolor": "white",
           "zerolinewidth": 2
          },
          "yaxis": {
           "automargin": true,
           "gridcolor": "white",
           "linecolor": "white",
           "ticks": "",
           "title": {
            "standoff": 15
           },
           "zerolinecolor": "white",
           "zerolinewidth": 2
          }
         }
        },
        "title": {
         "text": "Parallel Coordinate Plot"
        }
       }
      }
     },
     "metadata": {},
     "output_type": "display_data"
    }
   ],
   "source": [
    "plot_parallel_coordinate(study)"
   ]
  },
  {
   "cell_type": "code",
   "execution_count": 14,
   "metadata": {},
   "outputs": [
    {
     "data": {
      "application/vnd.plotly.v1+json": {
       "config": {
        "plotlyServerURL": "https://plot.ly"
       },
       "data": [
        {
         "type": "scatter",
         "xaxis": "x",
         "yaxis": "y"
        },
        {
         "colorbar": {
          "title": {
           "text": "Objective Value"
          }
         },
         "colorscale": [
          [
           0,
           "rgb(247,251,255)"
          ],
          [
           0.125,
           "rgb(222,235,247)"
          ],
          [
           0.25,
           "rgb(198,219,239)"
          ],
          [
           0.375,
           "rgb(158,202,225)"
          ],
          [
           0.5,
           "rgb(107,174,214)"
          ],
          [
           0.625,
           "rgb(66,146,198)"
          ],
          [
           0.75,
           "rgb(33,113,181)"
          ],
          [
           0.875,
           "rgb(8,81,156)"
          ],
          [
           1,
           "rgb(8,48,107)"
          ]
         ],
         "connectgaps": true,
         "contours": {
          "coloring": "heatmap"
         },
         "hoverinfo": "none",
         "line": {
          "smoothing": 1.3
         },
         "reversescale": false,
         "showscale": true,
         "type": "contour",
         "x": [
          0.37603700795368594,
          0.4056752006082129,
          0.41331633772133347,
          0.41842111846273217,
          0.49985128604414425,
          0.5410190773473524,
          0.5785215326097938,
          0.6062856850624215,
          0.6142897881404484,
          0.6430782626779485,
          0.7368899309939578,
          0.76287085033706,
          0.7715082624345226,
          0.7785700951998049,
          0.7956288210604491,
          0.8117913365972165,
          0.8706576430488485,
          0.8743177701819174,
          0.8912212481850054,
          0.8971975563673598,
          0.9080144817216028,
          0.9196483998060389,
          0.9223940971865633,
          0.924272716232486,
          0.9251533423657325,
          0.9331456960997762,
          0.9341021972235127,
          0.9450398119321415,
          0.9538775968804557,
          0.9571980224669544,
          0.96089313969939,
          0.9614061786614667,
          0.9720655753769236,
          0.9739236352014543,
          0.9772758644300601,
          0.9772980883021436,
          0.9808154144700822,
          0.9829548559687407,
          0.9880317802259588,
          0.9925085170624447,
          0.9928475468050768,
          0.9957901977609537,
          0.9976320599923284,
          0.9984390536987516,
          1.0280772463532786
         ],
         "xaxis": "x4",
         "y": [
          0.7,
          1,
          2,
          3,
          4,
          5,
          6,
          7,
          7.3
         ],
         "yaxis": "y4",
         "z": [
          [
           null,
           null,
           null,
           null,
           null,
           null,
           null,
           null,
           null,
           null,
           null,
           null,
           null,
           null,
           null,
           null,
           null,
           null,
           null,
           null,
           null,
           null,
           null,
           null,
           null,
           null,
           null,
           null,
           null,
           null,
           null,
           null,
           null,
           null,
           null,
           null,
           null,
           null,
           null,
           null,
           null,
           null,
           null,
           null,
           null
          ],
          [
           null,
           null,
           0.35555555555555557,
           null,
           null,
           null,
           0.6444444444444445,
           null,
           null,
           null,
           null,
           null,
           null,
           null,
           null,
           null,
           null,
           null,
           null,
           null,
           0.6666666666666666,
           null,
           null,
           null,
           null,
           null,
           null,
           null,
           0.6666666666666666,
           null,
           null,
           null,
           null,
           null,
           null,
           null,
           null,
           null,
           null,
           null,
           null,
           null,
           null,
           null,
           null
          ],
          [
           null,
           null,
           null,
           null,
           null,
           null,
           null,
           null,
           null,
           null,
           null,
           null,
           null,
           null,
           null,
           null,
           null,
           null,
           null,
           0.6222222222222222,
           null,
           null,
           null,
           null,
           null,
           null,
           null,
           null,
           null,
           null,
           null,
           null,
           null,
           null,
           null,
           null,
           null,
           0.8444444444444444,
           null,
           null,
           null,
           0.7111111111111111,
           0.6666666666666666,
           null,
           null
          ],
          [
           null,
           0.4222222222222222,
           null,
           null,
           0.7333333333333333,
           0.4222222222222222,
           null,
           null,
           null,
           0.6666666666666666,
           null,
           null,
           null,
           null,
           null,
           null,
           null,
           null,
           null,
           null,
           null,
           null,
           null,
           null,
           null,
           0.6666666666666666,
           null,
           null,
           null,
           0.6444444444444445,
           0.7777777777777778,
           null,
           null,
           null,
           null,
           null,
           null,
           null,
           null,
           null,
           null,
           null,
           null,
           null,
           null
          ],
          [
           null,
           null,
           null,
           null,
           null,
           null,
           null,
           0.6888888888888889,
           null,
           null,
           null,
           null,
           null,
           0.4888888888888889,
           0.6444444444444445,
           null,
           0.7333333333333333,
           null,
           null,
           null,
           null,
           null,
           null,
           null,
           null,
           null,
           0.7777777777777778,
           0.6222222222222222,
           null,
           null,
           null,
           0.7111111111111111,
           null,
           null,
           null,
           0.7111111111111111,
           null,
           null,
           null,
           0.6444444444444445,
           null,
           null,
           null,
           null,
           null
          ],
          [
           null,
           null,
           null,
           0.4666666666666667,
           null,
           null,
           null,
           null,
           0.6888888888888889,
           null,
           null,
           null,
           null,
           null,
           null,
           null,
           null,
           0.7111111111111111,
           0.7333333333333333,
           null,
           null,
           0.7333333333333333,
           null,
           0.7333333333333333,
           0.6666666666666666,
           null,
           null,
           null,
           null,
           null,
           null,
           null,
           0.7111111111111111,
           null,
           null,
           null,
           null,
           null,
           null,
           null,
           null,
           null,
           null,
           null,
           null
          ],
          [
           null,
           null,
           null,
           null,
           null,
           null,
           null,
           null,
           null,
           null,
           0.7111111111111111,
           0.4888888888888889,
           null,
           null,
           null,
           0.7111111111111111,
           null,
           null,
           null,
           null,
           null,
           null,
           0.6666666666666666,
           null,
           null,
           null,
           null,
           null,
           null,
           null,
           null,
           null,
           null,
           null,
           0.7777777777777778,
           null,
           0.6666666666666666,
           null,
           0.7111111111111111,
           null,
           null,
           null,
           null,
           0.7333333333333333,
           null
          ],
          [
           null,
           null,
           null,
           null,
           null,
           null,
           null,
           null,
           null,
           null,
           null,
           null,
           0.35555555555555557,
           null,
           null,
           null,
           null,
           null,
           null,
           null,
           null,
           null,
           null,
           null,
           null,
           null,
           null,
           null,
           null,
           null,
           null,
           null,
           null,
           0.6444444444444445,
           null,
           null,
           null,
           null,
           null,
           null,
           0.6444444444444445,
           null,
           null,
           null,
           null
          ],
          [
           null,
           null,
           null,
           null,
           null,
           null,
           null,
           null,
           null,
           null,
           null,
           null,
           null,
           null,
           null,
           null,
           null,
           null,
           null,
           null,
           null,
           null,
           null,
           null,
           null,
           null,
           null,
           null,
           null,
           null,
           null,
           null,
           null,
           null,
           null,
           null,
           null,
           null,
           null,
           null,
           null,
           null,
           null,
           null,
           null
          ]
         ]
        },
        {
         "marker": {
          "color": "black",
          "line": {
           "color": "Grey",
           "width": 2
          }
         },
         "mode": "markers",
         "showlegend": false,
         "type": "scatter",
         "x": [
          0.49985128604414425,
          0.41331633772133347,
          0.5410190773473524,
          0.9976320599923284,
          0.7715082624345226,
          0.41842111846273217,
          0.8117913365972165,
          0.76287085033706,
          0.4056752006082129,
          0.7785700951998049,
          0.5785215326097938,
          0.924272716232486,
          0.9925085170624447,
          0.8912212481850054,
          0.6430782626779485,
          0.6062856850624215,
          0.9251533423657325,
          0.7368899309939578,
          0.8706576430488485,
          0.96089313969939,
          0.9614061786614667,
          0.9829548559687407,
          0.9080144817216028,
          0.9957901977609537,
          0.9196483998060389,
          0.9772758644300601,
          0.9739236352014543,
          0.9984390536987516,
          0.9223940971865633,
          0.9928475468050768,
          0.9720655753769236,
          0.9341021972235127,
          0.9450398119321415,
          0.9808154144700822,
          0.6142897881404484,
          0.9571980224669544,
          0.9880317802259588,
          0.7956288210604491,
          0.9538775968804557,
          0.8743177701819174,
          0.8971975563673598,
          0.9772980883021436,
          0.9331456960997762
         ],
         "xaxis": "x4",
         "y": [
          3,
          1,
          3,
          2,
          7,
          5,
          6,
          6,
          3,
          4,
          1,
          5,
          4,
          5,
          3,
          4,
          5,
          6,
          4,
          3,
          4,
          2,
          1,
          2,
          5,
          6,
          7,
          6,
          6,
          7,
          5,
          4,
          4,
          6,
          5,
          3,
          6,
          4,
          1,
          5,
          2,
          4,
          3
         ],
         "yaxis": "y4"
        },
        {
         "colorbar": {
          "title": {
           "text": "Objective Value"
          }
         },
         "colorscale": [
          [
           0,
           "rgb(247,251,255)"
          ],
          [
           0.125,
           "rgb(222,235,247)"
          ],
          [
           0.25,
           "rgb(198,219,239)"
          ],
          [
           0.375,
           "rgb(158,202,225)"
          ],
          [
           0.5,
           "rgb(107,174,214)"
          ],
          [
           0.625,
           "rgb(66,146,198)"
          ],
          [
           0.75,
           "rgb(33,113,181)"
          ],
          [
           0.875,
           "rgb(8,81,156)"
          ],
          [
           1,
           "rgb(8,48,107)"
          ]
         ],
         "connectgaps": true,
         "contours": {
          "coloring": "heatmap"
         },
         "hoverinfo": "none",
         "line": {
          "smoothing": 1.3
         },
         "reversescale": false,
         "showscale": false,
         "type": "contour",
         "x": [
          0.37603700795368594,
          0.4056752006082129,
          0.41331633772133347,
          0.41842111846273217,
          0.49985128604414425,
          0.5410190773473524,
          0.5785215326097938,
          0.6062856850624215,
          0.6142897881404484,
          0.6430782626779485,
          0.7368899309939578,
          0.76287085033706,
          0.7715082624345226,
          0.7785700951998049,
          0.7956288210604491,
          0.8117913365972165,
          0.8706576430488485,
          0.8743177701819174,
          0.8912212481850054,
          0.8971975563673598,
          0.9080144817216028,
          0.9196483998060389,
          0.9223940971865633,
          0.924272716232486,
          0.9251533423657325,
          0.9331456960997762,
          0.9341021972235127,
          0.9450398119321415,
          0.9538775968804557,
          0.9571980224669544,
          0.96089313969939,
          0.9614061786614667,
          0.9720655753769236,
          0.9739236352014543,
          0.9772758644300601,
          0.9772980883021436,
          0.9808154144700822,
          0.9829548559687407,
          0.9880317802259588,
          0.9925085170624447,
          0.9928475468050768,
          0.9957901977609537,
          0.9976320599923284,
          0.9984390536987516,
          1.0280772463532786
         ],
         "xaxis": "x7",
         "y": [
          2.5,
          7,
          14,
          17,
          20,
          21,
          23,
          28,
          34,
          35,
          37,
          41,
          43,
          45,
          47,
          49,
          50,
          52,
          53,
          54,
          55,
          56,
          58,
          59,
          61,
          62,
          63,
          64,
          65,
          68,
          76,
          94,
          96,
          97,
          101.5
         ],
         "yaxis": "y7",
         "z": [
          [
           null,
           null,
           null,
           null,
           null,
           null,
           null,
           null,
           null,
           null,
           null,
           null,
           null,
           null,
           null,
           null,
           null,
           null,
           null,
           null,
           null,
           null,
           null,
           null,
           null,
           null,
           null,
           null,
           null,
           null,
           null,
           null,
           null,
           null,
           null,
           null,
           null,
           null,
           null,
           null,
           null,
           null,
           null,
           null,
           null
          ],
          [
           null,
           null,
           null,
           null,
           null,
           null,
           null,
           null,
           null,
           null,
           null,
           null,
           null,
           null,
           null,
           null,
           null,
           null,
           null,
           null,
           null,
           null,
           null,
           null,
           null,
           null,
           null,
           null,
           null,
           null,
           null,
           null,
           null,
           null,
           null,
           null,
           null,
           null,
           null,
           null,
           null,
           null,
           0.6666666666666666,
           null,
           null
          ],
          [
           null,
           null,
           null,
           null,
           null,
           null,
           null,
           null,
           null,
           null,
           0.7111111111111111,
           null,
           null,
           null,
           null,
           null,
           null,
           0.7111111111111111,
           null,
           null,
           null,
           null,
           null,
           null,
           null,
           null,
           null,
           null,
           null,
           null,
           null,
           null,
           null,
           null,
           null,
           null,
           null,
           null,
           null,
           null,
           null,
           null,
           null,
           null,
           null
          ],
          [
           null,
           null,
           null,
           null,
           null,
           null,
           0.6444444444444445,
           null,
           null,
           null,
           null,
           null,
           null,
           null,
           null,
           null,
           null,
           null,
           null,
           null,
           null,
           null,
           null,
           null,
           null,
           null,
           null,
           null,
           null,
           null,
           null,
           null,
           null,
           null,
           null,
           null,
           null,
           null,
           null,
           null,
           null,
           null,
           null,
           null,
           null
          ],
          [
           null,
           null,
           null,
           null,
           null,
           null,
           null,
           null,
           null,
           null,
           null,
           null,
           null,
           null,
           null,
           null,
           null,
           null,
           null,
           null,
           null,
           null,
           0.6666666666666666,
           null,
           null,
           null,
           null,
           null,
           null,
           null,
           null,
           null,
           null,
           null,
           null,
           null,
           null,
           null,
           null,
           null,
           null,
           null,
           null,
           null,
           null
          ],
          [
           null,
           null,
           null,
           null,
           0.7333333333333333,
           null,
           null,
           null,
           null,
           null,
           null,
           null,
           null,
           null,
           null,
           null,
           null,
           null,
           null,
           null,
           null,
           null,
           null,
           null,
           null,
           null,
           null,
           null,
           null,
           null,
           null,
           null,
           null,
           null,
           null,
           null,
           null,
           null,
           null,
           null,
           null,
           null,
           null,
           null,
           null
          ],
          [
           null,
           null,
           null,
           null,
           null,
           null,
           null,
           null,
           0.6888888888888889,
           0.6666666666666666,
           null,
           null,
           null,
           null,
           null,
           null,
           null,
           null,
           null,
           null,
           null,
           null,
           null,
           null,
           null,
           null,
           null,
           null,
           null,
           null,
           null,
           null,
           null,
           null,
           null,
           null,
           null,
           null,
           null,
           null,
           null,
           null,
           null,
           null,
           null
          ],
          [
           null,
           null,
           null,
           null,
           null,
           null,
           null,
           null,
           null,
           null,
           null,
           null,
           null,
           null,
           null,
           null,
           null,
           null,
           0.7333333333333333,
           null,
           null,
           null,
           null,
           null,
           null,
           null,
           null,
           null,
           null,
           null,
           null,
           null,
           null,
           null,
           null,
           null,
           null,
           null,
           null,
           null,
           null,
           null,
           null,
           null,
           null
          ],
          [
           null,
           null,
           null,
           null,
           null,
           null,
           null,
           0.6888888888888889,
           null,
           null,
           null,
           null,
           null,
           null,
           null,
           null,
           null,
           null,
           null,
           null,
           null,
           null,
           null,
           null,
           0.6666666666666666,
           null,
           null,
           null,
           null,
           null,
           null,
           null,
           null,
           null,
           null,
           null,
           null,
           null,
           null,
           null,
           null,
           null,
           null,
           null,
           null
          ],
          [
           null,
           null,
           null,
           null,
           null,
           null,
           null,
           null,
           null,
           null,
           null,
           null,
           null,
           null,
           null,
           null,
           null,
           null,
           null,
           null,
           null,
           null,
           null,
           0.7333333333333333,
           null,
           null,
           null,
           null,
           null,
           null,
           null,
           null,
           null,
           null,
           null,
           null,
           null,
           null,
           null,
           0.6444444444444445,
           null,
           null,
           null,
           null,
           null
          ],
          [
           null,
           null,
           null,
           null,
           null,
           null,
           null,
           null,
           null,
           null,
           null,
           null,
           null,
           null,
           0.6444444444444445,
           null,
           null,
           null,
           null,
           null,
           null,
           null,
           null,
           null,
           null,
           null,
           null,
           null,
           null,
           null,
           null,
           null,
           null,
           null,
           null,
           null,
           null,
           null,
           null,
           null,
           null,
           null,
           null,
           null,
           null
          ],
          [
           null,
           null,
           null,
           null,
           null,
           null,
           null,
           null,
           null,
           null,
           null,
           null,
           null,
           null,
           null,
           null,
           null,
           null,
           null,
           null,
           null,
           null,
           null,
           null,
           null,
           null,
           null,
           null,
           0.6666666666666666,
           null,
           null,
           null,
           null,
           null,
           null,
           null,
           null,
           null,
           null,
           null,
           null,
           null,
           null,
           null,
           null
          ],
          [
           null,
           null,
           null,
           null,
           null,
           null,
           null,
           null,
           null,
           null,
           null,
           null,
           null,
           null,
           null,
           0.7111111111111111,
           null,
           null,
           null,
           null,
           null,
           null,
           null,
           null,
           null,
           null,
           null,
           null,
           null,
           null,
           null,
           null,
           null,
           null,
           null,
           null,
           null,
           null,
           null,
           null,
           null,
           null,
           null,
           null,
           null
          ],
          [
           null,
           null,
           null,
           null,
           null,
           null,
           null,
           null,
           null,
           null,
           null,
           null,
           null,
           null,
           null,
           null,
           null,
           null,
           null,
           null,
           null,
           null,
           null,
           null,
           null,
           null,
           null,
           null,
           null,
           null,
           null,
           null,
           null,
           null,
           null,
           0.7111111111111111,
           null,
           null,
           null,
           null,
           null,
           null,
           null,
           null,
           null
          ],
          [
           null,
           null,
           null,
           null,
           null,
           null,
           null,
           null,
           null,
           null,
           null,
           null,
           null,
           null,
           null,
           null,
           null,
           null,
           null,
           null,
           null,
           null,
           null,
           null,
           null,
           null,
           null,
           null,
           null,
           null,
           null,
           null,
           null,
           null,
           0.7777777777777778,
           null,
           null,
           null,
           0.7111111111111111,
           null,
           null,
           null,
           null,
           null,
           null
          ],
          [
           null,
           null,
           null,
           null,
           null,
           null,
           null,
           null,
           null,
           null,
           null,
           null,
           null,
           null,
           null,
           null,
           null,
           null,
           null,
           null,
           0.6666666666666666,
           null,
           null,
           null,
           null,
           null,
           null,
           null,
           null,
           null,
           null,
           null,
           null,
           null,
           null,
           null,
           null,
           null,
           null,
           null,
           null,
           null,
           null,
           null,
           null
          ],
          [
           null,
           null,
           null,
           null,
           null,
           null,
           null,
           null,
           null,
           null,
           null,
           null,
           null,
           null,
           null,
           null,
           null,
           null,
           null,
           null,
           null,
           null,
           null,
           null,
           null,
           null,
           0.7777777777777778,
           null,
           null,
           null,
           null,
           null,
           null,
           null,
           null,
           null,
           null,
           null,
           null,
           null,
           null,
           null,
           null,
           null,
           null
          ],
          [
           null,
           null,
           null,
           null,
           null,
           null,
           null,
           null,
           null,
           null,
           null,
           null,
           null,
           null,
           null,
           null,
           null,
           null,
           null,
           null,
           null,
           null,
           null,
           null,
           null,
           null,
           null,
           0.6222222222222222,
           null,
           null,
           null,
           null,
           null,
           null,
           null,
           null,
           null,
           null,
           null,
           null,
           null,
           null,
           null,
           null,
           null
          ],
          [
           null,
           null,
           null,
           null,
           null,
           null,
           null,
           null,
           null,
           null,
           null,
           null,
           null,
           null,
           null,
           null,
           null,
           null,
           null,
           null,
           null,
           0.7333333333333333,
           null,
           null,
           null,
           null,
           null,
           null,
           null,
           null,
           null,
           null,
           null,
           0.6444444444444445,
           null,
           null,
           null,
           null,
           null,
           null,
           null,
           null,
           null,
           null,
           null
          ],
          [
           null,
           null,
           null,
           null,
           null,
           null,
           null,
           null,
           null,
           null,
           null,
           null,
           null,
           null,
           null,
           null,
           null,
           null,
           null,
           0.6222222222222222,
           null,
           null,
           null,
           null,
           null,
           null,
           null,
           null,
           null,
           null,
           null,
           null,
           null,
           null,
           null,
           null,
           null,
           null,
           null,
           null,
           null,
           null,
           null,
           null,
           null
          ],
          [
           null,
           null,
           null,
           null,
           null,
           null,
           null,
           null,
           null,
           null,
           null,
           null,
           null,
           null,
           null,
           null,
           0.7333333333333333,
           null,
           null,
           null,
           null,
           null,
           null,
           null,
           null,
           null,
           null,
           null,
           null,
           null,
           null,
           null,
           null,
           null,
           null,
           null,
           null,
           null,
           null,
           null,
           null,
           null,
           null,
           null,
           null
          ],
          [
           null,
           null,
           null,
           null,
           null,
           null,
           null,
           null,
           null,
           null,
           null,
           null,
           null,
           null,
           null,
           null,
           null,
           null,
           null,
           null,
           null,
           null,
           null,
           null,
           null,
           null,
           null,
           null,
           null,
           null,
           null,
           0.7111111111111111,
           null,
           null,
           null,
           null,
           null,
           null,
           null,
           null,
           null,
           null,
           null,
           null,
           null
          ],
          [
           null,
           null,
           null,
           null,
           null,
           null,
           null,
           null,
           null,
           null,
           null,
           null,
           null,
           null,
           null,
           null,
           null,
           null,
           null,
           null,
           null,
           null,
           null,
           null,
           null,
           0.6666666666666666,
           null,
           null,
           null,
           null,
           null,
           null,
           null,
           null,
           null,
           null,
           null,
           null,
           null,
           null,
           null,
           null,
           null,
           null,
           null
          ],
          [
           null,
           null,
           null,
           null,
           null,
           null,
           null,
           null,
           null,
           null,
           null,
           null,
           null,
           null,
           null,
           null,
           null,
           null,
           null,
           null,
           null,
           null,
           null,
           null,
           null,
           null,
           null,
           null,
           null,
           null,
           null,
           null,
           0.7111111111111111,
           null,
           null,
           null,
           null,
           null,
           null,
           null,
           0.6444444444444445,
           null,
           null,
           0.7333333333333333,
           null
          ],
          [
           null,
           null,
           null,
           null,
           null,
           null,
           null,
           null,
           null,
           null,
           null,
           null,
           null,
           null,
           null,
           null,
           null,
           null,
           null,
           null,
           null,
           null,
           null,
           null,
           null,
           null,
           null,
           null,
           null,
           null,
           0.7777777777777778,
           null,
           null,
           null,
           null,
           null,
           null,
           null,
           null,
           null,
           null,
           null,
           null,
           null,
           null
          ],
          [
           null,
           null,
           null,
           null,
           null,
           null,
           null,
           null,
           null,
           null,
           null,
           null,
           null,
           0.4888888888888889,
           null,
           null,
           null,
           null,
           null,
           null,
           null,
           null,
           null,
           null,
           null,
           null,
           null,
           null,
           null,
           null,
           null,
           null,
           null,
           null,
           null,
           null,
           null,
           null,
           null,
           null,
           null,
           null,
           null,
           null,
           null
          ],
          [
           null,
           null,
           null,
           null,
           null,
           null,
           null,
           null,
           null,
           null,
           null,
           null,
           null,
           null,
           null,
           null,
           null,
           null,
           null,
           null,
           null,
           null,
           null,
           null,
           null,
           null,
           null,
           null,
           null,
           0.6444444444444445,
           null,
           null,
           null,
           null,
           null,
           null,
           null,
           null,
           null,
           null,
           null,
           null,
           null,
           null,
           null
          ],
          [
           null,
           null,
           null,
           null,
           null,
           null,
           null,
           null,
           null,
           null,
           null,
           null,
           null,
           null,
           null,
           null,
           null,
           null,
           null,
           null,
           null,
           null,
           null,
           null,
           null,
           null,
           null,
           null,
           null,
           null,
           null,
           null,
           null,
           null,
           null,
           null,
           null,
           0.8444444444444444,
           null,
           null,
           null,
           null,
           null,
           null,
           null
          ],
          [
           null,
           null,
           null,
           null,
           null,
           null,
           null,
           null,
           null,
           null,
           null,
           null,
           null,
           null,
           null,
           null,
           null,
           null,
           null,
           null,
           null,
           null,
           null,
           null,
           null,
           null,
           null,
           null,
           null,
           null,
           null,
           null,
           null,
           null,
           null,
           null,
           0.6666666666666666,
           null,
           null,
           null,
           null,
           0.7111111111111111,
           null,
           null,
           null
          ],
          [
           null,
           0.4222222222222222,
           null,
           null,
           null,
           null,
           null,
           null,
           null,
           null,
           null,
           null,
           null,
           null,
           null,
           null,
           null,
           null,
           null,
           null,
           null,
           null,
           null,
           null,
           null,
           null,
           null,
           null,
           null,
           null,
           null,
           null,
           null,
           null,
           null,
           null,
           null,
           null,
           null,
           null,
           null,
           null,
           null,
           null,
           null
          ],
          [
           null,
           null,
           null,
           null,
           null,
           null,
           null,
           null,
           null,
           null,
           null,
           0.4888888888888889,
           null,
           null,
           null,
           null,
           null,
           null,
           null,
           null,
           null,
           null,
           null,
           null,
           null,
           null,
           null,
           null,
           null,
           null,
           null,
           null,
           null,
           null,
           null,
           null,
           null,
           null,
           null,
           null,
           null,
           null,
           null,
           null,
           null
          ],
          [
           null,
           null,
           null,
           null,
           null,
           null,
           null,
           null,
           null,
           null,
           null,
           null,
           0.35555555555555557,
           null,
           null,
           null,
           null,
           null,
           null,
           null,
           null,
           null,
           null,
           null,
           null,
           null,
           null,
           null,
           null,
           null,
           null,
           null,
           null,
           null,
           null,
           null,
           null,
           null,
           null,
           null,
           null,
           null,
           null,
           null,
           null
          ],
          [
           null,
           null,
           null,
           0.4666666666666667,
           null,
           0.4222222222222222,
           null,
           null,
           null,
           null,
           null,
           null,
           null,
           null,
           null,
           null,
           null,
           null,
           null,
           null,
           null,
           null,
           null,
           null,
           null,
           null,
           null,
           null,
           null,
           null,
           null,
           null,
           null,
           null,
           null,
           null,
           null,
           null,
           null,
           null,
           null,
           null,
           null,
           null,
           null
          ],
          [
           null,
           null,
           0.35555555555555557,
           null,
           null,
           null,
           null,
           null,
           null,
           null,
           null,
           null,
           null,
           null,
           null,
           null,
           null,
           null,
           null,
           null,
           null,
           null,
           null,
           null,
           null,
           null,
           null,
           null,
           null,
           null,
           null,
           null,
           null,
           null,
           null,
           null,
           null,
           null,
           null,
           null,
           null,
           null,
           null,
           null,
           null
          ],
          [
           null,
           null,
           null,
           null,
           null,
           null,
           null,
           null,
           null,
           null,
           null,
           null,
           null,
           null,
           null,
           null,
           null,
           null,
           null,
           null,
           null,
           null,
           null,
           null,
           null,
           null,
           null,
           null,
           null,
           null,
           null,
           null,
           null,
           null,
           null,
           null,
           null,
           null,
           null,
           null,
           null,
           null,
           null,
           null,
           null
          ]
         ]
        },
        {
         "marker": {
          "color": "black",
          "line": {
           "color": "Grey",
           "width": 2
          }
         },
         "mode": "markers",
         "showlegend": false,
         "type": "scatter",
         "x": [
          0.49985128604414425,
          0.41331633772133347,
          0.5410190773473524,
          0.9976320599923284,
          0.7715082624345226,
          0.41842111846273217,
          0.8117913365972165,
          0.76287085033706,
          0.4056752006082129,
          0.7785700951998049,
          0.5785215326097938,
          0.924272716232486,
          0.9925085170624447,
          0.8912212481850054,
          0.6430782626779485,
          0.6062856850624215,
          0.9251533423657325,
          0.7368899309939578,
          0.8706576430488485,
          0.96089313969939,
          0.9614061786614667,
          0.9829548559687407,
          0.9080144817216028,
          0.9957901977609537,
          0.9196483998060389,
          0.9772758644300601,
          0.9739236352014543,
          0.9984390536987516,
          0.9223940971865633,
          0.9928475468050768,
          0.9720655753769236,
          0.9341021972235127,
          0.9450398119321415,
          0.9808154144700822,
          0.6142897881404484,
          0.9571980224669544,
          0.9880317802259588,
          0.7956288210604491,
          0.9538775968804557,
          0.8743177701819174,
          0.8971975563673598,
          0.9772980883021436,
          0.9331456960997762
         ],
         "xaxis": "x7",
         "y": [
          21,
          97,
          96,
          7,
          94,
          96,
          43,
          76,
          68,
          62,
          17,
          35,
          35,
          28,
          23,
          34,
          34,
          14,
          55,
          61,
          56,
          64,
          49,
          65,
          53,
          47,
          53,
          59,
          20,
          59,
          59,
          50,
          52,
          65,
          23,
          63,
          47,
          37,
          41,
          14,
          54,
          45,
          58
         ],
         "yaxis": "y7"
        },
        {
         "colorbar": {
          "title": {
           "text": "Objective Value"
          }
         },
         "colorscale": [
          [
           0,
           "rgb(247,251,255)"
          ],
          [
           0.125,
           "rgb(222,235,247)"
          ],
          [
           0.25,
           "rgb(198,219,239)"
          ],
          [
           0.375,
           "rgb(158,202,225)"
          ],
          [
           0.5,
           "rgb(107,174,214)"
          ],
          [
           0.625,
           "rgb(66,146,198)"
          ],
          [
           0.75,
           "rgb(33,113,181)"
          ],
          [
           0.875,
           "rgb(8,81,156)"
          ],
          [
           1,
           "rgb(8,48,107)"
          ]
         ],
         "connectgaps": true,
         "contours": {
          "coloring": "heatmap"
         },
         "hoverinfo": "none",
         "line": {
          "smoothing": 1.3
         },
         "reversescale": false,
         "showscale": false,
         "type": "contour",
         "x": [
          0.7,
          1,
          2,
          3,
          4,
          5,
          6,
          7,
          7.3
         ],
         "xaxis": "x2",
         "y": [
          0.37603700795368594,
          0.4056752006082129,
          0.41331633772133347,
          0.41842111846273217,
          0.49985128604414425,
          0.5410190773473524,
          0.5785215326097938,
          0.6062856850624215,
          0.6142897881404484,
          0.6430782626779485,
          0.7368899309939578,
          0.76287085033706,
          0.7715082624345226,
          0.7785700951998049,
          0.7956288210604491,
          0.8117913365972165,
          0.8706576430488485,
          0.8743177701819174,
          0.8912212481850054,
          0.8971975563673598,
          0.9080144817216028,
          0.9196483998060389,
          0.9223940971865633,
          0.924272716232486,
          0.9251533423657325,
          0.9331456960997762,
          0.9341021972235127,
          0.9450398119321415,
          0.9538775968804557,
          0.9571980224669544,
          0.96089313969939,
          0.9614061786614667,
          0.9720655753769236,
          0.9739236352014543,
          0.9772758644300601,
          0.9772980883021436,
          0.9808154144700822,
          0.9829548559687407,
          0.9880317802259588,
          0.9925085170624447,
          0.9928475468050768,
          0.9957901977609537,
          0.9976320599923284,
          0.9984390536987516,
          1.0280772463532786
         ],
         "yaxis": "y2",
         "z": [
          [
           null,
           null,
           null,
           null,
           null,
           null,
           null,
           null,
           null
          ],
          [
           null,
           null,
           null,
           0.4222222222222222,
           null,
           null,
           null,
           null,
           null
          ],
          [
           null,
           0.35555555555555557,
           null,
           null,
           null,
           null,
           null,
           null,
           null
          ],
          [
           null,
           null,
           null,
           null,
           null,
           0.4666666666666667,
           null,
           null,
           null
          ],
          [
           null,
           null,
           null,
           0.7333333333333333,
           null,
           null,
           null,
           null,
           null
          ],
          [
           null,
           null,
           null,
           0.4222222222222222,
           null,
           null,
           null,
           null,
           null
          ],
          [
           null,
           0.6444444444444445,
           null,
           null,
           null,
           null,
           null,
           null,
           null
          ],
          [
           null,
           null,
           null,
           null,
           0.6888888888888889,
           null,
           null,
           null,
           null
          ],
          [
           null,
           null,
           null,
           null,
           null,
           0.6888888888888889,
           null,
           null,
           null
          ],
          [
           null,
           null,
           null,
           0.6666666666666666,
           null,
           null,
           null,
           null,
           null
          ],
          [
           null,
           null,
           null,
           null,
           null,
           null,
           0.7111111111111111,
           null,
           null
          ],
          [
           null,
           null,
           null,
           null,
           null,
           null,
           0.4888888888888889,
           null,
           null
          ],
          [
           null,
           null,
           null,
           null,
           null,
           null,
           null,
           0.35555555555555557,
           null
          ],
          [
           null,
           null,
           null,
           null,
           0.4888888888888889,
           null,
           null,
           null,
           null
          ],
          [
           null,
           null,
           null,
           null,
           0.6444444444444445,
           null,
           null,
           null,
           null
          ],
          [
           null,
           null,
           null,
           null,
           null,
           null,
           0.7111111111111111,
           null,
           null
          ],
          [
           null,
           null,
           null,
           null,
           0.7333333333333333,
           null,
           null,
           null,
           null
          ],
          [
           null,
           null,
           null,
           null,
           null,
           0.7111111111111111,
           null,
           null,
           null
          ],
          [
           null,
           null,
           null,
           null,
           null,
           0.7333333333333333,
           null,
           null,
           null
          ],
          [
           null,
           null,
           0.6222222222222222,
           null,
           null,
           null,
           null,
           null,
           null
          ],
          [
           null,
           0.6666666666666666,
           null,
           null,
           null,
           null,
           null,
           null,
           null
          ],
          [
           null,
           null,
           null,
           null,
           null,
           0.7333333333333333,
           null,
           null,
           null
          ],
          [
           null,
           null,
           null,
           null,
           null,
           null,
           0.6666666666666666,
           null,
           null
          ],
          [
           null,
           null,
           null,
           null,
           null,
           0.7333333333333333,
           null,
           null,
           null
          ],
          [
           null,
           null,
           null,
           null,
           null,
           0.6666666666666666,
           null,
           null,
           null
          ],
          [
           null,
           null,
           null,
           0.6666666666666666,
           null,
           null,
           null,
           null,
           null
          ],
          [
           null,
           null,
           null,
           null,
           0.7777777777777778,
           null,
           null,
           null,
           null
          ],
          [
           null,
           null,
           null,
           null,
           0.6222222222222222,
           null,
           null,
           null,
           null
          ],
          [
           null,
           0.6666666666666666,
           null,
           null,
           null,
           null,
           null,
           null,
           null
          ],
          [
           null,
           null,
           null,
           0.6444444444444445,
           null,
           null,
           null,
           null,
           null
          ],
          [
           null,
           null,
           null,
           0.7777777777777778,
           null,
           null,
           null,
           null,
           null
          ],
          [
           null,
           null,
           null,
           null,
           0.7111111111111111,
           null,
           null,
           null,
           null
          ],
          [
           null,
           null,
           null,
           null,
           null,
           0.7111111111111111,
           null,
           null,
           null
          ],
          [
           null,
           null,
           null,
           null,
           null,
           null,
           null,
           0.6444444444444445,
           null
          ],
          [
           null,
           null,
           null,
           null,
           null,
           null,
           0.7777777777777778,
           null,
           null
          ],
          [
           null,
           null,
           null,
           null,
           0.7111111111111111,
           null,
           null,
           null,
           null
          ],
          [
           null,
           null,
           null,
           null,
           null,
           null,
           0.6666666666666666,
           null,
           null
          ],
          [
           null,
           null,
           0.8444444444444444,
           null,
           null,
           null,
           null,
           null,
           null
          ],
          [
           null,
           null,
           null,
           null,
           null,
           null,
           0.7111111111111111,
           null,
           null
          ],
          [
           null,
           null,
           null,
           null,
           0.6444444444444445,
           null,
           null,
           null,
           null
          ],
          [
           null,
           null,
           null,
           null,
           null,
           null,
           null,
           0.6444444444444445,
           null
          ],
          [
           null,
           null,
           0.7111111111111111,
           null,
           null,
           null,
           null,
           null,
           null
          ],
          [
           null,
           null,
           0.6666666666666666,
           null,
           null,
           null,
           null,
           null,
           null
          ],
          [
           null,
           null,
           null,
           null,
           null,
           null,
           0.7333333333333333,
           null,
           null
          ],
          [
           null,
           null,
           null,
           null,
           null,
           null,
           null,
           null,
           null
          ]
         ]
        },
        {
         "marker": {
          "color": "black",
          "line": {
           "color": "Grey",
           "width": 2
          }
         },
         "mode": "markers",
         "showlegend": false,
         "type": "scatter",
         "x": [
          3,
          1,
          3,
          2,
          7,
          5,
          6,
          6,
          3,
          4,
          1,
          5,
          4,
          5,
          3,
          4,
          5,
          6,
          4,
          3,
          4,
          2,
          1,
          2,
          5,
          6,
          7,
          6,
          6,
          7,
          5,
          4,
          4,
          6,
          5,
          3,
          6,
          4,
          1,
          5,
          2,
          4,
          3
         ],
         "xaxis": "x2",
         "y": [
          0.49985128604414425,
          0.41331633772133347,
          0.5410190773473524,
          0.9976320599923284,
          0.7715082624345226,
          0.41842111846273217,
          0.8117913365972165,
          0.76287085033706,
          0.4056752006082129,
          0.7785700951998049,
          0.5785215326097938,
          0.924272716232486,
          0.9925085170624447,
          0.8912212481850054,
          0.6430782626779485,
          0.6062856850624215,
          0.9251533423657325,
          0.7368899309939578,
          0.8706576430488485,
          0.96089313969939,
          0.9614061786614667,
          0.9829548559687407,
          0.9080144817216028,
          0.9957901977609537,
          0.9196483998060389,
          0.9772758644300601,
          0.9739236352014543,
          0.9984390536987516,
          0.9223940971865633,
          0.9928475468050768,
          0.9720655753769236,
          0.9341021972235127,
          0.9450398119321415,
          0.9808154144700822,
          0.6142897881404484,
          0.9571980224669544,
          0.9880317802259588,
          0.7956288210604491,
          0.9538775968804557,
          0.8743177701819174,
          0.8971975563673598,
          0.9772980883021436,
          0.9331456960997762
         ],
         "yaxis": "y2"
        },
        {
         "type": "scatter",
         "xaxis": "x5",
         "yaxis": "y5"
        },
        {
         "colorbar": {
          "title": {
           "text": "Objective Value"
          }
         },
         "colorscale": [
          [
           0,
           "rgb(247,251,255)"
          ],
          [
           0.125,
           "rgb(222,235,247)"
          ],
          [
           0.25,
           "rgb(198,219,239)"
          ],
          [
           0.375,
           "rgb(158,202,225)"
          ],
          [
           0.5,
           "rgb(107,174,214)"
          ],
          [
           0.625,
           "rgb(66,146,198)"
          ],
          [
           0.75,
           "rgb(33,113,181)"
          ],
          [
           0.875,
           "rgb(8,81,156)"
          ],
          [
           1,
           "rgb(8,48,107)"
          ]
         ],
         "connectgaps": true,
         "contours": {
          "coloring": "heatmap"
         },
         "hoverinfo": "none",
         "line": {
          "smoothing": 1.3
         },
         "reversescale": false,
         "showscale": false,
         "type": "contour",
         "x": [
          0.7,
          1,
          2,
          3,
          4,
          5,
          6,
          7,
          7.3
         ],
         "xaxis": "x8",
         "y": [
          2.5,
          7,
          14,
          17,
          20,
          21,
          23,
          28,
          34,
          35,
          37,
          41,
          43,
          45,
          47,
          49,
          50,
          52,
          53,
          54,
          55,
          56,
          58,
          59,
          61,
          62,
          63,
          64,
          65,
          68,
          76,
          94,
          96,
          97,
          101.5
         ],
         "yaxis": "y8",
         "z": [
          [
           null,
           null,
           null,
           null,
           null,
           null,
           null,
           null,
           null
          ],
          [
           null,
           null,
           0.6666666666666666,
           null,
           null,
           null,
           null,
           null,
           null
          ],
          [
           null,
           null,
           null,
           null,
           null,
           0.7111111111111111,
           0.7111111111111111,
           null,
           null
          ],
          [
           null,
           0.6444444444444445,
           null,
           null,
           null,
           null,
           null,
           null,
           null
          ],
          [
           null,
           null,
           null,
           null,
           null,
           null,
           0.6666666666666666,
           null,
           null
          ],
          [
           null,
           null,
           null,
           0.7333333333333333,
           null,
           null,
           null,
           null,
           null
          ],
          [
           null,
           null,
           null,
           0.6666666666666666,
           null,
           0.6888888888888889,
           null,
           null,
           null
          ],
          [
           null,
           null,
           null,
           null,
           null,
           0.7333333333333333,
           null,
           null,
           null
          ],
          [
           null,
           null,
           null,
           null,
           0.6888888888888889,
           0.6666666666666666,
           null,
           null,
           null
          ],
          [
           null,
           null,
           null,
           null,
           0.6444444444444445,
           0.7333333333333333,
           null,
           null,
           null
          ],
          [
           null,
           null,
           null,
           null,
           0.6444444444444445,
           null,
           null,
           null,
           null
          ],
          [
           null,
           0.6666666666666666,
           null,
           null,
           null,
           null,
           null,
           null,
           null
          ],
          [
           null,
           null,
           null,
           null,
           null,
           null,
           0.7111111111111111,
           null,
           null
          ],
          [
           null,
           null,
           null,
           null,
           0.7111111111111111,
           null,
           null,
           null,
           null
          ],
          [
           null,
           null,
           null,
           null,
           null,
           null,
           0.7111111111111111,
           null,
           null
          ],
          [
           null,
           0.6666666666666666,
           null,
           null,
           null,
           null,
           null,
           null,
           null
          ],
          [
           null,
           null,
           null,
           null,
           0.7777777777777778,
           null,
           null,
           null,
           null
          ],
          [
           null,
           null,
           null,
           null,
           0.6222222222222222,
           null,
           null,
           null,
           null
          ],
          [
           null,
           null,
           null,
           null,
           null,
           0.7333333333333333,
           null,
           0.6444444444444445,
           null
          ],
          [
           null,
           null,
           0.6222222222222222,
           null,
           null,
           null,
           null,
           null,
           null
          ],
          [
           null,
           null,
           null,
           null,
           0.7333333333333333,
           null,
           null,
           null,
           null
          ],
          [
           null,
           null,
           null,
           null,
           0.7111111111111111,
           null,
           null,
           null,
           null
          ],
          [
           null,
           null,
           null,
           0.6666666666666666,
           null,
           null,
           null,
           null,
           null
          ],
          [
           null,
           null,
           null,
           null,
           null,
           0.7111111111111111,
           0.7333333333333333,
           0.6444444444444445,
           null
          ],
          [
           null,
           null,
           null,
           0.7777777777777778,
           null,
           null,
           null,
           null,
           null
          ],
          [
           null,
           null,
           null,
           null,
           0.4888888888888889,
           null,
           null,
           null,
           null
          ],
          [
           null,
           null,
           null,
           0.6444444444444445,
           null,
           null,
           null,
           null,
           null
          ],
          [
           null,
           null,
           0.8444444444444444,
           null,
           null,
           null,
           null,
           null,
           null
          ],
          [
           null,
           null,
           0.7111111111111111,
           null,
           null,
           null,
           0.6666666666666666,
           null,
           null
          ],
          [
           null,
           null,
           null,
           0.4222222222222222,
           null,
           null,
           null,
           null,
           null
          ],
          [
           null,
           null,
           null,
           null,
           null,
           null,
           0.4888888888888889,
           null,
           null
          ],
          [
           null,
           null,
           null,
           null,
           null,
           null,
           null,
           0.35555555555555557,
           null
          ],
          [
           null,
           null,
           null,
           0.4222222222222222,
           null,
           0.4666666666666667,
           null,
           null,
           null
          ],
          [
           null,
           0.35555555555555557,
           null,
           null,
           null,
           null,
           null,
           null,
           null
          ],
          [
           null,
           null,
           null,
           null,
           null,
           null,
           null,
           null,
           null
          ]
         ]
        },
        {
         "marker": {
          "color": "black",
          "line": {
           "color": "Grey",
           "width": 2
          }
         },
         "mode": "markers",
         "showlegend": false,
         "type": "scatter",
         "x": [
          3,
          1,
          3,
          2,
          7,
          5,
          6,
          6,
          3,
          4,
          1,
          5,
          4,
          5,
          3,
          4,
          5,
          6,
          4,
          3,
          4,
          2,
          1,
          2,
          5,
          6,
          7,
          6,
          6,
          7,
          5,
          4,
          4,
          6,
          5,
          3,
          6,
          4,
          1,
          5,
          2,
          4,
          3
         ],
         "xaxis": "x8",
         "y": [
          21,
          97,
          96,
          7,
          94,
          96,
          43,
          76,
          68,
          62,
          17,
          35,
          35,
          28,
          23,
          34,
          34,
          14,
          55,
          61,
          56,
          64,
          49,
          65,
          53,
          47,
          53,
          59,
          20,
          59,
          59,
          50,
          52,
          65,
          23,
          63,
          47,
          37,
          41,
          14,
          54,
          45,
          58
         ],
         "yaxis": "y8"
        },
        {
         "colorbar": {
          "title": {
           "text": "Objective Value"
          }
         },
         "colorscale": [
          [
           0,
           "rgb(247,251,255)"
          ],
          [
           0.125,
           "rgb(222,235,247)"
          ],
          [
           0.25,
           "rgb(198,219,239)"
          ],
          [
           0.375,
           "rgb(158,202,225)"
          ],
          [
           0.5,
           "rgb(107,174,214)"
          ],
          [
           0.625,
           "rgb(66,146,198)"
          ],
          [
           0.75,
           "rgb(33,113,181)"
          ],
          [
           0.875,
           "rgb(8,81,156)"
          ],
          [
           1,
           "rgb(8,48,107)"
          ]
         ],
         "connectgaps": true,
         "contours": {
          "coloring": "heatmap"
         },
         "hoverinfo": "none",
         "line": {
          "smoothing": 1.3
         },
         "reversescale": false,
         "showscale": false,
         "type": "contour",
         "x": [
          2.5,
          7,
          14,
          17,
          20,
          21,
          23,
          28,
          34,
          35,
          37,
          41,
          43,
          45,
          47,
          49,
          50,
          52,
          53,
          54,
          55,
          56,
          58,
          59,
          61,
          62,
          63,
          64,
          65,
          68,
          76,
          94,
          96,
          97,
          101.5
         ],
         "xaxis": "x3",
         "y": [
          0.37603700795368594,
          0.4056752006082129,
          0.41331633772133347,
          0.41842111846273217,
          0.49985128604414425,
          0.5410190773473524,
          0.5785215326097938,
          0.6062856850624215,
          0.6142897881404484,
          0.6430782626779485,
          0.7368899309939578,
          0.76287085033706,
          0.7715082624345226,
          0.7785700951998049,
          0.7956288210604491,
          0.8117913365972165,
          0.8706576430488485,
          0.8743177701819174,
          0.8912212481850054,
          0.8971975563673598,
          0.9080144817216028,
          0.9196483998060389,
          0.9223940971865633,
          0.924272716232486,
          0.9251533423657325,
          0.9331456960997762,
          0.9341021972235127,
          0.9450398119321415,
          0.9538775968804557,
          0.9571980224669544,
          0.96089313969939,
          0.9614061786614667,
          0.9720655753769236,
          0.9739236352014543,
          0.9772758644300601,
          0.9772980883021436,
          0.9808154144700822,
          0.9829548559687407,
          0.9880317802259588,
          0.9925085170624447,
          0.9928475468050768,
          0.9957901977609537,
          0.9976320599923284,
          0.9984390536987516,
          1.0280772463532786
         ],
         "yaxis": "y3",
         "z": [
          [
           null,
           null,
           null,
           null,
           null,
           null,
           null,
           null,
           null,
           null,
           null,
           null,
           null,
           null,
           null,
           null,
           null,
           null,
           null,
           null,
           null,
           null,
           null,
           null,
           null,
           null,
           null,
           null,
           null,
           null,
           null,
           null,
           null,
           null,
           null
          ],
          [
           null,
           null,
           null,
           null,
           null,
           null,
           null,
           null,
           null,
           null,
           null,
           null,
           null,
           null,
           null,
           null,
           null,
           null,
           null,
           null,
           null,
           null,
           null,
           null,
           null,
           null,
           null,
           null,
           null,
           0.4222222222222222,
           null,
           null,
           null,
           null,
           null
          ],
          [
           null,
           null,
           null,
           null,
           null,
           null,
           null,
           null,
           null,
           null,
           null,
           null,
           null,
           null,
           null,
           null,
           null,
           null,
           null,
           null,
           null,
           null,
           null,
           null,
           null,
           null,
           null,
           null,
           null,
           null,
           null,
           null,
           null,
           0.35555555555555557,
           null
          ],
          [
           null,
           null,
           null,
           null,
           null,
           null,
           null,
           null,
           null,
           null,
           null,
           null,
           null,
           null,
           null,
           null,
           null,
           null,
           null,
           null,
           null,
           null,
           null,
           null,
           null,
           null,
           null,
           null,
           null,
           null,
           null,
           null,
           0.4666666666666667,
           null,
           null
          ],
          [
           null,
           null,
           null,
           null,
           null,
           0.7333333333333333,
           null,
           null,
           null,
           null,
           null,
           null,
           null,
           null,
           null,
           null,
           null,
           null,
           null,
           null,
           null,
           null,
           null,
           null,
           null,
           null,
           null,
           null,
           null,
           null,
           null,
           null,
           null,
           null,
           null
          ],
          [
           null,
           null,
           null,
           null,
           null,
           null,
           null,
           null,
           null,
           null,
           null,
           null,
           null,
           null,
           null,
           null,
           null,
           null,
           null,
           null,
           null,
           null,
           null,
           null,
           null,
           null,
           null,
           null,
           null,
           null,
           null,
           null,
           0.4222222222222222,
           null,
           null
          ],
          [
           null,
           null,
           null,
           0.6444444444444445,
           null,
           null,
           null,
           null,
           null,
           null,
           null,
           null,
           null,
           null,
           null,
           null,
           null,
           null,
           null,
           null,
           null,
           null,
           null,
           null,
           null,
           null,
           null,
           null,
           null,
           null,
           null,
           null,
           null,
           null,
           null
          ],
          [
           null,
           null,
           null,
           null,
           null,
           null,
           null,
           null,
           0.6888888888888889,
           null,
           null,
           null,
           null,
           null,
           null,
           null,
           null,
           null,
           null,
           null,
           null,
           null,
           null,
           null,
           null,
           null,
           null,
           null,
           null,
           null,
           null,
           null,
           null,
           null,
           null
          ],
          [
           null,
           null,
           null,
           null,
           null,
           null,
           0.6888888888888889,
           null,
           null,
           null,
           null,
           null,
           null,
           null,
           null,
           null,
           null,
           null,
           null,
           null,
           null,
           null,
           null,
           null,
           null,
           null,
           null,
           null,
           null,
           null,
           null,
           null,
           null,
           null,
           null
          ],
          [
           null,
           null,
           null,
           null,
           null,
           null,
           0.6666666666666666,
           null,
           null,
           null,
           null,
           null,
           null,
           null,
           null,
           null,
           null,
           null,
           null,
           null,
           null,
           null,
           null,
           null,
           null,
           null,
           null,
           null,
           null,
           null,
           null,
           null,
           null,
           null,
           null
          ],
          [
           null,
           null,
           0.7111111111111111,
           null,
           null,
           null,
           null,
           null,
           null,
           null,
           null,
           null,
           null,
           null,
           null,
           null,
           null,
           null,
           null,
           null,
           null,
           null,
           null,
           null,
           null,
           null,
           null,
           null,
           null,
           null,
           null,
           null,
           null,
           null,
           null
          ],
          [
           null,
           null,
           null,
           null,
           null,
           null,
           null,
           null,
           null,
           null,
           null,
           null,
           null,
           null,
           null,
           null,
           null,
           null,
           null,
           null,
           null,
           null,
           null,
           null,
           null,
           null,
           null,
           null,
           null,
           null,
           0.4888888888888889,
           null,
           null,
           null,
           null
          ],
          [
           null,
           null,
           null,
           null,
           null,
           null,
           null,
           null,
           null,
           null,
           null,
           null,
           null,
           null,
           null,
           null,
           null,
           null,
           null,
           null,
           null,
           null,
           null,
           null,
           null,
           null,
           null,
           null,
           null,
           null,
           null,
           0.35555555555555557,
           null,
           null,
           null
          ],
          [
           null,
           null,
           null,
           null,
           null,
           null,
           null,
           null,
           null,
           null,
           null,
           null,
           null,
           null,
           null,
           null,
           null,
           null,
           null,
           null,
           null,
           null,
           null,
           null,
           null,
           0.4888888888888889,
           null,
           null,
           null,
           null,
           null,
           null,
           null,
           null,
           null
          ],
          [
           null,
           null,
           null,
           null,
           null,
           null,
           null,
           null,
           null,
           null,
           0.6444444444444445,
           null,
           null,
           null,
           null,
           null,
           null,
           null,
           null,
           null,
           null,
           null,
           null,
           null,
           null,
           null,
           null,
           null,
           null,
           null,
           null,
           null,
           null,
           null,
           null
          ],
          [
           null,
           null,
           null,
           null,
           null,
           null,
           null,
           null,
           null,
           null,
           null,
           null,
           0.7111111111111111,
           null,
           null,
           null,
           null,
           null,
           null,
           null,
           null,
           null,
           null,
           null,
           null,
           null,
           null,
           null,
           null,
           null,
           null,
           null,
           null,
           null,
           null
          ],
          [
           null,
           null,
           null,
           null,
           null,
           null,
           null,
           null,
           null,
           null,
           null,
           null,
           null,
           null,
           null,
           null,
           null,
           null,
           null,
           null,
           0.7333333333333333,
           null,
           null,
           null,
           null,
           null,
           null,
           null,
           null,
           null,
           null,
           null,
           null,
           null,
           null
          ],
          [
           null,
           null,
           0.7111111111111111,
           null,
           null,
           null,
           null,
           null,
           null,
           null,
           null,
           null,
           null,
           null,
           null,
           null,
           null,
           null,
           null,
           null,
           null,
           null,
           null,
           null,
           null,
           null,
           null,
           null,
           null,
           null,
           null,
           null,
           null,
           null,
           null
          ],
          [
           null,
           null,
           null,
           null,
           null,
           null,
           null,
           0.7333333333333333,
           null,
           null,
           null,
           null,
           null,
           null,
           null,
           null,
           null,
           null,
           null,
           null,
           null,
           null,
           null,
           null,
           null,
           null,
           null,
           null,
           null,
           null,
           null,
           null,
           null,
           null,
           null
          ],
          [
           null,
           null,
           null,
           null,
           null,
           null,
           null,
           null,
           null,
           null,
           null,
           null,
           null,
           null,
           null,
           null,
           null,
           null,
           null,
           0.6222222222222222,
           null,
           null,
           null,
           null,
           null,
           null,
           null,
           null,
           null,
           null,
           null,
           null,
           null,
           null,
           null
          ],
          [
           null,
           null,
           null,
           null,
           null,
           null,
           null,
           null,
           null,
           null,
           null,
           null,
           null,
           null,
           null,
           0.6666666666666666,
           null,
           null,
           null,
           null,
           null,
           null,
           null,
           null,
           null,
           null,
           null,
           null,
           null,
           null,
           null,
           null,
           null,
           null,
           null
          ],
          [
           null,
           null,
           null,
           null,
           null,
           null,
           null,
           null,
           null,
           null,
           null,
           null,
           null,
           null,
           null,
           null,
           null,
           null,
           0.7333333333333333,
           null,
           null,
           null,
           null,
           null,
           null,
           null,
           null,
           null,
           null,
           null,
           null,
           null,
           null,
           null,
           null
          ],
          [
           null,
           null,
           null,
           null,
           0.6666666666666666,
           null,
           null,
           null,
           null,
           null,
           null,
           null,
           null,
           null,
           null,
           null,
           null,
           null,
           null,
           null,
           null,
           null,
           null,
           null,
           null,
           null,
           null,
           null,
           null,
           null,
           null,
           null,
           null,
           null,
           null
          ],
          [
           null,
           null,
           null,
           null,
           null,
           null,
           null,
           null,
           null,
           0.7333333333333333,
           null,
           null,
           null,
           null,
           null,
           null,
           null,
           null,
           null,
           null,
           null,
           null,
           null,
           null,
           null,
           null,
           null,
           null,
           null,
           null,
           null,
           null,
           null,
           null,
           null
          ],
          [
           null,
           null,
           null,
           null,
           null,
           null,
           null,
           null,
           0.6666666666666666,
           null,
           null,
           null,
           null,
           null,
           null,
           null,
           null,
           null,
           null,
           null,
           null,
           null,
           null,
           null,
           null,
           null,
           null,
           null,
           null,
           null,
           null,
           null,
           null,
           null,
           null
          ],
          [
           null,
           null,
           null,
           null,
           null,
           null,
           null,
           null,
           null,
           null,
           null,
           null,
           null,
           null,
           null,
           null,
           null,
           null,
           null,
           null,
           null,
           null,
           0.6666666666666666,
           null,
           null,
           null,
           null,
           null,
           null,
           null,
           null,
           null,
           null,
           null,
           null
          ],
          [
           null,
           null,
           null,
           null,
           null,
           null,
           null,
           null,
           null,
           null,
           null,
           null,
           null,
           null,
           null,
           null,
           0.7777777777777778,
           null,
           null,
           null,
           null,
           null,
           null,
           null,
           null,
           null,
           null,
           null,
           null,
           null,
           null,
           null,
           null,
           null,
           null
          ],
          [
           null,
           null,
           null,
           null,
           null,
           null,
           null,
           null,
           null,
           null,
           null,
           null,
           null,
           null,
           null,
           null,
           null,
           0.6222222222222222,
           null,
           null,
           null,
           null,
           null,
           null,
           null,
           null,
           null,
           null,
           null,
           null,
           null,
           null,
           null,
           null,
           null
          ],
          [
           null,
           null,
           null,
           null,
           null,
           null,
           null,
           null,
           null,
           null,
           null,
           0.6666666666666666,
           null,
           null,
           null,
           null,
           null,
           null,
           null,
           null,
           null,
           null,
           null,
           null,
           null,
           null,
           null,
           null,
           null,
           null,
           null,
           null,
           null,
           null,
           null
          ],
          [
           null,
           null,
           null,
           null,
           null,
           null,
           null,
           null,
           null,
           null,
           null,
           null,
           null,
           null,
           null,
           null,
           null,
           null,
           null,
           null,
           null,
           null,
           null,
           null,
           null,
           null,
           0.6444444444444445,
           null,
           null,
           null,
           null,
           null,
           null,
           null,
           null
          ],
          [
           null,
           null,
           null,
           null,
           null,
           null,
           null,
           null,
           null,
           null,
           null,
           null,
           null,
           null,
           null,
           null,
           null,
           null,
           null,
           null,
           null,
           null,
           null,
           null,
           0.7777777777777778,
           null,
           null,
           null,
           null,
           null,
           null,
           null,
           null,
           null,
           null
          ],
          [
           null,
           null,
           null,
           null,
           null,
           null,
           null,
           null,
           null,
           null,
           null,
           null,
           null,
           null,
           null,
           null,
           null,
           null,
           null,
           null,
           null,
           0.7111111111111111,
           null,
           null,
           null,
           null,
           null,
           null,
           null,
           null,
           null,
           null,
           null,
           null,
           null
          ],
          [
           null,
           null,
           null,
           null,
           null,
           null,
           null,
           null,
           null,
           null,
           null,
           null,
           null,
           null,
           null,
           null,
           null,
           null,
           null,
           null,
           null,
           null,
           null,
           0.7111111111111111,
           null,
           null,
           null,
           null,
           null,
           null,
           null,
           null,
           null,
           null,
           null
          ],
          [
           null,
           null,
           null,
           null,
           null,
           null,
           null,
           null,
           null,
           null,
           null,
           null,
           null,
           null,
           null,
           null,
           null,
           null,
           0.6444444444444445,
           null,
           null,
           null,
           null,
           null,
           null,
           null,
           null,
           null,
           null,
           null,
           null,
           null,
           null,
           null,
           null
          ],
          [
           null,
           null,
           null,
           null,
           null,
           null,
           null,
           null,
           null,
           null,
           null,
           null,
           null,
           null,
           0.7777777777777778,
           null,
           null,
           null,
           null,
           null,
           null,
           null,
           null,
           null,
           null,
           null,
           null,
           null,
           null,
           null,
           null,
           null,
           null,
           null,
           null
          ],
          [
           null,
           null,
           null,
           null,
           null,
           null,
           null,
           null,
           null,
           null,
           null,
           null,
           null,
           0.7111111111111111,
           null,
           null,
           null,
           null,
           null,
           null,
           null,
           null,
           null,
           null,
           null,
           null,
           null,
           null,
           null,
           null,
           null,
           null,
           null,
           null,
           null
          ],
          [
           null,
           null,
           null,
           null,
           null,
           null,
           null,
           null,
           null,
           null,
           null,
           null,
           null,
           null,
           null,
           null,
           null,
           null,
           null,
           null,
           null,
           null,
           null,
           null,
           null,
           null,
           null,
           null,
           0.6666666666666666,
           null,
           null,
           null,
           null,
           null,
           null
          ],
          [
           null,
           null,
           null,
           null,
           null,
           null,
           null,
           null,
           null,
           null,
           null,
           null,
           null,
           null,
           null,
           null,
           null,
           null,
           null,
           null,
           null,
           null,
           null,
           null,
           null,
           null,
           null,
           0.8444444444444444,
           null,
           null,
           null,
           null,
           null,
           null,
           null
          ],
          [
           null,
           null,
           null,
           null,
           null,
           null,
           null,
           null,
           null,
           null,
           null,
           null,
           null,
           null,
           0.7111111111111111,
           null,
           null,
           null,
           null,
           null,
           null,
           null,
           null,
           null,
           null,
           null,
           null,
           null,
           null,
           null,
           null,
           null,
           null,
           null,
           null
          ],
          [
           null,
           null,
           null,
           null,
           null,
           null,
           null,
           null,
           null,
           0.6444444444444445,
           null,
           null,
           null,
           null,
           null,
           null,
           null,
           null,
           null,
           null,
           null,
           null,
           null,
           null,
           null,
           null,
           null,
           null,
           null,
           null,
           null,
           null,
           null,
           null,
           null
          ],
          [
           null,
           null,
           null,
           null,
           null,
           null,
           null,
           null,
           null,
           null,
           null,
           null,
           null,
           null,
           null,
           null,
           null,
           null,
           null,
           null,
           null,
           null,
           null,
           0.6444444444444445,
           null,
           null,
           null,
           null,
           null,
           null,
           null,
           null,
           null,
           null,
           null
          ],
          [
           null,
           null,
           null,
           null,
           null,
           null,
           null,
           null,
           null,
           null,
           null,
           null,
           null,
           null,
           null,
           null,
           null,
           null,
           null,
           null,
           null,
           null,
           null,
           null,
           null,
           null,
           null,
           null,
           0.7111111111111111,
           null,
           null,
           null,
           null,
           null,
           null
          ],
          [
           null,
           0.6666666666666666,
           null,
           null,
           null,
           null,
           null,
           null,
           null,
           null,
           null,
           null,
           null,
           null,
           null,
           null,
           null,
           null,
           null,
           null,
           null,
           null,
           null,
           null,
           null,
           null,
           null,
           null,
           null,
           null,
           null,
           null,
           null,
           null,
           null
          ],
          [
           null,
           null,
           null,
           null,
           null,
           null,
           null,
           null,
           null,
           null,
           null,
           null,
           null,
           null,
           null,
           null,
           null,
           null,
           null,
           null,
           null,
           null,
           null,
           0.7333333333333333,
           null,
           null,
           null,
           null,
           null,
           null,
           null,
           null,
           null,
           null,
           null
          ],
          [
           null,
           null,
           null,
           null,
           null,
           null,
           null,
           null,
           null,
           null,
           null,
           null,
           null,
           null,
           null,
           null,
           null,
           null,
           null,
           null,
           null,
           null,
           null,
           null,
           null,
           null,
           null,
           null,
           null,
           null,
           null,
           null,
           null,
           null,
           null
          ]
         ]
        },
        {
         "marker": {
          "color": "black",
          "line": {
           "color": "Grey",
           "width": 2
          }
         },
         "mode": "markers",
         "showlegend": false,
         "type": "scatter",
         "x": [
          21,
          97,
          96,
          7,
          94,
          96,
          43,
          76,
          68,
          62,
          17,
          35,
          35,
          28,
          23,
          34,
          34,
          14,
          55,
          61,
          56,
          64,
          49,
          65,
          53,
          47,
          53,
          59,
          20,
          59,
          59,
          50,
          52,
          65,
          23,
          63,
          47,
          37,
          41,
          14,
          54,
          45,
          58
         ],
         "xaxis": "x3",
         "y": [
          0.49985128604414425,
          0.41331633772133347,
          0.5410190773473524,
          0.9976320599923284,
          0.7715082624345226,
          0.41842111846273217,
          0.8117913365972165,
          0.76287085033706,
          0.4056752006082129,
          0.7785700951998049,
          0.5785215326097938,
          0.924272716232486,
          0.9925085170624447,
          0.8912212481850054,
          0.6430782626779485,
          0.6062856850624215,
          0.9251533423657325,
          0.7368899309939578,
          0.8706576430488485,
          0.96089313969939,
          0.9614061786614667,
          0.9829548559687407,
          0.9080144817216028,
          0.9957901977609537,
          0.9196483998060389,
          0.9772758644300601,
          0.9739236352014543,
          0.9984390536987516,
          0.9223940971865633,
          0.9928475468050768,
          0.9720655753769236,
          0.9341021972235127,
          0.9450398119321415,
          0.9808154144700822,
          0.6142897881404484,
          0.9571980224669544,
          0.9880317802259588,
          0.7956288210604491,
          0.9538775968804557,
          0.8743177701819174,
          0.8971975563673598,
          0.9772980883021436,
          0.9331456960997762
         ],
         "yaxis": "y3"
        },
        {
         "colorbar": {
          "title": {
           "text": "Objective Value"
          }
         },
         "colorscale": [
          [
           0,
           "rgb(247,251,255)"
          ],
          [
           0.125,
           "rgb(222,235,247)"
          ],
          [
           0.25,
           "rgb(198,219,239)"
          ],
          [
           0.375,
           "rgb(158,202,225)"
          ],
          [
           0.5,
           "rgb(107,174,214)"
          ],
          [
           0.625,
           "rgb(66,146,198)"
          ],
          [
           0.75,
           "rgb(33,113,181)"
          ],
          [
           0.875,
           "rgb(8,81,156)"
          ],
          [
           1,
           "rgb(8,48,107)"
          ]
         ],
         "connectgaps": true,
         "contours": {
          "coloring": "heatmap"
         },
         "hoverinfo": "none",
         "line": {
          "smoothing": 1.3
         },
         "reversescale": false,
         "showscale": false,
         "type": "contour",
         "x": [
          2.5,
          7,
          14,
          17,
          20,
          21,
          23,
          28,
          34,
          35,
          37,
          41,
          43,
          45,
          47,
          49,
          50,
          52,
          53,
          54,
          55,
          56,
          58,
          59,
          61,
          62,
          63,
          64,
          65,
          68,
          76,
          94,
          96,
          97,
          101.5
         ],
         "xaxis": "x6",
         "y": [
          0.7,
          1,
          2,
          3,
          4,
          5,
          6,
          7,
          7.3
         ],
         "yaxis": "y6",
         "z": [
          [
           null,
           null,
           null,
           null,
           null,
           null,
           null,
           null,
           null,
           null,
           null,
           null,
           null,
           null,
           null,
           null,
           null,
           null,
           null,
           null,
           null,
           null,
           null,
           null,
           null,
           null,
           null,
           null,
           null,
           null,
           null,
           null,
           null,
           null,
           null
          ],
          [
           null,
           null,
           null,
           0.6444444444444445,
           null,
           null,
           null,
           null,
           null,
           null,
           null,
           0.6666666666666666,
           null,
           null,
           null,
           0.6666666666666666,
           null,
           null,
           null,
           null,
           null,
           null,
           null,
           null,
           null,
           null,
           null,
           null,
           null,
           null,
           null,
           null,
           null,
           0.35555555555555557,
           null
          ],
          [
           null,
           0.6666666666666666,
           null,
           null,
           null,
           null,
           null,
           null,
           null,
           null,
           null,
           null,
           null,
           null,
           null,
           null,
           null,
           null,
           null,
           0.6222222222222222,
           null,
           null,
           null,
           null,
           null,
           null,
           null,
           0.8444444444444444,
           0.7111111111111111,
           null,
           null,
           null,
           null,
           null,
           null
          ],
          [
           null,
           null,
           null,
           null,
           null,
           0.7333333333333333,
           0.6666666666666666,
           null,
           null,
           null,
           null,
           null,
           null,
           null,
           null,
           null,
           null,
           null,
           null,
           null,
           null,
           null,
           0.6666666666666666,
           null,
           0.7777777777777778,
           null,
           0.6444444444444445,
           null,
           null,
           0.4222222222222222,
           null,
           null,
           0.4222222222222222,
           null,
           null
          ],
          [
           null,
           null,
           null,
           null,
           null,
           null,
           null,
           null,
           0.6888888888888889,
           0.6444444444444445,
           0.6444444444444445,
           null,
           null,
           0.7111111111111111,
           null,
           null,
           0.7777777777777778,
           0.6222222222222222,
           null,
           null,
           0.7333333333333333,
           0.7111111111111111,
           null,
           null,
           null,
           0.4888888888888889,
           null,
           null,
           null,
           null,
           null,
           null,
           null,
           null,
           null
          ],
          [
           null,
           null,
           0.7111111111111111,
           null,
           null,
           null,
           0.6888888888888889,
           0.7333333333333333,
           0.6666666666666666,
           0.7333333333333333,
           null,
           null,
           null,
           null,
           null,
           null,
           null,
           null,
           0.7333333333333333,
           null,
           null,
           null,
           null,
           0.7111111111111111,
           null,
           null,
           null,
           null,
           null,
           null,
           null,
           null,
           0.4666666666666667,
           null,
           null
          ],
          [
           null,
           null,
           0.7111111111111111,
           null,
           0.6666666666666666,
           null,
           null,
           null,
           null,
           null,
           null,
           null,
           0.7111111111111111,
           null,
           0.7111111111111111,
           null,
           null,
           null,
           null,
           null,
           null,
           null,
           null,
           0.7333333333333333,
           null,
           null,
           null,
           null,
           0.6666666666666666,
           null,
           0.4888888888888889,
           null,
           null,
           null,
           null
          ],
          [
           null,
           null,
           null,
           null,
           null,
           null,
           null,
           null,
           null,
           null,
           null,
           null,
           null,
           null,
           null,
           null,
           null,
           null,
           0.6444444444444445,
           null,
           null,
           null,
           null,
           0.6444444444444445,
           null,
           null,
           null,
           null,
           null,
           null,
           null,
           0.35555555555555557,
           null,
           null,
           null
          ],
          [
           null,
           null,
           null,
           null,
           null,
           null,
           null,
           null,
           null,
           null,
           null,
           null,
           null,
           null,
           null,
           null,
           null,
           null,
           null,
           null,
           null,
           null,
           null,
           null,
           null,
           null,
           null,
           null,
           null,
           null,
           null,
           null,
           null,
           null,
           null
          ]
         ]
        },
        {
         "marker": {
          "color": "black",
          "line": {
           "color": "Grey",
           "width": 2
          }
         },
         "mode": "markers",
         "showlegend": false,
         "type": "scatter",
         "x": [
          21,
          97,
          96,
          7,
          94,
          96,
          43,
          76,
          68,
          62,
          17,
          35,
          35,
          28,
          23,
          34,
          34,
          14,
          55,
          61,
          56,
          64,
          49,
          65,
          53,
          47,
          53,
          59,
          20,
          59,
          59,
          50,
          52,
          65,
          23,
          63,
          47,
          37,
          41,
          14,
          54,
          45,
          58
         ],
         "xaxis": "x6",
         "y": [
          3,
          1,
          3,
          2,
          7,
          5,
          6,
          6,
          3,
          4,
          1,
          5,
          4,
          5,
          3,
          4,
          5,
          6,
          4,
          3,
          4,
          2,
          1,
          2,
          5,
          6,
          7,
          6,
          6,
          7,
          5,
          4,
          4,
          6,
          5,
          3,
          6,
          4,
          1,
          5,
          2,
          4,
          3
         ],
         "yaxis": "y6"
        },
        {
         "type": "scatter",
         "xaxis": "x9",
         "yaxis": "y9"
        }
       ],
       "layout": {
        "template": {
         "data": {
          "bar": [
           {
            "error_x": {
             "color": "#2a3f5f"
            },
            "error_y": {
             "color": "#2a3f5f"
            },
            "marker": {
             "line": {
              "color": "#E5ECF6",
              "width": 0.5
             },
             "pattern": {
              "fillmode": "overlay",
              "size": 10,
              "solidity": 0.2
             }
            },
            "type": "bar"
           }
          ],
          "barpolar": [
           {
            "marker": {
             "line": {
              "color": "#E5ECF6",
              "width": 0.5
             },
             "pattern": {
              "fillmode": "overlay",
              "size": 10,
              "solidity": 0.2
             }
            },
            "type": "barpolar"
           }
          ],
          "carpet": [
           {
            "aaxis": {
             "endlinecolor": "#2a3f5f",
             "gridcolor": "white",
             "linecolor": "white",
             "minorgridcolor": "white",
             "startlinecolor": "#2a3f5f"
            },
            "baxis": {
             "endlinecolor": "#2a3f5f",
             "gridcolor": "white",
             "linecolor": "white",
             "minorgridcolor": "white",
             "startlinecolor": "#2a3f5f"
            },
            "type": "carpet"
           }
          ],
          "choropleth": [
           {
            "colorbar": {
             "outlinewidth": 0,
             "ticks": ""
            },
            "type": "choropleth"
           }
          ],
          "contour": [
           {
            "colorbar": {
             "outlinewidth": 0,
             "ticks": ""
            },
            "colorscale": [
             [
              0,
              "#0d0887"
             ],
             [
              0.1111111111111111,
              "#46039f"
             ],
             [
              0.2222222222222222,
              "#7201a8"
             ],
             [
              0.3333333333333333,
              "#9c179e"
             ],
             [
              0.4444444444444444,
              "#bd3786"
             ],
             [
              0.5555555555555556,
              "#d8576b"
             ],
             [
              0.6666666666666666,
              "#ed7953"
             ],
             [
              0.7777777777777778,
              "#fb9f3a"
             ],
             [
              0.8888888888888888,
              "#fdca26"
             ],
             [
              1,
              "#f0f921"
             ]
            ],
            "type": "contour"
           }
          ],
          "contourcarpet": [
           {
            "colorbar": {
             "outlinewidth": 0,
             "ticks": ""
            },
            "type": "contourcarpet"
           }
          ],
          "heatmap": [
           {
            "colorbar": {
             "outlinewidth": 0,
             "ticks": ""
            },
            "colorscale": [
             [
              0,
              "#0d0887"
             ],
             [
              0.1111111111111111,
              "#46039f"
             ],
             [
              0.2222222222222222,
              "#7201a8"
             ],
             [
              0.3333333333333333,
              "#9c179e"
             ],
             [
              0.4444444444444444,
              "#bd3786"
             ],
             [
              0.5555555555555556,
              "#d8576b"
             ],
             [
              0.6666666666666666,
              "#ed7953"
             ],
             [
              0.7777777777777778,
              "#fb9f3a"
             ],
             [
              0.8888888888888888,
              "#fdca26"
             ],
             [
              1,
              "#f0f921"
             ]
            ],
            "type": "heatmap"
           }
          ],
          "heatmapgl": [
           {
            "colorbar": {
             "outlinewidth": 0,
             "ticks": ""
            },
            "colorscale": [
             [
              0,
              "#0d0887"
             ],
             [
              0.1111111111111111,
              "#46039f"
             ],
             [
              0.2222222222222222,
              "#7201a8"
             ],
             [
              0.3333333333333333,
              "#9c179e"
             ],
             [
              0.4444444444444444,
              "#bd3786"
             ],
             [
              0.5555555555555556,
              "#d8576b"
             ],
             [
              0.6666666666666666,
              "#ed7953"
             ],
             [
              0.7777777777777778,
              "#fb9f3a"
             ],
             [
              0.8888888888888888,
              "#fdca26"
             ],
             [
              1,
              "#f0f921"
             ]
            ],
            "type": "heatmapgl"
           }
          ],
          "histogram": [
           {
            "marker": {
             "pattern": {
              "fillmode": "overlay",
              "size": 10,
              "solidity": 0.2
             }
            },
            "type": "histogram"
           }
          ],
          "histogram2d": [
           {
            "colorbar": {
             "outlinewidth": 0,
             "ticks": ""
            },
            "colorscale": [
             [
              0,
              "#0d0887"
             ],
             [
              0.1111111111111111,
              "#46039f"
             ],
             [
              0.2222222222222222,
              "#7201a8"
             ],
             [
              0.3333333333333333,
              "#9c179e"
             ],
             [
              0.4444444444444444,
              "#bd3786"
             ],
             [
              0.5555555555555556,
              "#d8576b"
             ],
             [
              0.6666666666666666,
              "#ed7953"
             ],
             [
              0.7777777777777778,
              "#fb9f3a"
             ],
             [
              0.8888888888888888,
              "#fdca26"
             ],
             [
              1,
              "#f0f921"
             ]
            ],
            "type": "histogram2d"
           }
          ],
          "histogram2dcontour": [
           {
            "colorbar": {
             "outlinewidth": 0,
             "ticks": ""
            },
            "colorscale": [
             [
              0,
              "#0d0887"
             ],
             [
              0.1111111111111111,
              "#46039f"
             ],
             [
              0.2222222222222222,
              "#7201a8"
             ],
             [
              0.3333333333333333,
              "#9c179e"
             ],
             [
              0.4444444444444444,
              "#bd3786"
             ],
             [
              0.5555555555555556,
              "#d8576b"
             ],
             [
              0.6666666666666666,
              "#ed7953"
             ],
             [
              0.7777777777777778,
              "#fb9f3a"
             ],
             [
              0.8888888888888888,
              "#fdca26"
             ],
             [
              1,
              "#f0f921"
             ]
            ],
            "type": "histogram2dcontour"
           }
          ],
          "mesh3d": [
           {
            "colorbar": {
             "outlinewidth": 0,
             "ticks": ""
            },
            "type": "mesh3d"
           }
          ],
          "parcoords": [
           {
            "line": {
             "colorbar": {
              "outlinewidth": 0,
              "ticks": ""
             }
            },
            "type": "parcoords"
           }
          ],
          "pie": [
           {
            "automargin": true,
            "type": "pie"
           }
          ],
          "scatter": [
           {
            "fillpattern": {
             "fillmode": "overlay",
             "size": 10,
             "solidity": 0.2
            },
            "type": "scatter"
           }
          ],
          "scatter3d": [
           {
            "line": {
             "colorbar": {
              "outlinewidth": 0,
              "ticks": ""
             }
            },
            "marker": {
             "colorbar": {
              "outlinewidth": 0,
              "ticks": ""
             }
            },
            "type": "scatter3d"
           }
          ],
          "scattercarpet": [
           {
            "marker": {
             "colorbar": {
              "outlinewidth": 0,
              "ticks": ""
             }
            },
            "type": "scattercarpet"
           }
          ],
          "scattergeo": [
           {
            "marker": {
             "colorbar": {
              "outlinewidth": 0,
              "ticks": ""
             }
            },
            "type": "scattergeo"
           }
          ],
          "scattergl": [
           {
            "marker": {
             "colorbar": {
              "outlinewidth": 0,
              "ticks": ""
             }
            },
            "type": "scattergl"
           }
          ],
          "scattermapbox": [
           {
            "marker": {
             "colorbar": {
              "outlinewidth": 0,
              "ticks": ""
             }
            },
            "type": "scattermapbox"
           }
          ],
          "scatterpolar": [
           {
            "marker": {
             "colorbar": {
              "outlinewidth": 0,
              "ticks": ""
             }
            },
            "type": "scatterpolar"
           }
          ],
          "scatterpolargl": [
           {
            "marker": {
             "colorbar": {
              "outlinewidth": 0,
              "ticks": ""
             }
            },
            "type": "scatterpolargl"
           }
          ],
          "scatterternary": [
           {
            "marker": {
             "colorbar": {
              "outlinewidth": 0,
              "ticks": ""
             }
            },
            "type": "scatterternary"
           }
          ],
          "surface": [
           {
            "colorbar": {
             "outlinewidth": 0,
             "ticks": ""
            },
            "colorscale": [
             [
              0,
              "#0d0887"
             ],
             [
              0.1111111111111111,
              "#46039f"
             ],
             [
              0.2222222222222222,
              "#7201a8"
             ],
             [
              0.3333333333333333,
              "#9c179e"
             ],
             [
              0.4444444444444444,
              "#bd3786"
             ],
             [
              0.5555555555555556,
              "#d8576b"
             ],
             [
              0.6666666666666666,
              "#ed7953"
             ],
             [
              0.7777777777777778,
              "#fb9f3a"
             ],
             [
              0.8888888888888888,
              "#fdca26"
             ],
             [
              1,
              "#f0f921"
             ]
            ],
            "type": "surface"
           }
          ],
          "table": [
           {
            "cells": {
             "fill": {
              "color": "#EBF0F8"
             },
             "line": {
              "color": "white"
             }
            },
            "header": {
             "fill": {
              "color": "#C8D4E3"
             },
             "line": {
              "color": "white"
             }
            },
            "type": "table"
           }
          ]
         },
         "layout": {
          "annotationdefaults": {
           "arrowcolor": "#2a3f5f",
           "arrowhead": 0,
           "arrowwidth": 1
          },
          "autotypenumbers": "strict",
          "coloraxis": {
           "colorbar": {
            "outlinewidth": 0,
            "ticks": ""
           }
          },
          "colorscale": {
           "diverging": [
            [
             0,
             "#8e0152"
            ],
            [
             0.1,
             "#c51b7d"
            ],
            [
             0.2,
             "#de77ae"
            ],
            [
             0.3,
             "#f1b6da"
            ],
            [
             0.4,
             "#fde0ef"
            ],
            [
             0.5,
             "#f7f7f7"
            ],
            [
             0.6,
             "#e6f5d0"
            ],
            [
             0.7,
             "#b8e186"
            ],
            [
             0.8,
             "#7fbc41"
            ],
            [
             0.9,
             "#4d9221"
            ],
            [
             1,
             "#276419"
            ]
           ],
           "sequential": [
            [
             0,
             "#0d0887"
            ],
            [
             0.1111111111111111,
             "#46039f"
            ],
            [
             0.2222222222222222,
             "#7201a8"
            ],
            [
             0.3333333333333333,
             "#9c179e"
            ],
            [
             0.4444444444444444,
             "#bd3786"
            ],
            [
             0.5555555555555556,
             "#d8576b"
            ],
            [
             0.6666666666666666,
             "#ed7953"
            ],
            [
             0.7777777777777778,
             "#fb9f3a"
            ],
            [
             0.8888888888888888,
             "#fdca26"
            ],
            [
             1,
             "#f0f921"
            ]
           ],
           "sequentialminus": [
            [
             0,
             "#0d0887"
            ],
            [
             0.1111111111111111,
             "#46039f"
            ],
            [
             0.2222222222222222,
             "#7201a8"
            ],
            [
             0.3333333333333333,
             "#9c179e"
            ],
            [
             0.4444444444444444,
             "#bd3786"
            ],
            [
             0.5555555555555556,
             "#d8576b"
            ],
            [
             0.6666666666666666,
             "#ed7953"
            ],
            [
             0.7777777777777778,
             "#fb9f3a"
            ],
            [
             0.8888888888888888,
             "#fdca26"
            ],
            [
             1,
             "#f0f921"
            ]
           ]
          },
          "colorway": [
           "#636efa",
           "#EF553B",
           "#00cc96",
           "#ab63fa",
           "#FFA15A",
           "#19d3f3",
           "#FF6692",
           "#B6E880",
           "#FF97FF",
           "#FECB52"
          ],
          "font": {
           "color": "#2a3f5f"
          },
          "geo": {
           "bgcolor": "white",
           "lakecolor": "white",
           "landcolor": "#E5ECF6",
           "showlakes": true,
           "showland": true,
           "subunitcolor": "white"
          },
          "hoverlabel": {
           "align": "left"
          },
          "hovermode": "closest",
          "mapbox": {
           "style": "light"
          },
          "paper_bgcolor": "white",
          "plot_bgcolor": "#E5ECF6",
          "polar": {
           "angularaxis": {
            "gridcolor": "white",
            "linecolor": "white",
            "ticks": ""
           },
           "bgcolor": "#E5ECF6",
           "radialaxis": {
            "gridcolor": "white",
            "linecolor": "white",
            "ticks": ""
           }
          },
          "scene": {
           "xaxis": {
            "backgroundcolor": "#E5ECF6",
            "gridcolor": "white",
            "gridwidth": 2,
            "linecolor": "white",
            "showbackground": true,
            "ticks": "",
            "zerolinecolor": "white"
           },
           "yaxis": {
            "backgroundcolor": "#E5ECF6",
            "gridcolor": "white",
            "gridwidth": 2,
            "linecolor": "white",
            "showbackground": true,
            "ticks": "",
            "zerolinecolor": "white"
           },
           "zaxis": {
            "backgroundcolor": "#E5ECF6",
            "gridcolor": "white",
            "gridwidth": 2,
            "linecolor": "white",
            "showbackground": true,
            "ticks": "",
            "zerolinecolor": "white"
           }
          },
          "shapedefaults": {
           "line": {
            "color": "#2a3f5f"
           }
          },
          "ternary": {
           "aaxis": {
            "gridcolor": "white",
            "linecolor": "white",
            "ticks": ""
           },
           "baxis": {
            "gridcolor": "white",
            "linecolor": "white",
            "ticks": ""
           },
           "bgcolor": "#E5ECF6",
           "caxis": {
            "gridcolor": "white",
            "linecolor": "white",
            "ticks": ""
           }
          },
          "title": {
           "x": 0.05
          },
          "xaxis": {
           "automargin": true,
           "gridcolor": "white",
           "linecolor": "white",
           "ticks": "",
           "title": {
            "standoff": 15
           },
           "zerolinecolor": "white",
           "zerolinewidth": 2
          },
          "yaxis": {
           "automargin": true,
           "gridcolor": "white",
           "linecolor": "white",
           "ticks": "",
           "title": {
            "standoff": 15
           },
           "zerolinecolor": "white",
           "zerolinewidth": 2
          }
         }
        },
        "title": {
         "text": "Contour Plot"
        },
        "xaxis": {
         "anchor": "y",
         "domain": [
          0,
          0.2888888888888889
         ],
         "matches": "x7",
         "range": [
          0.37603700795368594,
          1.0280772463532786
         ],
         "showticklabels": false
        },
        "xaxis2": {
         "anchor": "y2",
         "domain": [
          0.35555555555555557,
          0.6444444444444445
         ],
         "matches": "x8",
         "range": [
          0.7,
          7.3
         ],
         "showticklabels": false
        },
        "xaxis3": {
         "anchor": "y3",
         "domain": [
          0.7111111111111111,
          1
         ],
         "matches": "x9",
         "range": [
          2.5,
          101.5
         ],
         "showticklabels": false
        },
        "xaxis4": {
         "anchor": "y4",
         "domain": [
          0,
          0.2888888888888889
         ],
         "matches": "x7",
         "range": [
          0.37603700795368594,
          1.0280772463532786
         ],
         "showticklabels": false
        },
        "xaxis5": {
         "anchor": "y5",
         "domain": [
          0.35555555555555557,
          0.6444444444444445
         ],
         "matches": "x8",
         "range": [
          0.7,
          7.3
         ],
         "showticklabels": false
        },
        "xaxis6": {
         "anchor": "y6",
         "domain": [
          0.7111111111111111,
          1
         ],
         "matches": "x9",
         "range": [
          2.5,
          101.5
         ],
         "showticklabels": false
        },
        "xaxis7": {
         "anchor": "y7",
         "domain": [
          0,
          0.2888888888888889
         ],
         "range": [
          0.37603700795368594,
          1.0280772463532786
         ],
         "title": {
          "text": "bagging_fraction"
         }
        },
        "xaxis8": {
         "anchor": "y8",
         "domain": [
          0.35555555555555557,
          0.6444444444444445
         ],
         "range": [
          0.7,
          7.3
         ],
         "title": {
          "text": "bagging_freq"
         }
        },
        "xaxis9": {
         "anchor": "y9",
         "domain": [
          0.7111111111111111,
          1
         ],
         "range": [
          2.5,
          101.5
         ],
         "title": {
          "text": "min_child_samples"
         }
        },
        "yaxis": {
         "anchor": "x",
         "domain": [
          0.7333333333333333,
          1
         ],
         "range": [
          0.37603700795368594,
          1.0280772463532786
         ],
         "title": {
          "text": "bagging_fraction"
         }
        },
        "yaxis2": {
         "anchor": "x2",
         "domain": [
          0.7333333333333333,
          1
         ],
         "matches": "y",
         "range": [
          0.37603700795368594,
          1.0280772463532786
         ],
         "showticklabels": false
        },
        "yaxis3": {
         "anchor": "x3",
         "domain": [
          0.7333333333333333,
          1
         ],
         "matches": "y",
         "range": [
          0.37603700795368594,
          1.0280772463532786
         ],
         "showticklabels": false
        },
        "yaxis4": {
         "anchor": "x4",
         "domain": [
          0.36666666666666664,
          0.6333333333333333
         ],
         "range": [
          0.7,
          7.3
         ],
         "title": {
          "text": "bagging_freq"
         }
        },
        "yaxis5": {
         "anchor": "x5",
         "domain": [
          0.36666666666666664,
          0.6333333333333333
         ],
         "matches": "y4",
         "range": [
          0.7,
          7.3
         ],
         "showticklabels": false
        },
        "yaxis6": {
         "anchor": "x6",
         "domain": [
          0.36666666666666664,
          0.6333333333333333
         ],
         "matches": "y4",
         "range": [
          0.7,
          7.3
         ],
         "showticklabels": false
        },
        "yaxis7": {
         "anchor": "x7",
         "domain": [
          0,
          0.26666666666666666
         ],
         "range": [
          2.5,
          101.5
         ],
         "title": {
          "text": "min_child_samples"
         }
        },
        "yaxis8": {
         "anchor": "x8",
         "domain": [
          0,
          0.26666666666666666
         ],
         "matches": "y7",
         "range": [
          2.5,
          101.5
         ],
         "showticklabels": false
        },
        "yaxis9": {
         "anchor": "x9",
         "domain": [
          0,
          0.26666666666666666
         ],
         "matches": "y7",
         "range": [
          2.5,
          101.5
         ],
         "showticklabels": false
        }
       }
      }
     },
     "metadata": {},
     "output_type": "display_data"
    }
   ],
   "source": [
    "plot_contour(study)"
   ]
  },
  {
   "cell_type": "code",
   "execution_count": 16,
   "metadata": {},
   "outputs": [
    {
     "data": {
      "application/vnd.plotly.v1+json": {
       "config": {
        "plotlyServerURL": "https://plot.ly"
       },
       "data": [
        {
         "marker": {
          "color": [
           0,
           1,
           2,
           3,
           4,
           5,
           6,
           7,
           8,
           9,
           10,
           11,
           12,
           13,
           14,
           18,
           21,
           25,
           27,
           31,
           32,
           34,
           40,
           44,
           51,
           52,
           53,
           55,
           56,
           57,
           64,
           65,
           68,
           70,
           73,
           80,
           83,
           85,
           89,
           92,
           95,
           96,
           97
          ],
          "colorbar": {
           "title": {
            "text": "Trial"
           },
           "x": 1,
           "xpad": 40
          },
          "colorscale": [
           [
            0,
            "rgb(247,251,255)"
           ],
           [
            0.125,
            "rgb(222,235,247)"
           ],
           [
            0.25,
            "rgb(198,219,239)"
           ],
           [
            0.375,
            "rgb(158,202,225)"
           ],
           [
            0.5,
            "rgb(107,174,214)"
           ],
           [
            0.625,
            "rgb(66,146,198)"
           ],
           [
            0.75,
            "rgb(33,113,181)"
           ],
           [
            0.875,
            "rgb(8,81,156)"
           ],
           [
            1,
            "rgb(8,48,107)"
           ]
          ],
          "line": {
           "color": "Grey",
           "width": 0.5
          },
          "showscale": true
         },
         "mode": "markers",
         "showlegend": false,
         "type": "scatter",
         "x": [
          0.49985128604414425,
          0.41331633772133347,
          0.5410190773473524,
          0.9976320599923284,
          0.7715082624345226,
          0.41842111846273217,
          0.8117913365972165,
          0.76287085033706,
          0.4056752006082129,
          0.7785700951998049,
          0.5785215326097938,
          0.924272716232486,
          0.9925085170624447,
          0.8912212481850054,
          0.6430782626779485,
          0.6062856850624215,
          0.9251533423657325,
          0.7368899309939578,
          0.8706576430488485,
          0.96089313969939,
          0.9614061786614667,
          0.9829548559687407,
          0.9080144817216028,
          0.9957901977609537,
          0.9196483998060389,
          0.9772758644300601,
          0.9739236352014543,
          0.9984390536987516,
          0.9223940971865633,
          0.9928475468050768,
          0.9720655753769236,
          0.9341021972235127,
          0.9450398119321415,
          0.9808154144700822,
          0.6142897881404484,
          0.9571980224669544,
          0.9880317802259588,
          0.7956288210604491,
          0.9538775968804557,
          0.8743177701819174,
          0.8971975563673598,
          0.9772980883021436,
          0.9331456960997762
         ],
         "xaxis": "x",
         "y": [
          0.7333333333333333,
          0.35555555555555557,
          0.4222222222222222,
          0.6666666666666666,
          0.35555555555555557,
          0.4666666666666667,
          0.7111111111111111,
          0.4888888888888889,
          0.4222222222222222,
          0.4888888888888889,
          0.6444444444444445,
          0.7333333333333333,
          0.6444444444444445,
          0.7333333333333333,
          0.6666666666666666,
          0.6888888888888889,
          0.6666666666666666,
          0.7111111111111111,
          0.7333333333333333,
          0.7777777777777778,
          0.7111111111111111,
          0.8444444444444444,
          0.6666666666666666,
          0.7111111111111111,
          0.7333333333333333,
          0.7777777777777778,
          0.6444444444444445,
          0.7333333333333333,
          0.6666666666666666,
          0.6444444444444445,
          0.7111111111111111,
          0.7777777777777778,
          0.6222222222222222,
          0.6666666666666666,
          0.6888888888888889,
          0.6444444444444445,
          0.7111111111111111,
          0.6444444444444445,
          0.6666666666666666,
          0.7111111111111111,
          0.6222222222222222,
          0.7111111111111111,
          0.6666666666666666
         ],
         "yaxis": "y"
        },
        {
         "marker": {
          "color": [
           0,
           1,
           2,
           3,
           4,
           5,
           6,
           7,
           8,
           9,
           10,
           11,
           12,
           13,
           14,
           18,
           21,
           25,
           27,
           31,
           32,
           34,
           40,
           44,
           51,
           52,
           53,
           55,
           56,
           57,
           64,
           65,
           68,
           70,
           73,
           80,
           83,
           85,
           89,
           92,
           95,
           96,
           97
          ],
          "colorbar": {
           "title": {
            "text": "Trial"
           },
           "x": 1,
           "xpad": 40
          },
          "colorscale": [
           [
            0,
            "rgb(247,251,255)"
           ],
           [
            0.125,
            "rgb(222,235,247)"
           ],
           [
            0.25,
            "rgb(198,219,239)"
           ],
           [
            0.375,
            "rgb(158,202,225)"
           ],
           [
            0.5,
            "rgb(107,174,214)"
           ],
           [
            0.625,
            "rgb(66,146,198)"
           ],
           [
            0.75,
            "rgb(33,113,181)"
           ],
           [
            0.875,
            "rgb(8,81,156)"
           ],
           [
            1,
            "rgb(8,48,107)"
           ]
          ],
          "line": {
           "color": "Grey",
           "width": 0.5
          },
          "showscale": false
         },
         "mode": "markers",
         "showlegend": false,
         "type": "scatter",
         "x": [
          3,
          1,
          3,
          2,
          7,
          5,
          6,
          6,
          3,
          4,
          1,
          5,
          4,
          5,
          3,
          4,
          5,
          6,
          4,
          3,
          4,
          2,
          1,
          2,
          5,
          6,
          7,
          6,
          6,
          7,
          5,
          4,
          4,
          6,
          5,
          3,
          6,
          4,
          1,
          5,
          2,
          4,
          3
         ],
         "xaxis": "x2",
         "y": [
          0.7333333333333333,
          0.35555555555555557,
          0.4222222222222222,
          0.6666666666666666,
          0.35555555555555557,
          0.4666666666666667,
          0.7111111111111111,
          0.4888888888888889,
          0.4222222222222222,
          0.4888888888888889,
          0.6444444444444445,
          0.7333333333333333,
          0.6444444444444445,
          0.7333333333333333,
          0.6666666666666666,
          0.6888888888888889,
          0.6666666666666666,
          0.7111111111111111,
          0.7333333333333333,
          0.7777777777777778,
          0.7111111111111111,
          0.8444444444444444,
          0.6666666666666666,
          0.7111111111111111,
          0.7333333333333333,
          0.7777777777777778,
          0.6444444444444445,
          0.7333333333333333,
          0.6666666666666666,
          0.6444444444444445,
          0.7111111111111111,
          0.7777777777777778,
          0.6222222222222222,
          0.6666666666666666,
          0.6888888888888889,
          0.6444444444444445,
          0.7111111111111111,
          0.6444444444444445,
          0.6666666666666666,
          0.7111111111111111,
          0.6222222222222222,
          0.7111111111111111,
          0.6666666666666666
         ],
         "yaxis": "y2"
        },
        {
         "marker": {
          "color": [
           0,
           1,
           2,
           3,
           4,
           5,
           6,
           7,
           8,
           9,
           10,
           11,
           12,
           13,
           14,
           18,
           21,
           25,
           27,
           31,
           32,
           34,
           40,
           44,
           51,
           52,
           53,
           55,
           56,
           57,
           64,
           65,
           68,
           70,
           73,
           80,
           83,
           85,
           89,
           92,
           95,
           96,
           97
          ],
          "colorbar": {
           "title": {
            "text": "Trial"
           },
           "x": 1,
           "xpad": 40
          },
          "colorscale": [
           [
            0,
            "rgb(247,251,255)"
           ],
           [
            0.125,
            "rgb(222,235,247)"
           ],
           [
            0.25,
            "rgb(198,219,239)"
           ],
           [
            0.375,
            "rgb(158,202,225)"
           ],
           [
            0.5,
            "rgb(107,174,214)"
           ],
           [
            0.625,
            "rgb(66,146,198)"
           ],
           [
            0.75,
            "rgb(33,113,181)"
           ],
           [
            0.875,
            "rgb(8,81,156)"
           ],
           [
            1,
            "rgb(8,48,107)"
           ]
          ],
          "line": {
           "color": "Grey",
           "width": 0.5
          },
          "showscale": false
         },
         "mode": "markers",
         "showlegend": false,
         "type": "scatter",
         "x": [
          21,
          97,
          96,
          7,
          94,
          96,
          43,
          76,
          68,
          62,
          17,
          35,
          35,
          28,
          23,
          34,
          34,
          14,
          55,
          61,
          56,
          64,
          49,
          65,
          53,
          47,
          53,
          59,
          20,
          59,
          59,
          50,
          52,
          65,
          23,
          63,
          47,
          37,
          41,
          14,
          54,
          45,
          58
         ],
         "xaxis": "x3",
         "y": [
          0.7333333333333333,
          0.35555555555555557,
          0.4222222222222222,
          0.6666666666666666,
          0.35555555555555557,
          0.4666666666666667,
          0.7111111111111111,
          0.4888888888888889,
          0.4222222222222222,
          0.4888888888888889,
          0.6444444444444445,
          0.7333333333333333,
          0.6444444444444445,
          0.7333333333333333,
          0.6666666666666666,
          0.6888888888888889,
          0.6666666666666666,
          0.7111111111111111,
          0.7333333333333333,
          0.7777777777777778,
          0.7111111111111111,
          0.8444444444444444,
          0.6666666666666666,
          0.7111111111111111,
          0.7333333333333333,
          0.7777777777777778,
          0.6444444444444445,
          0.7333333333333333,
          0.6666666666666666,
          0.6444444444444445,
          0.7111111111111111,
          0.7777777777777778,
          0.6222222222222222,
          0.6666666666666666,
          0.6888888888888889,
          0.6444444444444445,
          0.7111111111111111,
          0.6444444444444445,
          0.6666666666666666,
          0.7111111111111111,
          0.6222222222222222,
          0.7111111111111111,
          0.6666666666666666
         ],
         "yaxis": "y3"
        }
       ],
       "layout": {
        "template": {
         "data": {
          "bar": [
           {
            "error_x": {
             "color": "#2a3f5f"
            },
            "error_y": {
             "color": "#2a3f5f"
            },
            "marker": {
             "line": {
              "color": "#E5ECF6",
              "width": 0.5
             },
             "pattern": {
              "fillmode": "overlay",
              "size": 10,
              "solidity": 0.2
             }
            },
            "type": "bar"
           }
          ],
          "barpolar": [
           {
            "marker": {
             "line": {
              "color": "#E5ECF6",
              "width": 0.5
             },
             "pattern": {
              "fillmode": "overlay",
              "size": 10,
              "solidity": 0.2
             }
            },
            "type": "barpolar"
           }
          ],
          "carpet": [
           {
            "aaxis": {
             "endlinecolor": "#2a3f5f",
             "gridcolor": "white",
             "linecolor": "white",
             "minorgridcolor": "white",
             "startlinecolor": "#2a3f5f"
            },
            "baxis": {
             "endlinecolor": "#2a3f5f",
             "gridcolor": "white",
             "linecolor": "white",
             "minorgridcolor": "white",
             "startlinecolor": "#2a3f5f"
            },
            "type": "carpet"
           }
          ],
          "choropleth": [
           {
            "colorbar": {
             "outlinewidth": 0,
             "ticks": ""
            },
            "type": "choropleth"
           }
          ],
          "contour": [
           {
            "colorbar": {
             "outlinewidth": 0,
             "ticks": ""
            },
            "colorscale": [
             [
              0,
              "#0d0887"
             ],
             [
              0.1111111111111111,
              "#46039f"
             ],
             [
              0.2222222222222222,
              "#7201a8"
             ],
             [
              0.3333333333333333,
              "#9c179e"
             ],
             [
              0.4444444444444444,
              "#bd3786"
             ],
             [
              0.5555555555555556,
              "#d8576b"
             ],
             [
              0.6666666666666666,
              "#ed7953"
             ],
             [
              0.7777777777777778,
              "#fb9f3a"
             ],
             [
              0.8888888888888888,
              "#fdca26"
             ],
             [
              1,
              "#f0f921"
             ]
            ],
            "type": "contour"
           }
          ],
          "contourcarpet": [
           {
            "colorbar": {
             "outlinewidth": 0,
             "ticks": ""
            },
            "type": "contourcarpet"
           }
          ],
          "heatmap": [
           {
            "colorbar": {
             "outlinewidth": 0,
             "ticks": ""
            },
            "colorscale": [
             [
              0,
              "#0d0887"
             ],
             [
              0.1111111111111111,
              "#46039f"
             ],
             [
              0.2222222222222222,
              "#7201a8"
             ],
             [
              0.3333333333333333,
              "#9c179e"
             ],
             [
              0.4444444444444444,
              "#bd3786"
             ],
             [
              0.5555555555555556,
              "#d8576b"
             ],
             [
              0.6666666666666666,
              "#ed7953"
             ],
             [
              0.7777777777777778,
              "#fb9f3a"
             ],
             [
              0.8888888888888888,
              "#fdca26"
             ],
             [
              1,
              "#f0f921"
             ]
            ],
            "type": "heatmap"
           }
          ],
          "heatmapgl": [
           {
            "colorbar": {
             "outlinewidth": 0,
             "ticks": ""
            },
            "colorscale": [
             [
              0,
              "#0d0887"
             ],
             [
              0.1111111111111111,
              "#46039f"
             ],
             [
              0.2222222222222222,
              "#7201a8"
             ],
             [
              0.3333333333333333,
              "#9c179e"
             ],
             [
              0.4444444444444444,
              "#bd3786"
             ],
             [
              0.5555555555555556,
              "#d8576b"
             ],
             [
              0.6666666666666666,
              "#ed7953"
             ],
             [
              0.7777777777777778,
              "#fb9f3a"
             ],
             [
              0.8888888888888888,
              "#fdca26"
             ],
             [
              1,
              "#f0f921"
             ]
            ],
            "type": "heatmapgl"
           }
          ],
          "histogram": [
           {
            "marker": {
             "pattern": {
              "fillmode": "overlay",
              "size": 10,
              "solidity": 0.2
             }
            },
            "type": "histogram"
           }
          ],
          "histogram2d": [
           {
            "colorbar": {
             "outlinewidth": 0,
             "ticks": ""
            },
            "colorscale": [
             [
              0,
              "#0d0887"
             ],
             [
              0.1111111111111111,
              "#46039f"
             ],
             [
              0.2222222222222222,
              "#7201a8"
             ],
             [
              0.3333333333333333,
              "#9c179e"
             ],
             [
              0.4444444444444444,
              "#bd3786"
             ],
             [
              0.5555555555555556,
              "#d8576b"
             ],
             [
              0.6666666666666666,
              "#ed7953"
             ],
             [
              0.7777777777777778,
              "#fb9f3a"
             ],
             [
              0.8888888888888888,
              "#fdca26"
             ],
             [
              1,
              "#f0f921"
             ]
            ],
            "type": "histogram2d"
           }
          ],
          "histogram2dcontour": [
           {
            "colorbar": {
             "outlinewidth": 0,
             "ticks": ""
            },
            "colorscale": [
             [
              0,
              "#0d0887"
             ],
             [
              0.1111111111111111,
              "#46039f"
             ],
             [
              0.2222222222222222,
              "#7201a8"
             ],
             [
              0.3333333333333333,
              "#9c179e"
             ],
             [
              0.4444444444444444,
              "#bd3786"
             ],
             [
              0.5555555555555556,
              "#d8576b"
             ],
             [
              0.6666666666666666,
              "#ed7953"
             ],
             [
              0.7777777777777778,
              "#fb9f3a"
             ],
             [
              0.8888888888888888,
              "#fdca26"
             ],
             [
              1,
              "#f0f921"
             ]
            ],
            "type": "histogram2dcontour"
           }
          ],
          "mesh3d": [
           {
            "colorbar": {
             "outlinewidth": 0,
             "ticks": ""
            },
            "type": "mesh3d"
           }
          ],
          "parcoords": [
           {
            "line": {
             "colorbar": {
              "outlinewidth": 0,
              "ticks": ""
             }
            },
            "type": "parcoords"
           }
          ],
          "pie": [
           {
            "automargin": true,
            "type": "pie"
           }
          ],
          "scatter": [
           {
            "fillpattern": {
             "fillmode": "overlay",
             "size": 10,
             "solidity": 0.2
            },
            "type": "scatter"
           }
          ],
          "scatter3d": [
           {
            "line": {
             "colorbar": {
              "outlinewidth": 0,
              "ticks": ""
             }
            },
            "marker": {
             "colorbar": {
              "outlinewidth": 0,
              "ticks": ""
             }
            },
            "type": "scatter3d"
           }
          ],
          "scattercarpet": [
           {
            "marker": {
             "colorbar": {
              "outlinewidth": 0,
              "ticks": ""
             }
            },
            "type": "scattercarpet"
           }
          ],
          "scattergeo": [
           {
            "marker": {
             "colorbar": {
              "outlinewidth": 0,
              "ticks": ""
             }
            },
            "type": "scattergeo"
           }
          ],
          "scattergl": [
           {
            "marker": {
             "colorbar": {
              "outlinewidth": 0,
              "ticks": ""
             }
            },
            "type": "scattergl"
           }
          ],
          "scattermapbox": [
           {
            "marker": {
             "colorbar": {
              "outlinewidth": 0,
              "ticks": ""
             }
            },
            "type": "scattermapbox"
           }
          ],
          "scatterpolar": [
           {
            "marker": {
             "colorbar": {
              "outlinewidth": 0,
              "ticks": ""
             }
            },
            "type": "scatterpolar"
           }
          ],
          "scatterpolargl": [
           {
            "marker": {
             "colorbar": {
              "outlinewidth": 0,
              "ticks": ""
             }
            },
            "type": "scatterpolargl"
           }
          ],
          "scatterternary": [
           {
            "marker": {
             "colorbar": {
              "outlinewidth": 0,
              "ticks": ""
             }
            },
            "type": "scatterternary"
           }
          ],
          "surface": [
           {
            "colorbar": {
             "outlinewidth": 0,
             "ticks": ""
            },
            "colorscale": [
             [
              0,
              "#0d0887"
             ],
             [
              0.1111111111111111,
              "#46039f"
             ],
             [
              0.2222222222222222,
              "#7201a8"
             ],
             [
              0.3333333333333333,
              "#9c179e"
             ],
             [
              0.4444444444444444,
              "#bd3786"
             ],
             [
              0.5555555555555556,
              "#d8576b"
             ],
             [
              0.6666666666666666,
              "#ed7953"
             ],
             [
              0.7777777777777778,
              "#fb9f3a"
             ],
             [
              0.8888888888888888,
              "#fdca26"
             ],
             [
              1,
              "#f0f921"
             ]
            ],
            "type": "surface"
           }
          ],
          "table": [
           {
            "cells": {
             "fill": {
              "color": "#EBF0F8"
             },
             "line": {
              "color": "white"
             }
            },
            "header": {
             "fill": {
              "color": "#C8D4E3"
             },
             "line": {
              "color": "white"
             }
            },
            "type": "table"
           }
          ]
         },
         "layout": {
          "annotationdefaults": {
           "arrowcolor": "#2a3f5f",
           "arrowhead": 0,
           "arrowwidth": 1
          },
          "autotypenumbers": "strict",
          "coloraxis": {
           "colorbar": {
            "outlinewidth": 0,
            "ticks": ""
           }
          },
          "colorscale": {
           "diverging": [
            [
             0,
             "#8e0152"
            ],
            [
             0.1,
             "#c51b7d"
            ],
            [
             0.2,
             "#de77ae"
            ],
            [
             0.3,
             "#f1b6da"
            ],
            [
             0.4,
             "#fde0ef"
            ],
            [
             0.5,
             "#f7f7f7"
            ],
            [
             0.6,
             "#e6f5d0"
            ],
            [
             0.7,
             "#b8e186"
            ],
            [
             0.8,
             "#7fbc41"
            ],
            [
             0.9,
             "#4d9221"
            ],
            [
             1,
             "#276419"
            ]
           ],
           "sequential": [
            [
             0,
             "#0d0887"
            ],
            [
             0.1111111111111111,
             "#46039f"
            ],
            [
             0.2222222222222222,
             "#7201a8"
            ],
            [
             0.3333333333333333,
             "#9c179e"
            ],
            [
             0.4444444444444444,
             "#bd3786"
            ],
            [
             0.5555555555555556,
             "#d8576b"
            ],
            [
             0.6666666666666666,
             "#ed7953"
            ],
            [
             0.7777777777777778,
             "#fb9f3a"
            ],
            [
             0.8888888888888888,
             "#fdca26"
            ],
            [
             1,
             "#f0f921"
            ]
           ],
           "sequentialminus": [
            [
             0,
             "#0d0887"
            ],
            [
             0.1111111111111111,
             "#46039f"
            ],
            [
             0.2222222222222222,
             "#7201a8"
            ],
            [
             0.3333333333333333,
             "#9c179e"
            ],
            [
             0.4444444444444444,
             "#bd3786"
            ],
            [
             0.5555555555555556,
             "#d8576b"
            ],
            [
             0.6666666666666666,
             "#ed7953"
            ],
            [
             0.7777777777777778,
             "#fb9f3a"
            ],
            [
             0.8888888888888888,
             "#fdca26"
            ],
            [
             1,
             "#f0f921"
            ]
           ]
          },
          "colorway": [
           "#636efa",
           "#EF553B",
           "#00cc96",
           "#ab63fa",
           "#FFA15A",
           "#19d3f3",
           "#FF6692",
           "#B6E880",
           "#FF97FF",
           "#FECB52"
          ],
          "font": {
           "color": "#2a3f5f"
          },
          "geo": {
           "bgcolor": "white",
           "lakecolor": "white",
           "landcolor": "#E5ECF6",
           "showlakes": true,
           "showland": true,
           "subunitcolor": "white"
          },
          "hoverlabel": {
           "align": "left"
          },
          "hovermode": "closest",
          "mapbox": {
           "style": "light"
          },
          "paper_bgcolor": "white",
          "plot_bgcolor": "#E5ECF6",
          "polar": {
           "angularaxis": {
            "gridcolor": "white",
            "linecolor": "white",
            "ticks": ""
           },
           "bgcolor": "#E5ECF6",
           "radialaxis": {
            "gridcolor": "white",
            "linecolor": "white",
            "ticks": ""
           }
          },
          "scene": {
           "xaxis": {
            "backgroundcolor": "#E5ECF6",
            "gridcolor": "white",
            "gridwidth": 2,
            "linecolor": "white",
            "showbackground": true,
            "ticks": "",
            "zerolinecolor": "white"
           },
           "yaxis": {
            "backgroundcolor": "#E5ECF6",
            "gridcolor": "white",
            "gridwidth": 2,
            "linecolor": "white",
            "showbackground": true,
            "ticks": "",
            "zerolinecolor": "white"
           },
           "zaxis": {
            "backgroundcolor": "#E5ECF6",
            "gridcolor": "white",
            "gridwidth": 2,
            "linecolor": "white",
            "showbackground": true,
            "ticks": "",
            "zerolinecolor": "white"
           }
          },
          "shapedefaults": {
           "line": {
            "color": "#2a3f5f"
           }
          },
          "ternary": {
           "aaxis": {
            "gridcolor": "white",
            "linecolor": "white",
            "ticks": ""
           },
           "baxis": {
            "gridcolor": "white",
            "linecolor": "white",
            "ticks": ""
           },
           "bgcolor": "#E5ECF6",
           "caxis": {
            "gridcolor": "white",
            "linecolor": "white",
            "ticks": ""
           }
          },
          "title": {
           "x": 0.05
          },
          "xaxis": {
           "automargin": true,
           "gridcolor": "white",
           "linecolor": "white",
           "ticks": "",
           "title": {
            "standoff": 15
           },
           "zerolinecolor": "white",
           "zerolinewidth": 2
          },
          "yaxis": {
           "automargin": true,
           "gridcolor": "white",
           "linecolor": "white",
           "ticks": "",
           "title": {
            "standoff": 15
           },
           "zerolinecolor": "white",
           "zerolinewidth": 2
          }
         }
        },
        "title": {
         "text": "Slice Plot"
        },
        "xaxis": {
         "anchor": "y",
         "domain": [
          0,
          0.2888888888888889
         ],
         "title": {
          "text": "bagging_fraction"
         }
        },
        "xaxis2": {
         "anchor": "y2",
         "domain": [
          0.35555555555555557,
          0.6444444444444445
         ],
         "title": {
          "text": "bagging_freq"
         }
        },
        "xaxis3": {
         "anchor": "y3",
         "domain": [
          0.7111111111111111,
          1
         ],
         "title": {
          "text": "min_child_samples"
         }
        },
        "yaxis": {
         "anchor": "x",
         "domain": [
          0,
          1
         ],
         "title": {
          "text": "Objective Value"
         }
        },
        "yaxis2": {
         "anchor": "x2",
         "domain": [
          0,
          1
         ],
         "matches": "y",
         "showticklabels": false
        },
        "yaxis3": {
         "anchor": "x3",
         "domain": [
          0,
          1
         ],
         "matches": "y",
         "showticklabels": false
        }
       }
      }
     },
     "metadata": {},
     "output_type": "display_data"
    }
   ],
   "source": [
    "plot_slice(study)"
   ]
  },
  {
   "cell_type": "code",
   "execution_count": 17,
   "metadata": {},
   "outputs": [
    {
     "data": {
      "application/vnd.plotly.v1+json": {
       "config": {
        "plotlyServerURL": "https://plot.ly"
       },
       "data": [
        {
         "cliponaxis": false,
         "hovertemplate": [
          "bagging_freq (IntDistribution): 0.022195043935993582<extra></extra>",
          "bagging_fraction (FloatDistribution): 0.03351638221788806<extra></extra>",
          "min_child_samples (IntDistribution): 0.9442885738461183<extra></extra>"
         ],
         "marker": {
          "color": "rgb(66,146,198)"
         },
         "orientation": "h",
         "text": [
          "0.02",
          "0.03",
          "0.94"
         ],
         "textposition": "outside",
         "type": "bar",
         "x": [
          0.022195043935993582,
          0.03351638221788806,
          0.9442885738461183
         ],
         "y": [
          "bagging_freq",
          "bagging_fraction",
          "min_child_samples"
         ]
        }
       ],
       "layout": {
        "showlegend": false,
        "template": {
         "data": {
          "bar": [
           {
            "error_x": {
             "color": "#2a3f5f"
            },
            "error_y": {
             "color": "#2a3f5f"
            },
            "marker": {
             "line": {
              "color": "#E5ECF6",
              "width": 0.5
             },
             "pattern": {
              "fillmode": "overlay",
              "size": 10,
              "solidity": 0.2
             }
            },
            "type": "bar"
           }
          ],
          "barpolar": [
           {
            "marker": {
             "line": {
              "color": "#E5ECF6",
              "width": 0.5
             },
             "pattern": {
              "fillmode": "overlay",
              "size": 10,
              "solidity": 0.2
             }
            },
            "type": "barpolar"
           }
          ],
          "carpet": [
           {
            "aaxis": {
             "endlinecolor": "#2a3f5f",
             "gridcolor": "white",
             "linecolor": "white",
             "minorgridcolor": "white",
             "startlinecolor": "#2a3f5f"
            },
            "baxis": {
             "endlinecolor": "#2a3f5f",
             "gridcolor": "white",
             "linecolor": "white",
             "minorgridcolor": "white",
             "startlinecolor": "#2a3f5f"
            },
            "type": "carpet"
           }
          ],
          "choropleth": [
           {
            "colorbar": {
             "outlinewidth": 0,
             "ticks": ""
            },
            "type": "choropleth"
           }
          ],
          "contour": [
           {
            "colorbar": {
             "outlinewidth": 0,
             "ticks": ""
            },
            "colorscale": [
             [
              0,
              "#0d0887"
             ],
             [
              0.1111111111111111,
              "#46039f"
             ],
             [
              0.2222222222222222,
              "#7201a8"
             ],
             [
              0.3333333333333333,
              "#9c179e"
             ],
             [
              0.4444444444444444,
              "#bd3786"
             ],
             [
              0.5555555555555556,
              "#d8576b"
             ],
             [
              0.6666666666666666,
              "#ed7953"
             ],
             [
              0.7777777777777778,
              "#fb9f3a"
             ],
             [
              0.8888888888888888,
              "#fdca26"
             ],
             [
              1,
              "#f0f921"
             ]
            ],
            "type": "contour"
           }
          ],
          "contourcarpet": [
           {
            "colorbar": {
             "outlinewidth": 0,
             "ticks": ""
            },
            "type": "contourcarpet"
           }
          ],
          "heatmap": [
           {
            "colorbar": {
             "outlinewidth": 0,
             "ticks": ""
            },
            "colorscale": [
             [
              0,
              "#0d0887"
             ],
             [
              0.1111111111111111,
              "#46039f"
             ],
             [
              0.2222222222222222,
              "#7201a8"
             ],
             [
              0.3333333333333333,
              "#9c179e"
             ],
             [
              0.4444444444444444,
              "#bd3786"
             ],
             [
              0.5555555555555556,
              "#d8576b"
             ],
             [
              0.6666666666666666,
              "#ed7953"
             ],
             [
              0.7777777777777778,
              "#fb9f3a"
             ],
             [
              0.8888888888888888,
              "#fdca26"
             ],
             [
              1,
              "#f0f921"
             ]
            ],
            "type": "heatmap"
           }
          ],
          "heatmapgl": [
           {
            "colorbar": {
             "outlinewidth": 0,
             "ticks": ""
            },
            "colorscale": [
             [
              0,
              "#0d0887"
             ],
             [
              0.1111111111111111,
              "#46039f"
             ],
             [
              0.2222222222222222,
              "#7201a8"
             ],
             [
              0.3333333333333333,
              "#9c179e"
             ],
             [
              0.4444444444444444,
              "#bd3786"
             ],
             [
              0.5555555555555556,
              "#d8576b"
             ],
             [
              0.6666666666666666,
              "#ed7953"
             ],
             [
              0.7777777777777778,
              "#fb9f3a"
             ],
             [
              0.8888888888888888,
              "#fdca26"
             ],
             [
              1,
              "#f0f921"
             ]
            ],
            "type": "heatmapgl"
           }
          ],
          "histogram": [
           {
            "marker": {
             "pattern": {
              "fillmode": "overlay",
              "size": 10,
              "solidity": 0.2
             }
            },
            "type": "histogram"
           }
          ],
          "histogram2d": [
           {
            "colorbar": {
             "outlinewidth": 0,
             "ticks": ""
            },
            "colorscale": [
             [
              0,
              "#0d0887"
             ],
             [
              0.1111111111111111,
              "#46039f"
             ],
             [
              0.2222222222222222,
              "#7201a8"
             ],
             [
              0.3333333333333333,
              "#9c179e"
             ],
             [
              0.4444444444444444,
              "#bd3786"
             ],
             [
              0.5555555555555556,
              "#d8576b"
             ],
             [
              0.6666666666666666,
              "#ed7953"
             ],
             [
              0.7777777777777778,
              "#fb9f3a"
             ],
             [
              0.8888888888888888,
              "#fdca26"
             ],
             [
              1,
              "#f0f921"
             ]
            ],
            "type": "histogram2d"
           }
          ],
          "histogram2dcontour": [
           {
            "colorbar": {
             "outlinewidth": 0,
             "ticks": ""
            },
            "colorscale": [
             [
              0,
              "#0d0887"
             ],
             [
              0.1111111111111111,
              "#46039f"
             ],
             [
              0.2222222222222222,
              "#7201a8"
             ],
             [
              0.3333333333333333,
              "#9c179e"
             ],
             [
              0.4444444444444444,
              "#bd3786"
             ],
             [
              0.5555555555555556,
              "#d8576b"
             ],
             [
              0.6666666666666666,
              "#ed7953"
             ],
             [
              0.7777777777777778,
              "#fb9f3a"
             ],
             [
              0.8888888888888888,
              "#fdca26"
             ],
             [
              1,
              "#f0f921"
             ]
            ],
            "type": "histogram2dcontour"
           }
          ],
          "mesh3d": [
           {
            "colorbar": {
             "outlinewidth": 0,
             "ticks": ""
            },
            "type": "mesh3d"
           }
          ],
          "parcoords": [
           {
            "line": {
             "colorbar": {
              "outlinewidth": 0,
              "ticks": ""
             }
            },
            "type": "parcoords"
           }
          ],
          "pie": [
           {
            "automargin": true,
            "type": "pie"
           }
          ],
          "scatter": [
           {
            "fillpattern": {
             "fillmode": "overlay",
             "size": 10,
             "solidity": 0.2
            },
            "type": "scatter"
           }
          ],
          "scatter3d": [
           {
            "line": {
             "colorbar": {
              "outlinewidth": 0,
              "ticks": ""
             }
            },
            "marker": {
             "colorbar": {
              "outlinewidth": 0,
              "ticks": ""
             }
            },
            "type": "scatter3d"
           }
          ],
          "scattercarpet": [
           {
            "marker": {
             "colorbar": {
              "outlinewidth": 0,
              "ticks": ""
             }
            },
            "type": "scattercarpet"
           }
          ],
          "scattergeo": [
           {
            "marker": {
             "colorbar": {
              "outlinewidth": 0,
              "ticks": ""
             }
            },
            "type": "scattergeo"
           }
          ],
          "scattergl": [
           {
            "marker": {
             "colorbar": {
              "outlinewidth": 0,
              "ticks": ""
             }
            },
            "type": "scattergl"
           }
          ],
          "scattermapbox": [
           {
            "marker": {
             "colorbar": {
              "outlinewidth": 0,
              "ticks": ""
             }
            },
            "type": "scattermapbox"
           }
          ],
          "scatterpolar": [
           {
            "marker": {
             "colorbar": {
              "outlinewidth": 0,
              "ticks": ""
             }
            },
            "type": "scatterpolar"
           }
          ],
          "scatterpolargl": [
           {
            "marker": {
             "colorbar": {
              "outlinewidth": 0,
              "ticks": ""
             }
            },
            "type": "scatterpolargl"
           }
          ],
          "scatterternary": [
           {
            "marker": {
             "colorbar": {
              "outlinewidth": 0,
              "ticks": ""
             }
            },
            "type": "scatterternary"
           }
          ],
          "surface": [
           {
            "colorbar": {
             "outlinewidth": 0,
             "ticks": ""
            },
            "colorscale": [
             [
              0,
              "#0d0887"
             ],
             [
              0.1111111111111111,
              "#46039f"
             ],
             [
              0.2222222222222222,
              "#7201a8"
             ],
             [
              0.3333333333333333,
              "#9c179e"
             ],
             [
              0.4444444444444444,
              "#bd3786"
             ],
             [
              0.5555555555555556,
              "#d8576b"
             ],
             [
              0.6666666666666666,
              "#ed7953"
             ],
             [
              0.7777777777777778,
              "#fb9f3a"
             ],
             [
              0.8888888888888888,
              "#fdca26"
             ],
             [
              1,
              "#f0f921"
             ]
            ],
            "type": "surface"
           }
          ],
          "table": [
           {
            "cells": {
             "fill": {
              "color": "#EBF0F8"
             },
             "line": {
              "color": "white"
             }
            },
            "header": {
             "fill": {
              "color": "#C8D4E3"
             },
             "line": {
              "color": "white"
             }
            },
            "type": "table"
           }
          ]
         },
         "layout": {
          "annotationdefaults": {
           "arrowcolor": "#2a3f5f",
           "arrowhead": 0,
           "arrowwidth": 1
          },
          "autotypenumbers": "strict",
          "coloraxis": {
           "colorbar": {
            "outlinewidth": 0,
            "ticks": ""
           }
          },
          "colorscale": {
           "diverging": [
            [
             0,
             "#8e0152"
            ],
            [
             0.1,
             "#c51b7d"
            ],
            [
             0.2,
             "#de77ae"
            ],
            [
             0.3,
             "#f1b6da"
            ],
            [
             0.4,
             "#fde0ef"
            ],
            [
             0.5,
             "#f7f7f7"
            ],
            [
             0.6,
             "#e6f5d0"
            ],
            [
             0.7,
             "#b8e186"
            ],
            [
             0.8,
             "#7fbc41"
            ],
            [
             0.9,
             "#4d9221"
            ],
            [
             1,
             "#276419"
            ]
           ],
           "sequential": [
            [
             0,
             "#0d0887"
            ],
            [
             0.1111111111111111,
             "#46039f"
            ],
            [
             0.2222222222222222,
             "#7201a8"
            ],
            [
             0.3333333333333333,
             "#9c179e"
            ],
            [
             0.4444444444444444,
             "#bd3786"
            ],
            [
             0.5555555555555556,
             "#d8576b"
            ],
            [
             0.6666666666666666,
             "#ed7953"
            ],
            [
             0.7777777777777778,
             "#fb9f3a"
            ],
            [
             0.8888888888888888,
             "#fdca26"
            ],
            [
             1,
             "#f0f921"
            ]
           ],
           "sequentialminus": [
            [
             0,
             "#0d0887"
            ],
            [
             0.1111111111111111,
             "#46039f"
            ],
            [
             0.2222222222222222,
             "#7201a8"
            ],
            [
             0.3333333333333333,
             "#9c179e"
            ],
            [
             0.4444444444444444,
             "#bd3786"
            ],
            [
             0.5555555555555556,
             "#d8576b"
            ],
            [
             0.6666666666666666,
             "#ed7953"
            ],
            [
             0.7777777777777778,
             "#fb9f3a"
            ],
            [
             0.8888888888888888,
             "#fdca26"
            ],
            [
             1,
             "#f0f921"
            ]
           ]
          },
          "colorway": [
           "#636efa",
           "#EF553B",
           "#00cc96",
           "#ab63fa",
           "#FFA15A",
           "#19d3f3",
           "#FF6692",
           "#B6E880",
           "#FF97FF",
           "#FECB52"
          ],
          "font": {
           "color": "#2a3f5f"
          },
          "geo": {
           "bgcolor": "white",
           "lakecolor": "white",
           "landcolor": "#E5ECF6",
           "showlakes": true,
           "showland": true,
           "subunitcolor": "white"
          },
          "hoverlabel": {
           "align": "left"
          },
          "hovermode": "closest",
          "mapbox": {
           "style": "light"
          },
          "paper_bgcolor": "white",
          "plot_bgcolor": "#E5ECF6",
          "polar": {
           "angularaxis": {
            "gridcolor": "white",
            "linecolor": "white",
            "ticks": ""
           },
           "bgcolor": "#E5ECF6",
           "radialaxis": {
            "gridcolor": "white",
            "linecolor": "white",
            "ticks": ""
           }
          },
          "scene": {
           "xaxis": {
            "backgroundcolor": "#E5ECF6",
            "gridcolor": "white",
            "gridwidth": 2,
            "linecolor": "white",
            "showbackground": true,
            "ticks": "",
            "zerolinecolor": "white"
           },
           "yaxis": {
            "backgroundcolor": "#E5ECF6",
            "gridcolor": "white",
            "gridwidth": 2,
            "linecolor": "white",
            "showbackground": true,
            "ticks": "",
            "zerolinecolor": "white"
           },
           "zaxis": {
            "backgroundcolor": "#E5ECF6",
            "gridcolor": "white",
            "gridwidth": 2,
            "linecolor": "white",
            "showbackground": true,
            "ticks": "",
            "zerolinecolor": "white"
           }
          },
          "shapedefaults": {
           "line": {
            "color": "#2a3f5f"
           }
          },
          "ternary": {
           "aaxis": {
            "gridcolor": "white",
            "linecolor": "white",
            "ticks": ""
           },
           "baxis": {
            "gridcolor": "white",
            "linecolor": "white",
            "ticks": ""
           },
           "bgcolor": "#E5ECF6",
           "caxis": {
            "gridcolor": "white",
            "linecolor": "white",
            "ticks": ""
           }
          },
          "title": {
           "x": 0.05
          },
          "xaxis": {
           "automargin": true,
           "gridcolor": "white",
           "linecolor": "white",
           "ticks": "",
           "title": {
            "standoff": 15
           },
           "zerolinecolor": "white",
           "zerolinewidth": 2
          },
          "yaxis": {
           "automargin": true,
           "gridcolor": "white",
           "linecolor": "white",
           "ticks": "",
           "title": {
            "standoff": 15
           },
           "zerolinecolor": "white",
           "zerolinewidth": 2
          }
         }
        },
        "title": {
         "text": "Hyperparameter Importances"
        },
        "xaxis": {
         "title": {
          "text": "Importance for Objective Value"
         }
        },
        "yaxis": {
         "title": {
          "text": "Hyperparameter"
         }
        }
       }
      }
     },
     "metadata": {},
     "output_type": "display_data"
    }
   ],
   "source": [
    "plot_param_importances(study)"
   ]
  },
  {
   "cell_type": "code",
   "execution_count": 18,
   "metadata": {},
   "outputs": [
    {
     "data": {
      "application/vnd.plotly.v1+json": {
       "config": {
        "plotlyServerURL": "https://plot.ly"
       },
       "data": [
        {
         "mode": "lines",
         "name": "no-name-5522f830-229f-432f-9bfb-b3bf07b19aee",
         "type": "scatter",
         "x": [
          0.35555555555555557,
          0.36049382716049383,
          0.3654320987654321,
          0.3703703703703704,
          0.37530864197530867,
          0.3802469135802469,
          0.3851851851851852,
          0.39012345679012345,
          0.39506172839506176,
          0.4,
          0.4049382716049383,
          0.40987654320987654,
          0.41481481481481486,
          0.4197530864197531,
          0.4246913580246914,
          0.42962962962962964,
          0.4345679012345679,
          0.4395061728395062,
          0.4444444444444445,
          0.44938271604938274,
          0.454320987654321,
          0.45925925925925926,
          0.46419753086419757,
          0.46913580246913583,
          0.4740740740740741,
          0.47901234567901235,
          0.4839506172839506,
          0.48888888888888893,
          0.49382716049382713,
          0.49876543209876545,
          0.5037037037037038,
          0.508641975308642,
          0.5135802469135803,
          0.5185185185185185,
          0.5234567901234568,
          0.528395061728395,
          0.5333333333333333,
          0.5382716049382716,
          0.5432098765432098,
          0.5481481481481482,
          0.5530864197530865,
          0.5580246913580247,
          0.562962962962963,
          0.5679012345679012,
          0.5728395061728395,
          0.5777777777777777,
          0.582716049382716,
          0.5876543209876544,
          0.5925925925925926,
          0.5975308641975309,
          0.6024691358024692,
          0.6074074074074074,
          0.6123456790123457,
          0.617283950617284,
          0.6222222222222222,
          0.6271604938271604,
          0.6320987654320988,
          0.6370370370370371,
          0.6419753086419753,
          0.6469135802469136,
          0.6518518518518519,
          0.6567901234567901,
          0.6617283950617284,
          0.6666666666666667,
          0.671604938271605,
          0.6765432098765432,
          0.6814814814814815,
          0.6864197530864198,
          0.691358024691358,
          0.6962962962962963,
          0.7012345679012346,
          0.7061728395061728,
          0.7111111111111111,
          0.7160493827160495,
          0.7209876543209877,
          0.7259259259259259,
          0.7308641975308642,
          0.7358024691358025,
          0.7407407407407407,
          0.745679012345679,
          0.7506172839506173,
          0.7555555555555555,
          0.7604938271604939,
          0.7654320987654322,
          0.7703703703703704,
          0.7753086419753086,
          0.7802469135802469,
          0.7851851851851852,
          0.7901234567901234,
          0.7950617283950617,
          0.8,
          0.8049382716049382,
          0.8098765432098766,
          0.8148148148148149,
          0.8197530864197531,
          0.8246913580246913,
          0.8296296296296297,
          0.8345679012345679,
          0.8395061728395061,
          0.8444444444444444
         ],
         "y": [
          0.046511627906976744,
          0.046511627906976744,
          0.046511627906976744,
          0.046511627906976744,
          0.046511627906976744,
          0.046511627906976744,
          0.046511627906976744,
          0.046511627906976744,
          0.046511627906976744,
          0.046511627906976744,
          0.046511627906976744,
          0.046511627906976744,
          0.046511627906976744,
          0.046511627906976744,
          0.09302325581395349,
          0.09302325581395349,
          0.09302325581395349,
          0.09302325581395349,
          0.09302325581395349,
          0.09302325581395349,
          0.09302325581395349,
          0.09302325581395349,
          0.09302325581395349,
          0.11627906976744186,
          0.11627906976744186,
          0.11627906976744186,
          0.11627906976744186,
          0.16279069767441862,
          0.16279069767441862,
          0.16279069767441862,
          0.16279069767441862,
          0.16279069767441862,
          0.16279069767441862,
          0.16279069767441862,
          0.16279069767441862,
          0.16279069767441862,
          0.16279069767441862,
          0.16279069767441862,
          0.16279069767441862,
          0.16279069767441862,
          0.16279069767441862,
          0.16279069767441862,
          0.16279069767441862,
          0.16279069767441862,
          0.16279069767441862,
          0.16279069767441862,
          0.16279069767441862,
          0.16279069767441862,
          0.16279069767441862,
          0.16279069767441862,
          0.16279069767441862,
          0.16279069767441862,
          0.16279069767441862,
          0.16279069767441862,
          0.20930232558139536,
          0.20930232558139536,
          0.20930232558139536,
          0.20930232558139536,
          0.20930232558139536,
          0.3488372093023256,
          0.3488372093023256,
          0.3488372093023256,
          0.3488372093023256,
          0.5348837209302325,
          0.5348837209302325,
          0.5348837209302325,
          0.5348837209302325,
          0.5348837209302325,
          0.5813953488372093,
          0.5813953488372093,
          0.5813953488372093,
          0.5813953488372093,
          0.7674418604651163,
          0.7674418604651163,
          0.7674418604651163,
          0.7674418604651163,
          0.7674418604651163,
          0.9069767441860465,
          0.9069767441860465,
          0.9069767441860465,
          0.9069767441860465,
          0.9069767441860465,
          0.9069767441860465,
          0.9069767441860465,
          0.9069767441860465,
          0.9069767441860465,
          0.9767441860465116,
          0.9767441860465116,
          0.9767441860465116,
          0.9767441860465116,
          0.9767441860465116,
          0.9767441860465116,
          0.9767441860465116,
          0.9767441860465116,
          0.9767441860465116,
          0.9767441860465116,
          0.9767441860465116,
          0.9767441860465116,
          0.9767441860465116,
          1
         ]
        }
       ],
       "layout": {
        "template": {
         "data": {
          "bar": [
           {
            "error_x": {
             "color": "#2a3f5f"
            },
            "error_y": {
             "color": "#2a3f5f"
            },
            "marker": {
             "line": {
              "color": "#E5ECF6",
              "width": 0.5
             },
             "pattern": {
              "fillmode": "overlay",
              "size": 10,
              "solidity": 0.2
             }
            },
            "type": "bar"
           }
          ],
          "barpolar": [
           {
            "marker": {
             "line": {
              "color": "#E5ECF6",
              "width": 0.5
             },
             "pattern": {
              "fillmode": "overlay",
              "size": 10,
              "solidity": 0.2
             }
            },
            "type": "barpolar"
           }
          ],
          "carpet": [
           {
            "aaxis": {
             "endlinecolor": "#2a3f5f",
             "gridcolor": "white",
             "linecolor": "white",
             "minorgridcolor": "white",
             "startlinecolor": "#2a3f5f"
            },
            "baxis": {
             "endlinecolor": "#2a3f5f",
             "gridcolor": "white",
             "linecolor": "white",
             "minorgridcolor": "white",
             "startlinecolor": "#2a3f5f"
            },
            "type": "carpet"
           }
          ],
          "choropleth": [
           {
            "colorbar": {
             "outlinewidth": 0,
             "ticks": ""
            },
            "type": "choropleth"
           }
          ],
          "contour": [
           {
            "colorbar": {
             "outlinewidth": 0,
             "ticks": ""
            },
            "colorscale": [
             [
              0,
              "#0d0887"
             ],
             [
              0.1111111111111111,
              "#46039f"
             ],
             [
              0.2222222222222222,
              "#7201a8"
             ],
             [
              0.3333333333333333,
              "#9c179e"
             ],
             [
              0.4444444444444444,
              "#bd3786"
             ],
             [
              0.5555555555555556,
              "#d8576b"
             ],
             [
              0.6666666666666666,
              "#ed7953"
             ],
             [
              0.7777777777777778,
              "#fb9f3a"
             ],
             [
              0.8888888888888888,
              "#fdca26"
             ],
             [
              1,
              "#f0f921"
             ]
            ],
            "type": "contour"
           }
          ],
          "contourcarpet": [
           {
            "colorbar": {
             "outlinewidth": 0,
             "ticks": ""
            },
            "type": "contourcarpet"
           }
          ],
          "heatmap": [
           {
            "colorbar": {
             "outlinewidth": 0,
             "ticks": ""
            },
            "colorscale": [
             [
              0,
              "#0d0887"
             ],
             [
              0.1111111111111111,
              "#46039f"
             ],
             [
              0.2222222222222222,
              "#7201a8"
             ],
             [
              0.3333333333333333,
              "#9c179e"
             ],
             [
              0.4444444444444444,
              "#bd3786"
             ],
             [
              0.5555555555555556,
              "#d8576b"
             ],
             [
              0.6666666666666666,
              "#ed7953"
             ],
             [
              0.7777777777777778,
              "#fb9f3a"
             ],
             [
              0.8888888888888888,
              "#fdca26"
             ],
             [
              1,
              "#f0f921"
             ]
            ],
            "type": "heatmap"
           }
          ],
          "heatmapgl": [
           {
            "colorbar": {
             "outlinewidth": 0,
             "ticks": ""
            },
            "colorscale": [
             [
              0,
              "#0d0887"
             ],
             [
              0.1111111111111111,
              "#46039f"
             ],
             [
              0.2222222222222222,
              "#7201a8"
             ],
             [
              0.3333333333333333,
              "#9c179e"
             ],
             [
              0.4444444444444444,
              "#bd3786"
             ],
             [
              0.5555555555555556,
              "#d8576b"
             ],
             [
              0.6666666666666666,
              "#ed7953"
             ],
             [
              0.7777777777777778,
              "#fb9f3a"
             ],
             [
              0.8888888888888888,
              "#fdca26"
             ],
             [
              1,
              "#f0f921"
             ]
            ],
            "type": "heatmapgl"
           }
          ],
          "histogram": [
           {
            "marker": {
             "pattern": {
              "fillmode": "overlay",
              "size": 10,
              "solidity": 0.2
             }
            },
            "type": "histogram"
           }
          ],
          "histogram2d": [
           {
            "colorbar": {
             "outlinewidth": 0,
             "ticks": ""
            },
            "colorscale": [
             [
              0,
              "#0d0887"
             ],
             [
              0.1111111111111111,
              "#46039f"
             ],
             [
              0.2222222222222222,
              "#7201a8"
             ],
             [
              0.3333333333333333,
              "#9c179e"
             ],
             [
              0.4444444444444444,
              "#bd3786"
             ],
             [
              0.5555555555555556,
              "#d8576b"
             ],
             [
              0.6666666666666666,
              "#ed7953"
             ],
             [
              0.7777777777777778,
              "#fb9f3a"
             ],
             [
              0.8888888888888888,
              "#fdca26"
             ],
             [
              1,
              "#f0f921"
             ]
            ],
            "type": "histogram2d"
           }
          ],
          "histogram2dcontour": [
           {
            "colorbar": {
             "outlinewidth": 0,
             "ticks": ""
            },
            "colorscale": [
             [
              0,
              "#0d0887"
             ],
             [
              0.1111111111111111,
              "#46039f"
             ],
             [
              0.2222222222222222,
              "#7201a8"
             ],
             [
              0.3333333333333333,
              "#9c179e"
             ],
             [
              0.4444444444444444,
              "#bd3786"
             ],
             [
              0.5555555555555556,
              "#d8576b"
             ],
             [
              0.6666666666666666,
              "#ed7953"
             ],
             [
              0.7777777777777778,
              "#fb9f3a"
             ],
             [
              0.8888888888888888,
              "#fdca26"
             ],
             [
              1,
              "#f0f921"
             ]
            ],
            "type": "histogram2dcontour"
           }
          ],
          "mesh3d": [
           {
            "colorbar": {
             "outlinewidth": 0,
             "ticks": ""
            },
            "type": "mesh3d"
           }
          ],
          "parcoords": [
           {
            "line": {
             "colorbar": {
              "outlinewidth": 0,
              "ticks": ""
             }
            },
            "type": "parcoords"
           }
          ],
          "pie": [
           {
            "automargin": true,
            "type": "pie"
           }
          ],
          "scatter": [
           {
            "fillpattern": {
             "fillmode": "overlay",
             "size": 10,
             "solidity": 0.2
            },
            "type": "scatter"
           }
          ],
          "scatter3d": [
           {
            "line": {
             "colorbar": {
              "outlinewidth": 0,
              "ticks": ""
             }
            },
            "marker": {
             "colorbar": {
              "outlinewidth": 0,
              "ticks": ""
             }
            },
            "type": "scatter3d"
           }
          ],
          "scattercarpet": [
           {
            "marker": {
             "colorbar": {
              "outlinewidth": 0,
              "ticks": ""
             }
            },
            "type": "scattercarpet"
           }
          ],
          "scattergeo": [
           {
            "marker": {
             "colorbar": {
              "outlinewidth": 0,
              "ticks": ""
             }
            },
            "type": "scattergeo"
           }
          ],
          "scattergl": [
           {
            "marker": {
             "colorbar": {
              "outlinewidth": 0,
              "ticks": ""
             }
            },
            "type": "scattergl"
           }
          ],
          "scattermapbox": [
           {
            "marker": {
             "colorbar": {
              "outlinewidth": 0,
              "ticks": ""
             }
            },
            "type": "scattermapbox"
           }
          ],
          "scatterpolar": [
           {
            "marker": {
             "colorbar": {
              "outlinewidth": 0,
              "ticks": ""
             }
            },
            "type": "scatterpolar"
           }
          ],
          "scatterpolargl": [
           {
            "marker": {
             "colorbar": {
              "outlinewidth": 0,
              "ticks": ""
             }
            },
            "type": "scatterpolargl"
           }
          ],
          "scatterternary": [
           {
            "marker": {
             "colorbar": {
              "outlinewidth": 0,
              "ticks": ""
             }
            },
            "type": "scatterternary"
           }
          ],
          "surface": [
           {
            "colorbar": {
             "outlinewidth": 0,
             "ticks": ""
            },
            "colorscale": [
             [
              0,
              "#0d0887"
             ],
             [
              0.1111111111111111,
              "#46039f"
             ],
             [
              0.2222222222222222,
              "#7201a8"
             ],
             [
              0.3333333333333333,
              "#9c179e"
             ],
             [
              0.4444444444444444,
              "#bd3786"
             ],
             [
              0.5555555555555556,
              "#d8576b"
             ],
             [
              0.6666666666666666,
              "#ed7953"
             ],
             [
              0.7777777777777778,
              "#fb9f3a"
             ],
             [
              0.8888888888888888,
              "#fdca26"
             ],
             [
              1,
              "#f0f921"
             ]
            ],
            "type": "surface"
           }
          ],
          "table": [
           {
            "cells": {
             "fill": {
              "color": "#EBF0F8"
             },
             "line": {
              "color": "white"
             }
            },
            "header": {
             "fill": {
              "color": "#C8D4E3"
             },
             "line": {
              "color": "white"
             }
            },
            "type": "table"
           }
          ]
         },
         "layout": {
          "annotationdefaults": {
           "arrowcolor": "#2a3f5f",
           "arrowhead": 0,
           "arrowwidth": 1
          },
          "autotypenumbers": "strict",
          "coloraxis": {
           "colorbar": {
            "outlinewidth": 0,
            "ticks": ""
           }
          },
          "colorscale": {
           "diverging": [
            [
             0,
             "#8e0152"
            ],
            [
             0.1,
             "#c51b7d"
            ],
            [
             0.2,
             "#de77ae"
            ],
            [
             0.3,
             "#f1b6da"
            ],
            [
             0.4,
             "#fde0ef"
            ],
            [
             0.5,
             "#f7f7f7"
            ],
            [
             0.6,
             "#e6f5d0"
            ],
            [
             0.7,
             "#b8e186"
            ],
            [
             0.8,
             "#7fbc41"
            ],
            [
             0.9,
             "#4d9221"
            ],
            [
             1,
             "#276419"
            ]
           ],
           "sequential": [
            [
             0,
             "#0d0887"
            ],
            [
             0.1111111111111111,
             "#46039f"
            ],
            [
             0.2222222222222222,
             "#7201a8"
            ],
            [
             0.3333333333333333,
             "#9c179e"
            ],
            [
             0.4444444444444444,
             "#bd3786"
            ],
            [
             0.5555555555555556,
             "#d8576b"
            ],
            [
             0.6666666666666666,
             "#ed7953"
            ],
            [
             0.7777777777777778,
             "#fb9f3a"
            ],
            [
             0.8888888888888888,
             "#fdca26"
            ],
            [
             1,
             "#f0f921"
            ]
           ],
           "sequentialminus": [
            [
             0,
             "#0d0887"
            ],
            [
             0.1111111111111111,
             "#46039f"
            ],
            [
             0.2222222222222222,
             "#7201a8"
            ],
            [
             0.3333333333333333,
             "#9c179e"
            ],
            [
             0.4444444444444444,
             "#bd3786"
            ],
            [
             0.5555555555555556,
             "#d8576b"
            ],
            [
             0.6666666666666666,
             "#ed7953"
            ],
            [
             0.7777777777777778,
             "#fb9f3a"
            ],
            [
             0.8888888888888888,
             "#fdca26"
            ],
            [
             1,
             "#f0f921"
            ]
           ]
          },
          "colorway": [
           "#636efa",
           "#EF553B",
           "#00cc96",
           "#ab63fa",
           "#FFA15A",
           "#19d3f3",
           "#FF6692",
           "#B6E880",
           "#FF97FF",
           "#FECB52"
          ],
          "font": {
           "color": "#2a3f5f"
          },
          "geo": {
           "bgcolor": "white",
           "lakecolor": "white",
           "landcolor": "#E5ECF6",
           "showlakes": true,
           "showland": true,
           "subunitcolor": "white"
          },
          "hoverlabel": {
           "align": "left"
          },
          "hovermode": "closest",
          "mapbox": {
           "style": "light"
          },
          "paper_bgcolor": "white",
          "plot_bgcolor": "#E5ECF6",
          "polar": {
           "angularaxis": {
            "gridcolor": "white",
            "linecolor": "white",
            "ticks": ""
           },
           "bgcolor": "#E5ECF6",
           "radialaxis": {
            "gridcolor": "white",
            "linecolor": "white",
            "ticks": ""
           }
          },
          "scene": {
           "xaxis": {
            "backgroundcolor": "#E5ECF6",
            "gridcolor": "white",
            "gridwidth": 2,
            "linecolor": "white",
            "showbackground": true,
            "ticks": "",
            "zerolinecolor": "white"
           },
           "yaxis": {
            "backgroundcolor": "#E5ECF6",
            "gridcolor": "white",
            "gridwidth": 2,
            "linecolor": "white",
            "showbackground": true,
            "ticks": "",
            "zerolinecolor": "white"
           },
           "zaxis": {
            "backgroundcolor": "#E5ECF6",
            "gridcolor": "white",
            "gridwidth": 2,
            "linecolor": "white",
            "showbackground": true,
            "ticks": "",
            "zerolinecolor": "white"
           }
          },
          "shapedefaults": {
           "line": {
            "color": "#2a3f5f"
           }
          },
          "ternary": {
           "aaxis": {
            "gridcolor": "white",
            "linecolor": "white",
            "ticks": ""
           },
           "baxis": {
            "gridcolor": "white",
            "linecolor": "white",
            "ticks": ""
           },
           "bgcolor": "#E5ECF6",
           "caxis": {
            "gridcolor": "white",
            "linecolor": "white",
            "ticks": ""
           }
          },
          "title": {
           "x": 0.05
          },
          "xaxis": {
           "automargin": true,
           "gridcolor": "white",
           "linecolor": "white",
           "ticks": "",
           "title": {
            "standoff": 15
           },
           "zerolinecolor": "white",
           "zerolinewidth": 2
          },
          "yaxis": {
           "automargin": true,
           "gridcolor": "white",
           "linecolor": "white",
           "ticks": "",
           "title": {
            "standoff": 15
           },
           "zerolinecolor": "white",
           "zerolinewidth": 2
          }
         }
        },
        "title": {
         "text": "Empirical Distribution Function Plot"
        },
        "xaxis": {
         "title": {
          "text": "Objective Value"
         }
        },
        "yaxis": {
         "range": [
          0,
          1
         ],
         "title": {
          "text": "Cumulative Probability"
         }
        }
       }
      }
     },
     "metadata": {},
     "output_type": "display_data"
    }
   ],
   "source": [
    "plot_edf(study)"
   ]
  }
 ],
 "metadata": {
  "kernelspec": {
   "display_name": "pygmo",
   "language": "python",
   "name": "python3"
  },
  "language_info": {
   "codemirror_mode": {
    "name": "ipython",
    "version": 3
   },
   "file_extension": ".py",
   "mimetype": "text/x-python",
   "name": "python",
   "nbconvert_exporter": "python",
   "pygments_lexer": "ipython3",
   "version": "3.7.12"
  },
  "orig_nbformat": 4,
  "vscode": {
   "interpreter": {
    "hash": "8657283681e6d2553b0683c6c634df5032f1ccc8c3397b05e6c251219349b532"
   }
  }
 },
 "nbformat": 4,
 "nbformat_minor": 2
}
