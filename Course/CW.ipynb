{
 "cells": [
  {
   "attachments": {},
   "cell_type": "markdown",
   "metadata": {},
   "source": [
    "# Курсовая работа <br>\n",
    "# Тема работы: DataSet EuroSat."
   ]
  },
  {
   "attachments": {},
   "cell_type": "markdown",
   "metadata": {},
   "source": [
    "Датасет EuroSat это набор спутниковых снимков для классификации земного покрова. Он основан на снимках сделанных с помощью спутника Sentinel-2. Включает в себя 27000 изображений пренадлежащих различным классам."
   ]
  },
  {
   "attachments": {},
   "cell_type": "markdown",
   "metadata": {},
   "source": []
  }
 ],
 "metadata": {
  "kernelspec": {
   "display_name": "p37",
   "language": "python",
   "name": "python3"
  },
  "language_info": {
   "name": "python",
   "version": "3.7.12 | packaged by conda-forge | (default, Oct 26 2021, 05:35:01) [MSC v.1916 64 bit (AMD64)]"
  },
  "orig_nbformat": 4,
  "vscode": {
   "interpreter": {
    "hash": "e900dab01b5b42a9f7c0094d86fdd0495c11da32f3a4f9309dd231517050d09f"
   }
  }
 },
 "nbformat": 4,
 "nbformat_minor": 2
}
