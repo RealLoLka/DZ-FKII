{
 "cells": [
  {
   "attachments": {},
   "cell_type": "markdown",
   "metadata": {},
   "source": [
    "# Курсовая работа <br>\n",
    "# Тема работы: DataSet PASTIS."
   ]
  },
  {
   "attachments": {},
   "cell_type": "markdown",
   "metadata": {},
   "source": [
    "PAPTIS(Panoptic Segmentation of satellite image TImes Series) - это датасет для семантической и паноптической сегментации сельскохозяйственных участков изображения которых получено с помощью спутниковых снимков с привязкой ко времени. Состоит датасет из 2433 участков площадью в один квадратный километр, снимки сделаны на территории Франции. Последовательности снимков собраны в четырехмерный тензор. Датасет содержит как и семантическую разметку, так и паномтическую(каждый пиксель имеет разметку). "
   ]
  },
  {
   "attachments": {},
   "cell_type": "markdown",
   "metadata": {},
   "source": []
  }
 ],
 "metadata": {
  "kernelspec": {
   "display_name": "python37",
   "language": "python",
   "name": "python3"
  },
  "language_info": {
   "name": "python",
   "version": "3.7.12 | packaged by conda-forge | (default, Oct 26 2021, 05:35:01) [MSC v.1916 64 bit (AMD64)]"
  },
  "orig_nbformat": 4,
  "vscode": {
   "interpreter": {
    "hash": "84c5fb97b32ceadd9c979bd752a28e11598d6147f64e2ec25d5d16533f7d61d0"
   }
  }
 },
 "nbformat": 4,
 "nbformat_minor": 2
}
